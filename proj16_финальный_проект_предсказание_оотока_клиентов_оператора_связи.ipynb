{
  "cells": [
    {
      "cell_type": "markdown",
      "metadata": {
        "id": "view-in-github",
        "colab_type": "text"
      },
      "source": [
        "<a href=\"https://colab.research.google.com/github/apollonov-evgeniy/2/blob/main/proj16_%D1%84%D0%B8%D0%BD%D0%B0%D0%BB%D1%8C%D0%BD%D1%8B%D0%B9_%D0%BF%D1%80%D0%BE%D0%B5%D0%BA%D1%82_%D0%BF%D1%80%D0%B5%D0%B4%D1%81%D0%BA%D0%B0%D0%B7%D0%B0%D0%BD%D0%B8%D0%B5_%D0%BE%D0%BE%D1%82%D0%BE%D0%BA%D0%B0_%D0%BA%D0%BB%D0%B8%D0%B5%D0%BD%D1%82%D0%BE%D0%B2_%D0%BE%D0%BF%D0%B5%D1%80%D0%B0%D1%82%D0%BE%D1%80%D0%B0_%D1%81%D0%B2%D1%8F%D0%B7%D0%B8.ipynb\" target=\"_parent\"><img src=\"https://colab.research.google.com/assets/colab-badge.svg\" alt=\"Open In Colab\"/></a>"
      ]
    },
    {
      "cell_type": "markdown",
      "metadata": {
        "id": "hBdZdSeZlgQv"
      },
      "source": [
        "<div style=\"border:solid green 2px; padding: 20px\">\n",
        "\n",
        "<b>Привет, Евгений!</b>\n",
        "\n",
        "Меня зовут Ярослав П. Поздравляю с финишной прямой! Уверен, что путь был нелегкий, но надеюсь, что интересный.\n",
        "\n",
        "Предлагаю общаться на «**ты**». Если это неприемлемо, обязательно напиши мне в комментариях — мы перейдем на «**вы**».\n",
        "\n",
        "Ниже ты найдешь мои комментарии - пожалуйста, не перемещай, не изменяй и не удаляй их. Я буду использовать цветовую разметку:\n",
        "\n",
        "<div class=\"alert alert-danger\">\n",
        "<b>Комментарий ревьюера:</b> Так выделены самые важные замечания. Без их отработки проект не будет принят. </div>\n",
        "\n",
        "<div class=\"alert alert-warning\">\n",
        "<b>Комментарий ревьюера:</b> Так выделены небольшие замечания или советы.\n",
        "\n",
        "</div>\n",
        "\n",
        "<div class=\"alert alert-success\">\n",
        "<b>Комментарий ревьюера:</b> Так я выделяю все остальные комментарии.</div>\n",
        "\n",
        "Давай работать над проектом в диалоге: если ты что-то меняешь в проекте или отвечаешь на мои комменатри — пиши об этом. Мне будет легче отследить изменения, если ты выделишь свои комментарии:\n",
        "<div class=\"alert alert-info\"> <b>Комментарий студента:</b> Например, вот так.</div>\n",
        "\n",
        "Всё это поможет выполнить повторную проверку твоего проекта оперативнее. \n",
        "    \n",
        "    \n",
        "### <span style=\"color:orange\">Обратная связь</span><a class=\"tocSkip\">\n",
        "    \n",
        "- Ты основательно подошел к выполнению проекта. Видно, что вложено много сил и они дали свой результат.\n",
        "- Шаг по анализу и подготовке данных выполнен отлично.\n",
        "- Протестировано много моделей - это верный подход. Финальный результат тоже отличный.\n",
        "- Теперь к недочетам. Единственный важный связан с настройкой scaler. Оставил комментарий.\n",
        "- Также было бы здорово добавить чуть больше комментариев, в частности, про анализ.\n",
        "    \n",
        "### <span style=\"color:orange\">Обратная связь (v2)</span><a class=\"tocSkip\">\n",
        "\n",
        "- Проект отлично доработан, спасибо за уделенное время!\n",
        "    \n",
        "Проект принят, поздравляю!"
      ]
    },
    {
      "cell_type": "markdown",
      "metadata": {
        "id": "lVQRi7E6lgQ0"
      },
      "source": [
        "<b>Предсказание оттока клиентов оператора связи  \n",
        "Условие задачи</b>\n",
        "\n",
        "Оператор связи «Ниединогоразрыва.ком» хочет научиться прогнозировать отток клиентов. Если выяснится, что пользователь планирует уйти, ему будут предложены промокоды и специальные условия. Команда оператора собрала персональные данные о некоторых клиентах, информацию об их тарифах и договорах.  \n",
        "\n",
        "Описание услуг \n",
        "\n",
        "Оператор предоставляет два основных типа услуг:  \n",
        "\n",
        "* Стационарную телефонную связь. \n",
        "Возможно подключение телефонного аппарата к нескольким линиям одновременно.  \n",
        "\n",
        "* Интернет.  \n",
        "Подключение может быть двух типов: через телефонную линию (DSL, от англ. digital subscriber line, «цифровая абонентская линия») или оптоволоконный кабель (Fiber optic).  \n",
        "Также доступны такие услуги:  Интернет-безопасность: антивирус (DeviceProtection) и блокировка небезопасных сайтов (OnlineSecurity); Выделенная линия технической поддержки (TechSupport);  Облачное хранилище файлов для резервного копирования данных (OnlineBackup);  Стриминговое телевидение (StreamingTV) и каталог фильмов (StreamingMovies).\n",
        "\n",
        "  \n",
        "За услуги клиенты могут платить каждый месяц или заключить договор на 1–2 года. Доступны различные способы расчёта и возможность получения электронного чека.  \n",
        "\n",
        "* Описание данных  \n",
        "    \n",
        "Данные состоят из файлов, полученных из разных источников:  \n",
        "\n",
        "contract.csv — информация о договоре;  \n",
        "personal.csv — персональные данные клиента;  \n",
        "internet.csv — информация об интернет-услугах;  \n",
        "phone.csv — информация об услугах телефонии.  \n",
        "Во всех файлах столбец customerID содержит код клиента.  \n",
        "\n",
        "Информация о договорах актуальна на 1 февраля 2020."
      ]
    },
    {
      "cell_type": "markdown",
      "metadata": {
        "toc": true,
        "id": "ktrNGczilgQ1"
      },
      "source": [
        "<h1>Table of Contents<span class=\"tocSkip\"></span></h1>\n",
        "<div class=\"toc\"><ul class=\"toc-item\"><li><span><a href=\"#План\" data-toc-modified-id=\"План-1\"><span class=\"toc-item-num\">1&nbsp;&nbsp;</span>План</a></span></li><li><span><a href=\"#Подготовка-и-анализ-данных.\" data-toc-modified-id=\"Подготовка-и-анализ-данных.-2\"><span class=\"toc-item-num\">2&nbsp;&nbsp;</span>Подготовка и анализ данных.</a></span></li><li><span><a href=\"#Обработка-данных\" data-toc-modified-id=\"Обработка-данных-3\"><span class=\"toc-item-num\">3&nbsp;&nbsp;</span>Обработка данных</a></span></li><li><span><a href=\"#Столбец-целевого-признака,-обработка-дат\" data-toc-modified-id=\"Столбец-целевого-признака,-обработка-дат-4\"><span class=\"toc-item-num\">4&nbsp;&nbsp;</span>Столбец целевого признака, обработка дат</a></span></li><li><span><a href=\"#Дополнительные-фичи\" data-toc-modified-id=\"Дополнительные-фичи-5\"><span class=\"toc-item-num\">5&nbsp;&nbsp;</span>Дополнительные фичи</a></span></li><li><span><a href=\"#Объединение-данных,-кодирование\" data-toc-modified-id=\"Объединение-данных,-кодирование-6\"><span class=\"toc-item-num\">6&nbsp;&nbsp;</span>Объединение данных, кодирование</a></span></li><li><span><a href=\"#Обучение-модели-с-дефолтными-значениями\" data-toc-modified-id=\"Обучение-модели-с-дефолтными-значениями-7\"><span class=\"toc-item-num\">7&nbsp;&nbsp;</span>Обучение модели с дефолтными значениями</a></span></li><li><span><a href=\"#График-важности-фичей\" data-toc-modified-id=\"График-важности-фичей-8\"><span class=\"toc-item-num\">8&nbsp;&nbsp;</span>График важности фичей</a></span></li><li><span><a href=\"#Тюнинг\" data-toc-modified-id=\"Тюнинг-9\"><span class=\"toc-item-num\">9&nbsp;&nbsp;</span>Тюнинг</a></span></li><li><span><a href=\"#RandomForestClassifier-and-LogisticRegression\" data-toc-modified-id=\"RandomForestClassifier-and-LogisticRegression-10\"><span class=\"toc-item-num\">10&nbsp;&nbsp;</span>RandomForestClassifier and LogisticRegression</a></span></li><li><span><a href=\"#GradientBoostingClassifier\" data-toc-modified-id=\"GradientBoostingClassifier-11\"><span class=\"toc-item-num\">11&nbsp;&nbsp;</span>GradientBoostingClassifier</a></span></li><li><span><a href=\"#LGBMClassifier\" data-toc-modified-id=\"LGBMClassifier-12\"><span class=\"toc-item-num\">12&nbsp;&nbsp;</span>LGBMClassifier</a></span></li><li><span><a href=\"#Catboost\" data-toc-modified-id=\"Catboost-13\"><span class=\"toc-item-num\">13&nbsp;&nbsp;</span>Catboost</a></span></li><li><span><a href=\"#Лучшие-модели\" data-toc-modified-id=\"Лучшие-модели-14\"><span class=\"toc-item-num\">14&nbsp;&nbsp;</span>Лучшие модели</a></span></li><li><span><a href=\"#Вывод:\" data-toc-modified-id=\"Вывод:-15\"><span class=\"toc-item-num\">15&nbsp;&nbsp;</span>Вывод:</a></span></li><li><span><a href=\"#Отчет-по-решению\" data-toc-modified-id=\"Отчет-по-решению-16\"><span class=\"toc-item-num\">16&nbsp;&nbsp;</span>Отчет по решению</a></span></li></ul></div>"
      ]
    },
    {
      "cell_type": "markdown",
      "metadata": {
        "id": "F_tS406XlgQ3"
      },
      "source": [
        "<div class=\"alert alert-block alert-success\">\n",
        "<b>Комментарий ревьюера</b>\n",
        "\n",
        "Отличное введение.\n",
        "\n",
        "</div>\n"
      ]
    },
    {
      "cell_type": "markdown",
      "metadata": {
        "id": "JmxnReTolgQ3"
      },
      "source": [
        "<div class=\"alert alert-block alert-warning\">\n",
        "<b>Комментарий ревьюера</b>\n",
        "\n",
        "Также было бы здорово добавить название проекта, оглавление и воспользоваться разметкой markdown (оформить списки, что-то выделить курсивом и т.д.). \n",
        "\n",
        "</div>\n"
      ]
    },
    {
      "cell_type": "markdown",
      "metadata": {
        "id": "Wz8hyzrglgQ4"
      },
      "source": [
        "<div class=\"alert alert-block alert-success\">\n",
        "<b>Комментарий ревьюера (v2)</b>\n",
        "\n",
        "Отлично!\n",
        "\n",
        "</div>\n"
      ]
    },
    {
      "cell_type": "code",
      "execution_count": null,
      "metadata": {
        "id": "VYHryMHZlgQ5"
      },
      "outputs": [],
      "source": [
        "import pandas as pd\n",
        "import numpy as np\n",
        "import seaborn as sns"
      ]
    },
    {
      "cell_type": "code",
      "execution_count": null,
      "metadata": {
        "id": "T2pM2youlgQ6"
      },
      "outputs": [],
      "source": [
        "import glob\n",
        "import os\n",
        "\n",
        "%matplotlib inline\n",
        "import matplotlib.pyplot as plt\n",
        "\n",
        "import random\n",
        "random_state=123\n",
        "random.seed(random_state)\n",
        "np.random.seed(random_state)\n",
        "\n",
        "import warnings\n",
        "warnings.filterwarnings('ignore')\n",
        "\n",
        "pd.set_option('display.max_rows', 100)\n",
        "pd.set_option('display.max_columns', 100)"
      ]
    },
    {
      "cell_type": "code",
      "execution_count": null,
      "metadata": {
        "id": "IaK1zoSylgQ7"
      },
      "outputs": [],
      "source": [
        "#!pip install lightgbm"
      ]
    },
    {
      "cell_type": "code",
      "execution_count": null,
      "metadata": {
        "id": "ih4ynJX0lgQ7"
      },
      "outputs": [],
      "source": [
        "#!pip install shap\n",
        "#conda install -c conda-forge shap"
      ]
    },
    {
      "cell_type": "code",
      "execution_count": null,
      "metadata": {
        "id": "w095-XVnlgQ8"
      },
      "outputs": [],
      "source": [
        "from catboost import CatBoostClassifier, Pool \n",
        "\n",
        "from sklearn.utils import shuffle\n",
        "\n",
        "from sklearn.dummy import DummyClassifier\n",
        "\n",
        "from sklearn.preprocessing import MinMaxScaler, StandardScaler\n",
        "\n",
        "from sklearn.tree import DecisionTreeClassifier\n",
        "\n",
        "from sklearn.naive_bayes import GaussianNB\n",
        "\n",
        "from sklearn.svm import SVC\n",
        "\n",
        "from sklearn.neural_network import MLPClassifier\n",
        "\n",
        "from sklearn.ensemble import AdaBoostClassifier, GradientBoostingClassifier,ExtraTreesClassifier, RandomForestClassifier\n",
        "\n",
        "from lightgbm import LGBMClassifier\n",
        "\n",
        "from sklearn.linear_model import LogisticRegression\n",
        "\n",
        "from sklearn.model_selection import train_test_split, GridSearchCV\n",
        "\n",
        "from sklearn.metrics import accuracy_score, roc_auc_score, classification_report, roc_curve\n",
        "\n",
        "from sklearn import metrics\n",
        "\n",
        "#import shap не установился в тренажере\n",
        "\n",
        "from sklearn.pipeline import Pipeline\n",
        "\n",
        "import lightgbm as lgb"
      ]
    },
    {
      "cell_type": "markdown",
      "metadata": {
        "id": "II5IGqqSlgQ9"
      },
      "source": [
        "# План  \n",
        "1. Чтение файлов с данными и изучение общей информаций  \n",
        "2. Создание дополнительных признаков (target_churn, phone, internet,срок контракта в месяцах, предлагаются дополнительные признаки: разделить клиентов на короткие и длинные договора, низкий или высокий ежемесячный платеж)  \n",
        "3. Слияние в единый датафрейм  \n",
        "4. Исключение признаков с датами и TotalCharges.  \n",
        "5. Кодирование категориальных признаков и нормализация численных. Разделение на train и valid  \n",
        "6. Обучение модели RandomForest, Выбор важных признаков, удаление ненужных признаков  \n",
        "7. Обучение нескольких моделей (от простых к сложным) на сформированной выборке. выбор перспективных. Тюнинг модели  \n",
        "8. Выводы и рекомендации"
      ]
    },
    {
      "cell_type": "markdown",
      "metadata": {
        "id": "w-x7VMbYlgQ9"
      },
      "source": [
        "<div class=\"alert alert-block alert-success\">\n",
        "<b>Комментарий ревьюера</b>\n",
        "\n",
        "Хорошо, план есть, идем дальше.\n",
        "\n",
        "</div>\n"
      ]
    },
    {
      "cell_type": "markdown",
      "metadata": {
        "id": "hgkrUPBjlgQ-"
      },
      "source": [
        "# Подготовка и анализ данных."
      ]
    },
    {
      "cell_type": "code",
      "execution_count": null,
      "metadata": {
        "id": "kMoJZ_ZElgQ-"
      },
      "outputs": [],
      "source": [
        "#phone = pd.read_csv('phone.csv', index_col = 'customerID')\n",
        "#contract = pd.read_csv('contract.csv', index_col = 'customerID')\n",
        "#personal = pd.read_csv('personal.csv', index_col = 'customerID')\n",
        "#internet = pd.read_csv('internet.csv', index_col = 'customerID')\n",
        "\n",
        "contract = pd.read_csv('/datasets/final_provider/contract.csv', index_col = 'customerID')\n",
        "phone = pd.read_csv('/datasets/final_provider/phone.csv', index_col = 'customerID')\n",
        "personal = pd.read_csv('/datasets/final_provider/personal.csv', index_col = 'customerID')\n",
        "internet = pd.read_csv('/datasets/final_provider/internet.csv', index_col = 'customerID')\n"
      ]
    },
    {
      "cell_type": "code",
      "execution_count": null,
      "metadata": {
        "id": "C5ngm09glgQ-"
      },
      "outputs": [],
      "source": [
        "def df_describe (df):\n",
        "    display(df.info())\n",
        "    display(df.sample(20))\n",
        "    display(df.describe(exclude=[np.number]))\n",
        "    display(df.describe())"
      ]
    },
    {
      "cell_type": "code",
      "execution_count": null,
      "metadata": {
        "id": "7_rp1OM9lgQ_",
        "outputId": "9c848a88-c6bb-431e-f258-abdb414ef1b4"
      },
      "outputs": [
        {
          "name": "stdout",
          "output_type": "stream",
          "text": [
            "<class 'pandas.core.frame.DataFrame'>\n",
            "Index: 7043 entries, 7590-VHVEG to 3186-AJIEK\n",
            "Data columns (total 7 columns):\n",
            "BeginDate           7043 non-null object\n",
            "EndDate             7043 non-null object\n",
            "Type                7043 non-null object\n",
            "PaperlessBilling    7043 non-null object\n",
            "PaymentMethod       7043 non-null object\n",
            "MonthlyCharges      7043 non-null float64\n",
            "TotalCharges        7043 non-null object\n",
            "dtypes: float64(1), object(6)\n",
            "memory usage: 440.2+ KB\n"
          ]
        },
        {
          "data": {
            "text/plain": [
              "None"
            ]
          },
          "metadata": {},
          "output_type": "display_data"
        },
        {
          "data": {
            "text/html": [
              "<div>\n",
              "<style scoped>\n",
              "    .dataframe tbody tr th:only-of-type {\n",
              "        vertical-align: middle;\n",
              "    }\n",
              "\n",
              "    .dataframe tbody tr th {\n",
              "        vertical-align: top;\n",
              "    }\n",
              "\n",
              "    .dataframe thead th {\n",
              "        text-align: right;\n",
              "    }\n",
              "</style>\n",
              "<table border=\"1\" class=\"dataframe\">\n",
              "  <thead>\n",
              "    <tr style=\"text-align: right;\">\n",
              "      <th></th>\n",
              "      <th>BeginDate</th>\n",
              "      <th>EndDate</th>\n",
              "      <th>Type</th>\n",
              "      <th>PaperlessBilling</th>\n",
              "      <th>PaymentMethod</th>\n",
              "      <th>MonthlyCharges</th>\n",
              "      <th>TotalCharges</th>\n",
              "    </tr>\n",
              "    <tr>\n",
              "      <th>customerID</th>\n",
              "      <th></th>\n",
              "      <th></th>\n",
              "      <th></th>\n",
              "      <th></th>\n",
              "      <th></th>\n",
              "      <th></th>\n",
              "      <th></th>\n",
              "    </tr>\n",
              "  </thead>\n",
              "  <tbody>\n",
              "    <tr>\n",
              "      <td>0811-GSDTP</td>\n",
              "      <td>2019-01-01</td>\n",
              "      <td>No</td>\n",
              "      <td>Month-to-month</td>\n",
              "      <td>No</td>\n",
              "      <td>Electronic check</td>\n",
              "      <td>30.15</td>\n",
              "      <td>382.2</td>\n",
              "    </tr>\n",
              "    <tr>\n",
              "      <td>1970-KKFWL</td>\n",
              "      <td>2017-03-01</td>\n",
              "      <td>No</td>\n",
              "      <td>Two year</td>\n",
              "      <td>No</td>\n",
              "      <td>Bank transfer (automatic)</td>\n",
              "      <td>23.30</td>\n",
              "      <td>797.1</td>\n",
              "    </tr>\n",
              "    <tr>\n",
              "      <td>2892-GESUL</td>\n",
              "      <td>2018-08-01</td>\n",
              "      <td>No</td>\n",
              "      <td>Two year</td>\n",
              "      <td>No</td>\n",
              "      <td>Mailed check</td>\n",
              "      <td>19.35</td>\n",
              "      <td>309.25</td>\n",
              "    </tr>\n",
              "    <tr>\n",
              "      <td>2842-BCQGE</td>\n",
              "      <td>2016-07-01</td>\n",
              "      <td>No</td>\n",
              "      <td>Month-to-month</td>\n",
              "      <td>Yes</td>\n",
              "      <td>Credit card (automatic)</td>\n",
              "      <td>75.35</td>\n",
              "      <td>3161.4</td>\n",
              "    </tr>\n",
              "    <tr>\n",
              "      <td>4807-IZYOZ</td>\n",
              "      <td>2015-11-01</td>\n",
              "      <td>No</td>\n",
              "      <td>Two year</td>\n",
              "      <td>No</td>\n",
              "      <td>Bank transfer (automatic)</td>\n",
              "      <td>20.65</td>\n",
              "      <td>1020.75</td>\n",
              "    </tr>\n",
              "    <tr>\n",
              "      <td>9451-WLYRI</td>\n",
              "      <td>2015-09-01</td>\n",
              "      <td>No</td>\n",
              "      <td>One year</td>\n",
              "      <td>No</td>\n",
              "      <td>Credit card (automatic)</td>\n",
              "      <td>19.05</td>\n",
              "      <td>990.45</td>\n",
              "    </tr>\n",
              "    <tr>\n",
              "      <td>1767-TGTKO</td>\n",
              "      <td>2019-06-01</td>\n",
              "      <td>No</td>\n",
              "      <td>Month-to-month</td>\n",
              "      <td>Yes</td>\n",
              "      <td>Electronic check</td>\n",
              "      <td>45.45</td>\n",
              "      <td>411.75</td>\n",
              "    </tr>\n",
              "    <tr>\n",
              "      <td>8033-VCZGH</td>\n",
              "      <td>2015-12-01</td>\n",
              "      <td>No</td>\n",
              "      <td>One year</td>\n",
              "      <td>Yes</td>\n",
              "      <td>Electronic check</td>\n",
              "      <td>103.95</td>\n",
              "      <td>5231.3</td>\n",
              "    </tr>\n",
              "    <tr>\n",
              "      <td>6689-VRRTK</td>\n",
              "      <td>2016-06-01</td>\n",
              "      <td>No</td>\n",
              "      <td>One year</td>\n",
              "      <td>Yes</td>\n",
              "      <td>Credit card (automatic)</td>\n",
              "      <td>109.80</td>\n",
              "      <td>4860.35</td>\n",
              "    </tr>\n",
              "    <tr>\n",
              "      <td>6997-UVGOX</td>\n",
              "      <td>2014-03-01</td>\n",
              "      <td>No</td>\n",
              "      <td>Two year</td>\n",
              "      <td>No</td>\n",
              "      <td>Bank transfer (automatic)</td>\n",
              "      <td>85.45</td>\n",
              "      <td>6029.9</td>\n",
              "    </tr>\n",
              "    <tr>\n",
              "      <td>1602-IJQQE</td>\n",
              "      <td>2019-09-01</td>\n",
              "      <td>2020-01-01 00:00:00</td>\n",
              "      <td>Month-to-month</td>\n",
              "      <td>No</td>\n",
              "      <td>Electronic check</td>\n",
              "      <td>75.35</td>\n",
              "      <td>338.1</td>\n",
              "    </tr>\n",
              "    <tr>\n",
              "      <td>6976-BWGLQ</td>\n",
              "      <td>2014-02-01</td>\n",
              "      <td>No</td>\n",
              "      <td>Two year</td>\n",
              "      <td>No</td>\n",
              "      <td>Bank transfer (automatic)</td>\n",
              "      <td>25.20</td>\n",
              "      <td>1787.35</td>\n",
              "    </tr>\n",
              "    <tr>\n",
              "      <td>8066-POXGX</td>\n",
              "      <td>2018-11-01</td>\n",
              "      <td>2019-12-01 00:00:00</td>\n",
              "      <td>Month-to-month</td>\n",
              "      <td>Yes</td>\n",
              "      <td>Electronic check</td>\n",
              "      <td>35.10</td>\n",
              "      <td>446.1</td>\n",
              "    </tr>\n",
              "    <tr>\n",
              "      <td>5862-BRIXZ</td>\n",
              "      <td>2016-04-01</td>\n",
              "      <td>No</td>\n",
              "      <td>Two year</td>\n",
              "      <td>Yes</td>\n",
              "      <td>Bank transfer (automatic)</td>\n",
              "      <td>60.75</td>\n",
              "      <td>2893.4</td>\n",
              "    </tr>\n",
              "    <tr>\n",
              "      <td>5317-FLPJF</td>\n",
              "      <td>2014-08-01</td>\n",
              "      <td>No</td>\n",
              "      <td>Two year</td>\n",
              "      <td>Yes</td>\n",
              "      <td>Bank transfer (automatic)</td>\n",
              "      <td>61.35</td>\n",
              "      <td>4193.4</td>\n",
              "    </tr>\n",
              "    <tr>\n",
              "      <td>4193-IBKSW</td>\n",
              "      <td>2014-02-01</td>\n",
              "      <td>No</td>\n",
              "      <td>Two year</td>\n",
              "      <td>No</td>\n",
              "      <td>Bank transfer (automatic)</td>\n",
              "      <td>24.75</td>\n",
              "      <td>1769.6</td>\n",
              "    </tr>\n",
              "    <tr>\n",
              "      <td>8680-CGLTP</td>\n",
              "      <td>2017-09-01</td>\n",
              "      <td>No</td>\n",
              "      <td>One year</td>\n",
              "      <td>Yes</td>\n",
              "      <td>Electronic check</td>\n",
              "      <td>58.75</td>\n",
              "      <td>1696.2</td>\n",
              "    </tr>\n",
              "    <tr>\n",
              "      <td>0616-ATFGB</td>\n",
              "      <td>2019-09-01</td>\n",
              "      <td>2019-10-01 00:00:00</td>\n",
              "      <td>Month-to-month</td>\n",
              "      <td>No</td>\n",
              "      <td>Electronic check</td>\n",
              "      <td>25.05</td>\n",
              "      <td>25.05</td>\n",
              "    </tr>\n",
              "    <tr>\n",
              "      <td>0426-TIRNE</td>\n",
              "      <td>2019-11-01</td>\n",
              "      <td>2019-12-01 00:00:00</td>\n",
              "      <td>Month-to-month</td>\n",
              "      <td>No</td>\n",
              "      <td>Mailed check</td>\n",
              "      <td>20.90</td>\n",
              "      <td>20.9</td>\n",
              "    </tr>\n",
              "    <tr>\n",
              "      <td>5549-ZGHFB</td>\n",
              "      <td>2015-12-01</td>\n",
              "      <td>No</td>\n",
              "      <td>Two year</td>\n",
              "      <td>No</td>\n",
              "      <td>Mailed check</td>\n",
              "      <td>24.95</td>\n",
              "      <td>1261.45</td>\n",
              "    </tr>\n",
              "  </tbody>\n",
              "</table>\n",
              "</div>"
            ],
            "text/plain": [
              "             BeginDate              EndDate            Type PaperlessBilling  \\\n",
              "customerID                                                                     \n",
              "0811-GSDTP  2019-01-01                   No  Month-to-month               No   \n",
              "1970-KKFWL  2017-03-01                   No        Two year               No   \n",
              "2892-GESUL  2018-08-01                   No        Two year               No   \n",
              "2842-BCQGE  2016-07-01                   No  Month-to-month              Yes   \n",
              "4807-IZYOZ  2015-11-01                   No        Two year               No   \n",
              "9451-WLYRI  2015-09-01                   No        One year               No   \n",
              "1767-TGTKO  2019-06-01                   No  Month-to-month              Yes   \n",
              "8033-VCZGH  2015-12-01                   No        One year              Yes   \n",
              "6689-VRRTK  2016-06-01                   No        One year              Yes   \n",
              "6997-UVGOX  2014-03-01                   No        Two year               No   \n",
              "1602-IJQQE  2019-09-01  2020-01-01 00:00:00  Month-to-month               No   \n",
              "6976-BWGLQ  2014-02-01                   No        Two year               No   \n",
              "8066-POXGX  2018-11-01  2019-12-01 00:00:00  Month-to-month              Yes   \n",
              "5862-BRIXZ  2016-04-01                   No        Two year              Yes   \n",
              "5317-FLPJF  2014-08-01                   No        Two year              Yes   \n",
              "4193-IBKSW  2014-02-01                   No        Two year               No   \n",
              "8680-CGLTP  2017-09-01                   No        One year              Yes   \n",
              "0616-ATFGB  2019-09-01  2019-10-01 00:00:00  Month-to-month               No   \n",
              "0426-TIRNE  2019-11-01  2019-12-01 00:00:00  Month-to-month               No   \n",
              "5549-ZGHFB  2015-12-01                   No        Two year               No   \n",
              "\n",
              "                        PaymentMethod  MonthlyCharges TotalCharges  \n",
              "customerID                                                          \n",
              "0811-GSDTP           Electronic check           30.15        382.2  \n",
              "1970-KKFWL  Bank transfer (automatic)           23.30        797.1  \n",
              "2892-GESUL               Mailed check           19.35       309.25  \n",
              "2842-BCQGE    Credit card (automatic)           75.35       3161.4  \n",
              "4807-IZYOZ  Bank transfer (automatic)           20.65      1020.75  \n",
              "9451-WLYRI    Credit card (automatic)           19.05       990.45  \n",
              "1767-TGTKO           Electronic check           45.45       411.75  \n",
              "8033-VCZGH           Electronic check          103.95       5231.3  \n",
              "6689-VRRTK    Credit card (automatic)          109.80      4860.35  \n",
              "6997-UVGOX  Bank transfer (automatic)           85.45       6029.9  \n",
              "1602-IJQQE           Electronic check           75.35        338.1  \n",
              "6976-BWGLQ  Bank transfer (automatic)           25.20      1787.35  \n",
              "8066-POXGX           Electronic check           35.10        446.1  \n",
              "5862-BRIXZ  Bank transfer (automatic)           60.75       2893.4  \n",
              "5317-FLPJF  Bank transfer (automatic)           61.35       4193.4  \n",
              "4193-IBKSW  Bank transfer (automatic)           24.75       1769.6  \n",
              "8680-CGLTP           Electronic check           58.75       1696.2  \n",
              "0616-ATFGB           Electronic check           25.05        25.05  \n",
              "0426-TIRNE               Mailed check           20.90         20.9  \n",
              "5549-ZGHFB               Mailed check           24.95      1261.45  "
            ]
          },
          "metadata": {},
          "output_type": "display_data"
        },
        {
          "data": {
            "text/html": [
              "<div>\n",
              "<style scoped>\n",
              "    .dataframe tbody tr th:only-of-type {\n",
              "        vertical-align: middle;\n",
              "    }\n",
              "\n",
              "    .dataframe tbody tr th {\n",
              "        vertical-align: top;\n",
              "    }\n",
              "\n",
              "    .dataframe thead th {\n",
              "        text-align: right;\n",
              "    }\n",
              "</style>\n",
              "<table border=\"1\" class=\"dataframe\">\n",
              "  <thead>\n",
              "    <tr style=\"text-align: right;\">\n",
              "      <th></th>\n",
              "      <th>BeginDate</th>\n",
              "      <th>EndDate</th>\n",
              "      <th>Type</th>\n",
              "      <th>PaperlessBilling</th>\n",
              "      <th>PaymentMethod</th>\n",
              "      <th>TotalCharges</th>\n",
              "    </tr>\n",
              "  </thead>\n",
              "  <tbody>\n",
              "    <tr>\n",
              "      <td>count</td>\n",
              "      <td>7043</td>\n",
              "      <td>7043</td>\n",
              "      <td>7043</td>\n",
              "      <td>7043</td>\n",
              "      <td>7043</td>\n",
              "      <td>7043</td>\n",
              "    </tr>\n",
              "    <tr>\n",
              "      <td>unique</td>\n",
              "      <td>77</td>\n",
              "      <td>5</td>\n",
              "      <td>3</td>\n",
              "      <td>2</td>\n",
              "      <td>4</td>\n",
              "      <td>6531</td>\n",
              "    </tr>\n",
              "    <tr>\n",
              "      <td>top</td>\n",
              "      <td>2014-02-01</td>\n",
              "      <td>No</td>\n",
              "      <td>Month-to-month</td>\n",
              "      <td>Yes</td>\n",
              "      <td>Electronic check</td>\n",
              "      <td></td>\n",
              "    </tr>\n",
              "    <tr>\n",
              "      <td>freq</td>\n",
              "      <td>366</td>\n",
              "      <td>5174</td>\n",
              "      <td>3875</td>\n",
              "      <td>4171</td>\n",
              "      <td>2365</td>\n",
              "      <td>11</td>\n",
              "    </tr>\n",
              "  </tbody>\n",
              "</table>\n",
              "</div>"
            ],
            "text/plain": [
              "         BeginDate EndDate            Type PaperlessBilling     PaymentMethod  \\\n",
              "count         7043    7043            7043             7043              7043   \n",
              "unique          77       5               3                2                 4   \n",
              "top     2014-02-01      No  Month-to-month              Yes  Electronic check   \n",
              "freq           366    5174            3875             4171              2365   \n",
              "\n",
              "       TotalCharges  \n",
              "count          7043  \n",
              "unique         6531  \n",
              "top                  \n",
              "freq             11  "
            ]
          },
          "metadata": {},
          "output_type": "display_data"
        },
        {
          "data": {
            "text/html": [
              "<div>\n",
              "<style scoped>\n",
              "    .dataframe tbody tr th:only-of-type {\n",
              "        vertical-align: middle;\n",
              "    }\n",
              "\n",
              "    .dataframe tbody tr th {\n",
              "        vertical-align: top;\n",
              "    }\n",
              "\n",
              "    .dataframe thead th {\n",
              "        text-align: right;\n",
              "    }\n",
              "</style>\n",
              "<table border=\"1\" class=\"dataframe\">\n",
              "  <thead>\n",
              "    <tr style=\"text-align: right;\">\n",
              "      <th></th>\n",
              "      <th>MonthlyCharges</th>\n",
              "    </tr>\n",
              "  </thead>\n",
              "  <tbody>\n",
              "    <tr>\n",
              "      <td>count</td>\n",
              "      <td>7043.000000</td>\n",
              "    </tr>\n",
              "    <tr>\n",
              "      <td>mean</td>\n",
              "      <td>64.761692</td>\n",
              "    </tr>\n",
              "    <tr>\n",
              "      <td>std</td>\n",
              "      <td>30.090047</td>\n",
              "    </tr>\n",
              "    <tr>\n",
              "      <td>min</td>\n",
              "      <td>18.250000</td>\n",
              "    </tr>\n",
              "    <tr>\n",
              "      <td>25%</td>\n",
              "      <td>35.500000</td>\n",
              "    </tr>\n",
              "    <tr>\n",
              "      <td>50%</td>\n",
              "      <td>70.350000</td>\n",
              "    </tr>\n",
              "    <tr>\n",
              "      <td>75%</td>\n",
              "      <td>89.850000</td>\n",
              "    </tr>\n",
              "    <tr>\n",
              "      <td>max</td>\n",
              "      <td>118.750000</td>\n",
              "    </tr>\n",
              "  </tbody>\n",
              "</table>\n",
              "</div>"
            ],
            "text/plain": [
              "       MonthlyCharges\n",
              "count     7043.000000\n",
              "mean        64.761692\n",
              "std         30.090047\n",
              "min         18.250000\n",
              "25%         35.500000\n",
              "50%         70.350000\n",
              "75%         89.850000\n",
              "max        118.750000"
            ]
          },
          "metadata": {},
          "output_type": "display_data"
        }
      ],
      "source": [
        "df_describe(contract)"
      ]
    },
    {
      "cell_type": "code",
      "execution_count": null,
      "metadata": {
        "id": "2pasQ7K8lgRA",
        "outputId": "c45219f4-3ad1-40aa-803a-4877e149553e"
      },
      "outputs": [
        {
          "name": "stdout",
          "output_type": "stream",
          "text": [
            "<class 'pandas.core.frame.DataFrame'>\n",
            "Index: 7043 entries, 7590-VHVEG to 3186-AJIEK\n",
            "Data columns (total 4 columns):\n",
            "gender           7043 non-null object\n",
            "SeniorCitizen    7043 non-null int64\n",
            "Partner          7043 non-null object\n",
            "Dependents       7043 non-null object\n",
            "dtypes: int64(1), object(3)\n",
            "memory usage: 275.1+ KB\n"
          ]
        },
        {
          "data": {
            "text/plain": [
              "None"
            ]
          },
          "metadata": {},
          "output_type": "display_data"
        },
        {
          "data": {
            "text/html": [
              "<div>\n",
              "<style scoped>\n",
              "    .dataframe tbody tr th:only-of-type {\n",
              "        vertical-align: middle;\n",
              "    }\n",
              "\n",
              "    .dataframe tbody tr th {\n",
              "        vertical-align: top;\n",
              "    }\n",
              "\n",
              "    .dataframe thead th {\n",
              "        text-align: right;\n",
              "    }\n",
              "</style>\n",
              "<table border=\"1\" class=\"dataframe\">\n",
              "  <thead>\n",
              "    <tr style=\"text-align: right;\">\n",
              "      <th></th>\n",
              "      <th>gender</th>\n",
              "      <th>SeniorCitizen</th>\n",
              "      <th>Partner</th>\n",
              "      <th>Dependents</th>\n",
              "    </tr>\n",
              "    <tr>\n",
              "      <th>customerID</th>\n",
              "      <th></th>\n",
              "      <th></th>\n",
              "      <th></th>\n",
              "      <th></th>\n",
              "    </tr>\n",
              "  </thead>\n",
              "  <tbody>\n",
              "    <tr>\n",
              "      <td>2167-FQSTQ</td>\n",
              "      <td>Female</td>\n",
              "      <td>0</td>\n",
              "      <td>Yes</td>\n",
              "      <td>No</td>\n",
              "    </tr>\n",
              "    <tr>\n",
              "      <td>6794-HKIAJ</td>\n",
              "      <td>Male</td>\n",
              "      <td>0</td>\n",
              "      <td>No</td>\n",
              "      <td>No</td>\n",
              "    </tr>\n",
              "    <tr>\n",
              "      <td>5918-VUKWP</td>\n",
              "      <td>Female</td>\n",
              "      <td>0</td>\n",
              "      <td>No</td>\n",
              "      <td>No</td>\n",
              "    </tr>\n",
              "    <tr>\n",
              "      <td>5898-IGSLP</td>\n",
              "      <td>Male</td>\n",
              "      <td>0</td>\n",
              "      <td>Yes</td>\n",
              "      <td>Yes</td>\n",
              "    </tr>\n",
              "    <tr>\n",
              "      <td>4952-YSOGZ</td>\n",
              "      <td>Female</td>\n",
              "      <td>0</td>\n",
              "      <td>Yes</td>\n",
              "      <td>Yes</td>\n",
              "    </tr>\n",
              "    <tr>\n",
              "      <td>4801-JZAZL</td>\n",
              "      <td>Female</td>\n",
              "      <td>0</td>\n",
              "      <td>Yes</td>\n",
              "      <td>Yes</td>\n",
              "    </tr>\n",
              "    <tr>\n",
              "      <td>0258-NOKBL</td>\n",
              "      <td>Male</td>\n",
              "      <td>0</td>\n",
              "      <td>No</td>\n",
              "      <td>No</td>\n",
              "    </tr>\n",
              "    <tr>\n",
              "      <td>8645-KWHJO</td>\n",
              "      <td>Male</td>\n",
              "      <td>0</td>\n",
              "      <td>No</td>\n",
              "      <td>No</td>\n",
              "    </tr>\n",
              "    <tr>\n",
              "      <td>6908-VVYHM</td>\n",
              "      <td>Male</td>\n",
              "      <td>0</td>\n",
              "      <td>Yes</td>\n",
              "      <td>No</td>\n",
              "    </tr>\n",
              "    <tr>\n",
              "      <td>2157-MXBJS</td>\n",
              "      <td>Male</td>\n",
              "      <td>0</td>\n",
              "      <td>Yes</td>\n",
              "      <td>No</td>\n",
              "    </tr>\n",
              "    <tr>\n",
              "      <td>1877-HKBQX</td>\n",
              "      <td>Female</td>\n",
              "      <td>0</td>\n",
              "      <td>No</td>\n",
              "      <td>No</td>\n",
              "    </tr>\n",
              "    <tr>\n",
              "      <td>2208-NKVVH</td>\n",
              "      <td>Male</td>\n",
              "      <td>0</td>\n",
              "      <td>Yes</td>\n",
              "      <td>Yes</td>\n",
              "    </tr>\n",
              "    <tr>\n",
              "      <td>4821-SJHJV</td>\n",
              "      <td>Female</td>\n",
              "      <td>0</td>\n",
              "      <td>Yes</td>\n",
              "      <td>Yes</td>\n",
              "    </tr>\n",
              "    <tr>\n",
              "      <td>5575-TPIZQ</td>\n",
              "      <td>Male</td>\n",
              "      <td>0</td>\n",
              "      <td>No</td>\n",
              "      <td>No</td>\n",
              "    </tr>\n",
              "    <tr>\n",
              "      <td>4353-HYOJD</td>\n",
              "      <td>Female</td>\n",
              "      <td>0</td>\n",
              "      <td>Yes</td>\n",
              "      <td>Yes</td>\n",
              "    </tr>\n",
              "    <tr>\n",
              "      <td>6987-XQSJT</td>\n",
              "      <td>Female</td>\n",
              "      <td>1</td>\n",
              "      <td>No</td>\n",
              "      <td>No</td>\n",
              "    </tr>\n",
              "    <tr>\n",
              "      <td>1415-YFWLT</td>\n",
              "      <td>Female</td>\n",
              "      <td>1</td>\n",
              "      <td>No</td>\n",
              "      <td>No</td>\n",
              "    </tr>\n",
              "    <tr>\n",
              "      <td>5751-USDBL</td>\n",
              "      <td>Male</td>\n",
              "      <td>0</td>\n",
              "      <td>Yes</td>\n",
              "      <td>Yes</td>\n",
              "    </tr>\n",
              "    <tr>\n",
              "      <td>7246-ZGQDF</td>\n",
              "      <td>Female</td>\n",
              "      <td>0</td>\n",
              "      <td>No</td>\n",
              "      <td>Yes</td>\n",
              "    </tr>\n",
              "    <tr>\n",
              "      <td>4971-PUYQO</td>\n",
              "      <td>Female</td>\n",
              "      <td>0</td>\n",
              "      <td>No</td>\n",
              "      <td>No</td>\n",
              "    </tr>\n",
              "  </tbody>\n",
              "</table>\n",
              "</div>"
            ],
            "text/plain": [
              "            gender  SeniorCitizen Partner Dependents\n",
              "customerID                                          \n",
              "2167-FQSTQ  Female              0     Yes         No\n",
              "6794-HKIAJ    Male              0      No         No\n",
              "5918-VUKWP  Female              0      No         No\n",
              "5898-IGSLP    Male              0     Yes        Yes\n",
              "4952-YSOGZ  Female              0     Yes        Yes\n",
              "4801-JZAZL  Female              0     Yes        Yes\n",
              "0258-NOKBL    Male              0      No         No\n",
              "8645-KWHJO    Male              0      No         No\n",
              "6908-VVYHM    Male              0     Yes         No\n",
              "2157-MXBJS    Male              0     Yes         No\n",
              "1877-HKBQX  Female              0      No         No\n",
              "2208-NKVVH    Male              0     Yes        Yes\n",
              "4821-SJHJV  Female              0     Yes        Yes\n",
              "5575-TPIZQ    Male              0      No         No\n",
              "4353-HYOJD  Female              0     Yes        Yes\n",
              "6987-XQSJT  Female              1      No         No\n",
              "1415-YFWLT  Female              1      No         No\n",
              "5751-USDBL    Male              0     Yes        Yes\n",
              "7246-ZGQDF  Female              0      No        Yes\n",
              "4971-PUYQO  Female              0      No         No"
            ]
          },
          "metadata": {},
          "output_type": "display_data"
        },
        {
          "data": {
            "text/html": [
              "<div>\n",
              "<style scoped>\n",
              "    .dataframe tbody tr th:only-of-type {\n",
              "        vertical-align: middle;\n",
              "    }\n",
              "\n",
              "    .dataframe tbody tr th {\n",
              "        vertical-align: top;\n",
              "    }\n",
              "\n",
              "    .dataframe thead th {\n",
              "        text-align: right;\n",
              "    }\n",
              "</style>\n",
              "<table border=\"1\" class=\"dataframe\">\n",
              "  <thead>\n",
              "    <tr style=\"text-align: right;\">\n",
              "      <th></th>\n",
              "      <th>gender</th>\n",
              "      <th>Partner</th>\n",
              "      <th>Dependents</th>\n",
              "    </tr>\n",
              "  </thead>\n",
              "  <tbody>\n",
              "    <tr>\n",
              "      <td>count</td>\n",
              "      <td>7043</td>\n",
              "      <td>7043</td>\n",
              "      <td>7043</td>\n",
              "    </tr>\n",
              "    <tr>\n",
              "      <td>unique</td>\n",
              "      <td>2</td>\n",
              "      <td>2</td>\n",
              "      <td>2</td>\n",
              "    </tr>\n",
              "    <tr>\n",
              "      <td>top</td>\n",
              "      <td>Male</td>\n",
              "      <td>No</td>\n",
              "      <td>No</td>\n",
              "    </tr>\n",
              "    <tr>\n",
              "      <td>freq</td>\n",
              "      <td>3555</td>\n",
              "      <td>3641</td>\n",
              "      <td>4933</td>\n",
              "    </tr>\n",
              "  </tbody>\n",
              "</table>\n",
              "</div>"
            ],
            "text/plain": [
              "       gender Partner Dependents\n",
              "count    7043    7043       7043\n",
              "unique      2       2          2\n",
              "top      Male      No         No\n",
              "freq     3555    3641       4933"
            ]
          },
          "metadata": {},
          "output_type": "display_data"
        },
        {
          "data": {
            "text/html": [
              "<div>\n",
              "<style scoped>\n",
              "    .dataframe tbody tr th:only-of-type {\n",
              "        vertical-align: middle;\n",
              "    }\n",
              "\n",
              "    .dataframe tbody tr th {\n",
              "        vertical-align: top;\n",
              "    }\n",
              "\n",
              "    .dataframe thead th {\n",
              "        text-align: right;\n",
              "    }\n",
              "</style>\n",
              "<table border=\"1\" class=\"dataframe\">\n",
              "  <thead>\n",
              "    <tr style=\"text-align: right;\">\n",
              "      <th></th>\n",
              "      <th>SeniorCitizen</th>\n",
              "    </tr>\n",
              "  </thead>\n",
              "  <tbody>\n",
              "    <tr>\n",
              "      <td>count</td>\n",
              "      <td>7043.000000</td>\n",
              "    </tr>\n",
              "    <tr>\n",
              "      <td>mean</td>\n",
              "      <td>0.162147</td>\n",
              "    </tr>\n",
              "    <tr>\n",
              "      <td>std</td>\n",
              "      <td>0.368612</td>\n",
              "    </tr>\n",
              "    <tr>\n",
              "      <td>min</td>\n",
              "      <td>0.000000</td>\n",
              "    </tr>\n",
              "    <tr>\n",
              "      <td>25%</td>\n",
              "      <td>0.000000</td>\n",
              "    </tr>\n",
              "    <tr>\n",
              "      <td>50%</td>\n",
              "      <td>0.000000</td>\n",
              "    </tr>\n",
              "    <tr>\n",
              "      <td>75%</td>\n",
              "      <td>0.000000</td>\n",
              "    </tr>\n",
              "    <tr>\n",
              "      <td>max</td>\n",
              "      <td>1.000000</td>\n",
              "    </tr>\n",
              "  </tbody>\n",
              "</table>\n",
              "</div>"
            ],
            "text/plain": [
              "       SeniorCitizen\n",
              "count    7043.000000\n",
              "mean        0.162147\n",
              "std         0.368612\n",
              "min         0.000000\n",
              "25%         0.000000\n",
              "50%         0.000000\n",
              "75%         0.000000\n",
              "max         1.000000"
            ]
          },
          "metadata": {},
          "output_type": "display_data"
        }
      ],
      "source": [
        "df_describe(personal)"
      ]
    },
    {
      "cell_type": "code",
      "execution_count": null,
      "metadata": {
        "id": "WPJGYIYLlgRA",
        "outputId": "b0f9e43d-face-4d40-9adb-40fd1272a94c"
      },
      "outputs": [
        {
          "name": "stdout",
          "output_type": "stream",
          "text": [
            "<class 'pandas.core.frame.DataFrame'>\n",
            "Index: 6361 entries, 5575-GNVDE to 3186-AJIEK\n",
            "Data columns (total 1 columns):\n",
            "MultipleLines    6361 non-null object\n",
            "dtypes: object(1)\n",
            "memory usage: 99.4+ KB\n"
          ]
        },
        {
          "data": {
            "text/plain": [
              "None"
            ]
          },
          "metadata": {},
          "output_type": "display_data"
        },
        {
          "data": {
            "text/html": [
              "<div>\n",
              "<style scoped>\n",
              "    .dataframe tbody tr th:only-of-type {\n",
              "        vertical-align: middle;\n",
              "    }\n",
              "\n",
              "    .dataframe tbody tr th {\n",
              "        vertical-align: top;\n",
              "    }\n",
              "\n",
              "    .dataframe thead th {\n",
              "        text-align: right;\n",
              "    }\n",
              "</style>\n",
              "<table border=\"1\" class=\"dataframe\">\n",
              "  <thead>\n",
              "    <tr style=\"text-align: right;\">\n",
              "      <th></th>\n",
              "      <th>MultipleLines</th>\n",
              "    </tr>\n",
              "    <tr>\n",
              "      <th>customerID</th>\n",
              "      <th></th>\n",
              "    </tr>\n",
              "  </thead>\n",
              "  <tbody>\n",
              "    <tr>\n",
              "      <td>0730-KOAVE</td>\n",
              "      <td>Yes</td>\n",
              "    </tr>\n",
              "    <tr>\n",
              "      <td>7601-WFVZV</td>\n",
              "      <td>No</td>\n",
              "    </tr>\n",
              "    <tr>\n",
              "      <td>2550-QHZGP</td>\n",
              "      <td>No</td>\n",
              "    </tr>\n",
              "    <tr>\n",
              "      <td>1194-SPVSP</td>\n",
              "      <td>No</td>\n",
              "    </tr>\n",
              "    <tr>\n",
              "      <td>3363-EWLGO</td>\n",
              "      <td>No</td>\n",
              "    </tr>\n",
              "    <tr>\n",
              "      <td>1891-FZYSA</td>\n",
              "      <td>Yes</td>\n",
              "    </tr>\n",
              "    <tr>\n",
              "      <td>9921-QFQUL</td>\n",
              "      <td>Yes</td>\n",
              "    </tr>\n",
              "    <tr>\n",
              "      <td>9412-ARGBX</td>\n",
              "      <td>No</td>\n",
              "    </tr>\n",
              "    <tr>\n",
              "      <td>7346-MEDWM</td>\n",
              "      <td>Yes</td>\n",
              "    </tr>\n",
              "    <tr>\n",
              "      <td>5995-OIGLP</td>\n",
              "      <td>No</td>\n",
              "    </tr>\n",
              "    <tr>\n",
              "      <td>3354-OADJP</td>\n",
              "      <td>No</td>\n",
              "    </tr>\n",
              "    <tr>\n",
              "      <td>4559-UWIHT</td>\n",
              "      <td>Yes</td>\n",
              "    </tr>\n",
              "    <tr>\n",
              "      <td>9470-XCCEM</td>\n",
              "      <td>Yes</td>\n",
              "    </tr>\n",
              "    <tr>\n",
              "      <td>6372-RFVNS</td>\n",
              "      <td>No</td>\n",
              "    </tr>\n",
              "    <tr>\n",
              "      <td>6710-HSJRD</td>\n",
              "      <td>Yes</td>\n",
              "    </tr>\n",
              "    <tr>\n",
              "      <td>3315-TOTBP</td>\n",
              "      <td>Yes</td>\n",
              "    </tr>\n",
              "    <tr>\n",
              "      <td>8851-RAGOV</td>\n",
              "      <td>No</td>\n",
              "    </tr>\n",
              "    <tr>\n",
              "      <td>6131-FOYAS</td>\n",
              "      <td>Yes</td>\n",
              "    </tr>\n",
              "    <tr>\n",
              "      <td>8654-DHAOW</td>\n",
              "      <td>Yes</td>\n",
              "    </tr>\n",
              "    <tr>\n",
              "      <td>4957-TIALW</td>\n",
              "      <td>No</td>\n",
              "    </tr>\n",
              "  </tbody>\n",
              "</table>\n",
              "</div>"
            ],
            "text/plain": [
              "           MultipleLines\n",
              "customerID              \n",
              "0730-KOAVE           Yes\n",
              "7601-WFVZV            No\n",
              "2550-QHZGP            No\n",
              "1194-SPVSP            No\n",
              "3363-EWLGO            No\n",
              "1891-FZYSA           Yes\n",
              "9921-QFQUL           Yes\n",
              "9412-ARGBX            No\n",
              "7346-MEDWM           Yes\n",
              "5995-OIGLP            No\n",
              "3354-OADJP            No\n",
              "4559-UWIHT           Yes\n",
              "9470-XCCEM           Yes\n",
              "6372-RFVNS            No\n",
              "6710-HSJRD           Yes\n",
              "3315-TOTBP           Yes\n",
              "8851-RAGOV            No\n",
              "6131-FOYAS           Yes\n",
              "8654-DHAOW           Yes\n",
              "4957-TIALW            No"
            ]
          },
          "metadata": {},
          "output_type": "display_data"
        },
        {
          "data": {
            "text/html": [
              "<div>\n",
              "<style scoped>\n",
              "    .dataframe tbody tr th:only-of-type {\n",
              "        vertical-align: middle;\n",
              "    }\n",
              "\n",
              "    .dataframe tbody tr th {\n",
              "        vertical-align: top;\n",
              "    }\n",
              "\n",
              "    .dataframe thead th {\n",
              "        text-align: right;\n",
              "    }\n",
              "</style>\n",
              "<table border=\"1\" class=\"dataframe\">\n",
              "  <thead>\n",
              "    <tr style=\"text-align: right;\">\n",
              "      <th></th>\n",
              "      <th>MultipleLines</th>\n",
              "    </tr>\n",
              "  </thead>\n",
              "  <tbody>\n",
              "    <tr>\n",
              "      <td>count</td>\n",
              "      <td>6361</td>\n",
              "    </tr>\n",
              "    <tr>\n",
              "      <td>unique</td>\n",
              "      <td>2</td>\n",
              "    </tr>\n",
              "    <tr>\n",
              "      <td>top</td>\n",
              "      <td>No</td>\n",
              "    </tr>\n",
              "    <tr>\n",
              "      <td>freq</td>\n",
              "      <td>3390</td>\n",
              "    </tr>\n",
              "  </tbody>\n",
              "</table>\n",
              "</div>"
            ],
            "text/plain": [
              "       MultipleLines\n",
              "count           6361\n",
              "unique             2\n",
              "top               No\n",
              "freq            3390"
            ]
          },
          "metadata": {},
          "output_type": "display_data"
        },
        {
          "data": {
            "text/html": [
              "<div>\n",
              "<style scoped>\n",
              "    .dataframe tbody tr th:only-of-type {\n",
              "        vertical-align: middle;\n",
              "    }\n",
              "\n",
              "    .dataframe tbody tr th {\n",
              "        vertical-align: top;\n",
              "    }\n",
              "\n",
              "    .dataframe thead th {\n",
              "        text-align: right;\n",
              "    }\n",
              "</style>\n",
              "<table border=\"1\" class=\"dataframe\">\n",
              "  <thead>\n",
              "    <tr style=\"text-align: right;\">\n",
              "      <th></th>\n",
              "      <th>MultipleLines</th>\n",
              "    </tr>\n",
              "  </thead>\n",
              "  <tbody>\n",
              "    <tr>\n",
              "      <td>count</td>\n",
              "      <td>6361</td>\n",
              "    </tr>\n",
              "    <tr>\n",
              "      <td>unique</td>\n",
              "      <td>2</td>\n",
              "    </tr>\n",
              "    <tr>\n",
              "      <td>top</td>\n",
              "      <td>No</td>\n",
              "    </tr>\n",
              "    <tr>\n",
              "      <td>freq</td>\n",
              "      <td>3390</td>\n",
              "    </tr>\n",
              "  </tbody>\n",
              "</table>\n",
              "</div>"
            ],
            "text/plain": [
              "       MultipleLines\n",
              "count           6361\n",
              "unique             2\n",
              "top               No\n",
              "freq            3390"
            ]
          },
          "metadata": {},
          "output_type": "display_data"
        }
      ],
      "source": [
        "df_describe(phone)"
      ]
    },
    {
      "cell_type": "code",
      "execution_count": null,
      "metadata": {
        "scrolled": true,
        "id": "GMK9iOZnlgRB",
        "outputId": "b5a8a096-2d39-4a25-800a-b45f0eeeb72c"
      },
      "outputs": [
        {
          "name": "stdout",
          "output_type": "stream",
          "text": [
            "<class 'pandas.core.frame.DataFrame'>\n",
            "Index: 5517 entries, 7590-VHVEG to 3186-AJIEK\n",
            "Data columns (total 7 columns):\n",
            "InternetService     5517 non-null object\n",
            "OnlineSecurity      5517 non-null object\n",
            "OnlineBackup        5517 non-null object\n",
            "DeviceProtection    5517 non-null object\n",
            "TechSupport         5517 non-null object\n",
            "StreamingTV         5517 non-null object\n",
            "StreamingMovies     5517 non-null object\n",
            "dtypes: object(7)\n",
            "memory usage: 344.8+ KB\n"
          ]
        },
        {
          "data": {
            "text/plain": [
              "None"
            ]
          },
          "metadata": {},
          "output_type": "display_data"
        },
        {
          "data": {
            "text/html": [
              "<div>\n",
              "<style scoped>\n",
              "    .dataframe tbody tr th:only-of-type {\n",
              "        vertical-align: middle;\n",
              "    }\n",
              "\n",
              "    .dataframe tbody tr th {\n",
              "        vertical-align: top;\n",
              "    }\n",
              "\n",
              "    .dataframe thead th {\n",
              "        text-align: right;\n",
              "    }\n",
              "</style>\n",
              "<table border=\"1\" class=\"dataframe\">\n",
              "  <thead>\n",
              "    <tr style=\"text-align: right;\">\n",
              "      <th></th>\n",
              "      <th>InternetService</th>\n",
              "      <th>OnlineSecurity</th>\n",
              "      <th>OnlineBackup</th>\n",
              "      <th>DeviceProtection</th>\n",
              "      <th>TechSupport</th>\n",
              "      <th>StreamingTV</th>\n",
              "      <th>StreamingMovies</th>\n",
              "    </tr>\n",
              "    <tr>\n",
              "      <th>customerID</th>\n",
              "      <th></th>\n",
              "      <th></th>\n",
              "      <th></th>\n",
              "      <th></th>\n",
              "      <th></th>\n",
              "      <th></th>\n",
              "      <th></th>\n",
              "    </tr>\n",
              "  </thead>\n",
              "  <tbody>\n",
              "    <tr>\n",
              "      <td>5077-DXTCG</td>\n",
              "      <td>DSL</td>\n",
              "      <td>No</td>\n",
              "      <td>No</td>\n",
              "      <td>No</td>\n",
              "      <td>No</td>\n",
              "      <td>No</td>\n",
              "      <td>No</td>\n",
              "    </tr>\n",
              "    <tr>\n",
              "      <td>4291-TPNFG</td>\n",
              "      <td>DSL</td>\n",
              "      <td>Yes</td>\n",
              "      <td>Yes</td>\n",
              "      <td>Yes</td>\n",
              "      <td>Yes</td>\n",
              "      <td>No</td>\n",
              "      <td>Yes</td>\n",
              "    </tr>\n",
              "    <tr>\n",
              "      <td>7492-TAFJD</td>\n",
              "      <td>DSL</td>\n",
              "      <td>Yes</td>\n",
              "      <td>Yes</td>\n",
              "      <td>Yes</td>\n",
              "      <td>No</td>\n",
              "      <td>No</td>\n",
              "      <td>No</td>\n",
              "    </tr>\n",
              "    <tr>\n",
              "      <td>7521-AFHAB</td>\n",
              "      <td>DSL</td>\n",
              "      <td>No</td>\n",
              "      <td>No</td>\n",
              "      <td>No</td>\n",
              "      <td>No</td>\n",
              "      <td>No</td>\n",
              "      <td>No</td>\n",
              "    </tr>\n",
              "    <tr>\n",
              "      <td>2709-UQGNP</td>\n",
              "      <td>DSL</td>\n",
              "      <td>Yes</td>\n",
              "      <td>No</td>\n",
              "      <td>No</td>\n",
              "      <td>No</td>\n",
              "      <td>No</td>\n",
              "      <td>No</td>\n",
              "    </tr>\n",
              "    <tr>\n",
              "      <td>4070-OKWVH</td>\n",
              "      <td>Fiber optic</td>\n",
              "      <td>No</td>\n",
              "      <td>Yes</td>\n",
              "      <td>Yes</td>\n",
              "      <td>No</td>\n",
              "      <td>Yes</td>\n",
              "      <td>No</td>\n",
              "    </tr>\n",
              "    <tr>\n",
              "      <td>1907-UBQFC</td>\n",
              "      <td>Fiber optic</td>\n",
              "      <td>No</td>\n",
              "      <td>Yes</td>\n",
              "      <td>No</td>\n",
              "      <td>No</td>\n",
              "      <td>No</td>\n",
              "      <td>No</td>\n",
              "    </tr>\n",
              "    <tr>\n",
              "      <td>2985-JUUBZ</td>\n",
              "      <td>DSL</td>\n",
              "      <td>No</td>\n",
              "      <td>No</td>\n",
              "      <td>Yes</td>\n",
              "      <td>No</td>\n",
              "      <td>Yes</td>\n",
              "      <td>Yes</td>\n",
              "    </tr>\n",
              "    <tr>\n",
              "      <td>2754-SDJRD</td>\n",
              "      <td>Fiber optic</td>\n",
              "      <td>No</td>\n",
              "      <td>No</td>\n",
              "      <td>No</td>\n",
              "      <td>Yes</td>\n",
              "      <td>Yes</td>\n",
              "      <td>Yes</td>\n",
              "    </tr>\n",
              "    <tr>\n",
              "      <td>2880-FPNAE</td>\n",
              "      <td>Fiber optic</td>\n",
              "      <td>No</td>\n",
              "      <td>No</td>\n",
              "      <td>Yes</td>\n",
              "      <td>No</td>\n",
              "      <td>No</td>\n",
              "      <td>No</td>\n",
              "    </tr>\n",
              "    <tr>\n",
              "      <td>0823-HSCDJ</td>\n",
              "      <td>DSL</td>\n",
              "      <td>No</td>\n",
              "      <td>Yes</td>\n",
              "      <td>No</td>\n",
              "      <td>No</td>\n",
              "      <td>Yes</td>\n",
              "      <td>Yes</td>\n",
              "    </tr>\n",
              "    <tr>\n",
              "      <td>0928-XUTSN</td>\n",
              "      <td>Fiber optic</td>\n",
              "      <td>No</td>\n",
              "      <td>No</td>\n",
              "      <td>No</td>\n",
              "      <td>No</td>\n",
              "      <td>No</td>\n",
              "      <td>Yes</td>\n",
              "    </tr>\n",
              "    <tr>\n",
              "      <td>0018-NYROU</td>\n",
              "      <td>Fiber optic</td>\n",
              "      <td>No</td>\n",
              "      <td>No</td>\n",
              "      <td>No</td>\n",
              "      <td>No</td>\n",
              "      <td>No</td>\n",
              "      <td>No</td>\n",
              "    </tr>\n",
              "    <tr>\n",
              "      <td>2862-PFNIK</td>\n",
              "      <td>DSL</td>\n",
              "      <td>No</td>\n",
              "      <td>No</td>\n",
              "      <td>No</td>\n",
              "      <td>No</td>\n",
              "      <td>No</td>\n",
              "      <td>No</td>\n",
              "    </tr>\n",
              "    <tr>\n",
              "      <td>3128-YOVTD</td>\n",
              "      <td>Fiber optic</td>\n",
              "      <td>Yes</td>\n",
              "      <td>Yes</td>\n",
              "      <td>No</td>\n",
              "      <td>No</td>\n",
              "      <td>No</td>\n",
              "      <td>No</td>\n",
              "    </tr>\n",
              "    <tr>\n",
              "      <td>0679-IDSTG</td>\n",
              "      <td>Fiber optic</td>\n",
              "      <td>No</td>\n",
              "      <td>No</td>\n",
              "      <td>No</td>\n",
              "      <td>No</td>\n",
              "      <td>No</td>\n",
              "      <td>No</td>\n",
              "    </tr>\n",
              "    <tr>\n",
              "      <td>0988-JRWWP</td>\n",
              "      <td>DSL</td>\n",
              "      <td>No</td>\n",
              "      <td>No</td>\n",
              "      <td>No</td>\n",
              "      <td>No</td>\n",
              "      <td>Yes</td>\n",
              "      <td>No</td>\n",
              "    </tr>\n",
              "    <tr>\n",
              "      <td>2794-XIMMO</td>\n",
              "      <td>DSL</td>\n",
              "      <td>No</td>\n",
              "      <td>Yes</td>\n",
              "      <td>Yes</td>\n",
              "      <td>Yes</td>\n",
              "      <td>Yes</td>\n",
              "      <td>Yes</td>\n",
              "    </tr>\n",
              "    <tr>\n",
              "      <td>1818-ESQMW</td>\n",
              "      <td>Fiber optic</td>\n",
              "      <td>No</td>\n",
              "      <td>No</td>\n",
              "      <td>Yes</td>\n",
              "      <td>Yes</td>\n",
              "      <td>No</td>\n",
              "      <td>Yes</td>\n",
              "    </tr>\n",
              "    <tr>\n",
              "      <td>2984-AFWNC</td>\n",
              "      <td>Fiber optic</td>\n",
              "      <td>No</td>\n",
              "      <td>Yes</td>\n",
              "      <td>No</td>\n",
              "      <td>No</td>\n",
              "      <td>Yes</td>\n",
              "      <td>Yes</td>\n",
              "    </tr>\n",
              "  </tbody>\n",
              "</table>\n",
              "</div>"
            ],
            "text/plain": [
              "           InternetService OnlineSecurity OnlineBackup DeviceProtection  \\\n",
              "customerID                                                                \n",
              "5077-DXTCG             DSL             No           No               No   \n",
              "4291-TPNFG             DSL            Yes          Yes              Yes   \n",
              "7492-TAFJD             DSL            Yes          Yes              Yes   \n",
              "7521-AFHAB             DSL             No           No               No   \n",
              "2709-UQGNP             DSL            Yes           No               No   \n",
              "4070-OKWVH     Fiber optic             No          Yes              Yes   \n",
              "1907-UBQFC     Fiber optic             No          Yes               No   \n",
              "2985-JUUBZ             DSL             No           No              Yes   \n",
              "2754-SDJRD     Fiber optic             No           No               No   \n",
              "2880-FPNAE     Fiber optic             No           No              Yes   \n",
              "0823-HSCDJ             DSL             No          Yes               No   \n",
              "0928-XUTSN     Fiber optic             No           No               No   \n",
              "0018-NYROU     Fiber optic             No           No               No   \n",
              "2862-PFNIK             DSL             No           No               No   \n",
              "3128-YOVTD     Fiber optic            Yes          Yes               No   \n",
              "0679-IDSTG     Fiber optic             No           No               No   \n",
              "0988-JRWWP             DSL             No           No               No   \n",
              "2794-XIMMO             DSL             No          Yes              Yes   \n",
              "1818-ESQMW     Fiber optic             No           No              Yes   \n",
              "2984-AFWNC     Fiber optic             No          Yes               No   \n",
              "\n",
              "           TechSupport StreamingTV StreamingMovies  \n",
              "customerID                                          \n",
              "5077-DXTCG          No          No              No  \n",
              "4291-TPNFG         Yes          No             Yes  \n",
              "7492-TAFJD          No          No              No  \n",
              "7521-AFHAB          No          No              No  \n",
              "2709-UQGNP          No          No              No  \n",
              "4070-OKWVH          No         Yes              No  \n",
              "1907-UBQFC          No          No              No  \n",
              "2985-JUUBZ          No         Yes             Yes  \n",
              "2754-SDJRD         Yes         Yes             Yes  \n",
              "2880-FPNAE          No          No              No  \n",
              "0823-HSCDJ          No         Yes             Yes  \n",
              "0928-XUTSN          No          No             Yes  \n",
              "0018-NYROU          No          No              No  \n",
              "2862-PFNIK          No          No              No  \n",
              "3128-YOVTD          No          No              No  \n",
              "0679-IDSTG          No          No              No  \n",
              "0988-JRWWP          No         Yes              No  \n",
              "2794-XIMMO         Yes         Yes             Yes  \n",
              "1818-ESQMW         Yes          No             Yes  \n",
              "2984-AFWNC          No         Yes             Yes  "
            ]
          },
          "metadata": {},
          "output_type": "display_data"
        },
        {
          "data": {
            "text/html": [
              "<div>\n",
              "<style scoped>\n",
              "    .dataframe tbody tr th:only-of-type {\n",
              "        vertical-align: middle;\n",
              "    }\n",
              "\n",
              "    .dataframe tbody tr th {\n",
              "        vertical-align: top;\n",
              "    }\n",
              "\n",
              "    .dataframe thead th {\n",
              "        text-align: right;\n",
              "    }\n",
              "</style>\n",
              "<table border=\"1\" class=\"dataframe\">\n",
              "  <thead>\n",
              "    <tr style=\"text-align: right;\">\n",
              "      <th></th>\n",
              "      <th>InternetService</th>\n",
              "      <th>OnlineSecurity</th>\n",
              "      <th>OnlineBackup</th>\n",
              "      <th>DeviceProtection</th>\n",
              "      <th>TechSupport</th>\n",
              "      <th>StreamingTV</th>\n",
              "      <th>StreamingMovies</th>\n",
              "    </tr>\n",
              "  </thead>\n",
              "  <tbody>\n",
              "    <tr>\n",
              "      <td>count</td>\n",
              "      <td>5517</td>\n",
              "      <td>5517</td>\n",
              "      <td>5517</td>\n",
              "      <td>5517</td>\n",
              "      <td>5517</td>\n",
              "      <td>5517</td>\n",
              "      <td>5517</td>\n",
              "    </tr>\n",
              "    <tr>\n",
              "      <td>unique</td>\n",
              "      <td>2</td>\n",
              "      <td>2</td>\n",
              "      <td>2</td>\n",
              "      <td>2</td>\n",
              "      <td>2</td>\n",
              "      <td>2</td>\n",
              "      <td>2</td>\n",
              "    </tr>\n",
              "    <tr>\n",
              "      <td>top</td>\n",
              "      <td>Fiber optic</td>\n",
              "      <td>No</td>\n",
              "      <td>No</td>\n",
              "      <td>No</td>\n",
              "      <td>No</td>\n",
              "      <td>No</td>\n",
              "      <td>No</td>\n",
              "    </tr>\n",
              "    <tr>\n",
              "      <td>freq</td>\n",
              "      <td>3096</td>\n",
              "      <td>3498</td>\n",
              "      <td>3088</td>\n",
              "      <td>3095</td>\n",
              "      <td>3473</td>\n",
              "      <td>2810</td>\n",
              "      <td>2785</td>\n",
              "    </tr>\n",
              "  </tbody>\n",
              "</table>\n",
              "</div>"
            ],
            "text/plain": [
              "       InternetService OnlineSecurity OnlineBackup DeviceProtection  \\\n",
              "count             5517           5517         5517             5517   \n",
              "unique               2              2            2                2   \n",
              "top        Fiber optic             No           No               No   \n",
              "freq              3096           3498         3088             3095   \n",
              "\n",
              "       TechSupport StreamingTV StreamingMovies  \n",
              "count         5517        5517            5517  \n",
              "unique           2           2               2  \n",
              "top             No          No              No  \n",
              "freq          3473        2810            2785  "
            ]
          },
          "metadata": {},
          "output_type": "display_data"
        },
        {
          "data": {
            "text/html": [
              "<div>\n",
              "<style scoped>\n",
              "    .dataframe tbody tr th:only-of-type {\n",
              "        vertical-align: middle;\n",
              "    }\n",
              "\n",
              "    .dataframe tbody tr th {\n",
              "        vertical-align: top;\n",
              "    }\n",
              "\n",
              "    .dataframe thead th {\n",
              "        text-align: right;\n",
              "    }\n",
              "</style>\n",
              "<table border=\"1\" class=\"dataframe\">\n",
              "  <thead>\n",
              "    <tr style=\"text-align: right;\">\n",
              "      <th></th>\n",
              "      <th>InternetService</th>\n",
              "      <th>OnlineSecurity</th>\n",
              "      <th>OnlineBackup</th>\n",
              "      <th>DeviceProtection</th>\n",
              "      <th>TechSupport</th>\n",
              "      <th>StreamingTV</th>\n",
              "      <th>StreamingMovies</th>\n",
              "    </tr>\n",
              "  </thead>\n",
              "  <tbody>\n",
              "    <tr>\n",
              "      <td>count</td>\n",
              "      <td>5517</td>\n",
              "      <td>5517</td>\n",
              "      <td>5517</td>\n",
              "      <td>5517</td>\n",
              "      <td>5517</td>\n",
              "      <td>5517</td>\n",
              "      <td>5517</td>\n",
              "    </tr>\n",
              "    <tr>\n",
              "      <td>unique</td>\n",
              "      <td>2</td>\n",
              "      <td>2</td>\n",
              "      <td>2</td>\n",
              "      <td>2</td>\n",
              "      <td>2</td>\n",
              "      <td>2</td>\n",
              "      <td>2</td>\n",
              "    </tr>\n",
              "    <tr>\n",
              "      <td>top</td>\n",
              "      <td>Fiber optic</td>\n",
              "      <td>No</td>\n",
              "      <td>No</td>\n",
              "      <td>No</td>\n",
              "      <td>No</td>\n",
              "      <td>No</td>\n",
              "      <td>No</td>\n",
              "    </tr>\n",
              "    <tr>\n",
              "      <td>freq</td>\n",
              "      <td>3096</td>\n",
              "      <td>3498</td>\n",
              "      <td>3088</td>\n",
              "      <td>3095</td>\n",
              "      <td>3473</td>\n",
              "      <td>2810</td>\n",
              "      <td>2785</td>\n",
              "    </tr>\n",
              "  </tbody>\n",
              "</table>\n",
              "</div>"
            ],
            "text/plain": [
              "       InternetService OnlineSecurity OnlineBackup DeviceProtection  \\\n",
              "count             5517           5517         5517             5517   \n",
              "unique               2              2            2                2   \n",
              "top        Fiber optic             No           No               No   \n",
              "freq              3096           3498         3088             3095   \n",
              "\n",
              "       TechSupport StreamingTV StreamingMovies  \n",
              "count         5517        5517            5517  \n",
              "unique           2           2               2  \n",
              "top             No          No              No  \n",
              "freq          3473        2810            2785  "
            ]
          },
          "metadata": {},
          "output_type": "display_data"
        }
      ],
      "source": [
        "df_describe(internet)"
      ]
    },
    {
      "cell_type": "markdown",
      "metadata": {
        "id": "C-Ir2W6xlgRC"
      },
      "source": [
        "# Обработка данных"
      ]
    },
    {
      "cell_type": "code",
      "execution_count": null,
      "metadata": {
        "id": "yJ-jfKp4lgRC"
      },
      "outputs": [],
      "source": [
        "contract.TotalCharges=pd.to_numeric(contract.TotalCharges, errors='coerce') # перевод в float\n",
        "contract.TotalCharges.fillna(0, inplace=True) # замена на 0, тк новые контракты"
      ]
    },
    {
      "cell_type": "markdown",
      "metadata": {
        "id": "PVyXGTGKlgRC"
      },
      "source": [
        "<div class=\"alert alert-block alert-success\">\n",
        "<b>Комментарий ревьюера</b>\n",
        "\n",
        "Молодец, что заметил и обработал эти значения. С решением согласен.\n",
        "\n",
        "</div>\n"
      ]
    },
    {
      "cell_type": "code",
      "execution_count": null,
      "metadata": {
        "id": "nrVOAVbglgRD"
      },
      "outputs": [],
      "source": [
        "personal.SeniorCitizen=personal.SeniorCitizen.astype('object')"
      ]
    },
    {
      "cell_type": "code",
      "execution_count": null,
      "metadata": {
        "id": "w5OEW5OFlgRD"
      },
      "outputs": [],
      "source": [
        "contract.BeginDate = pd.to_datetime(contract.BeginDate,format='%Y%m%d ') # в datatime"
      ]
    },
    {
      "cell_type": "markdown",
      "metadata": {
        "id": "Xc005gl5lgRD"
      },
      "source": [
        "# Столбец целевого признака, обработка дат"
      ]
    },
    {
      "cell_type": "code",
      "execution_count": null,
      "metadata": {
        "id": "xv7EQMHQlgRE"
      },
      "outputs": [],
      "source": [
        "target = \"target\"\n",
        "contract['target'] = (contract.EndDate != 'No').astype(int) # столбец целевой признак"
      ]
    },
    {
      "cell_type": "code",
      "execution_count": null,
      "metadata": {
        "id": "xquhcn8plgRE",
        "outputId": "ac50d936-acd5-41ba-9ad3-67622f3fbf76"
      },
      "outputs": [
        {
          "data": {
            "text/plain": [
              "<matplotlib.axes._subplots.AxesSubplot at 0x7f3e505278d0>"
            ]
          },
          "execution_count": 76,
          "metadata": {},
          "output_type": "execute_result"
        },
        {
          "data": {
            "image/png": "[encoded data removed]",
            "text/plain": [
              "<Figure size 432x288 with 1 Axes>"
            ]
          },
          "metadata": {
            "needs_background": "light"
          },
          "output_type": "display_data"
        }
      ],
      "source": [
        "sns.countplot(contract['target'] )"
      ]
    },
    {
      "cell_type": "code",
      "execution_count": null,
      "metadata": {
        "id": "1R3dLJUIlgRE",
        "outputId": "5bf8d247-842b-43a7-ff2f-6695b73c47aa"
      },
      "outputs": [
        {
          "data": {
            "text/plain": [
              "<matplotlib.axes._subplots.AxesSubplot at 0x7f3e505b8250>"
            ]
          },
          "execution_count": 75,
          "metadata": {},
          "output_type": "execute_result"
        },
        {
          "data": {
            "image/png": "[encoded data removed]",
            "text/plain": [
              "<Figure size 432x288 with 1 Axes>"
            ]
          },
          "metadata": {},
          "output_type": "display_data"
        }
      ],
      "source": [
        "contract['target'] .value_counts(normalize=True).plot(kind=\"pie\")"
      ]
    },
    {
      "cell_type": "markdown",
      "metadata": {
        "id": "7Fb5qAsmlgRF"
      },
      "source": [
        "<div class=\"alert alert-block alert-success\">\n",
        "<b>Комментарий ревьюера</b>\n",
        "\n",
        "Здорово, что оценил баланс классов.\n",
        "\n",
        "</div>\n"
      ]
    },
    {
      "cell_type": "markdown",
      "metadata": {
        "id": "KYgv5elelgRF"
      },
      "source": [
        "<div class=\"alert alert-block alert-warning\">\n",
        "<b>Комментарий ревьюера</b>\n",
        "\n",
        "Мне еще нравится выводить баланс классов в процентах.\n",
        "\n",
        "</div>\n"
      ]
    },
    {
      "cell_type": "code",
      "execution_count": null,
      "metadata": {
        "id": "R5JVukDqlgRF"
      },
      "outputs": [],
      "source": [
        "contract.EndDate =  contract.EndDate.replace('No', str('2020-02-01 00:00:00'))\n",
        "contract.EndDate = pd.to_datetime(contract.EndDate,format='%Y%m%d ') # в datatime\n",
        " # актуальная дата"
      ]
    },
    {
      "cell_type": "code",
      "execution_count": null,
      "metadata": {
        "id": "Ua3xNLgvlgRG"
      },
      "outputs": [],
      "source": [
        "# Месяцы и дни контракта\n",
        "contract['days_contract']=(contract.EndDate-contract.BeginDate).dt.days\n",
        "contract['months_contract']=round((contract.EndDate-contract.BeginDate).dt.days/30).astype('int')"
      ]
    },
    {
      "cell_type": "markdown",
      "metadata": {
        "id": "Ld1R6M5elgRG"
      },
      "source": [
        "<div class=\"alert alert-block alert-success\">\n",
        "<b>Комментарий ревьюера</b>\n",
        "\n",
        "Хорошие признаки. Но сильно скоррелированные. Нужны ли нам оба?\n",
        "\n",
        "</div>\n"
      ]
    },
    {
      "cell_type": "markdown",
      "metadata": {
        "id": "XEJwxY67lgRG"
      },
      "source": [
        "<div class=\"alert alert-info\"> <b>Комментарий студента:</b> Изначально разделил на месяцы, но без дней не получалась точность. Если смотреть график важности фичей, ои дополняют друг друга. Есть некоторая зависимость помесечная</div>"
      ]
    },
    {
      "cell_type": "markdown",
      "metadata": {
        "id": "CrA3CSYflgRH"
      },
      "source": [
        "<div class=\"alert alert-block alert-success\">\n",
        "<b>Комментарий ревьюера (v2)</b>\n",
        "\n",
        "Хорошо, принято.\n",
        "\n",
        "</div>\n"
      ]
    },
    {
      "cell_type": "code",
      "execution_count": null,
      "metadata": {
        "id": "FmN15RM-lgRH",
        "outputId": "5b290498-0951-4a15-bba8-560237f0d4d2"
      },
      "outputs": [
        {
          "data": {
            "image/png": "[encoded data removed]",
            "text/plain": [
              "<Figure size 960x320 with 2 Axes>"
            ]
          },
          "metadata": {},
          "output_type": "display_data"
        }
      ],
      "source": [
        "plt.figure(num=None, figsize=(12, 4), dpi=80, facecolor='w', edgecolor='k')\n",
        "\n",
        "x1 = contract[contract.target==1].MonthlyCharges\n",
        "x2 = contract[contract.target==0].MonthlyCharges\n",
        "plt.subplot(1, 2, 1)\n",
        "plt.hist(x1, color = 'b', alpha=0.6, bins =100)\n",
        "plt.xlabel('MonthlyCharges')\n",
        "plt.title('Ушедшие Клиенты ')\n",
        "plt.grid()\n",
        "\n",
        "plt.subplot(1, 2, 2)\n",
        "plt.hist(x2, color = 'r', label = '', alpha=0.6, bins=100)\n",
        "plt.xlabel('MonthlyCharges')\n",
        "plt.title('Действуюшие клиенты')\n",
        "plt.grid()\n",
        "\n",
        "plt.show()"
      ]
    },
    {
      "cell_type": "code",
      "execution_count": null,
      "metadata": {
        "id": "ln9mVPIglgRI",
        "outputId": "31c66c6f-dcb0-4b0b-994b-874e2890432a"
      },
      "outputs": [
        {
          "data": {
            "image/png": "[encoded data removed]",
            "text/plain": [
              "<Figure size 960x320 with 2 Axes>"
            ]
          },
          "metadata": {},
          "output_type": "display_data"
        }
      ],
      "source": [
        "plt.figure(num=None, figsize=(12, 4), dpi=80, facecolor='w', edgecolor='k')\n",
        "\n",
        "x1 = contract[contract.target==1].months_contract\n",
        "x2 = contract[contract.target==0].months_contract\n",
        "plt.subplot(1, 2, 1)\n",
        "plt.hist(x1, color = 'b', alpha=0.6, bins =100)\n",
        "plt.xlabel('Месяцы контракта')\n",
        "plt.title('Ушедшие Клиенты ')\n",
        "plt.grid()\n",
        "\n",
        "plt.subplot(1, 2, 2)\n",
        "plt.hist(x2, color = 'r', label = '', alpha=0.6, bins=100)\n",
        "plt.xlabel('Месяцы контракта')\n",
        "plt.title('Действуюшие клиенты')\n",
        "plt.grid()\n",
        "\n",
        "plt.show()"
      ]
    },
    {
      "cell_type": "code",
      "execution_count": null,
      "metadata": {
        "id": "0M9aGBSllgRI",
        "outputId": "85d4b9b4-6bc3-4225-c14d-768a818faaa7"
      },
      "outputs": [
        {
          "data": {
            "text/plain": [
              "count    7043.000000\n",
              "mean       64.761692\n",
              "std        30.090047\n",
              "min        18.250000\n",
              "25%        35.500000\n",
              "50%        70.350000\n",
              "75%        89.850000\n",
              "max       118.750000\n",
              "Name: MonthlyCharges, dtype: float64"
            ]
          },
          "execution_count": 22,
          "metadata": {},
          "output_type": "execute_result"
        }
      ],
      "source": [
        "contract.MonthlyCharges.describe()"
      ]
    },
    {
      "cell_type": "code",
      "execution_count": null,
      "metadata": {
        "id": "GLUt9AfWlgRJ",
        "outputId": "568d67d4-7acf-4c6b-fd88-42b81d7e8789"
      },
      "outputs": [
        {
          "data": {
            "text/plain": [
              "count    7043.000000\n",
              "mean       32.831180\n",
              "std        25.004181\n",
              "min         0.000000\n",
              "25%         9.000000\n",
              "50%        29.000000\n",
              "75%        56.000000\n",
              "max        73.000000\n",
              "Name: months_contract, dtype: float64"
            ]
          },
          "execution_count": 23,
          "metadata": {},
          "output_type": "execute_result"
        }
      ],
      "source": [
        "contract.months_contract.describe()"
      ]
    },
    {
      "cell_type": "markdown",
      "metadata": {
        "id": "nqE4Mu55lgRJ"
      },
      "source": [
        "<div class=\"alert alert-block alert-success\">\n",
        "<b>Комментарий ревьюера</b>\n",
        "\n",
        "Хороший анализ данных.\n",
        "\n",
        "</div>\n"
      ]
    },
    {
      "cell_type": "markdown",
      "metadata": {
        "id": "4XLfrkYhlgRK"
      },
      "source": [
        "<div class=\"alert alert-block alert-warning\">\n",
        "<b>Комментарий ревьюера</b>\n",
        "\n",
        "Однако практически нет комментариев/выводов. Было бы здорово их добавить.\n",
        "\n",
        "</div>\n"
      ]
    },
    {
      "cell_type": "markdown",
      "metadata": {
        "id": "JiRu_mlrlgRK"
      },
      "source": [
        "# Дополнительные фичи"
      ]
    },
    {
      "cell_type": "code",
      "execution_count": null,
      "metadata": {
        "id": "HW0EeRCslgRK"
      },
      "outputs": [],
      "source": [
        "contract['long_contract']=1\n",
        "contract.loc[(contract.months_contract <35),'long_contract'] = 0 # Короткий или длинный контракт\n",
        "\n",
        "contract['pricy_contract']=1\n",
        "contract.loc[(contract.MonthlyCharges <60),'pricy_contract'] = 0 #большой или маленький ежемесячный платеж\n",
        "\n",
        "\n",
        "\n",
        "contract['pay_auto_contract']=1\n",
        "contract.loc[(contract.PaymentMethod =='Electronic check') | (contract.PaymentMethod =='Mailed check') ,\n",
        "             'pay_auto_contract'] = 0 # платеж с признаком авто\n",
        "\n",
        "contract['type_year_contract']=1\n",
        "contract.loc[(contract.Type =='Month-to-month'),\n",
        "             'type_year_contract'] = 0 # ежемесячный или годовой платеж\n",
        "\n",
        "phone['phone']=\"Yes\" # наличие телефона"
      ]
    },
    {
      "cell_type": "markdown",
      "metadata": {
        "id": "5cV6YBmGlgRL"
      },
      "source": [
        "<div class=\"alert alert-block alert-success\">\n",
        "<b>Комментарий ревьюера</b>\n",
        "\n",
        "Интересные фичи.\n",
        "\n",
        "</div>\n"
      ]
    },
    {
      "cell_type": "markdown",
      "metadata": {
        "id": "N3H2ZLm8lgRL"
      },
      "source": [
        "# Объединение данных, кодирование"
      ]
    },
    {
      "cell_type": "code",
      "execution_count": null,
      "metadata": {
        "id": "a7yUGXd-lgRL"
      },
      "outputs": [],
      "source": [
        "data = pd.merge(contract, personal, left_index=True, right_index=True)\n",
        "data  = data.join(internet)\n",
        "data = data.join(phone)"
      ]
    },
    {
      "cell_type": "code",
      "execution_count": null,
      "metadata": {
        "id": "zAA8Zf0AlgRM",
        "outputId": "67834d13-a5f2-4c05-ad8b-22ff6b2ad204"
      },
      "outputs": [
        {
          "name": "stdout",
          "output_type": "stream",
          "text": [
            "<class 'pandas.core.frame.DataFrame'>\n",
            "Index: 7043 entries, 7590-VHVEG to 3186-AJIEK\n",
            "Data columns (total 27 columns):\n",
            "BeginDate             7043 non-null datetime64[ns]\n",
            "EndDate               7043 non-null datetime64[ns]\n",
            "Type                  7043 non-null object\n",
            "PaperlessBilling      7043 non-null object\n",
            "PaymentMethod         7043 non-null object\n",
            "MonthlyCharges        7043 non-null float64\n",
            "TotalCharges          7043 non-null float64\n",
            "target                7043 non-null int64\n",
            "days_contract         7043 non-null int64\n",
            "months_contract       7043 non-null int64\n",
            "long_contract         7043 non-null int64\n",
            "pricy_contract        7043 non-null int64\n",
            "pay_auto_contract     7043 non-null int64\n",
            "type_year_contract    7043 non-null int64\n",
            "gender                7043 non-null object\n",
            "SeniorCitizen         7043 non-null object\n",
            "Partner               7043 non-null object\n",
            "Dependents            7043 non-null object\n",
            "InternetService       5517 non-null object\n",
            "OnlineSecurity        5517 non-null object\n",
            "OnlineBackup          5517 non-null object\n",
            "DeviceProtection      5517 non-null object\n",
            "TechSupport           5517 non-null object\n",
            "StreamingTV           5517 non-null object\n",
            "StreamingMovies       5517 non-null object\n",
            "MultipleLines         6361 non-null object\n",
            "phone                 6361 non-null object\n",
            "dtypes: datetime64[ns](2), float64(2), int64(7), object(16)\n",
            "memory usage: 1.8+ MB\n"
          ]
        }
      ],
      "source": [
        "data.info()"
      ]
    },
    {
      "cell_type": "markdown",
      "metadata": {
        "id": "HdDtFZk1lgRM"
      },
      "source": [
        "<div class=\"alert alert-block alert-success\">\n",
        "<b>Комментарий ревьюера</b>\n",
        "\n",
        "Объединения корректны.\n",
        "\n",
        "</div>\n"
      ]
    },
    {
      "cell_type": "code",
      "execution_count": null,
      "metadata": {
        "id": "68V_0CtLlgRN"
      },
      "outputs": [],
      "source": [
        "#заполняем пропуски после объединения\n",
        " \n",
        "for k in [['InternetService','OnlineSecurity', 'OnlineBackup', 'DeviceProtection','TechSupport',\n",
        "           'StreamingTV','StreamingMovies']]:\n",
        "    data[k] = data[k].fillna('No') # \n",
        "\n",
        "data['MultipleLines']=data['MultipleLines'].fillna('NA')\n",
        "data['phone']=data['phone'].fillna('No')\n"
      ]
    },
    {
      "cell_type": "markdown",
      "metadata": {
        "id": "6v5GIpb7lgRN"
      },
      "source": [
        "<div class=\"alert alert-block alert-success\">\n",
        "<b>Комментарий ревьюера</b>\n",
        "\n",
        "Пропуски заполнены, отлично. \n",
        "\n",
        "</div>\n"
      ]
    },
    {
      "cell_type": "markdown",
      "metadata": {
        "id": "BtZTZ5VplgRN"
      },
      "source": [
        "DATA"
      ]
    },
    {
      "cell_type": "code",
      "execution_count": null,
      "metadata": {
        "id": "Irq5n21nlgRN",
        "outputId": "78650ac7-5f59-47ec-c165-2f63995248c8"
      },
      "outputs": [
        {
          "data": {
            "text/html": [
              "<div>\n",
              "<style scoped>\n",
              "    .dataframe tbody tr th:only-of-type {\n",
              "        vertical-align: middle;\n",
              "    }\n",
              "\n",
              "    .dataframe tbody tr th {\n",
              "        vertical-align: top;\n",
              "    }\n",
              "\n",
              "    .dataframe thead th {\n",
              "        text-align: right;\n",
              "    }\n",
              "</style>\n",
              "<table border=\"1\" class=\"dataframe\">\n",
              "  <thead>\n",
              "    <tr style=\"text-align: right;\">\n",
              "      <th></th>\n",
              "      <th>BeginDate</th>\n",
              "      <th>EndDate</th>\n",
              "      <th>Type</th>\n",
              "      <th>PaperlessBilling</th>\n",
              "      <th>PaymentMethod</th>\n",
              "      <th>MonthlyCharges</th>\n",
              "      <th>TotalCharges</th>\n",
              "      <th>target</th>\n",
              "      <th>days_contract</th>\n",
              "      <th>months_contract</th>\n",
              "      <th>long_contract</th>\n",
              "      <th>pricy_contract</th>\n",
              "      <th>pay_auto_contract</th>\n",
              "      <th>type_year_contract</th>\n",
              "      <th>gender</th>\n",
              "      <th>SeniorCitizen</th>\n",
              "      <th>Partner</th>\n",
              "      <th>Dependents</th>\n",
              "      <th>InternetService</th>\n",
              "      <th>OnlineSecurity</th>\n",
              "      <th>OnlineBackup</th>\n",
              "      <th>DeviceProtection</th>\n",
              "      <th>TechSupport</th>\n",
              "      <th>StreamingTV</th>\n",
              "      <th>StreamingMovies</th>\n",
              "      <th>MultipleLines</th>\n",
              "      <th>phone</th>\n",
              "    </tr>\n",
              "    <tr>\n",
              "      <th>customerID</th>\n",
              "      <th></th>\n",
              "      <th></th>\n",
              "      <th></th>\n",
              "      <th></th>\n",
              "      <th></th>\n",
              "      <th></th>\n",
              "      <th></th>\n",
              "      <th></th>\n",
              "      <th></th>\n",
              "      <th></th>\n",
              "      <th></th>\n",
              "      <th></th>\n",
              "      <th></th>\n",
              "      <th></th>\n",
              "      <th></th>\n",
              "      <th></th>\n",
              "      <th></th>\n",
              "      <th></th>\n",
              "      <th></th>\n",
              "      <th></th>\n",
              "      <th></th>\n",
              "      <th></th>\n",
              "      <th></th>\n",
              "      <th></th>\n",
              "      <th></th>\n",
              "      <th></th>\n",
              "      <th></th>\n",
              "    </tr>\n",
              "  </thead>\n",
              "  <tbody>\n",
              "    <tr>\n",
              "      <td>7590-VHVEG</td>\n",
              "      <td>2020-01-01</td>\n",
              "      <td>2020-02-01</td>\n",
              "      <td>Month-to-month</td>\n",
              "      <td>Yes</td>\n",
              "      <td>Electronic check</td>\n",
              "      <td>29.85</td>\n",
              "      <td>29.85</td>\n",
              "      <td>0</td>\n",
              "      <td>31</td>\n",
              "      <td>1</td>\n",
              "      <td>0</td>\n",
              "      <td>0</td>\n",
              "      <td>0</td>\n",
              "      <td>0</td>\n",
              "      <td>Female</td>\n",
              "      <td>0</td>\n",
              "      <td>Yes</td>\n",
              "      <td>No</td>\n",
              "      <td>DSL</td>\n",
              "      <td>No</td>\n",
              "      <td>Yes</td>\n",
              "      <td>No</td>\n",
              "      <td>No</td>\n",
              "      <td>No</td>\n",
              "      <td>No</td>\n",
              "      <td>NA</td>\n",
              "      <td>No</td>\n",
              "    </tr>\n",
              "    <tr>\n",
              "      <td>5575-GNVDE</td>\n",
              "      <td>2017-04-01</td>\n",
              "      <td>2020-02-01</td>\n",
              "      <td>One year</td>\n",
              "      <td>No</td>\n",
              "      <td>Mailed check</td>\n",
              "      <td>56.95</td>\n",
              "      <td>1889.50</td>\n",
              "      <td>0</td>\n",
              "      <td>1036</td>\n",
              "      <td>35</td>\n",
              "      <td>1</td>\n",
              "      <td>0</td>\n",
              "      <td>0</td>\n",
              "      <td>1</td>\n",
              "      <td>Male</td>\n",
              "      <td>0</td>\n",
              "      <td>No</td>\n",
              "      <td>No</td>\n",
              "      <td>DSL</td>\n",
              "      <td>Yes</td>\n",
              "      <td>No</td>\n",
              "      <td>Yes</td>\n",
              "      <td>No</td>\n",
              "      <td>No</td>\n",
              "      <td>No</td>\n",
              "      <td>No</td>\n",
              "      <td>Yes</td>\n",
              "    </tr>\n",
              "    <tr>\n",
              "      <td>3668-QPYBK</td>\n",
              "      <td>2019-10-01</td>\n",
              "      <td>2019-12-01</td>\n",
              "      <td>Month-to-month</td>\n",
              "      <td>Yes</td>\n",
              "      <td>Mailed check</td>\n",
              "      <td>53.85</td>\n",
              "      <td>108.15</td>\n",
              "      <td>1</td>\n",
              "      <td>61</td>\n",
              "      <td>2</td>\n",
              "      <td>0</td>\n",
              "      <td>0</td>\n",
              "      <td>0</td>\n",
              "      <td>0</td>\n",
              "      <td>Male</td>\n",
              "      <td>0</td>\n",
              "      <td>No</td>\n",
              "      <td>No</td>\n",
              "      <td>DSL</td>\n",
              "      <td>Yes</td>\n",
              "      <td>Yes</td>\n",
              "      <td>No</td>\n",
              "      <td>No</td>\n",
              "      <td>No</td>\n",
              "      <td>No</td>\n",
              "      <td>No</td>\n",
              "      <td>Yes</td>\n",
              "    </tr>\n",
              "    <tr>\n",
              "      <td>7795-CFOCW</td>\n",
              "      <td>2016-05-01</td>\n",
              "      <td>2020-02-01</td>\n",
              "      <td>One year</td>\n",
              "      <td>No</td>\n",
              "      <td>Bank transfer (automatic)</td>\n",
              "      <td>42.30</td>\n",
              "      <td>1840.75</td>\n",
              "      <td>0</td>\n",
              "      <td>1371</td>\n",
              "      <td>46</td>\n",
              "      <td>1</td>\n",
              "      <td>0</td>\n",
              "      <td>1</td>\n",
              "      <td>1</td>\n",
              "      <td>Male</td>\n",
              "      <td>0</td>\n",
              "      <td>No</td>\n",
              "      <td>No</td>\n",
              "      <td>DSL</td>\n",
              "      <td>Yes</td>\n",
              "      <td>No</td>\n",
              "      <td>Yes</td>\n",
              "      <td>Yes</td>\n",
              "      <td>No</td>\n",
              "      <td>No</td>\n",
              "      <td>NA</td>\n",
              "      <td>No</td>\n",
              "    </tr>\n",
              "    <tr>\n",
              "      <td>9237-HQITU</td>\n",
              "      <td>2019-09-01</td>\n",
              "      <td>2019-11-01</td>\n",
              "      <td>Month-to-month</td>\n",
              "      <td>Yes</td>\n",
              "      <td>Electronic check</td>\n",
              "      <td>70.70</td>\n",
              "      <td>151.65</td>\n",
              "      <td>1</td>\n",
              "      <td>61</td>\n",
              "      <td>2</td>\n",
              "      <td>0</td>\n",
              "      <td>1</td>\n",
              "      <td>0</td>\n",
              "      <td>0</td>\n",
              "      <td>Female</td>\n",
              "      <td>0</td>\n",
              "      <td>No</td>\n",
              "      <td>No</td>\n",
              "      <td>Fiber optic</td>\n",
              "      <td>No</td>\n",
              "      <td>No</td>\n",
              "      <td>No</td>\n",
              "      <td>No</td>\n",
              "      <td>No</td>\n",
              "      <td>No</td>\n",
              "      <td>No</td>\n",
              "      <td>Yes</td>\n",
              "    </tr>\n",
              "  </tbody>\n",
              "</table>\n",
              "</div>"
            ],
            "text/plain": [
              "            BeginDate    EndDate            Type PaperlessBilling  \\\n",
              "customerID                                                          \n",
              "7590-VHVEG 2020-01-01 2020-02-01  Month-to-month              Yes   \n",
              "5575-GNVDE 2017-04-01 2020-02-01        One year               No   \n",
              "3668-QPYBK 2019-10-01 2019-12-01  Month-to-month              Yes   \n",
              "7795-CFOCW 2016-05-01 2020-02-01        One year               No   \n",
              "9237-HQITU 2019-09-01 2019-11-01  Month-to-month              Yes   \n",
              "\n",
              "                        PaymentMethod  MonthlyCharges  TotalCharges  target  \\\n",
              "customerID                                                                    \n",
              "7590-VHVEG           Electronic check           29.85         29.85       0   \n",
              "5575-GNVDE               Mailed check           56.95       1889.50       0   \n",
              "3668-QPYBK               Mailed check           53.85        108.15       1   \n",
              "7795-CFOCW  Bank transfer (automatic)           42.30       1840.75       0   \n",
              "9237-HQITU           Electronic check           70.70        151.65       1   \n",
              "\n",
              "            days_contract  months_contract  long_contract  pricy_contract  \\\n",
              "customerID                                                                  \n",
              "7590-VHVEG             31                1              0               0   \n",
              "5575-GNVDE           1036               35              1               0   \n",
              "3668-QPYBK             61                2              0               0   \n",
              "7795-CFOCW           1371               46              1               0   \n",
              "9237-HQITU             61                2              0               1   \n",
              "\n",
              "            pay_auto_contract  type_year_contract  gender SeniorCitizen  \\\n",
              "customerID                                                                \n",
              "7590-VHVEG                  0                   0  Female             0   \n",
              "5575-GNVDE                  0                   1    Male             0   \n",
              "3668-QPYBK                  0                   0    Male             0   \n",
              "7795-CFOCW                  1                   1    Male             0   \n",
              "9237-HQITU                  0                   0  Female             0   \n",
              "\n",
              "           Partner Dependents InternetService OnlineSecurity OnlineBackup  \\\n",
              "customerID                                                                  \n",
              "7590-VHVEG     Yes         No             DSL             No          Yes   \n",
              "5575-GNVDE      No         No             DSL            Yes           No   \n",
              "3668-QPYBK      No         No             DSL            Yes          Yes   \n",
              "7795-CFOCW      No         No             DSL            Yes           No   \n",
              "9237-HQITU      No         No     Fiber optic             No           No   \n",
              "\n",
              "           DeviceProtection TechSupport StreamingTV StreamingMovies  \\\n",
              "customerID                                                            \n",
              "7590-VHVEG               No          No          No              No   \n",
              "5575-GNVDE              Yes          No          No              No   \n",
              "3668-QPYBK               No          No          No              No   \n",
              "7795-CFOCW              Yes         Yes          No              No   \n",
              "9237-HQITU               No          No          No              No   \n",
              "\n",
              "           MultipleLines phone  \n",
              "customerID                      \n",
              "7590-VHVEG            NA    No  \n",
              "5575-GNVDE            No   Yes  \n",
              "3668-QPYBK            No   Yes  \n",
              "7795-CFOCW            NA    No  \n",
              "9237-HQITU            No   Yes  "
            ]
          },
          "execution_count": 28,
          "metadata": {},
          "output_type": "execute_result"
        }
      ],
      "source": [
        "data.head()"
      ]
    },
    {
      "cell_type": "code",
      "execution_count": null,
      "metadata": {
        "id": "JSK4ymwhlgRO"
      },
      "outputs": [],
      "source": [
        "# производим кодирование и нормализацию\n",
        "# двоичные значения\n",
        "# сначала кодирование\n",
        "\n",
        "#for col in data.select_dtypes(\"object\").columns:\n",
        "#         data[col] = pd.Categorical(data[col]).codes\n",
        "        \n",
        "for col in data.select_dtypes(\"object\").columns:\n",
        "    if sorted(data[col].unique())==[\"No\",\"Yes\"]:\n",
        "          data[col] = (data[col] == \"Yes\").astype(\"uint8\")\n",
        "            \n",
        "data[\"gender\"] = (data[\"gender\"] == \"Male\").astype(\"uint8\")\n",
        "\n",
        "\n",
        "\n",
        "data.SeniorCitizen=data.SeniorCitizen.astype('uint8')\n",
        "data.long_contract=data.long_contract.astype('uint8')\n",
        "data.pricy_contract=data.pricy_contract.astype('uint8')\n",
        "data.pay_auto_contract=data.pay_auto_contract.astype('uint8')\n",
        "data.type_year_contract=data.type_year_contract.astype('uint8')  \n",
        "        \n",
        "data = pd.get_dummies(data, drop_first=True)\n",
        "\n",
        "# удаляем поля даты\n",
        "data = data.drop(['BeginDate', 'EndDate'] , axis=1)\n",
        "\n",
        "data=data.reset_index(drop=True)\n",
        "\n",
        "features = list(set(data.columns) - set([target]))"
      ]
    },
    {
      "cell_type": "markdown",
      "metadata": {
        "id": "Y-8MEANClgRO"
      },
      "source": [
        "<div class=\"alert alert-block alert-warning\">\n",
        "<b>Комментарий ревьюера</b>\n",
        "\n",
        "Насколько я знаю, для get_dummies необязательно переводить признаки в численный формат.\n",
        "\n",
        "</div>\n"
      ]
    },
    {
      "cell_type": "markdown",
      "metadata": {
        "id": "8VashLC5lgRP"
      },
      "source": [
        "<div class=\"alert alert-info\"> <b>Комментарий студента:</b> Такое кодирование делал для себя, чтоб лучше видеть структуру</div>"
      ]
    },
    {
      "cell_type": "markdown",
      "metadata": {
        "id": "nVwHtYiTlgRP"
      },
      "source": [
        "<div class=\"alert alert-block alert-success\">\n",
        "<b>Комментарий ревьюера (v2)</b>\n",
        "\n",
        "Хорошо.\n",
        "\n",
        "</div>\n"
      ]
    },
    {
      "cell_type": "markdown",
      "metadata": {
        "id": "TI-Te5CslgRP"
      },
      "source": [
        "<div class=\"alert alert-block alert-success\">\n",
        "<b>Комментарий ревьюера</b>\n",
        "\n",
        "Правильно, что используешь drop_first=True.\n",
        "\n",
        "Также молодец, что удалил признаки с датами, они бы создавали утечку таргета.\n",
        "\n",
        "</div>\n"
      ]
    },
    {
      "cell_type": "markdown",
      "metadata": {
        "id": "wVkLoeTjlgRQ"
      },
      "source": [
        "<div class=\"alert alert-block alert-warning\">\n",
        "<b>Комментарий ревьюера</b>\n",
        "\n",
        "Выбор способов кодирования категориальных признаков обычно основывается на выбранной модели. Для линейной (логистической) регрессии - OHE, для деревьев - Ordinal, бустингам подходит Ordinal или встроенное в них кодирование. Линрегу не подходит Ordinal, так как он пытается все рассчитать по формулам, и мы можем столкнуться с проблемой, что женщины (с порядковым номером 1) будут \"важнее\" мужчин (с порядковым номером 0) (или Москва \"важнее\" \"Казани\"), к примеру. Для деревьев же не подходит OHE, так как дерево получается неправильной формы, перекошенные, увеличивается время обучения (так как признаков больше), в целом снижается эффективность модели. По [ссылке](https://towardsdatascience.com/one-hot-encoding-is-making-your-tree-based-ensembles-worse-heres-why-d64b282b5769) есть более подробная информация по этому поводу. Также там есть изображения \"правильных\" и \"перекошенных\" деревьев.\n",
        "\n",
        "Хоть на такой подход, как я описал выше, и можно ориентироваться, лучший друг в нашем деле - это эксперимент. Так что стоит экспериментировать с разными способами кодирования.\n",
        "\n",
        "</div>"
      ]
    },
    {
      "cell_type": "markdown",
      "metadata": {
        "id": "ht79I2rLlgRQ"
      },
      "source": [
        "<div class=\"alert alert-info\"> <b>Комментарий студента:</b> Смотрел разные варианты, остановился на этом, как наиболее оптимальном для разных моделей. Столбцов OHE не так много.</div>"
      ]
    },
    {
      "cell_type": "markdown",
      "metadata": {
        "id": "AwxoKw_5lgRR"
      },
      "source": [
        "<div class=\"alert alert-block alert-success\">\n",
        "<b>Комментарий ревьюера (v2)</b>\n",
        "\n",
        "Да, в данном случае это некритично.\n",
        "\n",
        "</div>\n"
      ]
    },
    {
      "cell_type": "code",
      "execution_count": null,
      "metadata": {
        "id": "E3NHJwamlgRR",
        "outputId": "ec195464-7b30-4c9f-8215-75da39169a60"
      },
      "outputs": [
        {
          "name": "stdout",
          "output_type": "stream",
          "text": [
            "<class 'pandas.core.frame.DataFrame'>\n",
            "Index: 7043 entries, 7590-VHVEG to 3186-AJIEK\n",
            "Data columns (total 30 columns):\n",
            "PaperlessBilling                         7043 non-null uint8\n",
            "MonthlyCharges                           7043 non-null float64\n",
            "TotalCharges                             7043 non-null float64\n",
            "target                                   7043 non-null int64\n",
            "days_contract                            7043 non-null int64\n",
            "months_contract                          7043 non-null int64\n",
            "long_contract                            7043 non-null uint8\n",
            "pricy_contract                           7043 non-null uint8\n",
            "pay_auto_contract                        7043 non-null uint8\n",
            "type_year_contract                       7043 non-null uint8\n",
            "gender                                   7043 non-null uint8\n",
            "SeniorCitizen                            7043 non-null uint8\n",
            "Partner                                  7043 non-null uint8\n",
            "Dependents                               7043 non-null uint8\n",
            "OnlineSecurity                           7043 non-null uint8\n",
            "OnlineBackup                             7043 non-null uint8\n",
            "DeviceProtection                         7043 non-null uint8\n",
            "TechSupport                              7043 non-null uint8\n",
            "StreamingTV                              7043 non-null uint8\n",
            "StreamingMovies                          7043 non-null uint8\n",
            "phone                                    7043 non-null uint8\n",
            "Type_One year                            7043 non-null uint8\n",
            "Type_Two year                            7043 non-null uint8\n",
            "PaymentMethod_Credit card (automatic)    7043 non-null uint8\n",
            "PaymentMethod_Electronic check           7043 non-null uint8\n",
            "PaymentMethod_Mailed check               7043 non-null uint8\n",
            "InternetService_Fiber optic              7043 non-null uint8\n",
            "InternetService_No                       7043 non-null uint8\n",
            "MultipleLines_No                         7043 non-null uint8\n",
            "MultipleLines_Yes                        7043 non-null uint8\n",
            "dtypes: float64(2), int64(3), uint8(25)\n",
            "memory usage: 822.1+ KB\n"
          ]
        }
      ],
      "source": [
        "data.info()"
      ]
    },
    {
      "cell_type": "markdown",
      "metadata": {
        "id": "Rl14xj7AlgRR"
      },
      "source": [
        "<div class=\"alert alert-block alert-danger\">\n",
        "<b>Комментарий ревьюера</b>\n",
        "\n",
        "<s>Обрати внимание, что scaler нужно обучать только на тренировочной выборке. Иначе это может привести к переобучению. Это имитация работы с настоящими данными. Когда у нас есть обучающая выборка, мы на ней учим scaler, на ней обучаем модель. То есть наша модель и scaler не могут знать тех данных, которые в нее будут загружаться при ее использовании.\n",
        "\n",
        "</div>\n"
      ]
    },
    {
      "cell_type": "markdown",
      "metadata": {
        "id": "Ukv0f4jvlgRS"
      },
      "source": [
        "<div class=\"alert alert-info\"> <b>Комментарий студента:</b> Исправил ниже.</div>"
      ]
    },
    {
      "cell_type": "markdown",
      "metadata": {
        "id": "xYQzm9-olgRS"
      },
      "source": [
        "<div class=\"alert alert-block alert-success\">\n",
        "<b>Комментарий ревьюера (v2)</b>\n",
        "\n",
        "Отлично, вижу.\n",
        "\n",
        "</div>\n"
      ]
    },
    {
      "cell_type": "code",
      "execution_count": null,
      "metadata": {
        "id": "6zc6gy-GlgRS"
      },
      "outputs": [],
      "source": [
        "#разбивка\n",
        "train, test = train_test_split(data, test_size=0.3, random_state=12)\n",
        "valid, test = train_test_split(test, test_size=0.5, random_state=12)\n"
      ]
    },
    {
      "cell_type": "code",
      "execution_count": null,
      "metadata": {
        "id": "8MHDpIsflgRT"
      },
      "outputs": [],
      "source": [
        "X_train, y_train = train[features], train[target]\n",
        "X_valid, y_valid = valid[features], valid[target]\n",
        "X_test, y_test = test[features], test[target]"
      ]
    },
    {
      "cell_type": "code",
      "execution_count": null,
      "metadata": {
        "id": "Y3c-Sk5ElgRT"
      },
      "outputs": [],
      "source": [
        "# затем нормирование\n",
        "scaler = MinMaxScaler()\n",
        "#scaler = StandardScaler()\n",
        "numeric_cols = [\"days_contract\",\"TotalCharges\",\"MonthlyCharges\", \"months_contract\"]\n",
        "\n",
        "X_train[numeric_cols] = scaler.fit_transform(X_train[numeric_cols]) # fit it on the training data\n",
        "X_valid[numeric_cols] = scaler.transform(X_valid[numeric_cols])\n",
        "X_test[numeric_cols] = scaler.transform(X_test[numeric_cols])\n"
      ]
    },
    {
      "cell_type": "code",
      "execution_count": null,
      "metadata": {
        "id": "VvEX2R-glgRT"
      },
      "outputs": [],
      "source": [
        "# oversampling  не улучшает качество модели.\n",
        "# !pip install -U imbalanced-learn\n",
        "# \n",
        "#    from imblearn.over_sampling import SMOTE\n",
        "#    smote = SMOTE()#sampling_strategy='minority')\n",
        "#    X_sm, y_sm = smote.fit_resample(X_train, y_train)"
      ]
    },
    {
      "cell_type": "markdown",
      "metadata": {
        "id": "3LRf251VlgRU"
      },
      "source": [
        "<div class=\"alert alert-block alert-success\">\n",
        "<b>Комментарий ревьюера</b>\n",
        "\n",
        "Здорово, что поэкспериментировал.\n",
        "\n",
        "</div>\n"
      ]
    },
    {
      "cell_type": "markdown",
      "metadata": {
        "id": "LY9_wVwnlgRU"
      },
      "source": [
        "# Обучение модели с дефолтными значениями"
      ]
    },
    {
      "cell_type": "code",
      "execution_count": null,
      "metadata": {
        "id": "7txy2uQflgRU",
        "outputId": "e3c6fbeb-204e-48f9-8ce4-0065b22f551c"
      },
      "outputs": [
        {
          "name": "stdout",
          "output_type": "stream",
          "text": [
            "DecisionTree :\n",
            "valid_accuracy:  0.7840909090909091\n",
            "valid_Roc_auc score:  0.7080137051489483 \n",
            "\n",
            "RandomForest :\n",
            "valid_accuracy:  0.8011363636363636\n",
            "valid_Roc_auc score:  0.8196821166841153 \n",
            "\n",
            "Naive Bayes :\n",
            "valid_accuracy:  0.75\n",
            "valid_Roc_auc score:  0.8399210050442562 \n",
            "\n",
            "LGBMClassifier :\n",
            "valid_accuracy:  0.853219696969697\n",
            "valid_Roc_auc score:  0.8872537356048349 \n",
            "\n",
            "SVM :\n",
            "valid_accuracy:  0.8087121212121212\n",
            "valid_Roc_auc score:  0.8311197297040069 \n",
            "\n",
            "Neural Network :\n",
            "valid_accuracy:  0.7982954545454546\n",
            "valid_Roc_auc score:  0.8270295993147424 \n",
            "\n",
            "LogisticRegression :\n",
            "valid_accuracy:  0.8115530303030303\n",
            "valid_Roc_auc score:  0.8498001332445037 \n",
            "\n",
            "ExtraTreesClassifier :\n",
            "valid_accuracy:  0.78125\n",
            "valid_Roc_auc score:  0.78197392214714 \n",
            "\n",
            "AdaBoostClassifier :\n",
            "valid_accuracy:  0.8295454545454546\n",
            "valid_Roc_auc score:  0.8674930998382031 \n",
            "\n",
            "GradientBoostingClassifier: \n",
            "valid_accuracy:  0.8503787878787878\n",
            "valid_Roc_auc score:  0.8870324545541068 \n",
            "\n",
            "CatBoost :\n",
            "valid_accuracy:  0.865530303030303\n",
            "valid_Roc_auc score:  0.9006900161796896 \n",
            "\n"
          ]
        }
      ],
      "source": [
        "classifiers = [['DecisionTree :',DecisionTreeClassifier()],\n",
        "               ['RandomForest :',RandomForestClassifier()],\n",
        "               ['Naive Bayes :', GaussianNB()],\n",
        "               ['LGBMClassifier :', LGBMClassifier()],\n",
        "               ['SVM :', SVC(probability=True)],\n",
        "               ['Neural Network :', MLPClassifier()],\n",
        "               ['LogisticRegression :', LogisticRegression()],\n",
        "               ['ExtraTreesClassifier :', ExtraTreesClassifier()],\n",
        "               ['AdaBoostClassifier :', AdaBoostClassifier()],\n",
        "               ['GradientBoostingClassifier: ', GradientBoostingClassifier()],\n",
        "               ['CatBoost :', CatBoostClassifier(logging_level='Silent')]\n",
        "              ]\n",
        "\n",
        "\n",
        "for name,classifier in classifiers:\n",
        "    classifier = classifier\n",
        "    classifier.fit(X_train, y_train)\n",
        "    predictions = classifier.predict(X_valid)\n",
        "    print(name)\n",
        "    print('valid_accuracy: ', accuracy_score(y_valid, predictions))\n",
        "    print('valid_Roc_auc score: ', roc_auc_score(y_valid, classifier.predict_proba(X_valid)[:,1]),'\\n')\n",
        "    "
      ]
    },
    {
      "cell_type": "markdown",
      "metadata": {
        "id": "_gaC5QX-lgRV"
      },
      "source": [
        "Для дальнейшего тюнинга возьмем RandomForest,  LGBMClassifier, GradientBoostingClassifier,  CatBoost\n",
        "на основе RandomForest построим график важности фичей"
      ]
    },
    {
      "cell_type": "markdown",
      "metadata": {
        "id": "lof33ERNlgRV"
      },
      "source": [
        "<div class=\"alert alert-block alert-success\">\n",
        "<b>Комментарий ревьюера</b>\n",
        "\n",
        "Бустинги даже так дают отличные результаты, что же даст тюнинг? :)\n",
        "\n",
        "</div>\n"
      ]
    },
    {
      "cell_type": "markdown",
      "metadata": {
        "id": "0Fp3WgH8lgRV"
      },
      "source": [
        "# График важности фичей "
      ]
    },
    {
      "cell_type": "code",
      "execution_count": null,
      "metadata": {
        "id": "79_cX1AblgRW",
        "outputId": "be9d2214-3c1c-4478-8463-d281af235e74"
      },
      "outputs": [
        {
          "data": {
            "image/png": "[encoded data removed]",
            "text/plain": [
              "<Figure size 576x684 with 2 Axes>"
            ]
          },
          "metadata": {
            "needs_background": "light"
          },
          "output_type": "display_data"
        }
      ],
      "source": [
        "rf = RandomForestClassifier(random_state=12, class_weight='balanced')\n",
        "rf.fit(X_train, y_train)\n",
        "\n",
        "y_pred_test = rf.predict(X_valid)\n",
        "\n",
        "samples = X_train\n",
        "\n",
        "explainer = shap.TreeExplainer(rf)\n",
        "shap_values = explainer.shap_values(samples, approximate=False, check_additivity=False)\n",
        "\n",
        "shap.summary_plot(shap_values[1], samples)"
      ]
    },
    {
      "cell_type": "markdown",
      "metadata": {
        "id": "4V9-atUOlgRW"
      },
      "source": [
        "график важности фичей  \n",
        "Как его читать:  \n",
        "\n",
        "значения слева от центральной вертикальной линии — это negative класс (0), справа — positive (1)  \n",
        "чем толще линия на графике, тем больше таких точек наблюдения  \n",
        "чем краснее точки на графике, тем выше значения фичи в ней  \n",
        "\n",
        "Можно сразу сформировать портрет уходящего клиента: \n",
        "недавно заключивший контракт, подключенный к интернету по оптической линии, с высокой помесячной оплатой,получающий электронный чек, тип олаты electronic check и не автоматический, пользующийся стриминговами сервисами"
      ]
    },
    {
      "cell_type": "markdown",
      "metadata": {
        "id": "IQvmHZhElgRW"
      },
      "source": [
        "<div class=\"alert alert-block alert-success\">\n",
        "<b>Комментарий ревьюера</b>\n",
        "\n",
        "С первого взгляда непонятный график, но, если разобраться, очень полезный. Здорово, что ты его освоил.\n",
        "\n",
        "</div>\n"
      ]
    },
    {
      "cell_type": "markdown",
      "metadata": {
        "id": "Vp0a_zfQlgRX"
      },
      "source": [
        "<div class=\"alert alert-info\"> <b>Комментарий студента:</b> График дает очень много информации по внутренней работе алгоритма. Очень долго считает. В тренажере shap не установился. Не перезапускал</div>"
      ]
    },
    {
      "cell_type": "markdown",
      "metadata": {
        "id": "Vu93cvZ0lgRX"
      },
      "source": [
        "# Тюнинг"
      ]
    },
    {
      "cell_type": "markdown",
      "metadata": {
        "id": "Y0QJBeIrlgRX"
      },
      "source": [
        "# RandomForestClassifier and LogisticRegression "
      ]
    },
    {
      "cell_type": "code",
      "execution_count": null,
      "metadata": {
        "id": "2ca8mq14lgRY",
        "outputId": "8e642b36-5ed3-404a-d176-27091d79e7dd"
      },
      "outputs": [
        {
          "name": "stdout",
          "output_type": "stream",
          "text": [
            "Fitting 5 folds for each of 340 candidates, totalling 1700 fits\n"
          ]
        },
        {
          "name": "stderr",
          "output_type": "stream",
          "text": [
            "[Parallel(n_jobs=-1)]: Using backend SequentialBackend with 1 concurrent workers.\n",
            "[Parallel(n_jobs=-1)]: Done 1700 out of 1700 | elapsed: 47.5min finished\n"
          ]
        },
        {
          "name": "stdout",
          "output_type": "stream",
          "text": [
            "valid_Roc_auc score:  0.8553416769772534\n"
          ]
        },
        {
          "data": {
            "image/png": "[encoded data removed]",
            "text/plain": [
              "<Figure size 432x288 with 1 Axes>"
            ]
          },
          "metadata": {
            "needs_background": "light"
          },
          "output_type": "display_data"
        }
      ],
      "source": [
        "# Create first pipeline for base without reducing features.\n",
        "\n",
        "pipe = Pipeline([('classifier' , RandomForestClassifier())])\n",
        "\n",
        "param_grid = [\n",
        "    {'classifier' : [LogisticRegression()],\n",
        "     'classifier__penalty' : ['l1', 'l2'],\n",
        "    'classifier__C' : np.logspace(-4, 4, 20),\n",
        "    'classifier__solver' : ['liblinear']},\n",
        "    {'classifier' : [RandomForestClassifier()],\n",
        "    'classifier__n_estimators' : list(range(10,501,10)),\n",
        "    'classifier__max_features' : ['auto', 'sqrt', 'log2'],\n",
        "    'classifier__criterion' : ['gini', 'entropy']}\n",
        "]\n",
        "\n",
        "\n",
        "clf = GridSearchCV(pipe, param_grid = param_grid, scoring=['f1', 'accuracy', 'roc_auc'], \n",
        "                   refit='roc_auc', cv = 5, verbose=True, n_jobs=-1)\n",
        "\n",
        "best_clf = clf.fit(X_train, y_train)\n",
        "\n",
        "probs = best_clf.predict_proba(X_valid)\n",
        "preds = probs[:,1]\n",
        "fpr, tpr, threshold = metrics.roc_curve(y_valid, preds)\n",
        "roc_auc = metrics.auc(fpr, tpr)\n",
        "\n",
        "print('valid_Roc_auc score: ', roc_auc)\n",
        "plt.figure()\n",
        "plt.plot(fpr, tpr, label='GridSearchCV (area = %0.2f)' % roc_auc)\n",
        "plt.plot([0, 1], [0, 1],'r--')\n",
        "plt.xlim([0.0, 1.0])\n",
        "plt.ylim([0.0, 1.05])\n",
        "plt.xlabel('False Positive Rate')\n",
        "plt.ylabel('True Positive Rate')\n",
        "plt.title('Receiver operating characteristic')\n",
        "plt.legend(loc=\"lower right\")\n",
        "plt.savefig('Log_ROC')\n",
        "plt.show()"
      ]
    },
    {
      "cell_type": "code",
      "execution_count": null,
      "metadata": {
        "id": "AiNH8JdjlgRY",
        "outputId": "40212ffe-610d-4a7f-ae9d-98dfc2abfe43"
      },
      "outputs": [
        {
          "name": "stdout",
          "output_type": "stream",
          "text": [
            "\n",
            "========================================================\n",
            " Results from Grid Search \n",
            "========================================================\n",
            "\n",
            " The best estimator across ALL searched params:\n",
            " Pipeline(memory=None,\n",
            "         steps=[('classifier',\n",
            "                 RandomForestClassifier(bootstrap=True, class_weight=None,\n",
            "                                        criterion='gini', max_depth=None,\n",
            "                                        max_features='auto',\n",
            "                                        max_leaf_nodes=None,\n",
            "                                        min_impurity_decrease=0.0,\n",
            "                                        min_impurity_split=None,\n",
            "                                        min_samples_leaf=1, min_samples_split=2,\n",
            "                                        min_weight_fraction_leaf=0.0,\n",
            "                                        n_estimators=450, n_jobs=None,\n",
            "                                        oob_score=False, random_state=None,\n",
            "                                        verbose=0, warm_start=False))],\n",
            "         verbose=False)\n",
            "\n",
            " The best score across ALL searched params:\n",
            " 0.8502437220518654\n",
            "\n",
            " The best parameters across ALL searched params:\n",
            " {'classifier': RandomForestClassifier(bootstrap=True, class_weight=None, criterion='gini',\n",
            "                       max_depth=None, max_features='auto', max_leaf_nodes=None,\n",
            "                       min_impurity_decrease=0.0, min_impurity_split=None,\n",
            "                       min_samples_leaf=1, min_samples_split=2,\n",
            "                       min_weight_fraction_leaf=0.0, n_estimators=450,\n",
            "                       n_jobs=None, oob_score=False, random_state=None,\n",
            "                       verbose=0, warm_start=False), 'classifier__criterion': 'gini', 'classifier__max_features': 'auto', 'classifier__n_estimators': 450}\n",
            "\n",
            " ========================================================\n"
          ]
        }
      ],
      "source": [
        "# Results from Grid Search\n",
        "print(\"\\n========================================================\")\n",
        "print(\" Results from Grid Search \" )\n",
        "print(\"========================================================\")    \n",
        "print(\"\\n The best estimator across ALL searched params:\\n\",\n",
        "          best_clf.best_estimator_)    \n",
        "print(\"\\n The best score across ALL searched params:\\n\",\n",
        "          best_clf.best_score_)\n",
        "print(\"\\n The best parameters across ALL searched params:\\n\",\n",
        "          best_clf.best_params_)\n",
        "print(\"\\n ========================================================\")\n"
      ]
    },
    {
      "cell_type": "code",
      "execution_count": null,
      "metadata": {
        "id": "jpAhxtCAlgRZ",
        "outputId": "29a95333-847f-4f3f-979b-b03b34c25975"
      },
      "outputs": [
        {
          "name": "stdout",
          "output_type": "stream",
          "text": [
            "test_Roc_auc score:  0.8502622705133009\n",
            "              precision    recall  f1-score   support\n",
            "\n",
            "           0       0.86      0.91      0.88       785\n",
            "           1       0.69      0.58      0.63       272\n",
            "\n",
            "    accuracy                           0.82      1057\n",
            "   macro avg       0.77      0.74      0.76      1057\n",
            "weighted avg       0.82      0.82      0.82      1057\n",
            "\n"
          ]
        }
      ],
      "source": [
        "#используем найденные гиперпараметры для обучения и проверки на тестовой выборке\n",
        "model_rfc= RandomForestClassifier(criterion = 'gini', max_features = 'auto', \n",
        "                                  n_estimators = 450, random_state=12)\n",
        "model_rfc.fit(X_train, y_train)\n",
        "\n",
        "probabilities_valid = model_rfc.predict_proba(X_test)\n",
        "probabilities_one_valid = probabilities_valid[:, 1]\n",
        "fpr_rfc, tpr_rfc, threshold_rfc = metrics.roc_curve(y_test, probabilities_one_valid)\n",
        "roc_auc = metrics.auc(fpr_rfc, tpr_rfc)          \n",
        "print('test_Roc_auc score: ',roc_auc)\n",
        "pred_rfc=model_rfc.predict(X_test)\n",
        "print(classification_report(y_test, pred_rfc))"
      ]
    },
    {
      "cell_type": "markdown",
      "metadata": {
        "id": "a-TamlbelgRZ"
      },
      "source": [
        "# GradientBoostingClassifier"
      ]
    },
    {
      "cell_type": "code",
      "execution_count": null,
      "metadata": {
        "id": "6TQZ1MvZlgRa",
        "outputId": "58c65ef2-b650-41f4-81ef-888dbf7228f6"
      },
      "outputs": [
        {
          "name": "stdout",
          "output_type": "stream",
          "text": [
            "valid_Roc_auc score:  0.9235224136290092\n"
          ]
        },
        {
          "data": {
            "image/png": "[encoded data removed]",
            "text/plain": [
              "<Figure size 432x288 with 1 Axes>"
            ]
          },
          "metadata": {
            "needs_background": "light"
          },
          "output_type": "display_data"
        }
      ],
      "source": [
        "model = GradientBoostingClassifier()\n",
        "param_grid = {'learning_rate': [0.01, 0.03],\n",
        "                  'subsample'    : [1,  0.2],\n",
        "                  'n_estimators' : [100, 1750],\n",
        "                  'max_depth'    : [4,6] \n",
        "                 }\n",
        "grid = GridSearchCV(estimator=model, param_grid = param_grid, cv = 5, n_jobs=-1)\n",
        "grid.fit(X_train, y_train)\n",
        "\n",
        "probs = grid.predict_proba(X_valid)\n",
        "preds = probs[:,1]\n",
        "fpr, tpr, threshold = metrics.roc_curve(y_valid, preds)\n",
        "roc_auc = metrics.auc(fpr, tpr)\n",
        "\n",
        "print('valid_Roc_auc score: ', roc_auc)\n",
        "plt.figure()\n",
        "plt.plot(fpr, tpr, label='GridSearchCV (area = %0.2f)' % roc_auc)\n",
        "plt.plot([0, 1], [0, 1],'r--')\n",
        "plt.xlim([0.0, 1.0])\n",
        "plt.ylim([0.0, 1.05])\n",
        "plt.xlabel('False Positive Rate')\n",
        "plt.ylabel('True Positive Rate')\n",
        "plt.title('Receiver operating characteristic')\n",
        "plt.legend(loc=\"lower right\")\n",
        "plt.savefig('Log_ROC')\n",
        "plt.show()"
      ]
    },
    {
      "cell_type": "code",
      "execution_count": null,
      "metadata": {
        "id": "MsJ9LZWTlgRa",
        "outputId": "cadf3ffa-533a-4986-8d0e-6b69c0dfc494"
      },
      "outputs": [
        {
          "name": "stdout",
          "output_type": "stream",
          "text": [
            "\n",
            "========================================================\n",
            " Results from Grid Search \n",
            "========================================================\n",
            "\n",
            " The best estimator across ALL searched params:\n",
            " GradientBoostingClassifier(criterion='friedman_mse', init=None,\n",
            "                           learning_rate=0.03, loss='deviance', max_depth=4,\n",
            "                           max_features=None, max_leaf_nodes=None,\n",
            "                           min_impurity_decrease=0.0, min_impurity_split=None,\n",
            "                           min_samples_leaf=1, min_samples_split=2,\n",
            "                           min_weight_fraction_leaf=0.0, n_estimators=1750,\n",
            "                           n_iter_no_change=None, presort='auto',\n",
            "                           random_state=None, subsample=1, tol=0.0001,\n",
            "                           validation_fraction=0.1, verbose=0,\n",
            "                           warm_start=False)\n",
            "\n",
            " The best score across ALL searched params:\n",
            " 0.8578093306288033\n",
            "\n",
            " The best parameters across ALL searched params:\n",
            " {'learning_rate': 0.03, 'max_depth': 4, 'n_estimators': 1750, 'subsample': 1}\n",
            "\n",
            " ========================================================\n"
          ]
        }
      ],
      "source": [
        "    # Results from Grid Search\n",
        "print(\"\\n========================================================\")\n",
        "print(\" Results from Grid Search \" )\n",
        "print(\"========================================================\")    \n",
        "    \n",
        "print(\"\\n The best estimator across ALL searched params:\\n\",\n",
        "          grid.best_estimator_)\n",
        "print(\"\\n The best score across ALL searched params:\\n\",\n",
        "          grid.best_score_)\n",
        "print(\"\\n The best parameters across ALL searched params:\\n\",\n",
        "          grid.best_params_)\n",
        "print(\"\\n ========================================================\")"
      ]
    },
    {
      "cell_type": "code",
      "execution_count": null,
      "metadata": {
        "id": "MeeifTDRlgRb",
        "outputId": "4364c14b-32d2-4676-b933-75614de83266"
      },
      "outputs": [
        {
          "name": "stdout",
          "output_type": "stream",
          "text": [
            "test_Roc_auc score:  0.9146730985387785\n",
            "              precision    recall  f1-score   support\n",
            "\n",
            "           0       0.90      0.92      0.91       785\n",
            "           1       0.75      0.72      0.73       272\n",
            "\n",
            "    accuracy                           0.87      1057\n",
            "   macro avg       0.83      0.82      0.82      1057\n",
            "weighted avg       0.86      0.87      0.86      1057\n",
            "\n"
          ]
        }
      ],
      "source": [
        "#используем найденные гиперпараметры для обучения и проверки на тестовой выборке\n",
        "model_gbl = GradientBoostingClassifier(learning_rate=0.03, n_estimators=1750,max_depth=4,  \n",
        "                                     subsample=1, random_state=12)\n",
        "model_gbl.fit(X_train,y_train)\n",
        "\n",
        "\n",
        "probabilities_valid = model_gbl.predict_proba(X_test)\n",
        "probabilities_one_valid = probabilities_valid[:, 1]\n",
        "\n",
        "fpr_gbl, tpr_gbl, threshold_gbl = metrics.roc_curve(y_test, probabilities_one_valid)\n",
        "roc_auc = metrics.auc(fpr_gbl, tpr_gbl)    \n",
        "\n",
        "print('test_Roc_auc score: ',roc_auc)\n",
        "\n",
        "pred_gbl=model_gbl.predict(X_test)\n",
        "print(classification_report(y_test, pred_gbl))"
      ]
    },
    {
      "cell_type": "markdown",
      "metadata": {
        "id": "3cQpSKk2lgRb"
      },
      "source": [
        "<div class=\"alert alert-block alert-warning\">\n",
        "<b>Комментарий ревьюера</b>\n",
        "\n",
        "Также можно попробовать обучить модель на выборке трейн+валид с подобранными гиперпараметрами и потом прогнать на тесте.\n",
        "\n",
        "Логика такая. В нашем случае у нас не было отдельного датасета для тестирования, мы отрезали от основного небольшую часть (отложенная выборка). То есть остальные данные мы используем для обучения. Если обучить только на обучающей, что у нас полностью теряются валидационные данные - мы их не используем в модели, но они то у нас есть, жаль их выбрасывать.\n",
        "\n",
        "</div>\n"
      ]
    },
    {
      "cell_type": "markdown",
      "metadata": {
        "id": "8AjBF25RlgRc"
      },
      "source": [
        "<div class=\"alert alert-info\"> <b>Комментарий студента:</b> В конце сделал на лучшей модели.</div>"
      ]
    },
    {
      "cell_type": "markdown",
      "metadata": {
        "id": "dA-LfDGLlgRc"
      },
      "source": [
        "<div class=\"alert alert-block alert-success\">\n",
        "<b>Комментарий ревьюера (v2)</b>\n",
        "\n",
        "👍\n",
        "\n",
        "</div>\n"
      ]
    },
    {
      "cell_type": "markdown",
      "metadata": {
        "id": "XhIqPVbIlgRc"
      },
      "source": [
        "# LGBMClassifier"
      ]
    },
    {
      "cell_type": "code",
      "execution_count": null,
      "metadata": {
        "id": "3DVCrQI0lgRd",
        "outputId": "b229cca1-7c8c-442a-87e8-46f7ad28517d"
      },
      "outputs": [
        {
          "data": {
            "text/plain": [
              "{'boosting_type': 'gbdt',\n",
              " 'class_weight': None,\n",
              " 'colsample_bytree': 1.0,\n",
              " 'importance_type': 'split',\n",
              " 'learning_rate': 0.1,\n",
              " 'max_depth': -1,\n",
              " 'min_child_samples': 20,\n",
              " 'min_child_weight': 0.001,\n",
              " 'min_split_gain': 0.0,\n",
              " 'n_estimators': 100,\n",
              " 'n_jobs': -1,\n",
              " 'num_leaves': 31,\n",
              " 'objective': None,\n",
              " 'random_state': None,\n",
              " 'reg_alpha': 0.0,\n",
              " 'reg_lambda': 0.0,\n",
              " 'silent': True,\n",
              " 'subsample': 1.0,\n",
              " 'subsample_for_bin': 200000,\n",
              " 'subsample_freq': 0}"
            ]
          },
          "execution_count": 46,
          "metadata": {},
          "output_type": "execute_result"
        }
      ],
      "source": [
        "baseline_lgmc = LGBMClassifier()\n",
        "baseline_lgmc.fit(X_train, y_train)\n",
        "\n",
        "# To view the default model params:\n",
        "baseline_lgmc.get_params()"
      ]
    },
    {
      "cell_type": "code",
      "execution_count": null,
      "metadata": {
        "id": "nVmwWqSklgRd",
        "outputId": "5fcbaa5e-0b72-47d3-fe22-f7f2c18c92cb"
      },
      "outputs": [
        {
          "name": "stdout",
          "output_type": "stream",
          "text": [
            "valid_Roc_auc score:  0.9077876653659465\n"
          ]
        },
        {
          "data": {
            "image/png": "[encoded data removed]",
            "text/plain": [
              "<Figure size 432x288 with 1 Axes>"
            ]
          },
          "metadata": {
            "needs_background": "light"
          },
          "output_type": "display_data"
        }
      ],
      "source": [
        "params = {'boosting_type': 'gbdt',\n",
        "          'max_depth' : -1,\n",
        "          'num_leaves': 31,\n",
        "          'learning_rate': 0.1,\n",
        "          'max_bin': 512,\n",
        "          'subsample_for_bin': 200000,\n",
        "          'subsample': 1.0,\n",
        "          'subsample_freq': 0,\n",
        "          'colsample_bytree': 1.0,\n",
        "          'reg_alpha': 0.0,\n",
        "          'reg_lambda': 0.0,\n",
        "          'min_split_gain': 0.0,\n",
        "          'min_child_weight': 0.001,\n",
        "          'min_child_samples': 20,\n",
        "          'scale_pos_weight': 1,\n",
        "             }\n",
        "\n",
        "\n",
        "gridParams = {\n",
        "    'learning_rate': [0.1, 0.5],\n",
        "    'n_estimators': [50, 100],\n",
        "    'num_leaves': [6,12,16,32,64],\n",
        "    'random_state' : [12],\n",
        "    'colsample_bytree' : [0.5,0.65,1.0],\n",
        "    'subsample' : [0.5, 0.7,1.0],\n",
        "    'reg_alpha' : [0.0, 1],\n",
        "    'reg_lambda' : [0.0, 1],\n",
        "    }\n",
        "\n",
        "\n",
        "best_lgmc = lgb.LGBMClassifier(boosting_type= 'gbdt',\n",
        "          objective = 'binary',\n",
        "          n_jobs = -1, \n",
        "          silent = True,\n",
        "          max_depth = params['max_depth'],\n",
        "          max_bin = params['max_bin'],\n",
        "          subsample_for_bin = params['subsample_for_bin'],\n",
        "          subsample = params['subsample'],\n",
        "          subsample_freq = params['subsample_freq'],\n",
        "          min_split_gain = params['min_split_gain'],\n",
        "          min_child_weight = params['min_child_weight'],\n",
        "          min_child_samples = params['min_child_samples'],\n",
        "          scale_pos_weight = params['scale_pos_weight'])\n",
        "\n",
        "\n",
        "grid = GridSearchCV(best_lgmc, gridParams,\n",
        "                    verbose=0,\n",
        "                    cv=4,\n",
        "                    n_jobs=-1)\n",
        "\n",
        "grid.fit(X_train, y_train)\n",
        "\n",
        "probs = grid.predict_proba(X_valid)\n",
        "preds = probs[:,1]\n",
        "\n",
        "fpr, tpr, threshold = metrics.roc_curve(y_valid, preds)\n",
        "roc_auc = metrics.auc(fpr, tpr)\n",
        "\n",
        "print('valid_Roc_auc score: ', roc_auc)\n",
        "plt.figure()\n",
        "plt.plot(fpr, tpr, label='GridSearchCV (area = %0.2f)' % roc_auc)\n",
        "plt.plot([0, 1], [0, 1],'r--')\n",
        "plt.xlim([0.0, 1.0])\n",
        "plt.ylim([0.0, 1.05])\n",
        "plt.xlabel('False Positive Rate')\n",
        "plt.ylabel('True Positive Rate')\n",
        "plt.title('Receiver operating characteristic')\n",
        "plt.legend(loc=\"lower right\")\n",
        "plt.savefig('Log_ROC')\n",
        "plt.show()\n"
      ]
    },
    {
      "cell_type": "code",
      "execution_count": null,
      "metadata": {
        "id": "oyfK0tQelgRe",
        "outputId": "52fe16c3-4914-4e40-d383-90dcbd6ba130"
      },
      "outputs": [
        {
          "name": "stdout",
          "output_type": "stream",
          "text": [
            "\n",
            "========================================================\n",
            " Results from Grid Search \n",
            "========================================================\n",
            "\n",
            " The best estimator across ALL searched params:\n",
            " LGBMClassifier(boosting_type='gbdt', class_weight=None, colsample_bytree=0.5,\n",
            "               importance_type='split', learning_rate=0.5, max_bin=512,\n",
            "               max_depth=-1, min_child_samples=20, min_child_weight=0.001,\n",
            "               min_split_gain=0.0, n_estimators=100, n_jobs=-1, num_leaves=12,\n",
            "               objective='binary', random_state=12, reg_alpha=1, reg_lambda=0.0,\n",
            "               scale_pos_weight=1, silent=True, subsample=0.5,\n",
            "               subsample_for_bin=200000, subsample_freq=0)\n",
            "\n",
            " The best score across ALL searched params:\n",
            " 0.8452332657200812\n",
            "\n",
            " The best parameters across ALL searched params:\n",
            " {'colsample_bytree': 0.5, 'learning_rate': 0.5, 'n_estimators': 100, 'num_leaves': 12, 'random_state': 12, 'reg_alpha': 1, 'reg_lambda': 0.0, 'subsample': 0.5}\n",
            "\n",
            " ========================================================\n"
          ]
        }
      ],
      "source": [
        "# Results from Grid Search\n",
        "print(\"\\n========================================================\")\n",
        "print(\" Results from Grid Search \" )\n",
        "print(\"========================================================\")    \n",
        "    \n",
        "print(\"\\n The best estimator across ALL searched params:\\n\",\n",
        "          grid.best_estimator_)\n",
        "print(\"\\n The best score across ALL searched params:\\n\",\n",
        "          grid.best_score_)\n",
        "print(\"\\n The best parameters across ALL searched params:\\n\",\n",
        "          grid.best_params_)\n",
        "print(\"\\n ========================================================\")"
      ]
    },
    {
      "cell_type": "code",
      "execution_count": null,
      "metadata": {
        "id": "s2bGkohYlgRe",
        "outputId": "78013576-2665-46f0-817a-112f077cf2c8"
      },
      "outputs": [
        {
          "name": "stdout",
          "output_type": "stream",
          "text": [
            "test_Roc_auc score:  0.8924878231547395\n",
            "              precision    recall  f1-score   support\n",
            "\n",
            "           0       0.89      0.92      0.90       785\n",
            "           1       0.73      0.67      0.70       272\n",
            "\n",
            "    accuracy                           0.85      1057\n",
            "   macro avg       0.81      0.79      0.80      1057\n",
            "weighted avg       0.85      0.85      0.85      1057\n",
            "\n"
          ]
        }
      ],
      "source": [
        "#используем найденные гиперпараметры для обучения\n",
        "model_lgb = lgb.LGBMClassifier(boosting_type='gbdt', class_weight=None, colsample_bytree=0.5,\n",
        "               importance_type='split', learning_rate=0.5, max_bin=512,\n",
        "               max_depth=-1, min_child_samples=20, min_child_weight=0.001,\n",
        "               min_split_gain=0.0, n_estimators=100, n_jobs=-1, num_leaves=12,\n",
        "               objective='binary', random_state=12, reg_alpha=1, reg_lambda=0.0,\n",
        "               scale_pos_weight=1, silent=True, subsample=0.5,\n",
        "               subsample_for_bin=200000, subsample_freq=0)\n",
        "model_lgb.fit(X_train, y_train)\n",
        "\n",
        "probabilities_valid = model_lgb.predict_proba(X_test)\n",
        "probabilities_one_valid = probabilities_valid[:, 1]\n",
        "\n",
        "fpr_lgb, tpr_lgb, threshold_lgb = metrics.roc_curve(y_test, probabilities_one_valid)\n",
        "roc_auc = metrics.auc(fpr_lgb, tpr_lgb)    \n",
        "\n",
        "print('test_Roc_auc score: ',roc_auc)\n",
        "\n",
        "pred_lgb=model_lgb.predict(X_test)\n",
        "print(classification_report(y_test, pred_lgb))"
      ]
    },
    {
      "cell_type": "markdown",
      "metadata": {
        "id": "rKk1zhKslgRf"
      },
      "source": [
        "# Catboost "
      ]
    },
    {
      "cell_type": "code",
      "execution_count": null,
      "metadata": {
        "id": "qsHCxxF5lgRf"
      },
      "outputs": [],
      "source": [
        "model_cb_1 = CatBoostClassifier(eval_metric='AUC')\n",
        "\n",
        "param_grid = {'learning_rate': [0.03, 0.1], 'depth': [4, 6], 'l2_leaf_reg': [1, 3]}\n",
        "\n",
        "grid = GridSearchCV(estimator=model_cb_1, param_grid = param_grid, cv = 5, n_jobs=-1)\n",
        "grid.fit(X_train, y_train)\n",
        "\n",
        "probs = grid.predict_proba(X_valid)\n",
        "preds = probs[:,1]\n",
        "fpr, tpr, threshold = metrics.roc_curve(y_valid, preds)\n",
        "roc_auc = metrics.auc(fpr, tpr)\n",
        "\n",
        "print('valid_Roc_auc score: ', roc_auc)\n",
        "plt.figure()\n",
        "plt.plot(fpr, tpr, label='GridSearchCV (area = %0.2f)' % roc_auc)\n",
        "plt.plot([0, 1], [0, 1],'r--')\n",
        "plt.xlim([0.0, 1.0])\n",
        "plt.ylim([0.0, 1.05])\n",
        "plt.xlabel('False Positive Rate')\n",
        "plt.ylabel('True Positive Rate')\n",
        "plt.title('Receiver operating characteristic')\n",
        "plt.legend(loc=\"lower right\")\n",
        "plt.savefig('Log_ROC')\n",
        "plt.show()\n",
        "\n",
        "#grid_search_result = model_cb_1.grid_search(param_grid, X=X_train, y=y_train, cv=5, plot=True)"
      ]
    },
    {
      "cell_type": "code",
      "execution_count": null,
      "metadata": {
        "id": "jYXPEdUJlgRg",
        "outputId": "2c87f05d-9552-408f-e92e-1d0fdca98d57"
      },
      "outputs": [
        {
          "name": "stdout",
          "output_type": "stream",
          "text": [
            "\n",
            "========================================================\n",
            " Results from Grid Search \n",
            "========================================================\n",
            "\n",
            " The best estimator across ALL searched params:\n",
            " <catboost.core.CatBoostClassifier object at 0x7f3f0d22acd0>\n",
            "\n",
            " The best score across ALL searched params:\n",
            " 0.8665314401622718\n",
            "\n",
            " The best parameters across ALL searched params:\n",
            " {'depth': 4, 'l2_leaf_reg': 1, 'learning_rate': 0.1}\n",
            "\n",
            " ========================================================\n"
          ]
        }
      ],
      "source": [
        "# Results from Grid Search\n",
        "print(\"\\n========================================================\")\n",
        "print(\" Results from Grid Search \" )\n",
        "print(\"========================================================\")    \n",
        "    \n",
        "print(\"\\n The best estimator across ALL searched params:\\n\",\n",
        "          grid.best_estimator_)\n",
        "print(\"\\n The best score across ALL searched params:\\n\",\n",
        "          grid.best_score_)\n",
        "print(\"\\n The best parameters across ALL searched params:\\n\",\n",
        "          grid.best_params_)\n",
        "print(\"\\n ========================================================\")"
      ]
    },
    {
      "cell_type": "code",
      "execution_count": null,
      "metadata": {
        "id": "UTOT4dwelgRg",
        "outputId": "6e5111c5-3d04-43e5-8736-035e7dff3f1f"
      },
      "outputs": [
        {
          "name": "stdout",
          "output_type": "stream",
          "text": [
            "0:\ttotal: 3.36ms\tremaining: 3.36s\n",
            "100:\ttotal: 2.06s\tremaining: 18.3s\n",
            "200:\ttotal: 4.4s\tremaining: 17.5s\n",
            "300:\ttotal: 6.58s\tremaining: 15.3s\n",
            "400:\ttotal: 9.04s\tremaining: 13.5s\n",
            "500:\ttotal: 11.2s\tremaining: 11.1s\n",
            "600:\ttotal: 13.4s\tremaining: 8.92s\n",
            "700:\ttotal: 15.8s\tremaining: 6.72s\n",
            "800:\ttotal: 18s\tremaining: 4.48s\n",
            "900:\ttotal: 19.9s\tremaining: 2.19s\n",
            "999:\ttotal: 22.3s\tremaining: 0us\n",
            "test_Roc_auc score:  0.9113713001124015\n",
            "              precision    recall  f1-score   support\n",
            "\n",
            "           0       0.91      0.93      0.92       785\n",
            "           1       0.78      0.73      0.75       272\n",
            "\n",
            "    accuracy                           0.88      1057\n",
            "   macro avg       0.85      0.83      0.84      1057\n",
            "weighted avg       0.88      0.88      0.88      1057\n",
            "\n"
          ]
        }
      ],
      "source": [
        "#используем найденные гиперпараметры для обучения и проверки на тестовой выборке\n",
        "model_cb = CatBoostClassifier(depth = 4, learning_rate = 0.1, l2_leaf_reg = 1, eval_metric='AUC', random_state=12345)\n",
        "model_cb.fit(X_train, y_train, verbose=100, plot=False)\n",
        "\n",
        "probabilities_valid = model_cb.predict_proba(X_test)\n",
        "probabilities_one_valid = probabilities_valid[:, 1]\n",
        "\n",
        "fpr_cb, tpr_cb, threshold_cb = metrics.roc_curve(y_test, probabilities_one_valid)\n",
        "roc_auc = metrics.auc(fpr_cb, tpr_cb)    \n",
        "\n",
        "print('test_Roc_auc score: ',roc_auc)\n",
        "\n",
        "pred_cb=model_cb.predict(X_test)\n",
        "print(classification_report(y_test, pred_cb))"
      ]
    },
    {
      "cell_type": "markdown",
      "metadata": {
        "id": "9IjZn61rlgRh"
      },
      "source": [
        "<div class=\"alert alert-block alert-success\">\n",
        "<b>Комментарий ревьюера</b>\n",
        "\n",
        "Шаг выполнен просто отлично. Тюнинг дал отличный прирост метрики, молодец!\n",
        "\n",
        "</div>\n"
      ]
    },
    {
      "cell_type": "markdown",
      "metadata": {
        "id": "528Llf-hlgRi"
      },
      "source": [
        "# Лучшие модели"
      ]
    },
    {
      "cell_type": "code",
      "execution_count": null,
      "metadata": {
        "id": "pFlEjDZTlgRi",
        "outputId": "3a3007e1-3a6c-4382-bcd6-adadc69bad57"
      },
      "outputs": [
        {
          "data": {
            "image/png": "[encoded data removed]",
            "text/plain": [
              "<Figure size 864x576 with 1 Axes>"
            ]
          },
          "metadata": {
            "needs_background": "light"
          },
          "output_type": "display_data"
        }
      ],
      "source": [
        "#run models\n",
        "\n",
        "\n",
        "#calculate values for ROC AUC plot\n",
        "\n",
        "plt.figure(figsize=(12,8))\n",
        "plt.plot(fpr_rfc, tpr_rfc, label='RandomForestClassifier (area = %0.4f)' % metrics.auc(fpr_rfc, tpr_rfc))\n",
        "plt.plot(fpr_gbl, tpr_gbl, label='GGradientBoostingClassifier (area = %0.4f)' % metrics.auc(fpr_gbl, tpr_gbl))\n",
        "plt.plot(fpr_lgb, tpr_lgb, label='LGBMClassifier (area = %0.4f)' % metrics.auc(fpr_lgb, tpr_lgb))\n",
        "plt.plot(fpr_cb, tpr_cb, label='CatBoostClassifier (area = %0.4f)' % metrics.auc(fpr_cb, tpr_cb))\n",
        "\n",
        "plt.plot([0, 1], [0, 1],'r--')\n",
        "plt.xlim([0.0, 1.0])\n",
        "plt.ylim([0.0, 1.05])\n",
        "plt.xlabel('False Positive Rate')\n",
        "plt.ylabel('True Positive Rate')\n",
        "plt.title('Сравнение моделей на тестовой выборке')\n",
        "plt.legend(loc=\"lower right\")\n",
        "plt.savefig('Log_ROC')\n",
        "plt.show()"
      ]
    },
    {
      "cell_type": "code",
      "execution_count": null,
      "metadata": {
        "id": "GuFMHUtPlgRj",
        "outputId": "25b45207-d5f0-4088-d639-4e8032abe9c4"
      },
      "outputs": [
        {
          "name": "stdout",
          "output_type": "stream",
          "text": [
            "Метрики для тестовой выборки после тюнинга \n",
            "\n",
            "RandomForestClassifier (ROC AUC= 0.8503) (accuracy= 0.8240) \n",
            "\n",
            "GradientBoostingClassifier (ROC AUC= 0.9147) (accuracy= 0.8657) \n",
            "\n",
            "LGBMClassifier (ROC AUC= 0.8925) (accuracy= 0.8534) \n",
            "\n",
            "CatBoost (ROC AUC= 0.9114) (accuracy= 0.8780) \n",
            "\n"
          ]
        }
      ],
      "source": [
        "print('Метрики для тестовой выборки после тюнинга', '\\n')\n",
        "print('RandomForestClassifier (ROC AUC= %0.4f)' % metrics.auc(fpr_rfc, tpr_rfc),\n",
        "      '(accuracy= %0.4f)' % accuracy_score(y_test, pred_rfc),'\\n')\n",
        "print('GradientBoostingClassifier (ROC AUC= %0.4f)' % metrics.auc(fpr_gbl, tpr_gbl),\n",
        "      '(accuracy= %0.4f)' % accuracy_score(y_test, pred_gbl),'\\n')\n",
        "print('LGBMClassifier (ROC AUC= %0.4f)' % metrics.auc(fpr_lgb, tpr_lgb),\n",
        "      '(accuracy= %0.4f)' % accuracy_score(y_test, pred_lgb),'\\n')\n",
        "print('CatBoost (ROC AUC= %0.4f)' % metrics.auc(fpr_cb, tpr_cb),\n",
        "      '(accuracy= %0.4f)' % accuracy_score(y_test, pred_cb),'\\n')"
      ]
    },
    {
      "cell_type": "markdown",
      "metadata": {
        "id": "N320O--RlgRj"
      },
      "source": [
        "<div class=\"alert alert-info\"> <b>Дополнил:</b> Объеденим train и valid и обучим лучшую модель на общей выборке. предскажем на тестовой, построим матрицу ошибок</div>"
      ]
    },
    {
      "cell_type": "code",
      "execution_count": null,
      "metadata": {
        "id": "KGdbprb1lgRj"
      },
      "outputs": [],
      "source": [
        "# Объеденим train и valid и обучим лучшую модель на общей выборке. предскажем на тестовой\n",
        "X_train_s=pd.concat([X_train, X_valid])\n",
        "y_train_s=pd.concat([y_train, y_valid])\n",
        "\n",
        "model_gbl_s = GradientBoostingClassifier(learning_rate=0.03, n_estimators=1750,max_depth=4,  \n",
        "                                     subsample=1, random_state=12)\n",
        "model_gbl_s.fit(X_train_s, y_train_s)\n",
        "\n",
        "probabilities_valid_s = model_gbl_s.predict_proba(X_test)\n",
        "probabilities_one_valid_s = probabilities_valid_s[:, 1]\n",
        "\n",
        "fpr_gbl_s, tpr_gbl_s, threshold_gbl_s = metrics.roc_curve(y_test, probabilities_one_valid_s)\n",
        "roc_auc_s = metrics.auc(fpr_gbl_s, tpr_gbl_s)    \n",
        "\n",
        "pred_gbl_s=model_gbl_s.predict(X_test)"
      ]
    },
    {
      "cell_type": "code",
      "execution_count": null,
      "metadata": {
        "id": "dSad5hm0lgRk",
        "outputId": "1de55cfe-6793-4f39-f706-49103d1a1ed3"
      },
      "outputs": [
        {
          "name": "stdout",
          "output_type": "stream",
          "text": [
            "\n",
            "===================================лучший результат================================================= \n",
            "\n",
            "              precision    recall  f1-score   support\n",
            "\n",
            "           0       0.91      0.93      0.92       785\n",
            "           1       0.78      0.73      0.75       272\n",
            "\n",
            "    accuracy                           0.88      1057\n",
            "   macro avg       0.84      0.83      0.83      1057\n",
            "weighted avg       0.87      0.88      0.87      1057\n",
            "\n",
            "GradientBoosting (ROC AUC= 0.9206) (accuracy= 0.8761) \n",
            "\n"
          ]
        },
        {
          "data": {
            "image/png": "[encoded data removed]",
            "text/plain": [
              "<Figure size 720x720 with 2 Axes>"
            ]
          },
          "metadata": {
            "needs_background": "light"
          },
          "output_type": "display_data"
        }
      ],
      "source": [
        "def plot_confusion_matrix(y_test , y_pred , classes = None , figsize = (10 , 10) , text_size = 10):\n",
        "  import tensorflow as tf\n",
        "  import itertools  \n",
        "  # Setting the default figsize \n",
        "  figsize = figsize\n",
        "  # Create the confusion matrix from sklearn \n",
        "  cm = confusion_matrix(y_test , tf.math.round(y_pred))\n",
        "  cm_norm = cm.astype('float') / cm.sum(axis = 1)[: , np.newaxis] # Normalize our confusion matrix \n",
        "\n",
        "  # Number of clases\n",
        "  n_classes = cm.shape[0]\n",
        "\n",
        "  # Making our plot pretty\n",
        "  fig , ax = plt.subplots(figsize = figsize)\n",
        "  # Drawing the matrix plot \n",
        "  cax = ax.matshow(cm , cmap = plt.cm.Blues)\n",
        "  fig.colorbar(cax)\n",
        "\n",
        "  # Set labels to be classes\n",
        "  if classes:\n",
        "    labels = classes\n",
        "  else:\n",
        "    labels = np.arange(cm.shape[0])\n",
        "\n",
        "  # Label axes\n",
        "  ax.set(title ='Confusion Matrix' , \n",
        "       xlabel = 'Predicted Label' , \n",
        "       ylabel = 'True Label' , \n",
        "       xticks = np.arange(n_classes) , \n",
        "       yticks = np.arange(n_classes) , \n",
        "       xticklabels = labels , \n",
        "       yticklabels = labels)\n",
        "  # Set the xaxis labels to bottom \n",
        "  ax.xaxis.set_label_position('bottom')\n",
        "  ax.xaxis.tick_bottom()\n",
        "\n",
        "  # Adjust the label size \n",
        "  ax.yaxis.label.set_size(text_size)\n",
        "  ax.xaxis.label.set_size(text_size)\n",
        "  ax.title.set_size(text_size)\n",
        "\n",
        "  # Set threshold for different colors \n",
        "  threshold = (cm.max() + cm.min()) / 2\n",
        "\n",
        "  # Plot the text on each cell \n",
        "  for i , j in itertools.product(range(cm.shape[0]) , range(cm.shape[1])):\n",
        "    plt.text(j , i , f'{cm[i , j]} ({cm_norm[i , j]*100:.1f}%)' , \n",
        "           horizontalalignment = 'center' , \n",
        "            color = 'white' if cm[i , j] > threshold else 'black' , \n",
        "           size = text_size)\n",
        "    \n",
        "plot_confusion_matrix(y_test, pred_cb)\n",
        "print()\n",
        "print('===================================  лучший результат  =================================================','\\n')\n",
        "print(classification_report(y_test, pred_gbl_s))\n",
        "\n",
        "print('GradientBoosting (ROC AUC= %0.4f)' % metrics.auc(fpr_gbl_s, tpr_gbl_s),\n",
        "      '(accuracy= %0.4f)' % accuracy_score(y_test, pred_gbl_s),'\\n')\n",
        "\n"
      ]
    },
    {
      "cell_type": "markdown",
      "metadata": {
        "id": "hB4swc-wlgRk"
      },
      "source": [
        "Лучший результат на тестовой выборке = 0,9206, получился на модели GradientBoosting с тюнингом, при обучении на объединенных train и valid выборок\n",
        "\n"
      ]
    },
    {
      "cell_type": "markdown",
      "metadata": {
        "id": "KZvrFtU_lgRl"
      },
      "source": [
        "<div class=\"alert alert-block alert-success\">\n",
        "<b>Комментарий ревьюера (v2)</b>\n",
        "\n",
        "Результат просто отличный.\n",
        "\n",
        "</div>\n"
      ]
    },
    {
      "cell_type": "markdown",
      "metadata": {
        "id": "PR91NEGzlgRl"
      },
      "source": [
        "# Вывод: \n",
        "\n",
        "Лучший результат на тестовой выборке показали CatBoost и GradientBoosting около 0.91\n",
        "Разбивка 70% train, 15% valid, 15% test.  \n",
        "Введены дополнительные фичи, которые помогли добиться более точного прогноза  \n",
        "Oversampling с помощью SMOTE не дал улучшения предсказания.  \n",
        "С помощью тюнинга удалось улудшить предсказание\n",
        "\n",
        "из графика важности фичей для модели на основе RandomForester с помощью пакета shap\n",
        "можно увидеть внутреннюю 'кухню' модели предсказаний и оценить важность признаков\n",
        "\n",
        "Портрет уходящего клиента из графика важности фичей: \n",
        "\n",
        "недавно заключивший контракт, подключенный к интернету по оптической линии,   \n",
        "с высокой помесячной оплатой,получающий электронный чек, \n",
        "тип оплаты electronic check и не автоматический, пользующийся стриминговыми сервисами.\n",
        "\n",
        "Модель достаточно хорошо предсказывает поведение клиента. Можно рекомендовать заказчику обратить внимание на клиентов с учетом предсказания и анализа важности признаков, по портрету, указанному выше"
      ]
    },
    {
      "cell_type": "markdown",
      "metadata": {
        "id": "ppQCeO0clgRl"
      },
      "source": [
        "<div class=\"alert alert-block alert-success\">\n",
        "<b>Комментарий ревьюера</b>\n",
        "\n",
        "Хороший, цельный и подробный проект. Спасибо за основательный подход к делу. \n",
        "\n",
        "</div>\n"
      ]
    },
    {
      "cell_type": "markdown",
      "metadata": {
        "id": "XtXPCcKrlgRm"
      },
      "source": [
        "<div class=\"alert alert-block alert-warning\">\n",
        "<b>Комментарий ревьюера</b>\n",
        "\n",
        "Еще всегда полезно посмотреть на матрицу ошибок и дать ее интерпретацию - это важные показатели для бизнеса.\n",
        "\n",
        "</div>\n"
      ]
    },
    {
      "cell_type": "markdown",
      "metadata": {
        "id": "-0uvyMFrlgRm"
      },
      "source": [
        "<div class=\"alert alert-block alert-success\">\n",
        "<b>Комментарий ревьюера (v2)</b>\n",
        "\n",
        "Теперь все круто.\n",
        "\n",
        "</div>\n"
      ]
    },
    {
      "cell_type": "markdown",
      "metadata": {
        "id": "mO3E4dbnlgRm"
      },
      "source": [
        "# Отчет по решению\n",
        "\n",
        "Вопросы:\n",
        "\n",
        "* Какие пункты плана были выполнены, а какие — нет (поясните почему)?\n",
        "\n",
        "\n",
        "1. Чтение файлов с данными и изучение общей информаций -  ВЫПОЛНЕН \n",
        "2. Создание дополнительных признаков (target_churn, phone, internet,срок контракта в месяцах, предлагаются дополнительные признаки: разделить клиентов на короткие и длинные договора, низкий или высокий ежемесячный платеж) ВЫПОЛНЕН и дополнен  \n",
        "    Введены дополнительные фичи для улучшения качества метрики:   \n",
        "'days_contract' количество дней контракта, \n",
        "pay_auto_contract'  платеж с признаком авто,     \n",
        "'type_year_contract'  ежемесячный или годовой платеж   \n",
        "Отказался от признака internet, как не влияющего на метрику\n",
        "3. Слияние в единый датафрейм  ВЫПОЛНЕН\n",
        "4. Исключение признаков с датами и TotalCharges.  ВЫПОЛНЕН с изменением  \n",
        "TotalCharges - оставлен, удаление ухудшает качество\n",
        "5. Кодирование категориальных признаков и нормализация численных. Разделение на train и valid ВЫПОЛНЕН \n",
        "6. Обучение модели RandomForest, Выбор важных признаков, удаление ненужных признаков  ВЫПОЛНЕН с изменениями  \n",
        "признаки не удалялись в результатет анализа, удаление признаков не улудшило метрику\n",
        "7. Обучение нескольких моделей (от простых к сложным) на сформированной выборке. выбор перспективных. Тюнинг модели  ВЫПОЛНЕН  \n",
        "8. Выводы и рекомендации ВЫПОЛНЕН\n",
        "\n",
        "\n",
        "* Какие трудности возникли и как вы их преодолели?  \n",
        "\n",
        "Долго не удавалось добиться нужного качества. Для улучшения качества был найдены фичи , которые, как показал последующий анализ графика важности фичей для модели на основе RandomForester с помощью пакета SHAP, являются одними из самых важных признаков для данной задачи.  \n",
        "'days_contract' количество дней контракта - 1 место по важности  \n",
        "'type_year_contract'  ежемесячный или годовой платеж - 3 место по важности,  \n",
        "что в конечном итоге  позволило добиться высоких показателей метрики без дополнительного тюнинга (ROC AUC от 0.82 до 0,90 на валидационной выборпке в зависимости от модели) \n",
        "\n",
        "* Какие ключевые шаги в решении задачи выделили?  \n",
        "\n",
        "Ключевые шаги для решения были обработка даных, их изучение, создание дополнительных фич в результате анализа. Оценка данных для получения максимального качества модели. Анализ 11 моделей (от простых к сложным ). Анализ важности фичей с помощь пакета SHAP. Учлучшение качества 4 моделей с помощью тюнинга (GradientBoosting с 0.88 до 0.92 на valid)\n",
        "\n",
        "\n",
        "* Какая ваша итоговая модель и какое у неё качество? \n",
        "\n",
        "\n",
        "Лучший результат на тестовой выборке ROC AUC= 0,9206, получился на модели GradientBoosting с тюнингом, при обучении на объединенных train и valid выборках при следующих параметрах \n",
        " {'learning_rate': 0.03, 'max_depth': 4, 'n_estimators': 1750, 'subsample': 1}\n",
        " \n",
        " "
      ]
    },
    {
      "cell_type": "markdown",
      "metadata": {
        "id": "v0bQm9iIlgRn"
      },
      "source": [
        "================лучший результат  GradientBoosting================================================= \n",
        "\n",
        "              precision    recall  f1-score   support\n",
        "\n",
        "           0       0.91      0.93      0.92       785\n",
        "           1       0.78      0.73      0.75       272\n",
        "\n",
        "    accuracy                           0.88      1057\n",
        "   macro avg       0.84      0.83      0.83      1057\n",
        "weighted avg       0.87      0.88      0.87      1057\n",
        "\n",
        "GradientBoosting (ROC AUC= 0.9206) (accuracy= 0.8761) ,\n",
        "\n",
        "            Confusion Matrix\n",
        "            \n",
        "                       Predicted label\n",
        "               |       0       |        1        |\n",
        "true label | 0 |  730 (93.0%)  |    55 ( 7.0%)   |\n",
        "           | 1 |   74 (27.2%)  |   178 (72.8%)   |\n",
        "\n",
        "\n",
        "\n",
        "\n",
        "\n",
        "\n",
        "\n"
      ]
    },
    {
      "cell_type": "code",
      "execution_count": null,
      "metadata": {
        "id": "kTxLo08glgRn"
      },
      "outputs": [],
      "source": []
    }
  ],
  "metadata": {
    "kernelspec": {
      "display_name": "Python 3 (ipykernel)",
      "language": "python",
      "name": "python3"
    },
    "language_info": {
      "codemirror_mode": {
        "name": "ipython",
        "version": 3
      },
      "file_extension": ".py",
      "mimetype": "text/x-python",
      "name": "python",
      "nbconvert_exporter": "python",
      "pygments_lexer": "ipython3",
      "version": "3.9.7"
    },
    "toc": {
      "base_numbering": 1,
      "nav_menu": {},
      "number_sections": true,
      "sideBar": true,
      "skip_h1_title": false,
      "title_cell": "Table of Contents",
      "title_sidebar": "Contents",
      "toc_cell": true,
      "toc_position": {
        "height": "calc(100% - 180px)",
        "left": "10px",
        "top": "150px",
        "width": "273.267px"
      },
      "toc_section_display": true,
      "toc_window_display": false
    },
    "colab": {
      "provenance": [],
      "include_colab_link": true
    }
  },
  "nbformat": 4,
  "nbformat_minor": 0
}