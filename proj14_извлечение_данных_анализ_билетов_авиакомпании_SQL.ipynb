{
  "cells": [
    {
      "cell_type": "markdown",
      "metadata": {
        "id": "view-in-github",
        "colab_type": "text"
      },
      "source": [
        "<a href=\"https://colab.research.google.com/github/apollonov-evgeniy/2/blob/main/proj14_%D0%B8%D0%B7%D0%B2%D0%BB%D0%B5%D1%87%D0%B5%D0%BD%D0%B8%D0%B5_%D0%B4%D0%B0%D0%BD%D0%BD%D1%8B%D1%85_%D0%B0%D0%BD%D0%B0%D0%BB%D0%B8%D0%B7_%D0%B1%D0%B8%D0%BB%D0%B5%D1%82%D0%BE%D0%B2_%D0%B0%D0%B2%D0%B8%D0%B0%D0%BA%D0%BE%D0%BC%D0%BF%D0%B0%D0%BD%D0%B8%D0%B8_SQL.ipynb\" target=\"_parent\"><img src=\"https://colab.research.google.com/assets/colab-badge.svg\" alt=\"Open In Colab\"/></a>"
      ]
    },
    {
      "cell_type": "markdown",
      "metadata": {
        "id": "RQaoJXuqi-ht"
      },
      "source": [
        "Вы аналитик российской авиакомпании F9, выполняющей внутренние пассажирские перевозки. Важно понять предпочтения пользователей, покупающих билеты на разные направления.\n",
        "\n",
        "Вам предстоит изучить базу данных и проанализировать спрос пассажиров на рейсы в города, где проходят крупнейшие культурные фестивали."
      ]
    },
    {
      "cell_type": "markdown",
      "metadata": {
        "id": "RueEvyxAi-h3"
      },
      "source": [
        "\n",
        "<div class=\"alert alert-info\">\n",
        "Привет! Меня зовут Никита Мишин и я буду твоим ревьюером по этому проекты.\n",
        "Для простоты предлагаю общение на 'ты'. Буду предполагать, что ты не против:) \n",
        "Если более предпочтительно обращение на 'Вы', пиши, не стесняйся.\n",
        "Также если будут возникать вопросы, аналогично, пиши:)\n",
        "\n",
        "Предлагаю работать в известном тебе итеративном формате.\n",
        "Итерация состоит в моей проверке твоего решения. \n",
        "После решения могут остаться какие-то недочеты, которые я попрошу тебя устранить, ты их исправляешь и я проверяю твои решения.\n",
        "    Оставленные мною комментарии могут быть разного вида:\n",
        "   \n",
        "    - зеленый: элегантные решения, которые тебе стоит запомнит и в дальнейшем взять на вооружение:) \n",
        "    \n",
        "    - желтый: сигнал о том, что есть некритичная вещь(не всегда ошибка), что нужно точно поправить в следующей работе, даже желательно в этой (полезно, в первую очередь, для тебя:) ).Также это рекомендации на будущее    \n",
        "\n",
        "    - красный: недочет, который нужно исправить в этой работе, для того, чтобы она была принята\n",
        "    \n",
        "    - синий: полезная информация, доп ресурсы, \"вопросы на подумать\"\n",
        "\n",
        "Также попрошу не удалять мои комментарии:) <a class=\"tocSkip\">\n",
        "</div>"
      ]
    },
    {
      "cell_type": "markdown",
      "metadata": {
        "id": "um1xbFlFi-h6"
      },
      "source": [
        "Работа с базой  \n",
        "Менеджер авиаперевозчика готовит исследование. Он хочет выявить связь между числом полётов, типом самолётов и календарём музыкальных фестивалей. Помогите ему получить необходимые данные.\n",
        "Вы решите задачу в несколько шагов, двигаясь от простых запросов к более изощрённым.  \n",
        "Описание данных  \n",
        "В вашем распоряжении база данных об авиаперевозках.  \n",
        "Таблица airports — информация об аэропортах:  \n",
        "airport_code — трёхбуквенный код аэропорта  \n",
        "airport_name — название аэропорта  \n",
        "city — город  \n",
        "timezone — временная зона  \n",
        "Таблица aircrafts — информация о самолётах:  \n",
        "aircraft_code — код модели самолёта  \n",
        "model — модель самолёта  \n",
        "range — дальность полёта  \n",
        "Таблица tickets — информация о билетах:  \n",
        "ticket_no — уникальный номер билета  \n",
        "passenger_id — персональный идентификатор пассажира  \n",
        "passenger_name — имя и фамилия пассажира  \n",
        "Таблица flights — информация о рейсах:  \n",
        "flight_id — уникальный идентификатор рейса  \n",
        "departure_airport — аэропорт вылета  \n",
        "departure_time — дата и время вылета  \n",
        "arrival_airport — аэропорт прилёта  \n",
        "arrival_time — дата и время прилёта  \n",
        "aircraft_code — id самолёта  \n",
        "Таблица ticket_flights — стыковая таблица «рейсы-билеты»  \n",
        "ticket_no — номер билета  \n",
        "flight_id — идентификатор рейса  \n",
        "Таблица festivals — информация о фестивалях  \n",
        "festival_id — уникальный номер фестиваля  \n",
        "festival_date — дата проведения фестиваля  \n",
        "festival_city — город проведения фестиваля  \n",
        "festival_name — название фестиваля  \n",
        "Схема таблиц  \n",
        "image  \n",
        "Пояснение: В базе данных нет прямой связи между таблицами airports и festivals, а также festivals и flights. Но вы можете писать JOIN и связывать эти таблицы по городу проведения фестиваля (festival_city) и городу аэропорта (city). Потребуется некоторое преобразование дат в flights, и тогда эту таблицу также можно будет связать по дате проведения фестиваля (festival_date) в запросах с JOIN.  "
      ]
    },
    {
      "cell_type": "markdown",
      "metadata": {
        "id": "rEGzcGEHi-h8"
      },
      "source": [
        "1.  \n",
        "Найдите количество рейсов на каждой модели самолёта с вылетом в сентябре 2018 года. Назовите получившееся поле flights_amount и выведите его. Также напечатайте на экране поле model. Столбцы в таблице должны быть выведены в следующем порядке:  \n",
        "model  \n",
        "flights_amount  \n",
        "Подсказка  \n",
        "Соедините таблицы aircrafts и flights. Примените агрегирующие функции с группировкой и не забудьте написать условие.  \n",
        "\n",
        "SELECT   \n",
        "        model,  \n",
        "        count(model) AS flights_amount  \n",
        "FROM flights  \n",
        "JOIN aircrafts ON aircrafts.aircraft_code = flights.aircraft_code  \n",
        "WHERE (flights.departure_time :: date < '2018-10-01'  \n",
        "           AND flights.departure_time :: date >= '2018-09-01')  \n",
        "GROUP BY  \n",
        "        model \n",
        "        \n",
        " 2.  \n",
        "Посчитайте отправленные в сентябре рейсы самолётов следующих моделей:  \n",
        "Boeing,  \n",
        "Airbus,  \n",
        "другие (“other”).  \n",
        "Назовите получившуюся переменную flights_amount и выведите её значение на экран.  \n",
        "Подсказка  \n",
        "Соедините таблицы aircrafts и flights. Примените конструкцию CASE для группировки моделей.     \n",
        "SELECT   \n",
        "    COUNT(flights.flight_id) AS flights_amount,  \n",
        "    CASE WHEN aircrafts.model LIKE '%Boeing%' THEN 'Boeing'  \n",
        "         WHEN aircrafts.model LIKE '%Airbus%' THEN 'Airbus'  \n",
        "         ELSE 'other' END AS type_aircraft  \n",
        "FROM aircrafts  \n",
        "INNER JOIN flights ON aircrafts.aircraft_code = flights.aircraft_code  \n",
        "WHERE (flights.departure_time :: date < '2018-10-01'  \n",
        "       AND flights.departure_time :: date >= '2018-09-01')  \n",
        "GROUP BY  \n",
        "    type_aircraft  \n",
        "    \n",
        "3.  \n",
        "Посчитайте среднее количество прибывающих рейсов в день для каждого города за август 2018 года. Назовите получившееся поле average_flights, вместе с ним выведите столбец city.  \n",
        "Выводите столбцы в таком порядке:  \n",
        "city,  \n",
        "average_flights.  \n",
        "Подсказка  \n",
        "Соедините таблицы flights и airports. Посчитайте количество рейсов для каждого города и найдите среднее.  \n",
        "\n",
        "SELECT subq.city,  \n",
        "       avg(subq.num_flights) AS average_flights  \n",
        "FROM  \n",
        "    (SELECT airports.city AS city,  \n",
        "            count(flights.flight_id) AS num_flights,  \n",
        "            extract(DAY \n",
        "                    FROM flights.arrival_time :: date) AS DAY  \n",
        "     FROM flights  \n",
        "     JOIN airports ON airports.airport_code = flights.arrival_airport  \n",
        "     WHERE (flights.arrival_time :: date < '2018-09-01'  \n",
        "            AND flights.arrival_time :: date >= '2018-08-01')  \n",
        "     GROUP BY airports.city,  \n",
        "              extract(DAY  \n",
        "                      FROM flights.arrival_time :: date)) AS subq  \n",
        "GROUP BY subq.city  \n",
        "\n",
        "4.  \n",
        "Установите фестивали, которые проходили с 23 июля по 30 сентября 2018 года в Москве, и номер недели, в которую они проходили. Выведите название фестиваля festival_name и номер недели festival_week.  \n",
        "Подсказка  \n",
        "Возьмите таблицу festivals.  \n",
        "\n",
        "SELECT festival_name AS festival_name,  \n",
        "       extract(WEEK  \n",
        "               FROM festival_date) AS festival_week  \n",
        "FROM festivals  \n",
        "WHERE festival_city = 'Москва'  \n",
        "    AND festival_date < '2018-09-30'  \n",
        "    AND festival_date > '2018-07-23'  \n",
        "5.  \n",
        "Для каждой недели с 23 июля по 30 сентября 2018 года посчитайте билеты, которые купили на рейсы в Москву (номер недели week_number и количество билетов ticket_amount). Получите таблицу:  \n",
        "с количеством купленных за неделю билетов;  \n",
        "отметкой, проходил ли в эту неделю фестиваль;  \n",
        "название фестиваля festival_name;  \n",
        "номер недели week_number.  \n",
        "Выводите столбцы в таком порядке: - week_number - ticket_amount - festival_week - festival_name  \n",
        "Подсказка  \n",
        "Дополните запрос из предыдущего задания.   \n",
        "\n",
        "SELECT   \n",
        "\tT.week_number,  \n",
        "\tT.ticket_amount,  \n",
        "\tT.festival_week,  \n",
        "\tT.festival_name  \n",
        "FROM (  \n",
        "(  \n",
        "  SELECT EXTRACT(week from flights.arrival_time::date) as week_number,  \n",
        "          COUNT (ticket_flights.ticket_no) as ticket_amount  \n",
        "  FROM flights  \n",
        "  JOIN airports on airports.airport_code = flights.arrival_airport  \n",
        "  JOIN ticket_flights on ticket_flights.flight_id = flights.flight_id  \n",
        "  WHERE airports.city = 'Москва' and  \n",
        "        CAST(flights.arrival_time AS date) BETWEEN '2018-07-23' AND '2018-09-30'  \n",
        "  GROUP BY week_number  \n",
        ") t1  \n",
        "LEFT JOIN   \n",
        "(SELECT \t  \t\n",
        "\t\tfestival_name,\t  \n",
        "\t\tEXTRACT (week FROM festivals.festival_date) AS festival_week  \n",
        "\tFROM   \n",
        "\t\tfestivals  \n",
        "\tWHERE  \n",
        "\t\tfestival_city = 'Москва'  \n",
        "\t  AND CAST(festivals.festival_date AS date) BETWEEN '2018-07-23' AND '2018-09-30'  \n",
        ") t2   \n",
        "ON   \n",
        "\tt1.week_number = t2.festival_week  \n",
        ") AS T  "
      ]
    },
    {
      "cell_type": "markdown",
      "metadata": {
        "id": "dskhEwtRi-iA"
      },
      "source": [
        "**Аналитика средствами Python**\n",
        "\n",
        "У вас есть файлы, в которых содержатся результаты запросов из предыдущих заданий.\n",
        "\n",
        "**query_1.csv** — результат первого запроса. В нём содержится такая информация:\n",
        "\n",
        "- *model* — **модель самолета;\n",
        "- *flights_amount* — количество рейсов для каждой модели самолетов *model* в сентябре 2018 года.\n",
        "\n",
        "**query_3.csv** — результат третьего запроса. В нём содержится такая информация:\n",
        "\n",
        "- *city* — город;\n",
        "- *average_flights* — среднее количество рейсов, прибывающих в город (*city*) за день в сентябре 2018 года.\n",
        "\n",
        " Для этих двух наборов данных нужно:\n",
        "\n",
        "- импортировать файлы;\n",
        "- изучить данные в них;\n",
        "- проверить типы данных на корректность;\n",
        "- выбрать топ-10 городов по количеству рейсов;\n",
        "- построить графики: модели самолётов и количество рейсов, города и количество рейсов, топ-10 городов и количество рейсов;\n",
        "- сделать выводы по каждому из графиков, пояснить результат.\n"
      ]
    },
    {
      "cell_type": "markdown",
      "metadata": {
        "id": "d8poXZ7Zi-iC"
      },
      "source": [
        "# Аналитика"
      ]
    },
    {
      "cell_type": "code",
      "execution_count": null,
      "metadata": {
        "id": "yOaO9Hw4i-iD",
        "outputId": "e9632de8-deb4-4568-fb38-a3f1d46144cc"
      },
      "outputs": [
        {
          "name": "stdout",
          "output_type": "stream",
          "text": [
            "Defaulting to user installation because normal site-packages is not writeable\n",
            "Requirement already up-to-date: cufflinks in /home/jovyan/.local/lib/python3.7/site-packages (0.17.3)\n",
            "Requirement already up-to-date: plotly in /home/jovyan/.local/lib/python3.7/site-packages (4.14.3)\n",
            "Requirement already satisfied, skipping upgrade: colorlover>=0.2.1 in /home/jovyan/.local/lib/python3.7/site-packages (from cufflinks) (0.3.0)\n",
            "Requirement already satisfied, skipping upgrade: ipywidgets>=7.0.0 in /opt/conda/lib/python3.7/site-packages (from cufflinks) (7.2.0)\n",
            "Requirement already satisfied, skipping upgrade: pandas>=0.19.2 in /opt/conda/lib/python3.7/site-packages (from cufflinks) (0.25.1)\n",
            "Requirement already satisfied, skipping upgrade: numpy>=1.9.2 in /opt/conda/lib/python3.7/site-packages (from cufflinks) (1.19.5)\n",
            "Requirement already satisfied, skipping upgrade: setuptools>=34.4.1 in /opt/conda/lib/python3.7/site-packages (from cufflinks) (49.6.0.post20210108)\n",
            "Requirement already satisfied, skipping upgrade: ipython>=5.3.0 in /opt/conda/lib/python3.7/site-packages (from cufflinks) (7.20.0)\n",
            "Requirement already satisfied, skipping upgrade: six>=1.9.0 in /opt/conda/lib/python3.7/site-packages (from cufflinks) (1.15.0)\n",
            "Requirement already satisfied, skipping upgrade: retrying>=1.3.3 in /opt/conda/lib/python3.7/site-packages (from plotly) (1.3.3)\n",
            "Requirement already satisfied, skipping upgrade: widgetsnbextension~=3.2.0 in /opt/conda/lib/python3.7/site-packages (from ipywidgets>=7.0.0->cufflinks) (3.2.1)\n",
            "Requirement already satisfied, skipping upgrade: nbformat>=4.2.0 in /opt/conda/lib/python3.7/site-packages (from ipywidgets>=7.0.0->cufflinks) (4.4.0)\n",
            "Requirement already satisfied, skipping upgrade: traitlets>=4.3.1 in /opt/conda/lib/python3.7/site-packages (from ipywidgets>=7.0.0->cufflinks) (5.0.5)\n",
            "Requirement already satisfied, skipping upgrade: ipykernel>=4.5.1 in /opt/conda/lib/python3.7/site-packages (from ipywidgets>=7.0.0->cufflinks) (5.4.3)\n",
            "Requirement already satisfied, skipping upgrade: pytz>=2017.2 in /opt/conda/lib/python3.7/site-packages (from pandas>=0.19.2->cufflinks) (2021.1)\n",
            "Requirement already satisfied, skipping upgrade: python-dateutil>=2.6.1 in /opt/conda/lib/python3.7/site-packages (from pandas>=0.19.2->cufflinks) (2.8.1)\n",
            "Requirement already satisfied, skipping upgrade: pygments in /opt/conda/lib/python3.7/site-packages (from ipython>=5.3.0->cufflinks) (2.6.1)\n",
            "Requirement already satisfied, skipping upgrade: backcall in /opt/conda/lib/python3.7/site-packages (from ipython>=5.3.0->cufflinks) (0.2.0)\n",
            "Requirement already satisfied, skipping upgrade: pexpect>4.3; sys_platform != \"win32\" in /opt/conda/lib/python3.7/site-packages (from ipython>=5.3.0->cufflinks) (4.8.0)\n",
            "Requirement already satisfied, skipping upgrade: decorator in /opt/conda/lib/python3.7/site-packages (from ipython>=5.3.0->cufflinks) (4.4.2)\n",
            "Requirement already satisfied, skipping upgrade: prompt-toolkit!=3.0.0,!=3.0.1,<3.1.0,>=2.0.0 in /opt/conda/lib/python3.7/site-packages (from ipython>=5.3.0->cufflinks) (3.0.5)\n",
            "Requirement already satisfied, skipping upgrade: jedi>=0.16 in /opt/conda/lib/python3.7/site-packages (from ipython>=5.3.0->cufflinks) (0.18.0)\n",
            "Requirement already satisfied, skipping upgrade: pickleshare in /opt/conda/lib/python3.7/site-packages (from ipython>=5.3.0->cufflinks) (0.7.5)\n",
            "Requirement already satisfied, skipping upgrade: notebook>=4.4.1 in /opt/conda/lib/python3.7/site-packages (from widgetsnbextension~=3.2.0->ipywidgets>=7.0.0->cufflinks) (6.0.3)\n",
            "Requirement already satisfied, skipping upgrade: jsonschema!=2.5.0,>=2.4 in /opt/conda/lib/python3.7/site-packages (from nbformat>=4.2.0->ipywidgets>=7.0.0->cufflinks) (3.2.0)\n",
            "Requirement already satisfied, skipping upgrade: jupyter-core in /opt/conda/lib/python3.7/site-packages (from nbformat>=4.2.0->ipywidgets>=7.0.0->cufflinks) (4.6.2)\n",
            "Requirement already satisfied, skipping upgrade: ipython-genutils in /opt/conda/lib/python3.7/site-packages (from nbformat>=4.2.0->ipywidgets>=7.0.0->cufflinks) (0.2.0)\n",
            "Requirement already satisfied, skipping upgrade: jupyter-client in /opt/conda/lib/python3.7/site-packages (from ipykernel>=4.5.1->ipywidgets>=7.0.0->cufflinks) (5.3.4)\n",
            "Requirement already satisfied, skipping upgrade: tornado>=4.2 in /opt/conda/lib/python3.7/site-packages (from ipykernel>=4.5.1->ipywidgets>=7.0.0->cufflinks) (6.1)\n",
            "Requirement already satisfied, skipping upgrade: ptyprocess>=0.5 in /opt/conda/lib/python3.7/site-packages (from pexpect>4.3; sys_platform != \"win32\"->ipython>=5.3.0->cufflinks) (0.6.0)\n",
            "Requirement already satisfied, skipping upgrade: wcwidth in /opt/conda/lib/python3.7/site-packages (from prompt-toolkit!=3.0.0,!=3.0.1,<3.1.0,>=2.0.0->ipython>=5.3.0->cufflinks) (0.2.5)\n",
            "Requirement already satisfied, skipping upgrade: parso<0.9.0,>=0.8.0 in /opt/conda/lib/python3.7/site-packages (from jedi>=0.16->ipython>=5.3.0->cufflinks) (0.8.1)\n",
            "Requirement already satisfied, skipping upgrade: jinja2 in /opt/conda/lib/python3.7/site-packages (from notebook>=4.4.1->widgetsnbextension~=3.2.0->ipywidgets>=7.0.0->cufflinks) (2.11.2)\n",
            "Requirement already satisfied, skipping upgrade: terminado>=0.8.1 in /opt/conda/lib/python3.7/site-packages (from notebook>=4.4.1->widgetsnbextension~=3.2.0->ipywidgets>=7.0.0->cufflinks) (0.9.2)\n",
            "Requirement already satisfied, skipping upgrade: Send2Trash in /opt/conda/lib/python3.7/site-packages (from notebook>=4.4.1->widgetsnbextension~=3.2.0->ipywidgets>=7.0.0->cufflinks) (1.5.0)\n",
            "Requirement already satisfied, skipping upgrade: prometheus-client in /opt/conda/lib/python3.7/site-packages (from notebook>=4.4.1->widgetsnbextension~=3.2.0->ipywidgets>=7.0.0->cufflinks) (0.8.0)\n",
            "Requirement already satisfied, skipping upgrade: pyzmq>=17 in /opt/conda/lib/python3.7/site-packages (from notebook>=4.4.1->widgetsnbextension~=3.2.0->ipywidgets>=7.0.0->cufflinks) (19.0.1)\n",
            "Requirement already satisfied, skipping upgrade: nbconvert in /opt/conda/lib/python3.7/site-packages (from notebook>=4.4.1->widgetsnbextension~=3.2.0->ipywidgets>=7.0.0->cufflinks) (5.5.0)\n",
            "Requirement already satisfied, skipping upgrade: pyrsistent>=0.14.0 in /opt/conda/lib/python3.7/site-packages (from jsonschema!=2.5.0,>=2.4->nbformat>=4.2.0->ipywidgets>=7.0.0->cufflinks) (0.17.3)\n",
            "Requirement already satisfied, skipping upgrade: importlib-metadata; python_version < \"3.8\" in /opt/conda/lib/python3.7/site-packages (from jsonschema!=2.5.0,>=2.4->nbformat>=4.2.0->ipywidgets>=7.0.0->cufflinks) (1.7.0)\n",
            "Requirement already satisfied, skipping upgrade: attrs>=17.4.0 in /opt/conda/lib/python3.7/site-packages (from jsonschema!=2.5.0,>=2.4->nbformat>=4.2.0->ipywidgets>=7.0.0->cufflinks) (19.1.0)\n",
            "Requirement already satisfied, skipping upgrade: MarkupSafe>=0.23 in /opt/conda/lib/python3.7/site-packages (from jinja2->notebook>=4.4.1->widgetsnbextension~=3.2.0->ipywidgets>=7.0.0->cufflinks) (1.1.1)\n",
            "Requirement already satisfied, skipping upgrade: bleach in /opt/conda/lib/python3.7/site-packages (from nbconvert->notebook>=4.4.1->widgetsnbextension~=3.2.0->ipywidgets>=7.0.0->cufflinks) (3.1.5)\n",
            "Requirement already satisfied, skipping upgrade: pandocfilters>=1.4.1 in /opt/conda/lib/python3.7/site-packages (from nbconvert->notebook>=4.4.1->widgetsnbextension~=3.2.0->ipywidgets>=7.0.0->cufflinks) (1.4.2)\n",
            "Requirement already satisfied, skipping upgrade: defusedxml in /opt/conda/lib/python3.7/site-packages (from nbconvert->notebook>=4.4.1->widgetsnbextension~=3.2.0->ipywidgets>=7.0.0->cufflinks) (0.6.0)\n",
            "Requirement already satisfied, skipping upgrade: mistune>=0.8.1 in /opt/conda/lib/python3.7/site-packages (from nbconvert->notebook>=4.4.1->widgetsnbextension~=3.2.0->ipywidgets>=7.0.0->cufflinks) (0.8.4)\n",
            "Requirement already satisfied, skipping upgrade: testpath in /opt/conda/lib/python3.7/site-packages (from nbconvert->notebook>=4.4.1->widgetsnbextension~=3.2.0->ipywidgets>=7.0.0->cufflinks) (0.4.4)\n",
            "Requirement already satisfied, skipping upgrade: entrypoints>=0.2.2 in /opt/conda/lib/python3.7/site-packages (from nbconvert->notebook>=4.4.1->widgetsnbextension~=3.2.0->ipywidgets>=7.0.0->cufflinks) (0.3)\n",
            "Requirement already satisfied, skipping upgrade: zipp>=0.5 in /opt/conda/lib/python3.7/site-packages (from importlib-metadata; python_version < \"3.8\"->jsonschema!=2.5.0,>=2.4->nbformat>=4.2.0->ipywidgets>=7.0.0->cufflinks) (3.1.0)\n",
            "Requirement already satisfied, skipping upgrade: packaging in /opt/conda/lib/python3.7/site-packages (from bleach->nbconvert->notebook>=4.4.1->widgetsnbextension~=3.2.0->ipywidgets>=7.0.0->cufflinks) (20.4)\n",
            "Requirement already satisfied, skipping upgrade: webencodings in /opt/conda/lib/python3.7/site-packages (from bleach->nbconvert->notebook>=4.4.1->widgetsnbextension~=3.2.0->ipywidgets>=7.0.0->cufflinks) (0.5.1)\n",
            "Requirement already satisfied, skipping upgrade: pyparsing>=2.0.2 in /opt/conda/lib/python3.7/site-packages (from packaging->bleach->nbconvert->notebook>=4.4.1->widgetsnbextension~=3.2.0->ipywidgets>=7.0.0->cufflinks) (2.4.7)\n"
          ]
        }
      ],
      "source": [
        "!pip install cufflinks plotly -U"
      ]
    },
    {
      "cell_type": "code",
      "execution_count": null,
      "metadata": {
        "id": "A6xFO8u7i-iH",
        "outputId": "f212971d-422c-4607-d44f-8743e179ef91"
      },
      "outputs": [
        {
          "data": {
            "text/html": [
              "        <script type=\"text/javascript\">\n",
              "        window.PlotlyConfig = {MathJaxConfig: 'local'};\n",
              "        if (window.MathJax) {MathJax.Hub.Config({SVG: {font: \"STIX-Web\"}});}\n",
              "        if (typeof require !== 'undefined') {\n",
              "        require.undef(\"plotly\");\n",
              "        requirejs.config({\n",
              "            paths: {\n",
              "                'plotly': ['https://cdn.plot.ly/plotly-latest.min']\n",
              "            }\n",
              "        });\n",
              "        require(['plotly'], function(Plotly) {\n",
              "            window._Plotly = Plotly;\n",
              "        });\n",
              "        }\n",
              "        </script>\n",
              "        "
            ]
          },
          "metadata": {},
          "output_type": "display_data"
        },
        {
          "data": {
            "text/html": [
              "        <script type=\"text/javascript\">\n",
              "        window.PlotlyConfig = {MathJaxConfig: 'local'};\n",
              "        if (window.MathJax) {MathJax.Hub.Config({SVG: {font: \"STIX-Web\"}});}\n",
              "        if (typeof require !== 'undefined') {\n",
              "        require.undef(\"plotly\");\n",
              "        requirejs.config({\n",
              "            paths: {\n",
              "                'plotly': ['https://cdn.plot.ly/plotly-latest.min']\n",
              "            }\n",
              "        });\n",
              "        require(['plotly'], function(Plotly) {\n",
              "            window._Plotly = Plotly;\n",
              "        });\n",
              "        }\n",
              "        </script>\n",
              "        "
            ]
          },
          "metadata": {},
          "output_type": "display_data"
        }
      ],
      "source": [
        "import os\n",
        "\n",
        "import numpy as np\n",
        "import pandas as pd\n",
        "\n",
        "import seaborn as sns\n",
        "import matplotlib.pyplot as plt\n",
        "\n",
        "\n",
        "import math\n",
        "from scipy import stats as st\n",
        "\n",
        "import requests\n",
        "\n",
        "# импортируем модули plotly для интерактивной визуализации\n",
        "import plotly.graph_objs as go\n",
        "import cufflinks as cf\n",
        "import plotly.express as px\n",
        "from plotly import __version__\n",
        "from plotly.offline import download_plotlyjs, init_notebook_mode, plot, iplot \n",
        "init_notebook_mode(connected=True)\n",
        "cf.go_offline()\n",
        "\n",
        "PATH = '/datasets/'\n",
        "SEED = 21"
      ]
    },
    {
      "cell_type": "markdown",
      "metadata": {
        "id": "gec48L0Oi-iJ"
      },
      "source": [
        "\n",
        "<div class=\"alert alert-success\">\n",
        "<h1>Комментарий ревьюера <a class=\"tocSkip\"></a></h1>\n",
        "Верное решение о расположении всех импортов в начале тетрадки. Так пользователь сразу поймет, какие нужны библиотеки\n",
        "</div>"
      ]
    },
    {
      "cell_type": "markdown",
      "metadata": {
        "id": "2xzTKthni-iL"
      },
      "source": [
        "## Исследование данных"
      ]
    },
    {
      "cell_type": "markdown",
      "metadata": {
        "id": "WA2CGemUi-iM"
      },
      "source": [
        "### Импорт файлов"
      ]
    },
    {
      "cell_type": "code",
      "execution_count": null,
      "metadata": {
        "id": "EBP6i5fci-iN"
      },
      "outputs": [],
      "source": [
        "query_1 =( pd.read_csv(os.path.join(PATH, 'query_1.csv'))\n",
        "          .sort_values(by = 'flights_amount',ascending = False)\n",
        "          .reset_index(drop= True))\n",
        "query_3 =( pd.read_csv(os.path.join(PATH, 'query_3.csv'))\n",
        "          .sort_values(by= 'average_flights', ascending =False)\n",
        "          .reset_index(drop=True))"
      ]
    },
    {
      "cell_type": "markdown",
      "metadata": {
        "id": "zqF7-M3ti-iO"
      },
      "source": [
        "### Проверка данных"
      ]
    },
    {
      "cell_type": "code",
      "execution_count": null,
      "metadata": {
        "id": "HnytWa2Ri-iP",
        "outputId": "e58e51d2-8d14-419a-fa99-bf48a9bb2db7"
      },
      "outputs": [
        {
          "name": "stdout",
          "output_type": "stream",
          "text": [
            "Модели самолётов и количество рейсов\n",
            "------------------------------------------\n",
            "                 model  flights_amount\n",
            "0   Cessna 208 Caravan            4557\n",
            "1   Bombardier CRJ-200            4446\n",
            "2  Sukhoi SuperJet-100            4185\n",
            "3      Airbus A321-200             960\n",
            "4       Boeing 737-300             630\n",
            "5      Airbus A319-100             607\n",
            "6       Boeing 767-300             600\n",
            "7       Boeing 777-300             300\n",
            "------------------------------------------\n",
            "<class 'pandas.core.frame.DataFrame'>\n",
            "RangeIndex: 8 entries, 0 to 7\n",
            "Data columns (total 2 columns):\n",
            "model             8 non-null object\n",
            "flights_amount    8 non-null int64\n",
            "dtypes: int64(1), object(1)\n",
            "memory usage: 256.0+ bytes\n",
            "None\n",
            "------------------------------------------\n",
            "       flights_amount\n",
            "count        8.000000\n",
            "mean      2035.625000\n",
            "std       1965.203947\n",
            "min        300.000000\n",
            "25%        605.250000\n",
            "50%        795.000000\n",
            "75%       4250.250000\n",
            "max       4557.000000\n"
          ]
        }
      ],
      "source": [
        "print('Модели самолётов и количество рейсов')\n",
        "print('------------------------------------------')\n",
        "print(query_1.head(10))\n",
        "print('------------------------------------------')\n",
        "print(query_1.info())\n",
        "print('------------------------------------------')\n",
        "print(query_1.describe())"
      ]
    },
    {
      "cell_type": "code",
      "execution_count": null,
      "metadata": {
        "id": "mjppU23ni-iQ",
        "outputId": "a046da10-9885-4fc8-ef96-c2ec4c6533fb"
      },
      "outputs": [
        {
          "name": "stdout",
          "output_type": "stream",
          "text": [
            "Города и количество рейсов, среднее в день\n",
            "------------------------------------------\n",
            "              city  average_flights\n",
            "0           Москва       129.774194\n",
            "1  Санкт-Петербург        31.161290\n",
            "2      Новосибирск        17.322581\n",
            "3       Красноярск        11.580645\n",
            "4     Екатеринбург        11.322581\n",
            "5   Ростов-на-Дону        10.193548\n",
            "6            Пермь        10.129032\n",
            "7           Брянск        10.000000\n",
            "8             Сочи         9.612903\n",
            "9        Ульяновск         9.580645\n",
            "------------------------------------------\n",
            "<class 'pandas.core.frame.DataFrame'>\n",
            "RangeIndex: 101 entries, 0 to 100\n",
            "Data columns (total 2 columns):\n",
            "city               101 non-null object\n",
            "average_flights    101 non-null float64\n",
            "dtypes: float64(1), object(1)\n",
            "memory usage: 1.7+ KB\n",
            "None\n",
            "------------------------------------------\n",
            "       average_flights\n",
            "count       101.000000\n",
            "mean          5.494189\n",
            "std          13.119790\n",
            "min           1.000000\n",
            "25%           2.000000\n",
            "50%           3.000000\n",
            "75%           5.870968\n",
            "max         129.774194\n"
          ]
        }
      ],
      "source": [
        "print('Города и количество рейсов, среднее в день')\n",
        "print('------------------------------------------')\n",
        "print(query_3.head(10))\n",
        "print('------------------------------------------')\n",
        "print(query_3.info())\n",
        "print('------------------------------------------')\n",
        "print(query_3.describe())"
      ]
    },
    {
      "cell_type": "markdown",
      "metadata": {
        "id": "N0jnpBogi-iR"
      },
      "source": [
        "\n",
        "<div class=\"alert alert-warning\">\n",
        "<h1>Комментарий ревьюера <a class=\"tocSkip\"></a></h1>\n",
        "Дублируется функциональность для разных датасетов. Стоило завести функцию с данной общей функциональностью\n",
        "</div>"
      ]
    },
    {
      "cell_type": "markdown",
      "metadata": {
        "id": "zDSqIivEi-iS"
      },
      "source": [
        "### проверка на наличие NaN значений"
      ]
    },
    {
      "cell_type": "code",
      "execution_count": null,
      "metadata": {
        "id": "1EUven_Ii-iU",
        "outputId": "1548ab4d-220f-48f0-deb7-0be6a049c350"
      },
      "outputs": [
        {
          "name": "stdout",
          "output_type": "stream",
          "text": [
            "NaN flights amount:\n",
            " model             0\n",
            "flights_amount    0\n",
            "dtype: int64 \n",
            "\n",
            " NaN average_flights:\n",
            " city               0\n",
            "average_flights    0\n",
            "dtype: int64\n"
          ]
        }
      ],
      "source": [
        "nan_1 = query_1.isna().sum()\n",
        "\n",
        "nan_2 = query_3.isna().sum()\n",
        "\n",
        "print('NaN flights amount:\\n', nan_1, '\\n\\n NaN average_flights:\\n', nan_2)"
      ]
    },
    {
      "cell_type": "markdown",
      "metadata": {
        "id": "FDZeaNhYi-iU"
      },
      "source": [
        "### Проверка на наличие дубликатов"
      ]
    },
    {
      "cell_type": "code",
      "execution_count": null,
      "metadata": {
        "id": "VGWBUfw2i-iV",
        "outputId": "f72d7f60-5b8c-4fba-b487-f06a3ad319d8"
      },
      "outputs": [
        {
          "name": "stdout",
          "output_type": "stream",
          "text": [
            "Duplicated flights amount: 0 \n",
            " Duplicated average flights: 0\n"
          ]
        }
      ],
      "source": [
        "duplicate_1 = query_1.duplicated().sum()\n",
        "\n",
        "duplicate_2 = query_3.duplicated().sum()\n",
        "\n",
        "print( 'Duplicated flights amount:', duplicate_1,'\\n Duplicated average flights:', duplicate_2)"
      ]
    },
    {
      "cell_type": "markdown",
      "metadata": {
        "id": "0s7AJV2mi-iX"
      },
      "source": [
        "\n",
        "<div class=\"alert alert-success\">\n",
        "<h1>Комментарий ревьюера <a class=\"tocSkip\"></a></h1>\n",
        "Молодец, что не забыл проверить на дубликаты\n",
        "</div>"
      ]
    },
    {
      "cell_type": "markdown",
      "metadata": {
        "id": "gGoIF8oki-iY"
      },
      "source": [
        "### Вывод\n",
        "\n",
        "Данные корректны, типы соответствуют данным, пропусков и дупликатов нет. Корректировки не нуждаются"
      ]
    },
    {
      "cell_type": "markdown",
      "metadata": {
        "id": "1dxAc_MBi-iY"
      },
      "source": [
        "## ТОП 10 и построение графиков"
      ]
    },
    {
      "cell_type": "markdown",
      "metadata": {
        "id": "3wHISDd6i-iZ"
      },
      "source": [
        "### ТОП 10 городов по количеству рейсов"
      ]
    },
    {
      "cell_type": "code",
      "execution_count": null,
      "metadata": {
        "id": "VRROpPAci-iZ",
        "outputId": "d6447d07-1f66-47c0-c66f-fb0409ea19e9"
      },
      "outputs": [
        {
          "data": {
            "text/html": [
              "<div>\n",
              "<style scoped>\n",
              "    .dataframe tbody tr th:only-of-type {\n",
              "        vertical-align: middle;\n",
              "    }\n",
              "\n",
              "    .dataframe tbody tr th {\n",
              "        vertical-align: top;\n",
              "    }\n",
              "\n",
              "    .dataframe thead th {\n",
              "        text-align: right;\n",
              "    }\n",
              "</style>\n",
              "<table border=\"1\" class=\"dataframe\">\n",
              "  <thead>\n",
              "    <tr style=\"text-align: right;\">\n",
              "      <th></th>\n",
              "      <th>city</th>\n",
              "      <th>average_flights</th>\n",
              "    </tr>\n",
              "  </thead>\n",
              "  <tbody>\n",
              "    <tr>\n",
              "      <td>0</td>\n",
              "      <td>Москва</td>\n",
              "      <td>129.774194</td>\n",
              "    </tr>\n",
              "    <tr>\n",
              "      <td>1</td>\n",
              "      <td>Санкт-Петербург</td>\n",
              "      <td>31.161290</td>\n",
              "    </tr>\n",
              "    <tr>\n",
              "      <td>2</td>\n",
              "      <td>Новосибирск</td>\n",
              "      <td>17.322581</td>\n",
              "    </tr>\n",
              "    <tr>\n",
              "      <td>3</td>\n",
              "      <td>Красноярск</td>\n",
              "      <td>11.580645</td>\n",
              "    </tr>\n",
              "    <tr>\n",
              "      <td>4</td>\n",
              "      <td>Екатеринбург</td>\n",
              "      <td>11.322581</td>\n",
              "    </tr>\n",
              "    <tr>\n",
              "      <td>5</td>\n",
              "      <td>Ростов-на-Дону</td>\n",
              "      <td>10.193548</td>\n",
              "    </tr>\n",
              "    <tr>\n",
              "      <td>6</td>\n",
              "      <td>Пермь</td>\n",
              "      <td>10.129032</td>\n",
              "    </tr>\n",
              "    <tr>\n",
              "      <td>7</td>\n",
              "      <td>Брянск</td>\n",
              "      <td>10.000000</td>\n",
              "    </tr>\n",
              "    <tr>\n",
              "      <td>8</td>\n",
              "      <td>Сочи</td>\n",
              "      <td>9.612903</td>\n",
              "    </tr>\n",
              "    <tr>\n",
              "      <td>9</td>\n",
              "      <td>Ульяновск</td>\n",
              "      <td>9.580645</td>\n",
              "    </tr>\n",
              "  </tbody>\n",
              "</table>\n",
              "</div>"
            ],
            "text/plain": [
              "              city  average_flights\n",
              "0           Москва       129.774194\n",
              "1  Санкт-Петербург        31.161290\n",
              "2      Новосибирск        17.322581\n",
              "3       Красноярск        11.580645\n",
              "4     Екатеринбург        11.322581\n",
              "5   Ростов-на-Дону        10.193548\n",
              "6            Пермь        10.129032\n",
              "7           Брянск        10.000000\n",
              "8             Сочи         9.612903\n",
              "9        Ульяновск         9.580645"
            ]
          },
          "execution_count": 8,
          "metadata": {},
          "output_type": "execute_result"
        }
      ],
      "source": [
        "city_top10 = query_3.head(10)\n",
        "city_top10"
      ]
    },
    {
      "cell_type": "markdown",
      "metadata": {
        "id": "VZm2UhU8i-ia"
      },
      "source": [
        "### График ТОП 10 городов по количеству рейсов"
      ]
    },
    {
      "cell_type": "code",
      "execution_count": null,
      "metadata": {
        "id": "gA2yADcvi-ib",
        "outputId": "c36b698c-dce5-4b00-8ef6-595184d92f2d"
      },
      "outputs": [
        {
          "data": {
            "application/vnd.plotly.v1+json": {
              "config": {
                "plotlyServerURL": "https://plot.ly"
              },
              "data": [
                {
                  "alignmentgroup": "True",
                  "hovertemplate": "average_flights=%{text}<br>city=%{y}<extra></extra>",
                  "legendgroup": "",
                  "marker": {
                    "color": "rgb(103,0,31)"
                  },
                  "name": "",
                  "offsetgroup": "",
                  "orientation": "h",
                  "showlegend": false,
                  "text": [
                    9.5806451613,
                    9.6129032258,
                    10,
                    10.1290322581,
                    10.1935483871,
                    11.3225806452,
                    11.5806451613,
                    17.3225806452,
                    31.1612903226,
                    129.7741935484
                  ],
                  "textposition": "outside",
                  "texttemplate": "%{text:.2s}",
                  "type": "bar",
                  "x": [
                    9.5806451613,
                    9.6129032258,
                    10,
                    10.1290322581,
                    10.1935483871,
                    11.3225806452,
                    11.5806451613,
                    17.3225806452,
                    31.1612903226,
                    129.7741935484
                  ],
                  "xaxis": "x",
                  "y": [
                    "Ульяновск",
                    "Сочи",
                    "Брянск",
                    "Пермь",
                    "Ростов-на-Дону",
                    "Екатеринбург",
                    "Красноярск",
                    "Новосибирск",
                    "Санкт-Петербург",
                    "Москва"
                  ],
                  "yaxis": "y"
                }
              ],
              "layout": {
                "barmode": "relative",
                "legend": {
                  "tracegroupgap": 0
                },
                "template": {
                  "data": {
                    "bar": [
                      {
                        "error_x": {
                          "color": "#2a3f5f"
                        },
                        "error_y": {
                          "color": "#2a3f5f"
                        },
                        "marker": {
                          "line": {
                            "color": "#E5ECF6",
                            "width": 0.5
                          }
                        },
                        "type": "bar"
                      }
                    ],
                    "barpolar": [
                      {
                        "marker": {
                          "line": {
                            "color": "#E5ECF6",
                            "width": 0.5
                          }
                        },
                        "type": "barpolar"
                      }
                    ],
                    "carpet": [
                      {
                        "aaxis": {
                          "endlinecolor": "#2a3f5f",
                          "gridcolor": "white",
                          "linecolor": "white",
                          "minorgridcolor": "white",
                          "startlinecolor": "#2a3f5f"
                        },
                        "baxis": {
                          "endlinecolor": "#2a3f5f",
                          "gridcolor": "white",
                          "linecolor": "white",
                          "minorgridcolor": "white",
                          "startlinecolor": "#2a3f5f"
                        },
                        "type": "carpet"
                      }
                    ],
                    "choropleth": [
                      {
                        "colorbar": {
                          "outlinewidth": 0,
                          "ticks": ""
                        },
                        "type": "choropleth"
                      }
                    ],
                    "contour": [
                      {
                        "colorbar": {
                          "outlinewidth": 0,
                          "ticks": ""
                        },
                        "colorscale": [
                          [
                            0,
                            "#0d0887"
                          ],
                          [
                            0.1111111111,
                            "#46039f"
                          ],
                          [
                            0.2222222222,
                            "#7201a8"
                          ],
                          [
                            0.3333333333,
                            "#9c179e"
                          ],
                          [
                            0.4444444444,
                            "#bd3786"
                          ],
                          [
                            0.5555555556,
                            "#d8576b"
                          ],
                          [
                            0.6666666667,
                            "#ed7953"
                          ],
                          [
                            0.7777777778,
                            "#fb9f3a"
                          ],
                          [
                            0.8888888889,
                            "#fdca26"
                          ],
                          [
                            1,
                            "#f0f921"
                          ]
                        ],
                        "type": "contour"
                      }
                    ],
                    "contourcarpet": [
                      {
                        "colorbar": {
                          "outlinewidth": 0,
                          "ticks": ""
                        },
                        "type": "contourcarpet"
                      }
                    ],
                    "heatmap": [
                      {
                        "colorbar": {
                          "outlinewidth": 0,
                          "ticks": ""
                        },
                        "colorscale": [
                          [
                            0,
                            "#0d0887"
                          ],
                          [
                            0.1111111111,
                            "#46039f"
                          ],
                          [
                            0.2222222222,
                            "#7201a8"
                          ],
                          [
                            0.3333333333,
                            "#9c179e"
                          ],
                          [
                            0.4444444444,
                            "#bd3786"
                          ],
                          [
                            0.5555555556,
                            "#d8576b"
                          ],
                          [
                            0.6666666667,
                            "#ed7953"
                          ],
                          [
                            0.7777777778,
                            "#fb9f3a"
                          ],
                          [
                            0.8888888889,
                            "#fdca26"
                          ],
                          [
                            1,
                            "#f0f921"
                          ]
                        ],
                        "type": "heatmap"
                      }
                    ],
                    "heatmapgl": [
                      {
                        "colorbar": {
                          "outlinewidth": 0,
                          "ticks": ""
                        },
                        "colorscale": [
                          [
                            0,
                            "#0d0887"
                          ],
                          [
                            0.1111111111,
                            "#46039f"
                          ],
                          [
                            0.2222222222,
                            "#7201a8"
                          ],
                          [
                            0.3333333333,
                            "#9c179e"
                          ],
                          [
                            0.4444444444,
                            "#bd3786"
                          ],
                          [
                            0.5555555556,
                            "#d8576b"
                          ],
                          [
                            0.6666666667,
                            "#ed7953"
                          ],
                          [
                            0.7777777778,
                            "#fb9f3a"
                          ],
                          [
                            0.8888888889,
                            "#fdca26"
                          ],
                          [
                            1,
                            "#f0f921"
                          ]
                        ],
                        "type": "heatmapgl"
                      }
                    ],
                    "histogram": [
                      {
                        "marker": {
                          "colorbar": {
                            "outlinewidth": 0,
                            "ticks": ""
                          }
                        },
                        "type": "histogram"
                      }
                    ],
                    "histogram2d": [
                      {
                        "colorbar": {
                          "outlinewidth": 0,
                          "ticks": ""
                        },
                        "colorscale": [
                          [
                            0,
                            "#0d0887"
                          ],
                          [
                            0.1111111111,
                            "#46039f"
                          ],
                          [
                            0.2222222222,
                            "#7201a8"
                          ],
                          [
                            0.3333333333,
                            "#9c179e"
                          ],
                          [
                            0.4444444444,
                            "#bd3786"
                          ],
                          [
                            0.5555555556,
                            "#d8576b"
                          ],
                          [
                            0.6666666667,
                            "#ed7953"
                          ],
                          [
                            0.7777777778,
                            "#fb9f3a"
                          ],
                          [
                            0.8888888889,
                            "#fdca26"
                          ],
                          [
                            1,
                            "#f0f921"
                          ]
                        ],
                        "type": "histogram2d"
                      }
                    ],
                    "histogram2dcontour": [
                      {
                        "colorbar": {
                          "outlinewidth": 0,
                          "ticks": ""
                        },
                        "colorscale": [
                          [
                            0,
                            "#0d0887"
                          ],
                          [
                            0.1111111111,
                            "#46039f"
                          ],
                          [
                            0.2222222222,
                            "#7201a8"
                          ],
                          [
                            0.3333333333,
                            "#9c179e"
                          ],
                          [
                            0.4444444444,
                            "#bd3786"
                          ],
                          [
                            0.5555555556,
                            "#d8576b"
                          ],
                          [
                            0.6666666667,
                            "#ed7953"
                          ],
                          [
                            0.7777777778,
                            "#fb9f3a"
                          ],
                          [
                            0.8888888889,
                            "#fdca26"
                          ],
                          [
                            1,
                            "#f0f921"
                          ]
                        ],
                        "type": "histogram2dcontour"
                      }
                    ],
                    "mesh3d": [
                      {
                        "colorbar": {
                          "outlinewidth": 0,
                          "ticks": ""
                        },
                        "type": "mesh3d"
                      }
                    ],
                    "parcoords": [
                      {
                        "line": {
                          "colorbar": {
                            "outlinewidth": 0,
                            "ticks": ""
                          }
                        },
                        "type": "parcoords"
                      }
                    ],
                    "pie": [
                      {
                        "automargin": true,
                        "type": "pie"
                      }
                    ],
                    "scatter": [
                      {
                        "marker": {
                          "colorbar": {
                            "outlinewidth": 0,
                            "ticks": ""
                          }
                        },
                        "type": "scatter"
                      }
                    ],
                    "scatter3d": [
                      {
                        "line": {
                          "colorbar": {
                            "outlinewidth": 0,
                            "ticks": ""
                          }
                        },
                        "marker": {
                          "colorbar": {
                            "outlinewidth": 0,
                            "ticks": ""
                          }
                        },
                        "type": "scatter3d"
                      }
                    ],
                    "scattercarpet": [
                      {
                        "marker": {
                          "colorbar": {
                            "outlinewidth": 0,
                            "ticks": ""
                          }
                        },
                        "type": "scattercarpet"
                      }
                    ],
                    "scattergeo": [
                      {
                        "marker": {
                          "colorbar": {
                            "outlinewidth": 0,
                            "ticks": ""
                          }
                        },
                        "type": "scattergeo"
                      }
                    ],
                    "scattergl": [
                      {
                        "marker": {
                          "colorbar": {
                            "outlinewidth": 0,
                            "ticks": ""
                          }
                        },
                        "type": "scattergl"
                      }
                    ],
                    "scattermapbox": [
                      {
                        "marker": {
                          "colorbar": {
                            "outlinewidth": 0,
                            "ticks": ""
                          }
                        },
                        "type": "scattermapbox"
                      }
                    ],
                    "scatterpolar": [
                      {
                        "marker": {
                          "colorbar": {
                            "outlinewidth": 0,
                            "ticks": ""
                          }
                        },
                        "type": "scatterpolar"
                      }
                    ],
                    "scatterpolargl": [
                      {
                        "marker": {
                          "colorbar": {
                            "outlinewidth": 0,
                            "ticks": ""
                          }
                        },
                        "type": "scatterpolargl"
                      }
                    ],
                    "scatterternary": [
                      {
                        "marker": {
                          "colorbar": {
                            "outlinewidth": 0,
                            "ticks": ""
                          }
                        },
                        "type": "scatterternary"
                      }
                    ],
                    "surface": [
                      {
                        "colorbar": {
                          "outlinewidth": 0,
                          "ticks": ""
                        },
                        "colorscale": [
                          [
                            0,
                            "#0d0887"
                          ],
                          [
                            0.1111111111,
                            "#46039f"
                          ],
                          [
                            0.2222222222,
                            "#7201a8"
                          ],
                          [
                            0.3333333333,
                            "#9c179e"
                          ],
                          [
                            0.4444444444,
                            "#bd3786"
                          ],
                          [
                            0.5555555556,
                            "#d8576b"
                          ],
                          [
                            0.6666666667,
                            "#ed7953"
                          ],
                          [
                            0.7777777778,
                            "#fb9f3a"
                          ],
                          [
                            0.8888888889,
                            "#fdca26"
                          ],
                          [
                            1,
                            "#f0f921"
                          ]
                        ],
                        "type": "surface"
                      }
                    ],
                    "table": [
                      {
                        "cells": {
                          "fill": {
                            "color": "#EBF0F8"
                          },
                          "line": {
                            "color": "white"
                          }
                        },
                        "header": {
                          "fill": {
                            "color": "#C8D4E3"
                          },
                          "line": {
                            "color": "white"
                          }
                        },
                        "type": "table"
                      }
                    ]
                  },
                  "layout": {
                    "annotationdefaults": {
                      "arrowcolor": "#2a3f5f",
                      "arrowhead": 0,
                      "arrowwidth": 1
                    },
                    "autotypenumbers": "strict",
                    "coloraxis": {
                      "colorbar": {
                        "outlinewidth": 0,
                        "ticks": ""
                      }
                    },
                    "colorscale": {
                      "diverging": [
                        [
                          0,
                          "#8e0152"
                        ],
                        [
                          0.1,
                          "#c51b7d"
                        ],
                        [
                          0.2,
                          "#de77ae"
                        ],
                        [
                          0.3,
                          "#f1b6da"
                        ],
                        [
                          0.4,
                          "#fde0ef"
                        ],
                        [
                          0.5,
                          "#f7f7f7"
                        ],
                        [
                          0.6,
                          "#e6f5d0"
                        ],
                        [
                          0.7,
                          "#b8e186"
                        ],
                        [
                          0.8,
                          "#7fbc41"
                        ],
                        [
                          0.9,
                          "#4d9221"
                        ],
                        [
                          1,
                          "#276419"
                        ]
                      ],
                      "sequential": [
                        [
                          0,
                          "#0d0887"
                        ],
                        [
                          0.1111111111,
                          "#46039f"
                        ],
                        [
                          0.2222222222,
                          "#7201a8"
                        ],
                        [
                          0.3333333333,
                          "#9c179e"
                        ],
                        [
                          0.4444444444,
                          "#bd3786"
                        ],
                        [
                          0.5555555556,
                          "#d8576b"
                        ],
                        [
                          0.6666666667,
                          "#ed7953"
                        ],
                        [
                          0.7777777778,
                          "#fb9f3a"
                        ],
                        [
                          0.8888888889,
                          "#fdca26"
                        ],
                        [
                          1,
                          "#f0f921"
                        ]
                      ],
                      "sequentialminus": [
                        [
                          0,
                          "#0d0887"
                        ],
                        [
                          0.1111111111,
                          "#46039f"
                        ],
                        [
                          0.2222222222,
                          "#7201a8"
                        ],
                        [
                          0.3333333333,
                          "#9c179e"
                        ],
                        [
                          0.4444444444,
                          "#bd3786"
                        ],
                        [
                          0.5555555556,
                          "#d8576b"
                        ],
                        [
                          0.6666666667,
                          "#ed7953"
                        ],
                        [
                          0.7777777778,
                          "#fb9f3a"
                        ],
                        [
                          0.8888888889,
                          "#fdca26"
                        ],
                        [
                          1,
                          "#f0f921"
                        ]
                      ]
                    },
                    "colorway": [
                      "#636efa",
                      "#EF553B",
                      "#00cc96",
                      "#ab63fa",
                      "#FFA15A",
                      "#19d3f3",
                      "#FF6692",
                      "#B6E880",
                      "#FF97FF",
                      "#FECB52"
                    ],
                    "font": {
                      "color": "#2a3f5f"
                    },
                    "geo": {
                      "bgcolor": "white",
                      "lakecolor": "white",
                      "landcolor": "#E5ECF6",
                      "showlakes": true,
                      "showland": true,
                      "subunitcolor": "white"
                    },
                    "hoverlabel": {
                      "align": "left"
                    },
                    "hovermode": "closest",
                    "mapbox": {
                      "style": "light"
                    },
                    "paper_bgcolor": "white",
                    "plot_bgcolor": "#E5ECF6",
                    "polar": {
                      "angularaxis": {
                        "gridcolor": "white",
                        "linecolor": "white",
                        "ticks": ""
                      },
                      "bgcolor": "#E5ECF6",
                      "radialaxis": {
                        "gridcolor": "white",
                        "linecolor": "white",
                        "ticks": ""
                      }
                    },
                    "scene": {
                      "xaxis": {
                        "backgroundcolor": "#E5ECF6",
                        "gridcolor": "white",
                        "gridwidth": 2,
                        "linecolor": "white",
                        "showbackground": true,
                        "ticks": "",
                        "zerolinecolor": "white"
                      },
                      "yaxis": {
                        "backgroundcolor": "#E5ECF6",
                        "gridcolor": "white",
                        "gridwidth": 2,
                        "linecolor": "white",
                        "showbackground": true,
                        "ticks": "",
                        "zerolinecolor": "white"
                      },
                      "zaxis": {
                        "backgroundcolor": "#E5ECF6",
                        "gridcolor": "white",
                        "gridwidth": 2,
                        "linecolor": "white",
                        "showbackground": true,
                        "ticks": "",
                        "zerolinecolor": "white"
                      }
                    },
                    "shapedefaults": {
                      "line": {
                        "color": "#2a3f5f"
                      }
                    },
                    "ternary": {
                      "aaxis": {
                        "gridcolor": "white",
                        "linecolor": "white",
                        "ticks": ""
                      },
                      "baxis": {
                        "gridcolor": "white",
                        "linecolor": "white",
                        "ticks": ""
                      },
                      "bgcolor": "#E5ECF6",
                      "caxis": {
                        "gridcolor": "white",
                        "linecolor": "white",
                        "ticks": ""
                      }
                    },
                    "title": {
                      "x": 0.05
                    },
                    "xaxis": {
                      "automargin": true,
                      "gridcolor": "white",
                      "linecolor": "white",
                      "ticks": "",
                      "title": {
                        "standoff": 15
                      },
                      "zerolinecolor": "white",
                      "zerolinewidth": 2
                    },
                    "yaxis": {
                      "automargin": true,
                      "gridcolor": "white",
                      "linecolor": "white",
                      "ticks": "",
                      "title": {
                        "standoff": 15
                      },
                      "zerolinecolor": "white",
                      "zerolinewidth": 2
                    }
                  }
                },
                "title": {
                  "text": "ТОП 10 городов и количество рейсов, среднее за день"
                },
                "uniformtext": {
                  "minsize": 8,
                  "mode": "hide"
                },
                "xaxis": {
                  "anchor": "y",
                  "domain": [
                    0,
                    1
                  ],
                  "title": {
                    "text": "average_flights"
                  }
                },
                "yaxis": {
                  "anchor": "x",
                  "domain": [
                    0,
                    1
                  ],
                  "title": {
                    "text": "city"
                  }
                }
              }
            },
            "text/html": [
              "<div>                            <div id=\"c28032ea-0bf7-4b40-bd0e-9c937e0e5c2b\" class=\"plotly-graph-div\" style=\"height:525px; width:100%;\"></div>            <script type=\"text/javascript\">                require([\"plotly\"], function(Plotly) {                    window.PLOTLYENV=window.PLOTLYENV || {};                                    if (document.getElementById(\"c28032ea-0bf7-4b40-bd0e-9c937e0e5c2b\")) {                    Plotly.newPlot(                        \"c28032ea-0bf7-4b40-bd0e-9c937e0e5c2b\",                        [{\"alignmentgroup\": \"True\", \"hovertemplate\": \"average_flights=%{text}<br>city=%{y}<extra></extra>\", \"legendgroup\": \"\", \"marker\": {\"color\": \"rgb(103,0,31)\"}, \"name\": \"\", \"offsetgroup\": \"\", \"orientation\": \"h\", \"showlegend\": false, \"text\": [9.580645161290322, 9.612903225806452, 10.0, 10.129032258064516, 10.193548387096774, 11.32258064516129, 11.580645161290322, 17.32258064516129, 31.161290322580648, 129.77419354838707], \"textposition\": \"outside\", \"texttemplate\": \"%{text:.2s}\", \"type\": \"bar\", \"x\": [9.580645161290322, 9.612903225806452, 10.0, 10.129032258064516, 10.193548387096774, 11.32258064516129, 11.580645161290322, 17.32258064516129, 31.161290322580648, 129.77419354838707], \"xaxis\": \"x\", \"y\": [\"\\u0423\\u043b\\u044c\\u044f\\u043d\\u043e\\u0432\\u0441\\u043a\", \"\\u0421\\u043e\\u0447\\u0438\", \"\\u0411\\u0440\\u044f\\u043d\\u0441\\u043a\", \"\\u041f\\u0435\\u0440\\u043c\\u044c\", \"\\u0420\\u043e\\u0441\\u0442\\u043e\\u0432-\\u043d\\u0430-\\u0414\\u043e\\u043d\\u0443\", \"\\u0415\\u043a\\u0430\\u0442\\u0435\\u0440\\u0438\\u043d\\u0431\\u0443\\u0440\\u0433\", \"\\u041a\\u0440\\u0430\\u0441\\u043d\\u043e\\u044f\\u0440\\u0441\\u043a\", \"\\u041d\\u043e\\u0432\\u043e\\u0441\\u0438\\u0431\\u0438\\u0440\\u0441\\u043a\", \"\\u0421\\u0430\\u043d\\u043a\\u0442-\\u041f\\u0435\\u0442\\u0435\\u0440\\u0431\\u0443\\u0440\\u0433\", \"\\u041c\\u043e\\u0441\\u043a\\u0432\\u0430\"], \"yaxis\": \"y\"}],                        {\"barmode\": \"relative\", \"legend\": {\"tracegroupgap\": 0}, \"template\": {\"data\": {\"bar\": [{\"error_x\": {\"color\": \"#2a3f5f\"}, \"error_y\": {\"color\": \"#2a3f5f\"}, \"marker\": {\"line\": {\"color\": \"#E5ECF6\", \"width\": 0.5}}, \"type\": \"bar\"}], \"barpolar\": [{\"marker\": {\"line\": {\"color\": \"#E5ECF6\", \"width\": 0.5}}, \"type\": \"barpolar\"}], \"carpet\": [{\"aaxis\": {\"endlinecolor\": \"#2a3f5f\", \"gridcolor\": \"white\", \"linecolor\": \"white\", \"minorgridcolor\": \"white\", \"startlinecolor\": \"#2a3f5f\"}, \"baxis\": {\"endlinecolor\": \"#2a3f5f\", \"gridcolor\": \"white\", \"linecolor\": \"white\", \"minorgridcolor\": \"white\", \"startlinecolor\": \"#2a3f5f\"}, \"type\": \"carpet\"}], \"choropleth\": [{\"colorbar\": {\"outlinewidth\": 0, \"ticks\": \"\"}, \"type\": \"choropleth\"}], \"contour\": [{\"colorbar\": {\"outlinewidth\": 0, \"ticks\": \"\"}, \"colorscale\": [[0.0, \"#0d0887\"], [0.1111111111111111, \"#46039f\"], [0.2222222222222222, \"#7201a8\"], [0.3333333333333333, \"#9c179e\"], [0.4444444444444444, \"#bd3786\"], [0.5555555555555556, \"#d8576b\"], [0.6666666666666666, \"#ed7953\"], [0.7777777777777778, \"#fb9f3a\"], [0.8888888888888888, \"#fdca26\"], [1.0, \"#f0f921\"]], \"type\": \"contour\"}], \"contourcarpet\": [{\"colorbar\": {\"outlinewidth\": 0, \"ticks\": \"\"}, \"type\": \"contourcarpet\"}], \"heatmap\": [{\"colorbar\": {\"outlinewidth\": 0, \"ticks\": \"\"}, \"colorscale\": [[0.0, \"#0d0887\"], [0.1111111111111111, \"#46039f\"], [0.2222222222222222, \"#7201a8\"], [0.3333333333333333, \"#9c179e\"], [0.4444444444444444, \"#bd3786\"], [0.5555555555555556, \"#d8576b\"], [0.6666666666666666, \"#ed7953\"], [0.7777777777777778, \"#fb9f3a\"], [0.8888888888888888, \"#fdca26\"], [1.0, \"#f0f921\"]], \"type\": \"heatmap\"}], \"heatmapgl\": [{\"colorbar\": {\"outlinewidth\": 0, \"ticks\": \"\"}, \"colorscale\": [[0.0, \"#0d0887\"], [0.1111111111111111, \"#46039f\"], [0.2222222222222222, \"#7201a8\"], [0.3333333333333333, \"#9c179e\"], [0.4444444444444444, \"#bd3786\"], [0.5555555555555556, \"#d8576b\"], [0.6666666666666666, \"#ed7953\"], [0.7777777777777778, \"#fb9f3a\"], [0.8888888888888888, \"#fdca26\"], [1.0, \"#f0f921\"]], \"type\": \"heatmapgl\"}], \"histogram\": [{\"marker\": {\"colorbar\": {\"outlinewidth\": 0, \"ticks\": \"\"}}, \"type\": \"histogram\"}], \"histogram2d\": [{\"colorbar\": {\"outlinewidth\": 0, \"ticks\": \"\"}, \"colorscale\": [[0.0, \"#0d0887\"], [0.1111111111111111, \"#46039f\"], [0.2222222222222222, \"#7201a8\"], [0.3333333333333333, \"#9c179e\"], [0.4444444444444444, \"#bd3786\"], [0.5555555555555556, \"#d8576b\"], [0.6666666666666666, \"#ed7953\"], [0.7777777777777778, \"#fb9f3a\"], [0.8888888888888888, \"#fdca26\"], [1.0, \"#f0f921\"]], \"type\": \"histogram2d\"}], \"histogram2dcontour\": [{\"colorbar\": {\"outlinewidth\": 0, \"ticks\": \"\"}, \"colorscale\": [[0.0, \"#0d0887\"], [0.1111111111111111, \"#46039f\"], [0.2222222222222222, \"#7201a8\"], [0.3333333333333333, \"#9c179e\"], [0.4444444444444444, \"#bd3786\"], [0.5555555555555556, \"#d8576b\"], [0.6666666666666666, \"#ed7953\"], [0.7777777777777778, \"#fb9f3a\"], [0.8888888888888888, \"#fdca26\"], [1.0, \"#f0f921\"]], \"type\": \"histogram2dcontour\"}], \"mesh3d\": [{\"colorbar\": {\"outlinewidth\": 0, \"ticks\": \"\"}, \"type\": \"mesh3d\"}], \"parcoords\": [{\"line\": {\"colorbar\": {\"outlinewidth\": 0, \"ticks\": \"\"}}, \"type\": \"parcoords\"}], \"pie\": [{\"automargin\": true, \"type\": \"pie\"}], \"scatter\": [{\"marker\": {\"colorbar\": {\"outlinewidth\": 0, \"ticks\": \"\"}}, \"type\": \"scatter\"}], \"scatter3d\": [{\"line\": {\"colorbar\": {\"outlinewidth\": 0, \"ticks\": \"\"}}, \"marker\": {\"colorbar\": {\"outlinewidth\": 0, \"ticks\": \"\"}}, \"type\": \"scatter3d\"}], \"scattercarpet\": [{\"marker\": {\"colorbar\": {\"outlinewidth\": 0, \"ticks\": \"\"}}, \"type\": \"scattercarpet\"}], \"scattergeo\": [{\"marker\": {\"colorbar\": {\"outlinewidth\": 0, \"ticks\": \"\"}}, \"type\": \"scattergeo\"}], \"scattergl\": [{\"marker\": {\"colorbar\": {\"outlinewidth\": 0, \"ticks\": \"\"}}, \"type\": \"scattergl\"}], \"scattermapbox\": [{\"marker\": {\"colorbar\": {\"outlinewidth\": 0, \"ticks\": \"\"}}, \"type\": \"scattermapbox\"}], \"scatterpolar\": [{\"marker\": {\"colorbar\": {\"outlinewidth\": 0, \"ticks\": \"\"}}, \"type\": \"scatterpolar\"}], \"scatterpolargl\": [{\"marker\": {\"colorbar\": {\"outlinewidth\": 0, \"ticks\": \"\"}}, \"type\": \"scatterpolargl\"}], \"scatterternary\": [{\"marker\": {\"colorbar\": {\"outlinewidth\": 0, \"ticks\": \"\"}}, \"type\": \"scatterternary\"}], \"surface\": [{\"colorbar\": {\"outlinewidth\": 0, \"ticks\": \"\"}, \"colorscale\": [[0.0, \"#0d0887\"], [0.1111111111111111, \"#46039f\"], [0.2222222222222222, \"#7201a8\"], [0.3333333333333333, \"#9c179e\"], [0.4444444444444444, \"#bd3786\"], [0.5555555555555556, \"#d8576b\"], [0.6666666666666666, \"#ed7953\"], [0.7777777777777778, \"#fb9f3a\"], [0.8888888888888888, \"#fdca26\"], [1.0, \"#f0f921\"]], \"type\": \"surface\"}], \"table\": [{\"cells\": {\"fill\": {\"color\": \"#EBF0F8\"}, \"line\": {\"color\": \"white\"}}, \"header\": {\"fill\": {\"color\": \"#C8D4E3\"}, \"line\": {\"color\": \"white\"}}, \"type\": \"table\"}]}, \"layout\": {\"annotationdefaults\": {\"arrowcolor\": \"#2a3f5f\", \"arrowhead\": 0, \"arrowwidth\": 1}, \"autotypenumbers\": \"strict\", \"coloraxis\": {\"colorbar\": {\"outlinewidth\": 0, \"ticks\": \"\"}}, \"colorscale\": {\"diverging\": [[0, \"#8e0152\"], [0.1, \"#c51b7d\"], [0.2, \"#de77ae\"], [0.3, \"#f1b6da\"], [0.4, \"#fde0ef\"], [0.5, \"#f7f7f7\"], [0.6, \"#e6f5d0\"], [0.7, \"#b8e186\"], [0.8, \"#7fbc41\"], [0.9, \"#4d9221\"], [1, \"#276419\"]], \"sequential\": [[0.0, \"#0d0887\"], [0.1111111111111111, \"#46039f\"], [0.2222222222222222, \"#7201a8\"], [0.3333333333333333, \"#9c179e\"], [0.4444444444444444, \"#bd3786\"], [0.5555555555555556, \"#d8576b\"], [0.6666666666666666, \"#ed7953\"], [0.7777777777777778, \"#fb9f3a\"], [0.8888888888888888, \"#fdca26\"], [1.0, \"#f0f921\"]], \"sequentialminus\": [[0.0, \"#0d0887\"], [0.1111111111111111, \"#46039f\"], [0.2222222222222222, \"#7201a8\"], [0.3333333333333333, \"#9c179e\"], [0.4444444444444444, \"#bd3786\"], [0.5555555555555556, \"#d8576b\"], [0.6666666666666666, \"#ed7953\"], [0.7777777777777778, \"#fb9f3a\"], [0.8888888888888888, \"#fdca26\"], [1.0, \"#f0f921\"]]}, \"colorway\": [\"#636efa\", \"#EF553B\", \"#00cc96\", \"#ab63fa\", \"#FFA15A\", \"#19d3f3\", \"#FF6692\", \"#B6E880\", \"#FF97FF\", \"#FECB52\"], \"font\": {\"color\": \"#2a3f5f\"}, \"geo\": {\"bgcolor\": \"white\", \"lakecolor\": \"white\", \"landcolor\": \"#E5ECF6\", \"showlakes\": true, \"showland\": true, \"subunitcolor\": \"white\"}, \"hoverlabel\": {\"align\": \"left\"}, \"hovermode\": \"closest\", \"mapbox\": {\"style\": \"light\"}, \"paper_bgcolor\": \"white\", \"plot_bgcolor\": \"#E5ECF6\", \"polar\": {\"angularaxis\": {\"gridcolor\": \"white\", \"linecolor\": \"white\", \"ticks\": \"\"}, \"bgcolor\": \"#E5ECF6\", \"radialaxis\": {\"gridcolor\": \"white\", \"linecolor\": \"white\", \"ticks\": \"\"}}, \"scene\": {\"xaxis\": {\"backgroundcolor\": \"#E5ECF6\", \"gridcolor\": \"white\", \"gridwidth\": 2, \"linecolor\": \"white\", \"showbackground\": true, \"ticks\": \"\", \"zerolinecolor\": \"white\"}, \"yaxis\": {\"backgroundcolor\": \"#E5ECF6\", \"gridcolor\": \"white\", \"gridwidth\": 2, \"linecolor\": \"white\", \"showbackground\": true, \"ticks\": \"\", \"zerolinecolor\": \"white\"}, \"zaxis\": {\"backgroundcolor\": \"#E5ECF6\", \"gridcolor\": \"white\", \"gridwidth\": 2, \"linecolor\": \"white\", \"showbackground\": true, \"ticks\": \"\", \"zerolinecolor\": \"white\"}}, \"shapedefaults\": {\"line\": {\"color\": \"#2a3f5f\"}}, \"ternary\": {\"aaxis\": {\"gridcolor\": \"white\", \"linecolor\": \"white\", \"ticks\": \"\"}, \"baxis\": {\"gridcolor\": \"white\", \"linecolor\": \"white\", \"ticks\": \"\"}, \"bgcolor\": \"#E5ECF6\", \"caxis\": {\"gridcolor\": \"white\", \"linecolor\": \"white\", \"ticks\": \"\"}}, \"title\": {\"x\": 0.05}, \"xaxis\": {\"automargin\": true, \"gridcolor\": \"white\", \"linecolor\": \"white\", \"ticks\": \"\", \"title\": {\"standoff\": 15}, \"zerolinecolor\": \"white\", \"zerolinewidth\": 2}, \"yaxis\": {\"automargin\": true, \"gridcolor\": \"white\", \"linecolor\": \"white\", \"ticks\": \"\", \"title\": {\"standoff\": 15}, \"zerolinecolor\": \"white\", \"zerolinewidth\": 2}}}, \"title\": {\"text\": \"\\u0422\\u041e\\u041f 10 \\u0433\\u043e\\u0440\\u043e\\u0434\\u043e\\u0432 \\u0438 \\u043a\\u043e\\u043b\\u0438\\u0447\\u0435\\u0441\\u0442\\u0432\\u043e \\u0440\\u0435\\u0439\\u0441\\u043e\\u0432, \\u0441\\u0440\\u0435\\u0434\\u043d\\u0435\\u0435 \\u0437\\u0430 \\u0434\\u0435\\u043d\\u044c\"}, \"uniformtext\": {\"minsize\": 8, \"mode\": \"hide\"}, \"xaxis\": {\"anchor\": \"y\", \"domain\": [0.0, 1.0], \"title\": {\"text\": \"average_flights\"}}, \"yaxis\": {\"anchor\": \"x\", \"domain\": [0.0, 1.0], \"title\": {\"text\": \"city\"}}},                        {\"responsive\": true}                    ).then(function(){\n",
              "                            \n",
              "var gd = document.getElementById('c28032ea-0bf7-4b40-bd0e-9c937e0e5c2b');\n",
              "var x = new MutationObserver(function (mutations, observer) {{\n",
              "        var display = window.getComputedStyle(gd).display;\n",
              "        if (!display || display === 'none') {{\n",
              "            console.log([gd, 'removed!']);\n",
              "            Plotly.purge(gd);\n",
              "            observer.disconnect();\n",
              "        }}\n",
              "}});\n",
              "\n",
              "// Listen for the removal of the full notebook cells\n",
              "var notebookContainer = gd.closest('#notebook-container');\n",
              "if (notebookContainer) {{\n",
              "    x.observe(notebookContainer, {childList: true});\n",
              "}}\n",
              "\n",
              "// Listen for the clearing of the current output cell\n",
              "var outputEl = gd.closest('.output');\n",
              "if (outputEl) {{\n",
              "    x.observe(outputEl, {childList: true});\n",
              "}}\n",
              "\n",
              "                        })                };                });            </script>        </div>"
            ]
          },
          "metadata": {},
          "output_type": "display_data"
        }
      ],
      "source": [
        "fig = px.bar(city_top10.sort_values(by='average_flights',ascending=True),\n",
        "             y= 'city', x= 'average_flights',text='average_flights', \n",
        "             title='ТОП 10 городов и количество рейсов, среднее за день', \n",
        "             color_discrete_sequence=px.colors.sequential.RdBu)\n",
        "fig.update_traces(texttemplate='%{text:.2s}', textposition='outside')\n",
        "fig.update_layout(uniformtext_minsize=8, uniformtext_mode='hide')\n",
        "fig.show()"
      ]
    },
    {
      "cell_type": "markdown",
      "metadata": {
        "id": "TNtigDFmi-id"
      },
      "source": [
        "\n",
        "<div class=\"alert alert-success\">\n",
        "<h1>Комментарий ревьюера <a class=\"tocSkip\"></a></h1>\n",
        "График топ!\n",
        "</div>"
      ]
    },
    {
      "cell_type": "markdown",
      "metadata": {
        "id": "8RNDt8kLi-id"
      },
      "source": [
        "#### Вывод\n",
        "\n",
        "Из графика наибольшее количество рейсов Москва и Санк-Петербург, как большие хабы для осуществления полетов.  \n",
        "Дальше идет группа аэропортов Сибири, Урала и средней полосы, средние хабы  \n",
        "Группа \"южного направления\", срез данных сентябрь месяц, \"бархатный сезон отпусков\""
      ]
    },
    {
      "cell_type": "markdown",
      "metadata": {
        "id": "j2xJGw78i-id"
      },
      "source": [
        "### График- модели самолётов и количество рейсов"
      ]
    },
    {
      "cell_type": "code",
      "execution_count": null,
      "metadata": {
        "id": "XLw_GY6fi-ie",
        "outputId": "26656b40-d627-4d36-d6c0-6edc7946eae5"
      },
      "outputs": [
        {
          "data": {
            "application/vnd.plotly.v1+json": {
              "config": {
                "plotlyServerURL": "https://plot.ly"
              },
              "data": [
                {
                  "domain": {
                    "x": [
                      0,
                      1
                    ],
                    "y": [
                      0,
                      1
                    ]
                  },
                  "hovertemplate": "model=%{label}<br>flights_amount=%{value}<extra></extra>",
                  "labels": [
                    "Cessna 208 Caravan",
                    "Bombardier CRJ-200",
                    "Sukhoi SuperJet-100",
                    "Airbus A321-200",
                    "Boeing 737-300",
                    "Airbus A319-100",
                    "Boeing 767-300",
                    "Boeing 777-300"
                  ],
                  "legendgroup": "",
                  "name": "",
                  "showlegend": true,
                  "textinfo": "percent+label",
                  "textposition": "inside",
                  "type": "pie",
                  "values": [
                    4557,
                    4446,
                    4185,
                    960,
                    630,
                    607,
                    600,
                    300
                  ]
                }
              ],
              "layout": {
                "legend": {
                  "tracegroupgap": 0
                },
                "piecolorway": [
                  "rgb(103,0,31)",
                  "rgb(178,24,43)",
                  "rgb(214,96,77)",
                  "rgb(244,165,130)",
                  "rgb(253,219,199)",
                  "rgb(247,247,247)",
                  "rgb(209,229,240)",
                  "rgb(146,197,222)",
                  "rgb(67,147,195)",
                  "rgb(33,102,172)",
                  "rgb(5,48,97)"
                ],
                "template": {
                  "data": {
                    "bar": [
                      {
                        "error_x": {
                          "color": "#2a3f5f"
                        },
                        "error_y": {
                          "color": "#2a3f5f"
                        },
                        "marker": {
                          "line": {
                            "color": "#E5ECF6",
                            "width": 0.5
                          }
                        },
                        "type": "bar"
                      }
                    ],
                    "barpolar": [
                      {
                        "marker": {
                          "line": {
                            "color": "#E5ECF6",
                            "width": 0.5
                          }
                        },
                        "type": "barpolar"
                      }
                    ],
                    "carpet": [
                      {
                        "aaxis": {
                          "endlinecolor": "#2a3f5f",
                          "gridcolor": "white",
                          "linecolor": "white",
                          "minorgridcolor": "white",
                          "startlinecolor": "#2a3f5f"
                        },
                        "baxis": {
                          "endlinecolor": "#2a3f5f",
                          "gridcolor": "white",
                          "linecolor": "white",
                          "minorgridcolor": "white",
                          "startlinecolor": "#2a3f5f"
                        },
                        "type": "carpet"
                      }
                    ],
                    "choropleth": [
                      {
                        "colorbar": {
                          "outlinewidth": 0,
                          "ticks": ""
                        },
                        "type": "choropleth"
                      }
                    ],
                    "contour": [
                      {
                        "colorbar": {
                          "outlinewidth": 0,
                          "ticks": ""
                        },
                        "colorscale": [
                          [
                            0,
                            "#0d0887"
                          ],
                          [
                            0.1111111111,
                            "#46039f"
                          ],
                          [
                            0.2222222222,
                            "#7201a8"
                          ],
                          [
                            0.3333333333,
                            "#9c179e"
                          ],
                          [
                            0.4444444444,
                            "#bd3786"
                          ],
                          [
                            0.5555555556,
                            "#d8576b"
                          ],
                          [
                            0.6666666667,
                            "#ed7953"
                          ],
                          [
                            0.7777777778,
                            "#fb9f3a"
                          ],
                          [
                            0.8888888889,
                            "#fdca26"
                          ],
                          [
                            1,
                            "#f0f921"
                          ]
                        ],
                        "type": "contour"
                      }
                    ],
                    "contourcarpet": [
                      {
                        "colorbar": {
                          "outlinewidth": 0,
                          "ticks": ""
                        },
                        "type": "contourcarpet"
                      }
                    ],
                    "heatmap": [
                      {
                        "colorbar": {
                          "outlinewidth": 0,
                          "ticks": ""
                        },
                        "colorscale": [
                          [
                            0,
                            "#0d0887"
                          ],
                          [
                            0.1111111111,
                            "#46039f"
                          ],
                          [
                            0.2222222222,
                            "#7201a8"
                          ],
                          [
                            0.3333333333,
                            "#9c179e"
                          ],
                          [
                            0.4444444444,
                            "#bd3786"
                          ],
                          [
                            0.5555555556,
                            "#d8576b"
                          ],
                          [
                            0.6666666667,
                            "#ed7953"
                          ],
                          [
                            0.7777777778,
                            "#fb9f3a"
                          ],
                          [
                            0.8888888889,
                            "#fdca26"
                          ],
                          [
                            1,
                            "#f0f921"
                          ]
                        ],
                        "type": "heatmap"
                      }
                    ],
                    "heatmapgl": [
                      {
                        "colorbar": {
                          "outlinewidth": 0,
                          "ticks": ""
                        },
                        "colorscale": [
                          [
                            0,
                            "#0d0887"
                          ],
                          [
                            0.1111111111,
                            "#46039f"
                          ],
                          [
                            0.2222222222,
                            "#7201a8"
                          ],
                          [
                            0.3333333333,
                            "#9c179e"
                          ],
                          [
                            0.4444444444,
                            "#bd3786"
                          ],
                          [
                            0.5555555556,
                            "#d8576b"
                          ],
                          [
                            0.6666666667,
                            "#ed7953"
                          ],
                          [
                            0.7777777778,
                            "#fb9f3a"
                          ],
                          [
                            0.8888888889,
                            "#fdca26"
                          ],
                          [
                            1,
                            "#f0f921"
                          ]
                        ],
                        "type": "heatmapgl"
                      }
                    ],
                    "histogram": [
                      {
                        "marker": {
                          "colorbar": {
                            "outlinewidth": 0,
                            "ticks": ""
                          }
                        },
                        "type": "histogram"
                      }
                    ],
                    "histogram2d": [
                      {
                        "colorbar": {
                          "outlinewidth": 0,
                          "ticks": ""
                        },
                        "colorscale": [
                          [
                            0,
                            "#0d0887"
                          ],
                          [
                            0.1111111111,
                            "#46039f"
                          ],
                          [
                            0.2222222222,
                            "#7201a8"
                          ],
                          [
                            0.3333333333,
                            "#9c179e"
                          ],
                          [
                            0.4444444444,
                            "#bd3786"
                          ],
                          [
                            0.5555555556,
                            "#d8576b"
                          ],
                          [
                            0.6666666667,
                            "#ed7953"
                          ],
                          [
                            0.7777777778,
                            "#fb9f3a"
                          ],
                          [
                            0.8888888889,
                            "#fdca26"
                          ],
                          [
                            1,
                            "#f0f921"
                          ]
                        ],
                        "type": "histogram2d"
                      }
                    ],
                    "histogram2dcontour": [
                      {
                        "colorbar": {
                          "outlinewidth": 0,
                          "ticks": ""
                        },
                        "colorscale": [
                          [
                            0,
                            "#0d0887"
                          ],
                          [
                            0.1111111111,
                            "#46039f"
                          ],
                          [
                            0.2222222222,
                            "#7201a8"
                          ],
                          [
                            0.3333333333,
                            "#9c179e"
                          ],
                          [
                            0.4444444444,
                            "#bd3786"
                          ],
                          [
                            0.5555555556,
                            "#d8576b"
                          ],
                          [
                            0.6666666667,
                            "#ed7953"
                          ],
                          [
                            0.7777777778,
                            "#fb9f3a"
                          ],
                          [
                            0.8888888889,
                            "#fdca26"
                          ],
                          [
                            1,
                            "#f0f921"
                          ]
                        ],
                        "type": "histogram2dcontour"
                      }
                    ],
                    "mesh3d": [
                      {
                        "colorbar": {
                          "outlinewidth": 0,
                          "ticks": ""
                        },
                        "type": "mesh3d"
                      }
                    ],
                    "parcoords": [
                      {
                        "line": {
                          "colorbar": {
                            "outlinewidth": 0,
                            "ticks": ""
                          }
                        },
                        "type": "parcoords"
                      }
                    ],
                    "pie": [
                      {
                        "automargin": true,
                        "type": "pie"
                      }
                    ],
                    "scatter": [
                      {
                        "marker": {
                          "colorbar": {
                            "outlinewidth": 0,
                            "ticks": ""
                          }
                        },
                        "type": "scatter"
                      }
                    ],
                    "scatter3d": [
                      {
                        "line": {
                          "colorbar": {
                            "outlinewidth": 0,
                            "ticks": ""
                          }
                        },
                        "marker": {
                          "colorbar": {
                            "outlinewidth": 0,
                            "ticks": ""
                          }
                        },
                        "type": "scatter3d"
                      }
                    ],
                    "scattercarpet": [
                      {
                        "marker": {
                          "colorbar": {
                            "outlinewidth": 0,
                            "ticks": ""
                          }
                        },
                        "type": "scattercarpet"
                      }
                    ],
                    "scattergeo": [
                      {
                        "marker": {
                          "colorbar": {
                            "outlinewidth": 0,
                            "ticks": ""
                          }
                        },
                        "type": "scattergeo"
                      }
                    ],
                    "scattergl": [
                      {
                        "marker": {
                          "colorbar": {
                            "outlinewidth": 0,
                            "ticks": ""
                          }
                        },
                        "type": "scattergl"
                      }
                    ],
                    "scattermapbox": [
                      {
                        "marker": {
                          "colorbar": {
                            "outlinewidth": 0,
                            "ticks": ""
                          }
                        },
                        "type": "scattermapbox"
                      }
                    ],
                    "scatterpolar": [
                      {
                        "marker": {
                          "colorbar": {
                            "outlinewidth": 0,
                            "ticks": ""
                          }
                        },
                        "type": "scatterpolar"
                      }
                    ],
                    "scatterpolargl": [
                      {
                        "marker": {
                          "colorbar": {
                            "outlinewidth": 0,
                            "ticks": ""
                          }
                        },
                        "type": "scatterpolargl"
                      }
                    ],
                    "scatterternary": [
                      {
                        "marker": {
                          "colorbar": {
                            "outlinewidth": 0,
                            "ticks": ""
                          }
                        },
                        "type": "scatterternary"
                      }
                    ],
                    "surface": [
                      {
                        "colorbar": {
                          "outlinewidth": 0,
                          "ticks": ""
                        },
                        "colorscale": [
                          [
                            0,
                            "#0d0887"
                          ],
                          [
                            0.1111111111,
                            "#46039f"
                          ],
                          [
                            0.2222222222,
                            "#7201a8"
                          ],
                          [
                            0.3333333333,
                            "#9c179e"
                          ],
                          [
                            0.4444444444,
                            "#bd3786"
                          ],
                          [
                            0.5555555556,
                            "#d8576b"
                          ],
                          [
                            0.6666666667,
                            "#ed7953"
                          ],
                          [
                            0.7777777778,
                            "#fb9f3a"
                          ],
                          [
                            0.8888888889,
                            "#fdca26"
                          ],
                          [
                            1,
                            "#f0f921"
                          ]
                        ],
                        "type": "surface"
                      }
                    ],
                    "table": [
                      {
                        "cells": {
                          "fill": {
                            "color": "#EBF0F8"
                          },
                          "line": {
                            "color": "white"
                          }
                        },
                        "header": {
                          "fill": {
                            "color": "#C8D4E3"
                          },
                          "line": {
                            "color": "white"
                          }
                        },
                        "type": "table"
                      }
                    ]
                  },
                  "layout": {
                    "annotationdefaults": {
                      "arrowcolor": "#2a3f5f",
                      "arrowhead": 0,
                      "arrowwidth": 1
                    },
                    "autotypenumbers": "strict",
                    "coloraxis": {
                      "colorbar": {
                        "outlinewidth": 0,
                        "ticks": ""
                      }
                    },
                    "colorscale": {
                      "diverging": [
                        [
                          0,
                          "#8e0152"
                        ],
                        [
                          0.1,
                          "#c51b7d"
                        ],
                        [
                          0.2,
                          "#de77ae"
                        ],
                        [
                          0.3,
                          "#f1b6da"
                        ],
                        [
                          0.4,
                          "#fde0ef"
                        ],
                        [
                          0.5,
                          "#f7f7f7"
                        ],
                        [
                          0.6,
                          "#e6f5d0"
                        ],
                        [
                          0.7,
                          "#b8e186"
                        ],
                        [
                          0.8,
                          "#7fbc41"
                        ],
                        [
                          0.9,
                          "#4d9221"
                        ],
                        [
                          1,
                          "#276419"
                        ]
                      ],
                      "sequential": [
                        [
                          0,
                          "#0d0887"
                        ],
                        [
                          0.1111111111,
                          "#46039f"
                        ],
                        [
                          0.2222222222,
                          "#7201a8"
                        ],
                        [
                          0.3333333333,
                          "#9c179e"
                        ],
                        [
                          0.4444444444,
                          "#bd3786"
                        ],
                        [
                          0.5555555556,
                          "#d8576b"
                        ],
                        [
                          0.6666666667,
                          "#ed7953"
                        ],
                        [
                          0.7777777778,
                          "#fb9f3a"
                        ],
                        [
                          0.8888888889,
                          "#fdca26"
                        ],
                        [
                          1,
                          "#f0f921"
                        ]
                      ],
                      "sequentialminus": [
                        [
                          0,
                          "#0d0887"
                        ],
                        [
                          0.1111111111,
                          "#46039f"
                        ],
                        [
                          0.2222222222,
                          "#7201a8"
                        ],
                        [
                          0.3333333333,
                          "#9c179e"
                        ],
                        [
                          0.4444444444,
                          "#bd3786"
                        ],
                        [
                          0.5555555556,
                          "#d8576b"
                        ],
                        [
                          0.6666666667,
                          "#ed7953"
                        ],
                        [
                          0.7777777778,
                          "#fb9f3a"
                        ],
                        [
                          0.8888888889,
                          "#fdca26"
                        ],
                        [
                          1,
                          "#f0f921"
                        ]
                      ]
                    },
                    "colorway": [
                      "#636efa",
                      "#EF553B",
                      "#00cc96",
                      "#ab63fa",
                      "#FFA15A",
                      "#19d3f3",
                      "#FF6692",
                      "#B6E880",
                      "#FF97FF",
                      "#FECB52"
                    ],
                    "font": {
                      "color": "#2a3f5f"
                    },
                    "geo": {
                      "bgcolor": "white",
                      "lakecolor": "white",
                      "landcolor": "#E5ECF6",
                      "showlakes": true,
                      "showland": true,
                      "subunitcolor": "white"
                    },
                    "hoverlabel": {
                      "align": "left"
                    },
                    "hovermode": "closest",
                    "mapbox": {
                      "style": "light"
                    },
                    "paper_bgcolor": "white",
                    "plot_bgcolor": "#E5ECF6",
                    "polar": {
                      "angularaxis": {
                        "gridcolor": "white",
                        "linecolor": "white",
                        "ticks": ""
                      },
                      "bgcolor": "#E5ECF6",
                      "radialaxis": {
                        "gridcolor": "white",
                        "linecolor": "white",
                        "ticks": ""
                      }
                    },
                    "scene": {
                      "xaxis": {
                        "backgroundcolor": "#E5ECF6",
                        "gridcolor": "white",
                        "gridwidth": 2,
                        "linecolor": "white",
                        "showbackground": true,
                        "ticks": "",
                        "zerolinecolor": "white"
                      },
                      "yaxis": {
                        "backgroundcolor": "#E5ECF6",
                        "gridcolor": "white",
                        "gridwidth": 2,
                        "linecolor": "white",
                        "showbackground": true,
                        "ticks": "",
                        "zerolinecolor": "white"
                      },
                      "zaxis": {
                        "backgroundcolor": "#E5ECF6",
                        "gridcolor": "white",
                        "gridwidth": 2,
                        "linecolor": "white",
                        "showbackground": true,
                        "ticks": "",
                        "zerolinecolor": "white"
                      }
                    },
                    "shapedefaults": {
                      "line": {
                        "color": "#2a3f5f"
                      }
                    },
                    "ternary": {
                      "aaxis": {
                        "gridcolor": "white",
                        "linecolor": "white",
                        "ticks": ""
                      },
                      "baxis": {
                        "gridcolor": "white",
                        "linecolor": "white",
                        "ticks": ""
                      },
                      "bgcolor": "#E5ECF6",
                      "caxis": {
                        "gridcolor": "white",
                        "linecolor": "white",
                        "ticks": ""
                      }
                    },
                    "title": {
                      "x": 0.05
                    },
                    "xaxis": {
                      "automargin": true,
                      "gridcolor": "white",
                      "linecolor": "white",
                      "ticks": "",
                      "title": {
                        "standoff": 15
                      },
                      "zerolinecolor": "white",
                      "zerolinewidth": 2
                    },
                    "yaxis": {
                      "automargin": true,
                      "gridcolor": "white",
                      "linecolor": "white",
                      "ticks": "",
                      "title": {
                        "standoff": 15
                      },
                      "zerolinecolor": "white",
                      "zerolinewidth": 2
                    }
                  }
                },
                "title": {
                  "text": "Модели самолётов и количество рейсов"
                }
              }
            },
            "text/html": [
              "<div>                            <div id=\"d4ce7073-fe1b-400b-a676-0508c5166dc0\" class=\"plotly-graph-div\" style=\"height:525px; width:100%;\"></div>            <script type=\"text/javascript\">                require([\"plotly\"], function(Plotly) {                    window.PLOTLYENV=window.PLOTLYENV || {};                                    if (document.getElementById(\"d4ce7073-fe1b-400b-a676-0508c5166dc0\")) {                    Plotly.newPlot(                        \"d4ce7073-fe1b-400b-a676-0508c5166dc0\",                        [{\"domain\": {\"x\": [0.0, 1.0], \"y\": [0.0, 1.0]}, \"hovertemplate\": \"model=%{label}<br>flights_amount=%{value}<extra></extra>\", \"labels\": [\"Cessna 208 Caravan\", \"Bombardier CRJ-200\", \"Sukhoi SuperJet-100\", \"Airbus A321-200\", \"Boeing 737-300\", \"Airbus A319-100\", \"Boeing 767-300\", \"Boeing 777-300\"], \"legendgroup\": \"\", \"name\": \"\", \"showlegend\": true, \"textinfo\": \"percent+label\", \"textposition\": \"inside\", \"type\": \"pie\", \"values\": [4557, 4446, 4185, 960, 630, 607, 600, 300]}],                        {\"legend\": {\"tracegroupgap\": 0}, \"piecolorway\": [\"rgb(103,0,31)\", \"rgb(178,24,43)\", \"rgb(214,96,77)\", \"rgb(244,165,130)\", \"rgb(253,219,199)\", \"rgb(247,247,247)\", \"rgb(209,229,240)\", \"rgb(146,197,222)\", \"rgb(67,147,195)\", \"rgb(33,102,172)\", \"rgb(5,48,97)\"], \"template\": {\"data\": {\"bar\": [{\"error_x\": {\"color\": \"#2a3f5f\"}, \"error_y\": {\"color\": \"#2a3f5f\"}, \"marker\": {\"line\": {\"color\": \"#E5ECF6\", \"width\": 0.5}}, \"type\": \"bar\"}], \"barpolar\": [{\"marker\": {\"line\": {\"color\": \"#E5ECF6\", \"width\": 0.5}}, \"type\": \"barpolar\"}], \"carpet\": [{\"aaxis\": {\"endlinecolor\": \"#2a3f5f\", \"gridcolor\": \"white\", \"linecolor\": \"white\", \"minorgridcolor\": \"white\", \"startlinecolor\": \"#2a3f5f\"}, \"baxis\": {\"endlinecolor\": \"#2a3f5f\", \"gridcolor\": \"white\", \"linecolor\": \"white\", \"minorgridcolor\": \"white\", \"startlinecolor\": \"#2a3f5f\"}, \"type\": \"carpet\"}], \"choropleth\": [{\"colorbar\": {\"outlinewidth\": 0, \"ticks\": \"\"}, \"type\": \"choropleth\"}], \"contour\": [{\"colorbar\": {\"outlinewidth\": 0, \"ticks\": \"\"}, \"colorscale\": [[0.0, \"#0d0887\"], [0.1111111111111111, \"#46039f\"], [0.2222222222222222, \"#7201a8\"], [0.3333333333333333, \"#9c179e\"], [0.4444444444444444, \"#bd3786\"], [0.5555555555555556, \"#d8576b\"], [0.6666666666666666, \"#ed7953\"], [0.7777777777777778, \"#fb9f3a\"], [0.8888888888888888, \"#fdca26\"], [1.0, \"#f0f921\"]], \"type\": \"contour\"}], \"contourcarpet\": [{\"colorbar\": {\"outlinewidth\": 0, \"ticks\": \"\"}, \"type\": \"contourcarpet\"}], \"heatmap\": [{\"colorbar\": {\"outlinewidth\": 0, \"ticks\": \"\"}, \"colorscale\": [[0.0, \"#0d0887\"], [0.1111111111111111, \"#46039f\"], [0.2222222222222222, \"#7201a8\"], [0.3333333333333333, \"#9c179e\"], [0.4444444444444444, \"#bd3786\"], [0.5555555555555556, \"#d8576b\"], [0.6666666666666666, \"#ed7953\"], [0.7777777777777778, \"#fb9f3a\"], [0.8888888888888888, \"#fdca26\"], [1.0, \"#f0f921\"]], \"type\": \"heatmap\"}], \"heatmapgl\": [{\"colorbar\": {\"outlinewidth\": 0, \"ticks\": \"\"}, \"colorscale\": [[0.0, \"#0d0887\"], [0.1111111111111111, \"#46039f\"], [0.2222222222222222, \"#7201a8\"], [0.3333333333333333, \"#9c179e\"], [0.4444444444444444, \"#bd3786\"], [0.5555555555555556, \"#d8576b\"], [0.6666666666666666, \"#ed7953\"], [0.7777777777777778, \"#fb9f3a\"], [0.8888888888888888, \"#fdca26\"], [1.0, \"#f0f921\"]], \"type\": \"heatmapgl\"}], \"histogram\": [{\"marker\": {\"colorbar\": {\"outlinewidth\": 0, \"ticks\": \"\"}}, \"type\": \"histogram\"}], \"histogram2d\": [{\"colorbar\": {\"outlinewidth\": 0, \"ticks\": \"\"}, \"colorscale\": [[0.0, \"#0d0887\"], [0.1111111111111111, \"#46039f\"], [0.2222222222222222, \"#7201a8\"], [0.3333333333333333, \"#9c179e\"], [0.4444444444444444, \"#bd3786\"], [0.5555555555555556, \"#d8576b\"], [0.6666666666666666, \"#ed7953\"], [0.7777777777777778, \"#fb9f3a\"], [0.8888888888888888, \"#fdca26\"], [1.0, \"#f0f921\"]], \"type\": \"histogram2d\"}], \"histogram2dcontour\": [{\"colorbar\": {\"outlinewidth\": 0, \"ticks\": \"\"}, \"colorscale\": [[0.0, \"#0d0887\"], [0.1111111111111111, \"#46039f\"], [0.2222222222222222, \"#7201a8\"], [0.3333333333333333, \"#9c179e\"], [0.4444444444444444, \"#bd3786\"], [0.5555555555555556, \"#d8576b\"], [0.6666666666666666, \"#ed7953\"], [0.7777777777777778, \"#fb9f3a\"], [0.8888888888888888, \"#fdca26\"], [1.0, \"#f0f921\"]], \"type\": \"histogram2dcontour\"}], \"mesh3d\": [{\"colorbar\": {\"outlinewidth\": 0, \"ticks\": \"\"}, \"type\": \"mesh3d\"}], \"parcoords\": [{\"line\": {\"colorbar\": {\"outlinewidth\": 0, \"ticks\": \"\"}}, \"type\": \"parcoords\"}], \"pie\": [{\"automargin\": true, \"type\": \"pie\"}], \"scatter\": [{\"marker\": {\"colorbar\": {\"outlinewidth\": 0, \"ticks\": \"\"}}, \"type\": \"scatter\"}], \"scatter3d\": [{\"line\": {\"colorbar\": {\"outlinewidth\": 0, \"ticks\": \"\"}}, \"marker\": {\"colorbar\": {\"outlinewidth\": 0, \"ticks\": \"\"}}, \"type\": \"scatter3d\"}], \"scattercarpet\": [{\"marker\": {\"colorbar\": {\"outlinewidth\": 0, \"ticks\": \"\"}}, \"type\": \"scattercarpet\"}], \"scattergeo\": [{\"marker\": {\"colorbar\": {\"outlinewidth\": 0, \"ticks\": \"\"}}, \"type\": \"scattergeo\"}], \"scattergl\": [{\"marker\": {\"colorbar\": {\"outlinewidth\": 0, \"ticks\": \"\"}}, \"type\": \"scattergl\"}], \"scattermapbox\": [{\"marker\": {\"colorbar\": {\"outlinewidth\": 0, \"ticks\": \"\"}}, \"type\": \"scattermapbox\"}], \"scatterpolar\": [{\"marker\": {\"colorbar\": {\"outlinewidth\": 0, \"ticks\": \"\"}}, \"type\": \"scatterpolar\"}], \"scatterpolargl\": [{\"marker\": {\"colorbar\": {\"outlinewidth\": 0, \"ticks\": \"\"}}, \"type\": \"scatterpolargl\"}], \"scatterternary\": [{\"marker\": {\"colorbar\": {\"outlinewidth\": 0, \"ticks\": \"\"}}, \"type\": \"scatterternary\"}], \"surface\": [{\"colorbar\": {\"outlinewidth\": 0, \"ticks\": \"\"}, \"colorscale\": [[0.0, \"#0d0887\"], [0.1111111111111111, \"#46039f\"], [0.2222222222222222, \"#7201a8\"], [0.3333333333333333, \"#9c179e\"], [0.4444444444444444, \"#bd3786\"], [0.5555555555555556, \"#d8576b\"], [0.6666666666666666, \"#ed7953\"], [0.7777777777777778, \"#fb9f3a\"], [0.8888888888888888, \"#fdca26\"], [1.0, \"#f0f921\"]], \"type\": \"surface\"}], \"table\": [{\"cells\": {\"fill\": {\"color\": \"#EBF0F8\"}, \"line\": {\"color\": \"white\"}}, \"header\": {\"fill\": {\"color\": \"#C8D4E3\"}, \"line\": {\"color\": \"white\"}}, \"type\": \"table\"}]}, \"layout\": {\"annotationdefaults\": {\"arrowcolor\": \"#2a3f5f\", \"arrowhead\": 0, \"arrowwidth\": 1}, \"autotypenumbers\": \"strict\", \"coloraxis\": {\"colorbar\": {\"outlinewidth\": 0, \"ticks\": \"\"}}, \"colorscale\": {\"diverging\": [[0, \"#8e0152\"], [0.1, \"#c51b7d\"], [0.2, \"#de77ae\"], [0.3, \"#f1b6da\"], [0.4, \"#fde0ef\"], [0.5, \"#f7f7f7\"], [0.6, \"#e6f5d0\"], [0.7, \"#b8e186\"], [0.8, \"#7fbc41\"], [0.9, \"#4d9221\"], [1, \"#276419\"]], \"sequential\": [[0.0, \"#0d0887\"], [0.1111111111111111, \"#46039f\"], [0.2222222222222222, \"#7201a8\"], [0.3333333333333333, \"#9c179e\"], [0.4444444444444444, \"#bd3786\"], [0.5555555555555556, \"#d8576b\"], [0.6666666666666666, \"#ed7953\"], [0.7777777777777778, \"#fb9f3a\"], [0.8888888888888888, \"#fdca26\"], [1.0, \"#f0f921\"]], \"sequentialminus\": [[0.0, \"#0d0887\"], [0.1111111111111111, \"#46039f\"], [0.2222222222222222, \"#7201a8\"], [0.3333333333333333, \"#9c179e\"], [0.4444444444444444, \"#bd3786\"], [0.5555555555555556, \"#d8576b\"], [0.6666666666666666, \"#ed7953\"], [0.7777777777777778, \"#fb9f3a\"], [0.8888888888888888, \"#fdca26\"], [1.0, \"#f0f921\"]]}, \"colorway\": [\"#636efa\", \"#EF553B\", \"#00cc96\", \"#ab63fa\", \"#FFA15A\", \"#19d3f3\", \"#FF6692\", \"#B6E880\", \"#FF97FF\", \"#FECB52\"], \"font\": {\"color\": \"#2a3f5f\"}, \"geo\": {\"bgcolor\": \"white\", \"lakecolor\": \"white\", \"landcolor\": \"#E5ECF6\", \"showlakes\": true, \"showland\": true, \"subunitcolor\": \"white\"}, \"hoverlabel\": {\"align\": \"left\"}, \"hovermode\": \"closest\", \"mapbox\": {\"style\": \"light\"}, \"paper_bgcolor\": \"white\", \"plot_bgcolor\": \"#E5ECF6\", \"polar\": {\"angularaxis\": {\"gridcolor\": \"white\", \"linecolor\": \"white\", \"ticks\": \"\"}, \"bgcolor\": \"#E5ECF6\", \"radialaxis\": {\"gridcolor\": \"white\", \"linecolor\": \"white\", \"ticks\": \"\"}}, \"scene\": {\"xaxis\": {\"backgroundcolor\": \"#E5ECF6\", \"gridcolor\": \"white\", \"gridwidth\": 2, \"linecolor\": \"white\", \"showbackground\": true, \"ticks\": \"\", \"zerolinecolor\": \"white\"}, \"yaxis\": {\"backgroundcolor\": \"#E5ECF6\", \"gridcolor\": \"white\", \"gridwidth\": 2, \"linecolor\": \"white\", \"showbackground\": true, \"ticks\": \"\", \"zerolinecolor\": \"white\"}, \"zaxis\": {\"backgroundcolor\": \"#E5ECF6\", \"gridcolor\": \"white\", \"gridwidth\": 2, \"linecolor\": \"white\", \"showbackground\": true, \"ticks\": \"\", \"zerolinecolor\": \"white\"}}, \"shapedefaults\": {\"line\": {\"color\": \"#2a3f5f\"}}, \"ternary\": {\"aaxis\": {\"gridcolor\": \"white\", \"linecolor\": \"white\", \"ticks\": \"\"}, \"baxis\": {\"gridcolor\": \"white\", \"linecolor\": \"white\", \"ticks\": \"\"}, \"bgcolor\": \"#E5ECF6\", \"caxis\": {\"gridcolor\": \"white\", \"linecolor\": \"white\", \"ticks\": \"\"}}, \"title\": {\"x\": 0.05}, \"xaxis\": {\"automargin\": true, \"gridcolor\": \"white\", \"linecolor\": \"white\", \"ticks\": \"\", \"title\": {\"standoff\": 15}, \"zerolinecolor\": \"white\", \"zerolinewidth\": 2}, \"yaxis\": {\"automargin\": true, \"gridcolor\": \"white\", \"linecolor\": \"white\", \"ticks\": \"\", \"title\": {\"standoff\": 15}, \"zerolinecolor\": \"white\", \"zerolinewidth\": 2}}}, \"title\": {\"text\": \"\\u041c\\u043e\\u0434\\u0435\\u043b\\u0438 \\u0441\\u0430\\u043c\\u043e\\u043b\\u0451\\u0442\\u043e\\u0432 \\u0438 \\u043a\\u043e\\u043b\\u0438\\u0447\\u0435\\u0441\\u0442\\u0432\\u043e \\u0440\\u0435\\u0439\\u0441\\u043e\\u0432\"}},                        {\"responsive\": true}                    ).then(function(){\n",
              "                            \n",
              "var gd = document.getElementById('d4ce7073-fe1b-400b-a676-0508c5166dc0');\n",
              "var x = new MutationObserver(function (mutations, observer) {{\n",
              "        var display = window.getComputedStyle(gd).display;\n",
              "        if (!display || display === 'none') {{\n",
              "            console.log([gd, 'removed!']);\n",
              "            Plotly.purge(gd);\n",
              "            observer.disconnect();\n",
              "        }}\n",
              "}});\n",
              "\n",
              "// Listen for the removal of the full notebook cells\n",
              "var notebookContainer = gd.closest('#notebook-container');\n",
              "if (notebookContainer) {{\n",
              "    x.observe(notebookContainer, {childList: true});\n",
              "}}\n",
              "\n",
              "// Listen for the clearing of the current output cell\n",
              "var outputEl = gd.closest('.output');\n",
              "if (outputEl) {{\n",
              "    x.observe(outputEl, {childList: true});\n",
              "}}\n",
              "\n",
              "                        })                };                });            </script>        </div>"
            ]
          },
          "metadata": {},
          "output_type": "display_data"
        }
      ],
      "source": [
        "\n",
        "fig = px.pie(query_1, values='flights_amount',\n",
        "             names='model', title='Модели самолётов и количество рейсов', \n",
        "             color_discrete_sequence=px.colors.sequential.RdBu)\n",
        "fig.update_traces(textposition='inside', textinfo='percent+label')\n",
        "fig.show()"
      ]
    },
    {
      "cell_type": "markdown",
      "metadata": {
        "id": "5Hpc2LsIi-if"
      },
      "source": [
        "#### Вывод\n",
        "Первый три места ханимают следющие модели соответсвено: Cessana 208 Caravan, Bombardier CRJ-20 и Sukhoi Superjet -100.  \n",
        "По количество полётов первые три места с отрывом отличаются от осталных. Их суммарное порцентное соотношение составляет около 80% от общего количетсво полётов.  \n",
        "Это местные и региональные самолеты.   \n",
        "Видно, что у авиакомпании большой объем полетов осуществляется небольшими самолетами"
      ]
    },
    {
      "cell_type": "markdown",
      "metadata": {
        "id": "EeRZfp7wi-if"
      },
      "source": [
        "\n",
        "<div class=\"alert alert-success\">\n",
        "<h1>Комментарий ревьюера <a class=\"tocSkip\"></a></h1>\n",
        "Молодец, верный анализ\n",
        "</div>"
      ]
    },
    {
      "cell_type": "markdown",
      "metadata": {
        "id": "z3KEfn6Qi-ig"
      },
      "source": [
        "### График - города и количество рейсов"
      ]
    },
    {
      "cell_type": "code",
      "execution_count": null,
      "metadata": {
        "scrolled": false,
        "id": "_IRmMdzEi-ih",
        "outputId": "2faf91a4-c876-4f15-acfb-619584c605be"
      },
      "outputs": [
        {
          "data": {
            "application/vnd.plotly.v1+json": {
              "config": {
                "plotlyServerURL": "https://plot.ly"
              },
              "data": [
                {
                  "alignmentgroup": "True",
                  "hovertemplate": "average_flights=%{text}<br>city=%{y}<extra></extra>",
                  "legendgroup": "",
                  "marker": {
                    "color": "rgb(103,0,31)"
                  },
                  "name": "",
                  "offsetgroup": "",
                  "orientation": "h",
                  "showlegend": false,
                  "text": [
                    1,
                    1,
                    1,
                    1,
                    1,
                    1,
                    1,
                    1,
                    1,
                    1,
                    1,
                    1,
                    1.1290322581,
                    1.2777777778,
                    1.2941176471,
                    1.3225806452,
                    1.3571428571,
                    1.3870967742,
                    1.5483870968,
                    1.5806451613,
                    1.5909090909,
                    1.6086956522,
                    2,
                    2,
                    2,
                    2,
                    2,
                    2,
                    2,
                    2,
                    2,
                    2.0322580645,
                    2.1612903226,
                    2.1612903226,
                    2.2903225806,
                    2.2903225806,
                    2.2903225806,
                    2.4516129032,
                    2.5806451613,
                    2.5806451613,
                    2.5909090909,
                    2.6129032258,
                    2.6129032258,
                    2.7419354839,
                    2.8709677419,
                    3,
                    3,
                    3,
                    3,
                    3,
                    3,
                    3,
                    3.1290322581,
                    3.1612903226,
                    3.2903225806,
                    3.2903225806,
                    3.4193548387,
                    3.4193548387,
                    3.7419354839,
                    3.8709677419,
                    3.9032258065,
                    4,
                    4,
                    4,
                    4,
                    4.1290322581,
                    4.1935483871,
                    4.2903225806,
                    4.2903225806,
                    4.5806451613,
                    4.8709677419,
                    5,
                    5,
                    5.1290322581,
                    5.3548387097,
                    5.8709677419,
                    5.8709677419,
                    6,
                    6,
                    6.0322580645,
                    6.0322580645,
                    6.2903225806,
                    6.2903225806,
                    6.5483870968,
                    6.7096774194,
                    6.9677419355,
                    7.7419354839,
                    8.2903225806,
                    8.4193548387,
                    8.7419354839,
                    9,
                    9.5806451613,
                    9.6129032258,
                    10,
                    10.1290322581,
                    10.1935483871,
                    11.3225806452,
                    11.5806451613,
                    17.3225806452,
                    31.1612903226,
                    129.7741935484
                  ],
                  "textposition": "outside",
                  "texttemplate": "%{text:.2s}",
                  "type": "bar",
                  "x": [
                    1,
                    1,
                    1,
                    1,
                    1,
                    1,
                    1,
                    1,
                    1,
                    1,
                    1,
                    1,
                    1.1290322581,
                    1.2777777778,
                    1.2941176471,
                    1.3225806452,
                    1.3571428571,
                    1.3870967742,
                    1.5483870968,
                    1.5806451613,
                    1.5909090909,
                    1.6086956522,
                    2,
                    2,
                    2,
                    2,
                    2,
                    2,
                    2,
                    2,
                    2,
                    2.0322580645,
                    2.1612903226,
                    2.1612903226,
                    2.2903225806,
                    2.2903225806,
                    2.2903225806,
                    2.4516129032,
                    2.5806451613,
                    2.5806451613,
                    2.5909090909,
                    2.6129032258,
                    2.6129032258,
                    2.7419354839,
                    2.8709677419,
                    3,
                    3,
                    3,
                    3,
                    3,
                    3,
                    3,
                    3.1290322581,
                    3.1612903226,
                    3.2903225806,
                    3.2903225806,
                    3.4193548387,
                    3.4193548387,
                    3.7419354839,
                    3.8709677419,
                    3.9032258065,
                    4,
                    4,
                    4,
                    4,
                    4.1290322581,
                    4.1935483871,
                    4.2903225806,
                    4.2903225806,
                    4.5806451613,
                    4.8709677419,
                    5,
                    5,
                    5.1290322581,
                    5.3548387097,
                    5.8709677419,
                    5.8709677419,
                    6,
                    6,
                    6.0322580645,
                    6.0322580645,
                    6.2903225806,
                    6.2903225806,
                    6.5483870968,
                    6.7096774194,
                    6.9677419355,
                    7.7419354839,
                    8.2903225806,
                    8.4193548387,
                    8.7419354839,
                    9,
                    9.5806451613,
                    9.6129032258,
                    10,
                    10.1290322581,
                    10.1935483871,
                    11.3225806452,
                    11.5806451613,
                    17.3225806452,
                    31.1612903226,
                    129.7741935484
                  ],
                  "xaxis": "x",
                  "y": [
                    "Нефтеюганск",
                    "Усинск",
                    "Усть-Кут",
                    "Стрежевой",
                    "Анадырь",
                    "Братск",
                    "Нягань",
                    "Иваново",
                    "Ижевск",
                    "Петропавловск-Камчатский",
                    "Комсомольск-на-Амуре",
                    "Благовещенск",
                    "Грозный",
                    "Кызыл",
                    "Липецк",
                    "Ярославль",
                    "Магадан",
                    "Горно-Алтайск",
                    "Псков",
                    "Чита",
                    "Орск",
                    "Улан-Удэ",
                    "Владикавказ",
                    "Воронеж",
                    "Ставрополь",
                    "Белоярский",
                    "Салехард",
                    "Урай",
                    "Мурманск",
                    "Кемерово",
                    "Саранск",
                    "Калуга",
                    "Череповец",
                    "Анапа",
                    "Надым",
                    "Норильск",
                    "Курск",
                    "Астрахань",
                    "Нерюнгри",
                    "Калининград",
                    "Геленджик",
                    "Нарьян-Мар",
                    "Барнаул",
                    "Якутск",
                    "Усть-Илимск",
                    "Ноябрьск",
                    "Бугульма",
                    "Удачный",
                    "Ухта",
                    "Нальчик",
                    "Самара",
                    "Владивосток",
                    "Нижневартовск",
                    "Когалым",
                    "Махачкала",
                    "Омск",
                    "Минеральные Воды",
                    "Курган",
                    "Нижнекамск",
                    "Абакан",
                    "Краснодар",
                    "Пенза",
                    "Тамбов",
                    "Магнитогорск",
                    "Саратов",
                    "Сыктывкар",
                    "Томск",
                    "Южно-Сахалинск",
                    "Йошкар-Ола",
                    "Воркута",
                    "Элиста",
                    "Чебоксары",
                    "Оренбург",
                    "Волгоград",
                    "Архангельск",
                    "Нижний Новгород",
                    "Петрозаводск",
                    "Киров",
                    "Белгород",
                    "Иркутск",
                    "Новокузнецк",
                    "Мирный",
                    "Уфа",
                    "Хабаровск",
                    "Челябинск",
                    "Тюмень",
                    "Казань",
                    "Новый Уренгой",
                    "Ханты-Мансийск",
                    "Сургут",
                    "Советский",
                    "Ульяновск",
                    "Сочи",
                    "Брянск",
                    "Пермь",
                    "Ростов-на-Дону",
                    "Екатеринбург",
                    "Красноярск",
                    "Новосибирск",
                    "Санкт-Петербург",
                    "Москва"
                  ],
                  "yaxis": "y"
                }
              ],
              "layout": {
                "barmode": "relative",
                "height": 2000,
                "legend": {
                  "tracegroupgap": 0
                },
                "template": {
                  "data": {
                    "bar": [
                      {
                        "error_x": {
                          "color": "#2a3f5f"
                        },
                        "error_y": {
                          "color": "#2a3f5f"
                        },
                        "marker": {
                          "line": {
                            "color": "#E5ECF6",
                            "width": 0.5
                          }
                        },
                        "type": "bar"
                      }
                    ],
                    "barpolar": [
                      {
                        "marker": {
                          "line": {
                            "color": "#E5ECF6",
                            "width": 0.5
                          }
                        },
                        "type": "barpolar"
                      }
                    ],
                    "carpet": [
                      {
                        "aaxis": {
                          "endlinecolor": "#2a3f5f",
                          "gridcolor": "white",
                          "linecolor": "white",
                          "minorgridcolor": "white",
                          "startlinecolor": "#2a3f5f"
                        },
                        "baxis": {
                          "endlinecolor": "#2a3f5f",
                          "gridcolor": "white",
                          "linecolor": "white",
                          "minorgridcolor": "white",
                          "startlinecolor": "#2a3f5f"
                        },
                        "type": "carpet"
                      }
                    ],
                    "choropleth": [
                      {
                        "colorbar": {
                          "outlinewidth": 0,
                          "ticks": ""
                        },
                        "type": "choropleth"
                      }
                    ],
                    "contour": [
                      {
                        "colorbar": {
                          "outlinewidth": 0,
                          "ticks": ""
                        },
                        "colorscale": [
                          [
                            0,
                            "#0d0887"
                          ],
                          [
                            0.1111111111,
                            "#46039f"
                          ],
                          [
                            0.2222222222,
                            "#7201a8"
                          ],
                          [
                            0.3333333333,
                            "#9c179e"
                          ],
                          [
                            0.4444444444,
                            "#bd3786"
                          ],
                          [
                            0.5555555556,
                            "#d8576b"
                          ],
                          [
                            0.6666666667,
                            "#ed7953"
                          ],
                          [
                            0.7777777778,
                            "#fb9f3a"
                          ],
                          [
                            0.8888888889,
                            "#fdca26"
                          ],
                          [
                            1,
                            "#f0f921"
                          ]
                        ],
                        "type": "contour"
                      }
                    ],
                    "contourcarpet": [
                      {
                        "colorbar": {
                          "outlinewidth": 0,
                          "ticks": ""
                        },
                        "type": "contourcarpet"
                      }
                    ],
                    "heatmap": [
                      {
                        "colorbar": {
                          "outlinewidth": 0,
                          "ticks": ""
                        },
                        "colorscale": [
                          [
                            0,
                            "#0d0887"
                          ],
                          [
                            0.1111111111,
                            "#46039f"
                          ],
                          [
                            0.2222222222,
                            "#7201a8"
                          ],
                          [
                            0.3333333333,
                            "#9c179e"
                          ],
                          [
                            0.4444444444,
                            "#bd3786"
                          ],
                          [
                            0.5555555556,
                            "#d8576b"
                          ],
                          [
                            0.6666666667,
                            "#ed7953"
                          ],
                          [
                            0.7777777778,
                            "#fb9f3a"
                          ],
                          [
                            0.8888888889,
                            "#fdca26"
                          ],
                          [
                            1,
                            "#f0f921"
                          ]
                        ],
                        "type": "heatmap"
                      }
                    ],
                    "heatmapgl": [
                      {
                        "colorbar": {
                          "outlinewidth": 0,
                          "ticks": ""
                        },
                        "colorscale": [
                          [
                            0,
                            "#0d0887"
                          ],
                          [
                            0.1111111111,
                            "#46039f"
                          ],
                          [
                            0.2222222222,
                            "#7201a8"
                          ],
                          [
                            0.3333333333,
                            "#9c179e"
                          ],
                          [
                            0.4444444444,
                            "#bd3786"
                          ],
                          [
                            0.5555555556,
                            "#d8576b"
                          ],
                          [
                            0.6666666667,
                            "#ed7953"
                          ],
                          [
                            0.7777777778,
                            "#fb9f3a"
                          ],
                          [
                            0.8888888889,
                            "#fdca26"
                          ],
                          [
                            1,
                            "#f0f921"
                          ]
                        ],
                        "type": "heatmapgl"
                      }
                    ],
                    "histogram": [
                      {
                        "marker": {
                          "colorbar": {
                            "outlinewidth": 0,
                            "ticks": ""
                          }
                        },
                        "type": "histogram"
                      }
                    ],
                    "histogram2d": [
                      {
                        "colorbar": {
                          "outlinewidth": 0,
                          "ticks": ""
                        },
                        "colorscale": [
                          [
                            0,
                            "#0d0887"
                          ],
                          [
                            0.1111111111,
                            "#46039f"
                          ],
                          [
                            0.2222222222,
                            "#7201a8"
                          ],
                          [
                            0.3333333333,
                            "#9c179e"
                          ],
                          [
                            0.4444444444,
                            "#bd3786"
                          ],
                          [
                            0.5555555556,
                            "#d8576b"
                          ],
                          [
                            0.6666666667,
                            "#ed7953"
                          ],
                          [
                            0.7777777778,
                            "#fb9f3a"
                          ],
                          [
                            0.8888888889,
                            "#fdca26"
                          ],
                          [
                            1,
                            "#f0f921"
                          ]
                        ],
                        "type": "histogram2d"
                      }
                    ],
                    "histogram2dcontour": [
                      {
                        "colorbar": {
                          "outlinewidth": 0,
                          "ticks": ""
                        },
                        "colorscale": [
                          [
                            0,
                            "#0d0887"
                          ],
                          [
                            0.1111111111,
                            "#46039f"
                          ],
                          [
                            0.2222222222,
                            "#7201a8"
                          ],
                          [
                            0.3333333333,
                            "#9c179e"
                          ],
                          [
                            0.4444444444,
                            "#bd3786"
                          ],
                          [
                            0.5555555556,
                            "#d8576b"
                          ],
                          [
                            0.6666666667,
                            "#ed7953"
                          ],
                          [
                            0.7777777778,
                            "#fb9f3a"
                          ],
                          [
                            0.8888888889,
                            "#fdca26"
                          ],
                          [
                            1,
                            "#f0f921"
                          ]
                        ],
                        "type": "histogram2dcontour"
                      }
                    ],
                    "mesh3d": [
                      {
                        "colorbar": {
                          "outlinewidth": 0,
                          "ticks": ""
                        },
                        "type": "mesh3d"
                      }
                    ],
                    "parcoords": [
                      {
                        "line": {
                          "colorbar": {
                            "outlinewidth": 0,
                            "ticks": ""
                          }
                        },
                        "type": "parcoords"
                      }
                    ],
                    "pie": [
                      {
                        "automargin": true,
                        "type": "pie"
                      }
                    ],
                    "scatter": [
                      {
                        "marker": {
                          "colorbar": {
                            "outlinewidth": 0,
                            "ticks": ""
                          }
                        },
                        "type": "scatter"
                      }
                    ],
                    "scatter3d": [
                      {
                        "line": {
                          "colorbar": {
                            "outlinewidth": 0,
                            "ticks": ""
                          }
                        },
                        "marker": {
                          "colorbar": {
                            "outlinewidth": 0,
                            "ticks": ""
                          }
                        },
                        "type": "scatter3d"
                      }
                    ],
                    "scattercarpet": [
                      {
                        "marker": {
                          "colorbar": {
                            "outlinewidth": 0,
                            "ticks": ""
                          }
                        },
                        "type": "scattercarpet"
                      }
                    ],
                    "scattergeo": [
                      {
                        "marker": {
                          "colorbar": {
                            "outlinewidth": 0,
                            "ticks": ""
                          }
                        },
                        "type": "scattergeo"
                      }
                    ],
                    "scattergl": [
                      {
                        "marker": {
                          "colorbar": {
                            "outlinewidth": 0,
                            "ticks": ""
                          }
                        },
                        "type": "scattergl"
                      }
                    ],
                    "scattermapbox": [
                      {
                        "marker": {
                          "colorbar": {
                            "outlinewidth": 0,
                            "ticks": ""
                          }
                        },
                        "type": "scattermapbox"
                      }
                    ],
                    "scatterpolar": [
                      {
                        "marker": {
                          "colorbar": {
                            "outlinewidth": 0,
                            "ticks": ""
                          }
                        },
                        "type": "scatterpolar"
                      }
                    ],
                    "scatterpolargl": [
                      {
                        "marker": {
                          "colorbar": {
                            "outlinewidth": 0,
                            "ticks": ""
                          }
                        },
                        "type": "scatterpolargl"
                      }
                    ],
                    "scatterternary": [
                      {
                        "marker": {
                          "colorbar": {
                            "outlinewidth": 0,
                            "ticks": ""
                          }
                        },
                        "type": "scatterternary"
                      }
                    ],
                    "surface": [
                      {
                        "colorbar": {
                          "outlinewidth": 0,
                          "ticks": ""
                        },
                        "colorscale": [
                          [
                            0,
                            "#0d0887"
                          ],
                          [
                            0.1111111111,
                            "#46039f"
                          ],
                          [
                            0.2222222222,
                            "#7201a8"
                          ],
                          [
                            0.3333333333,
                            "#9c179e"
                          ],
                          [
                            0.4444444444,
                            "#bd3786"
                          ],
                          [
                            0.5555555556,
                            "#d8576b"
                          ],
                          [
                            0.6666666667,
                            "#ed7953"
                          ],
                          [
                            0.7777777778,
                            "#fb9f3a"
                          ],
                          [
                            0.8888888889,
                            "#fdca26"
                          ],
                          [
                            1,
                            "#f0f921"
                          ]
                        ],
                        "type": "surface"
                      }
                    ],
                    "table": [
                      {
                        "cells": {
                          "fill": {
                            "color": "#EBF0F8"
                          },
                          "line": {
                            "color": "white"
                          }
                        },
                        "header": {
                          "fill": {
                            "color": "#C8D4E3"
                          },
                          "line": {
                            "color": "white"
                          }
                        },
                        "type": "table"
                      }
                    ]
                  },
                  "layout": {
                    "annotationdefaults": {
                      "arrowcolor": "#2a3f5f",
                      "arrowhead": 0,
                      "arrowwidth": 1
                    },
                    "autotypenumbers": "strict",
                    "coloraxis": {
                      "colorbar": {
                        "outlinewidth": 0,
                        "ticks": ""
                      }
                    },
                    "colorscale": {
                      "diverging": [
                        [
                          0,
                          "#8e0152"
                        ],
                        [
                          0.1,
                          "#c51b7d"
                        ],
                        [
                          0.2,
                          "#de77ae"
                        ],
                        [
                          0.3,
                          "#f1b6da"
                        ],
                        [
                          0.4,
                          "#fde0ef"
                        ],
                        [
                          0.5,
                          "#f7f7f7"
                        ],
                        [
                          0.6,
                          "#e6f5d0"
                        ],
                        [
                          0.7,
                          "#b8e186"
                        ],
                        [
                          0.8,
                          "#7fbc41"
                        ],
                        [
                          0.9,
                          "#4d9221"
                        ],
                        [
                          1,
                          "#276419"
                        ]
                      ],
                      "sequential": [
                        [
                          0,
                          "#0d0887"
                        ],
                        [
                          0.1111111111,
                          "#46039f"
                        ],
                        [
                          0.2222222222,
                          "#7201a8"
                        ],
                        [
                          0.3333333333,
                          "#9c179e"
                        ],
                        [
                          0.4444444444,
                          "#bd3786"
                        ],
                        [
                          0.5555555556,
                          "#d8576b"
                        ],
                        [
                          0.6666666667,
                          "#ed7953"
                        ],
                        [
                          0.7777777778,
                          "#fb9f3a"
                        ],
                        [
                          0.8888888889,
                          "#fdca26"
                        ],
                        [
                          1,
                          "#f0f921"
                        ]
                      ],
                      "sequentialminus": [
                        [
                          0,
                          "#0d0887"
                        ],
                        [
                          0.1111111111,
                          "#46039f"
                        ],
                        [
                          0.2222222222,
                          "#7201a8"
                        ],
                        [
                          0.3333333333,
                          "#9c179e"
                        ],
                        [
                          0.4444444444,
                          "#bd3786"
                        ],
                        [
                          0.5555555556,
                          "#d8576b"
                        ],
                        [
                          0.6666666667,
                          "#ed7953"
                        ],
                        [
                          0.7777777778,
                          "#fb9f3a"
                        ],
                        [
                          0.8888888889,
                          "#fdca26"
                        ],
                        [
                          1,
                          "#f0f921"
                        ]
                      ]
                    },
                    "colorway": [
                      "#636efa",
                      "#EF553B",
                      "#00cc96",
                      "#ab63fa",
                      "#FFA15A",
                      "#19d3f3",
                      "#FF6692",
                      "#B6E880",
                      "#FF97FF",
                      "#FECB52"
                    ],
                    "font": {
                      "color": "#2a3f5f"
                    },
                    "geo": {
                      "bgcolor": "white",
                      "lakecolor": "white",
                      "landcolor": "#E5ECF6",
                      "showlakes": true,
                      "showland": true,
                      "subunitcolor": "white"
                    },
                    "hoverlabel": {
                      "align": "left"
                    },
                    "hovermode": "closest",
                    "mapbox": {
                      "style": "light"
                    },
                    "paper_bgcolor": "white",
                    "plot_bgcolor": "#E5ECF6",
                    "polar": {
                      "angularaxis": {
                        "gridcolor": "white",
                        "linecolor": "white",
                        "ticks": ""
                      },
                      "bgcolor": "#E5ECF6",
                      "radialaxis": {
                        "gridcolor": "white",
                        "linecolor": "white",
                        "ticks": ""
                      }
                    },
                    "scene": {
                      "xaxis": {
                        "backgroundcolor": "#E5ECF6",
                        "gridcolor": "white",
                        "gridwidth": 2,
                        "linecolor": "white",
                        "showbackground": true,
                        "ticks": "",
                        "zerolinecolor": "white"
                      },
                      "yaxis": {
                        "backgroundcolor": "#E5ECF6",
                        "gridcolor": "white",
                        "gridwidth": 2,
                        "linecolor": "white",
                        "showbackground": true,
                        "ticks": "",
                        "zerolinecolor": "white"
                      },
                      "zaxis": {
                        "backgroundcolor": "#E5ECF6",
                        "gridcolor": "white",
                        "gridwidth": 2,
                        "linecolor": "white",
                        "showbackground": true,
                        "ticks": "",
                        "zerolinecolor": "white"
                      }
                    },
                    "shapedefaults": {
                      "line": {
                        "color": "#2a3f5f"
                      }
                    },
                    "ternary": {
                      "aaxis": {
                        "gridcolor": "white",
                        "linecolor": "white",
                        "ticks": ""
                      },
                      "baxis": {
                        "gridcolor": "white",
                        "linecolor": "white",
                        "ticks": ""
                      },
                      "bgcolor": "#E5ECF6",
                      "caxis": {
                        "gridcolor": "white",
                        "linecolor": "white",
                        "ticks": ""
                      }
                    },
                    "title": {
                      "x": 0.05
                    },
                    "xaxis": {
                      "automargin": true,
                      "gridcolor": "white",
                      "linecolor": "white",
                      "ticks": "",
                      "title": {
                        "standoff": 15
                      },
                      "zerolinecolor": "white",
                      "zerolinewidth": 2
                    },
                    "yaxis": {
                      "automargin": true,
                      "gridcolor": "white",
                      "linecolor": "white",
                      "ticks": "",
                      "title": {
                        "standoff": 15
                      },
                      "zerolinecolor": "white",
                      "zerolinewidth": 2
                    }
                  }
                },
                "title": {
                  "text": "Города и количество рейсов, среднее в день"
                },
                "uniformtext": {
                  "minsize": 8,
                  "mode": "hide"
                },
                "xaxis": {
                  "anchor": "y",
                  "domain": [
                    0,
                    1
                  ],
                  "title": {
                    "text": "average_flights"
                  }
                },
                "yaxis": {
                  "anchor": "x",
                  "domain": [
                    0,
                    1
                  ],
                  "title": {
                    "text": "city"
                  }
                }
              }
            },
            "text/html": [
              "<div>                            <div id=\"19aa3d3d-4c66-47ad-8395-8adb65fc21d9\" class=\"plotly-graph-div\" style=\"height:2000px; width:100%;\"></div>            <script type=\"text/javascript\">                require([\"plotly\"], function(Plotly) {                    window.PLOTLYENV=window.PLOTLYENV || {};                                    if (document.getElementById(\"19aa3d3d-4c66-47ad-8395-8adb65fc21d9\")) {                    Plotly.newPlot(                        \"19aa3d3d-4c66-47ad-8395-8adb65fc21d9\",                        [{\"alignmentgroup\": \"True\", \"hovertemplate\": \"average_flights=%{text}<br>city=%{y}<extra></extra>\", \"legendgroup\": \"\", \"marker\": {\"color\": \"rgb(103,0,31)\"}, \"name\": \"\", \"offsetgroup\": \"\", \"orientation\": \"h\", \"showlegend\": false, \"text\": [1.0, 1.0, 1.0, 1.0, 1.0, 1.0, 1.0, 1.0, 1.0, 1.0, 1.0, 1.0, 1.129032258064516, 1.277777777777778, 1.2941176470588236, 1.3225806451612905, 1.3571428571428572, 1.3870967741935485, 1.5483870967741935, 1.5806451612903225, 1.5909090909090908, 1.608695652173913, 2.0, 2.0, 2.0, 2.0, 2.0, 2.0, 2.0, 2.0, 2.0, 2.032258064516129, 2.161290322580645, 2.161290322580645, 2.290322580645161, 2.290322580645161, 2.290322580645161, 2.4516129032258065, 2.5806451612903225, 2.5806451612903225, 2.590909090909091, 2.612903225806452, 2.612903225806452, 2.741935483870968, 2.870967741935484, 3.0, 3.0, 3.0, 3.0, 3.0, 3.0, 3.0, 3.129032258064516, 3.161290322580645, 3.290322580645161, 3.290322580645161, 3.419354838709677, 3.419354838709677, 3.741935483870968, 3.870967741935484, 3.903225806451613, 4.0, 4.0, 4.0, 4.0, 4.129032258064516, 4.193548387096774, 4.290322580645161, 4.290322580645161, 4.580645161290322, 4.870967741935484, 5.0, 5.0, 5.129032258064516, 5.354838709677419, 5.870967741935484, 5.870967741935484, 6.0, 6.0, 6.032258064516129, 6.032258064516129, 6.290322580645161, 6.290322580645161, 6.548387096774194, 6.709677419354839, 6.967741935483871, 7.741935483870966, 8.290322580645162, 8.419354838709676, 8.741935483870966, 9.0, 9.580645161290322, 9.612903225806452, 10.0, 10.129032258064516, 10.193548387096774, 11.32258064516129, 11.580645161290322, 17.32258064516129, 31.161290322580648, 129.77419354838707], \"textposition\": \"outside\", \"texttemplate\": \"%{text:.2s}\", \"type\": \"bar\", \"x\": [1.0, 1.0, 1.0, 1.0, 1.0, 1.0, 1.0, 1.0, 1.0, 1.0, 1.0, 1.0, 1.129032258064516, 1.277777777777778, 1.2941176470588236, 1.3225806451612905, 1.3571428571428572, 1.3870967741935485, 1.5483870967741935, 1.5806451612903225, 1.5909090909090908, 1.608695652173913, 2.0, 2.0, 2.0, 2.0, 2.0, 2.0, 2.0, 2.0, 2.0, 2.032258064516129, 2.161290322580645, 2.161290322580645, 2.290322580645161, 2.290322580645161, 2.290322580645161, 2.4516129032258065, 2.5806451612903225, 2.5806451612903225, 2.590909090909091, 2.612903225806452, 2.612903225806452, 2.741935483870968, 2.870967741935484, 3.0, 3.0, 3.0, 3.0, 3.0, 3.0, 3.0, 3.129032258064516, 3.161290322580645, 3.290322580645161, 3.290322580645161, 3.419354838709677, 3.419354838709677, 3.741935483870968, 3.870967741935484, 3.903225806451613, 4.0, 4.0, 4.0, 4.0, 4.129032258064516, 4.193548387096774, 4.290322580645161, 4.290322580645161, 4.580645161290322, 4.870967741935484, 5.0, 5.0, 5.129032258064516, 5.354838709677419, 5.870967741935484, 5.870967741935484, 6.0, 6.0, 6.032258064516129, 6.032258064516129, 6.290322580645161, 6.290322580645161, 6.548387096774194, 6.709677419354839, 6.967741935483871, 7.741935483870966, 8.290322580645162, 8.419354838709676, 8.741935483870966, 9.0, 9.580645161290322, 9.612903225806452, 10.0, 10.129032258064516, 10.193548387096774, 11.32258064516129, 11.580645161290322, 17.32258064516129, 31.161290322580648, 129.77419354838707], \"xaxis\": \"x\", \"y\": [\"\\u041d\\u0435\\u0444\\u0442\\u0435\\u044e\\u0433\\u0430\\u043d\\u0441\\u043a\", \"\\u0423\\u0441\\u0438\\u043d\\u0441\\u043a\", \"\\u0423\\u0441\\u0442\\u044c-\\u041a\\u0443\\u0442\", \"\\u0421\\u0442\\u0440\\u0435\\u0436\\u0435\\u0432\\u043e\\u0439\", \"\\u0410\\u043d\\u0430\\u0434\\u044b\\u0440\\u044c\", \"\\u0411\\u0440\\u0430\\u0442\\u0441\\u043a\", \"\\u041d\\u044f\\u0433\\u0430\\u043d\\u044c\", \"\\u0418\\u0432\\u0430\\u043d\\u043e\\u0432\\u043e\", \"\\u0418\\u0436\\u0435\\u0432\\u0441\\u043a\", \"\\u041f\\u0435\\u0442\\u0440\\u043e\\u043f\\u0430\\u0432\\u043b\\u043e\\u0432\\u0441\\u043a-\\u041a\\u0430\\u043c\\u0447\\u0430\\u0442\\u0441\\u043a\\u0438\\u0439\", \"\\u041a\\u043e\\u043c\\u0441\\u043e\\u043c\\u043e\\u043b\\u044c\\u0441\\u043a-\\u043d\\u0430-\\u0410\\u043c\\u0443\\u0440\\u0435\", \"\\u0411\\u043b\\u0430\\u0433\\u043e\\u0432\\u0435\\u0449\\u0435\\u043d\\u0441\\u043a\", \"\\u0413\\u0440\\u043e\\u0437\\u043d\\u044b\\u0439\", \"\\u041a\\u044b\\u0437\\u044b\\u043b\", \"\\u041b\\u0438\\u043f\\u0435\\u0446\\u043a\", \"\\u042f\\u0440\\u043e\\u0441\\u043b\\u0430\\u0432\\u043b\\u044c\", \"\\u041c\\u0430\\u0433\\u0430\\u0434\\u0430\\u043d\", \"\\u0413\\u043e\\u0440\\u043d\\u043e-\\u0410\\u043b\\u0442\\u0430\\u0439\\u0441\\u043a\", \"\\u041f\\u0441\\u043a\\u043e\\u0432\", \"\\u0427\\u0438\\u0442\\u0430\", \"\\u041e\\u0440\\u0441\\u043a\", \"\\u0423\\u043b\\u0430\\u043d-\\u0423\\u0434\\u044d\", \"\\u0412\\u043b\\u0430\\u0434\\u0438\\u043a\\u0430\\u0432\\u043a\\u0430\\u0437\", \"\\u0412\\u043e\\u0440\\u043e\\u043d\\u0435\\u0436\", \"\\u0421\\u0442\\u0430\\u0432\\u0440\\u043e\\u043f\\u043e\\u043b\\u044c\", \"\\u0411\\u0435\\u043b\\u043e\\u044f\\u0440\\u0441\\u043a\\u0438\\u0439\", \"\\u0421\\u0430\\u043b\\u0435\\u0445\\u0430\\u0440\\u0434\", \"\\u0423\\u0440\\u0430\\u0439\", \"\\u041c\\u0443\\u0440\\u043c\\u0430\\u043d\\u0441\\u043a\", \"\\u041a\\u0435\\u043c\\u0435\\u0440\\u043e\\u0432\\u043e\", \"\\u0421\\u0430\\u0440\\u0430\\u043d\\u0441\\u043a\", \"\\u041a\\u0430\\u043b\\u0443\\u0433\\u0430\", \"\\u0427\\u0435\\u0440\\u0435\\u043f\\u043e\\u0432\\u0435\\u0446\", \"\\u0410\\u043d\\u0430\\u043f\\u0430\", \"\\u041d\\u0430\\u0434\\u044b\\u043c\", \"\\u041d\\u043e\\u0440\\u0438\\u043b\\u044c\\u0441\\u043a\", \"\\u041a\\u0443\\u0440\\u0441\\u043a\", \"\\u0410\\u0441\\u0442\\u0440\\u0430\\u0445\\u0430\\u043d\\u044c\", \"\\u041d\\u0435\\u0440\\u044e\\u043d\\u0433\\u0440\\u0438\", \"\\u041a\\u0430\\u043b\\u0438\\u043d\\u0438\\u043d\\u0433\\u0440\\u0430\\u0434\", \"\\u0413\\u0435\\u043b\\u0435\\u043d\\u0434\\u0436\\u0438\\u043a\", \"\\u041d\\u0430\\u0440\\u044c\\u044f\\u043d-\\u041c\\u0430\\u0440\", \"\\u0411\\u0430\\u0440\\u043d\\u0430\\u0443\\u043b\", \"\\u042f\\u043a\\u0443\\u0442\\u0441\\u043a\", \"\\u0423\\u0441\\u0442\\u044c-\\u0418\\u043b\\u0438\\u043c\\u0441\\u043a\", \"\\u041d\\u043e\\u044f\\u0431\\u0440\\u044c\\u0441\\u043a\", \"\\u0411\\u0443\\u0433\\u0443\\u043b\\u044c\\u043c\\u0430\", \"\\u0423\\u0434\\u0430\\u0447\\u043d\\u044b\\u0439\", \"\\u0423\\u0445\\u0442\\u0430\", \"\\u041d\\u0430\\u043b\\u044c\\u0447\\u0438\\u043a\", \"\\u0421\\u0430\\u043c\\u0430\\u0440\\u0430\", \"\\u0412\\u043b\\u0430\\u0434\\u0438\\u0432\\u043e\\u0441\\u0442\\u043e\\u043a\", \"\\u041d\\u0438\\u0436\\u043d\\u0435\\u0432\\u0430\\u0440\\u0442\\u043e\\u0432\\u0441\\u043a\", \"\\u041a\\u043e\\u0433\\u0430\\u043b\\u044b\\u043c\", \"\\u041c\\u0430\\u0445\\u0430\\u0447\\u043a\\u0430\\u043b\\u0430\", \"\\u041e\\u043c\\u0441\\u043a\", \"\\u041c\\u0438\\u043d\\u0435\\u0440\\u0430\\u043b\\u044c\\u043d\\u044b\\u0435 \\u0412\\u043e\\u0434\\u044b\", \"\\u041a\\u0443\\u0440\\u0433\\u0430\\u043d\", \"\\u041d\\u0438\\u0436\\u043d\\u0435\\u043a\\u0430\\u043c\\u0441\\u043a\", \"\\u0410\\u0431\\u0430\\u043a\\u0430\\u043d\", \"\\u041a\\u0440\\u0430\\u0441\\u043d\\u043e\\u0434\\u0430\\u0440\", \"\\u041f\\u0435\\u043d\\u0437\\u0430\", \"\\u0422\\u0430\\u043c\\u0431\\u043e\\u0432\", \"\\u041c\\u0430\\u0433\\u043d\\u0438\\u0442\\u043e\\u0433\\u043e\\u0440\\u0441\\u043a\", \"\\u0421\\u0430\\u0440\\u0430\\u0442\\u043e\\u0432\", \"\\u0421\\u044b\\u043a\\u0442\\u044b\\u0432\\u043a\\u0430\\u0440\", \"\\u0422\\u043e\\u043c\\u0441\\u043a\", \"\\u042e\\u0436\\u043d\\u043e-\\u0421\\u0430\\u0445\\u0430\\u043b\\u0438\\u043d\\u0441\\u043a\", \"\\u0419\\u043e\\u0448\\u043a\\u0430\\u0440-\\u041e\\u043b\\u0430\", \"\\u0412\\u043e\\u0440\\u043a\\u0443\\u0442\\u0430\", \"\\u042d\\u043b\\u0438\\u0441\\u0442\\u0430\", \"\\u0427\\u0435\\u0431\\u043e\\u043a\\u0441\\u0430\\u0440\\u044b\", \"\\u041e\\u0440\\u0435\\u043d\\u0431\\u0443\\u0440\\u0433\", \"\\u0412\\u043e\\u043b\\u0433\\u043e\\u0433\\u0440\\u0430\\u0434\", \"\\u0410\\u0440\\u0445\\u0430\\u043d\\u0433\\u0435\\u043b\\u044c\\u0441\\u043a\", \"\\u041d\\u0438\\u0436\\u043d\\u0438\\u0439 \\u041d\\u043e\\u0432\\u0433\\u043e\\u0440\\u043e\\u0434\", \"\\u041f\\u0435\\u0442\\u0440\\u043e\\u0437\\u0430\\u0432\\u043e\\u0434\\u0441\\u043a\", \"\\u041a\\u0438\\u0440\\u043e\\u0432\", \"\\u0411\\u0435\\u043b\\u0433\\u043e\\u0440\\u043e\\u0434\", \"\\u0418\\u0440\\u043a\\u0443\\u0442\\u0441\\u043a\", \"\\u041d\\u043e\\u0432\\u043e\\u043a\\u0443\\u0437\\u043d\\u0435\\u0446\\u043a\", \"\\u041c\\u0438\\u0440\\u043d\\u044b\\u0439\", \"\\u0423\\u0444\\u0430\", \"\\u0425\\u0430\\u0431\\u0430\\u0440\\u043e\\u0432\\u0441\\u043a\", \"\\u0427\\u0435\\u043b\\u044f\\u0431\\u0438\\u043d\\u0441\\u043a\", \"\\u0422\\u044e\\u043c\\u0435\\u043d\\u044c\", \"\\u041a\\u0430\\u0437\\u0430\\u043d\\u044c\", \"\\u041d\\u043e\\u0432\\u044b\\u0439 \\u0423\\u0440\\u0435\\u043d\\u0433\\u043e\\u0439\", \"\\u0425\\u0430\\u043d\\u0442\\u044b-\\u041c\\u0430\\u043d\\u0441\\u0438\\u0439\\u0441\\u043a\", \"\\u0421\\u0443\\u0440\\u0433\\u0443\\u0442\", \"\\u0421\\u043e\\u0432\\u0435\\u0442\\u0441\\u043a\\u0438\\u0439\", \"\\u0423\\u043b\\u044c\\u044f\\u043d\\u043e\\u0432\\u0441\\u043a\", \"\\u0421\\u043e\\u0447\\u0438\", \"\\u0411\\u0440\\u044f\\u043d\\u0441\\u043a\", \"\\u041f\\u0435\\u0440\\u043c\\u044c\", \"\\u0420\\u043e\\u0441\\u0442\\u043e\\u0432-\\u043d\\u0430-\\u0414\\u043e\\u043d\\u0443\", \"\\u0415\\u043a\\u0430\\u0442\\u0435\\u0440\\u0438\\u043d\\u0431\\u0443\\u0440\\u0433\", \"\\u041a\\u0440\\u0430\\u0441\\u043d\\u043e\\u044f\\u0440\\u0441\\u043a\", \"\\u041d\\u043e\\u0432\\u043e\\u0441\\u0438\\u0431\\u0438\\u0440\\u0441\\u043a\", \"\\u0421\\u0430\\u043d\\u043a\\u0442-\\u041f\\u0435\\u0442\\u0435\\u0440\\u0431\\u0443\\u0440\\u0433\", \"\\u041c\\u043e\\u0441\\u043a\\u0432\\u0430\"], \"yaxis\": \"y\"}],                        {\"barmode\": \"relative\", \"height\": 2000, \"legend\": {\"tracegroupgap\": 0}, \"template\": {\"data\": {\"bar\": [{\"error_x\": {\"color\": \"#2a3f5f\"}, \"error_y\": {\"color\": \"#2a3f5f\"}, \"marker\": {\"line\": {\"color\": \"#E5ECF6\", \"width\": 0.5}}, \"type\": \"bar\"}], \"barpolar\": [{\"marker\": {\"line\": {\"color\": \"#E5ECF6\", \"width\": 0.5}}, \"type\": \"barpolar\"}], \"carpet\": [{\"aaxis\": {\"endlinecolor\": \"#2a3f5f\", \"gridcolor\": \"white\", \"linecolor\": \"white\", \"minorgridcolor\": \"white\", \"startlinecolor\": \"#2a3f5f\"}, \"baxis\": {\"endlinecolor\": \"#2a3f5f\", \"gridcolor\": \"white\", \"linecolor\": \"white\", \"minorgridcolor\": \"white\", \"startlinecolor\": \"#2a3f5f\"}, \"type\": \"carpet\"}], \"choropleth\": [{\"colorbar\": {\"outlinewidth\": 0, \"ticks\": \"\"}, \"type\": \"choropleth\"}], \"contour\": [{\"colorbar\": {\"outlinewidth\": 0, \"ticks\": \"\"}, \"colorscale\": [[0.0, \"#0d0887\"], [0.1111111111111111, \"#46039f\"], [0.2222222222222222, \"#7201a8\"], [0.3333333333333333, \"#9c179e\"], [0.4444444444444444, \"#bd3786\"], [0.5555555555555556, \"#d8576b\"], [0.6666666666666666, \"#ed7953\"], [0.7777777777777778, \"#fb9f3a\"], [0.8888888888888888, \"#fdca26\"], [1.0, \"#f0f921\"]], \"type\": \"contour\"}], \"contourcarpet\": [{\"colorbar\": {\"outlinewidth\": 0, \"ticks\": \"\"}, \"type\": \"contourcarpet\"}], \"heatmap\": [{\"colorbar\": {\"outlinewidth\": 0, \"ticks\": \"\"}, \"colorscale\": [[0.0, \"#0d0887\"], [0.1111111111111111, \"#46039f\"], [0.2222222222222222, \"#7201a8\"], [0.3333333333333333, \"#9c179e\"], [0.4444444444444444, \"#bd3786\"], [0.5555555555555556, \"#d8576b\"], [0.6666666666666666, \"#ed7953\"], [0.7777777777777778, \"#fb9f3a\"], [0.8888888888888888, \"#fdca26\"], [1.0, \"#f0f921\"]], \"type\": \"heatmap\"}], \"heatmapgl\": [{\"colorbar\": {\"outlinewidth\": 0, \"ticks\": \"\"}, \"colorscale\": [[0.0, \"#0d0887\"], [0.1111111111111111, \"#46039f\"], [0.2222222222222222, \"#7201a8\"], [0.3333333333333333, \"#9c179e\"], [0.4444444444444444, \"#bd3786\"], [0.5555555555555556, \"#d8576b\"], [0.6666666666666666, \"#ed7953\"], [0.7777777777777778, \"#fb9f3a\"], [0.8888888888888888, \"#fdca26\"], [1.0, \"#f0f921\"]], \"type\": \"heatmapgl\"}], \"histogram\": [{\"marker\": {\"colorbar\": {\"outlinewidth\": 0, \"ticks\": \"\"}}, \"type\": \"histogram\"}], \"histogram2d\": [{\"colorbar\": {\"outlinewidth\": 0, \"ticks\": \"\"}, \"colorscale\": [[0.0, \"#0d0887\"], [0.1111111111111111, \"#46039f\"], [0.2222222222222222, \"#7201a8\"], [0.3333333333333333, \"#9c179e\"], [0.4444444444444444, \"#bd3786\"], [0.5555555555555556, \"#d8576b\"], [0.6666666666666666, \"#ed7953\"], [0.7777777777777778, \"#fb9f3a\"], [0.8888888888888888, \"#fdca26\"], [1.0, \"#f0f921\"]], \"type\": \"histogram2d\"}], \"histogram2dcontour\": [{\"colorbar\": {\"outlinewidth\": 0, \"ticks\": \"\"}, \"colorscale\": [[0.0, \"#0d0887\"], [0.1111111111111111, \"#46039f\"], [0.2222222222222222, \"#7201a8\"], [0.3333333333333333, \"#9c179e\"], [0.4444444444444444, \"#bd3786\"], [0.5555555555555556, \"#d8576b\"], [0.6666666666666666, \"#ed7953\"], [0.7777777777777778, \"#fb9f3a\"], [0.8888888888888888, \"#fdca26\"], [1.0, \"#f0f921\"]], \"type\": \"histogram2dcontour\"}], \"mesh3d\": [{\"colorbar\": {\"outlinewidth\": 0, \"ticks\": \"\"}, \"type\": \"mesh3d\"}], \"parcoords\": [{\"line\": {\"colorbar\": {\"outlinewidth\": 0, \"ticks\": \"\"}}, \"type\": \"parcoords\"}], \"pie\": [{\"automargin\": true, \"type\": \"pie\"}], \"scatter\": [{\"marker\": {\"colorbar\": {\"outlinewidth\": 0, \"ticks\": \"\"}}, \"type\": \"scatter\"}], \"scatter3d\": [{\"line\": {\"colorbar\": {\"outlinewidth\": 0, \"ticks\": \"\"}}, \"marker\": {\"colorbar\": {\"outlinewidth\": 0, \"ticks\": \"\"}}, \"type\": \"scatter3d\"}], \"scattercarpet\": [{\"marker\": {\"colorbar\": {\"outlinewidth\": 0, \"ticks\": \"\"}}, \"type\": \"scattercarpet\"}], \"scattergeo\": [{\"marker\": {\"colorbar\": {\"outlinewidth\": 0, \"ticks\": \"\"}}, \"type\": \"scattergeo\"}], \"scattergl\": [{\"marker\": {\"colorbar\": {\"outlinewidth\": 0, \"ticks\": \"\"}}, \"type\": \"scattergl\"}], \"scattermapbox\": [{\"marker\": {\"colorbar\": {\"outlinewidth\": 0, \"ticks\": \"\"}}, \"type\": \"scattermapbox\"}], \"scatterpolar\": [{\"marker\": {\"colorbar\": {\"outlinewidth\": 0, \"ticks\": \"\"}}, \"type\": \"scatterpolar\"}], \"scatterpolargl\": [{\"marker\": {\"colorbar\": {\"outlinewidth\": 0, \"ticks\": \"\"}}, \"type\": \"scatterpolargl\"}], \"scatterternary\": [{\"marker\": {\"colorbar\": {\"outlinewidth\": 0, \"ticks\": \"\"}}, \"type\": \"scatterternary\"}], \"surface\": [{\"colorbar\": {\"outlinewidth\": 0, \"ticks\": \"\"}, \"colorscale\": [[0.0, \"#0d0887\"], [0.1111111111111111, \"#46039f\"], [0.2222222222222222, \"#7201a8\"], [0.3333333333333333, \"#9c179e\"], [0.4444444444444444, \"#bd3786\"], [0.5555555555555556, \"#d8576b\"], [0.6666666666666666, \"#ed7953\"], [0.7777777777777778, \"#fb9f3a\"], [0.8888888888888888, \"#fdca26\"], [1.0, \"#f0f921\"]], \"type\": \"surface\"}], \"table\": [{\"cells\": {\"fill\": {\"color\": \"#EBF0F8\"}, \"line\": {\"color\": \"white\"}}, \"header\": {\"fill\": {\"color\": \"#C8D4E3\"}, \"line\": {\"color\": \"white\"}}, \"type\": \"table\"}]}, \"layout\": {\"annotationdefaults\": {\"arrowcolor\": \"#2a3f5f\", \"arrowhead\": 0, \"arrowwidth\": 1}, \"autotypenumbers\": \"strict\", \"coloraxis\": {\"colorbar\": {\"outlinewidth\": 0, \"ticks\": \"\"}}, \"colorscale\": {\"diverging\": [[0, \"#8e0152\"], [0.1, \"#c51b7d\"], [0.2, \"#de77ae\"], [0.3, \"#f1b6da\"], [0.4, \"#fde0ef\"], [0.5, \"#f7f7f7\"], [0.6, \"#e6f5d0\"], [0.7, \"#b8e186\"], [0.8, \"#7fbc41\"], [0.9, \"#4d9221\"], [1, \"#276419\"]], \"sequential\": [[0.0, \"#0d0887\"], [0.1111111111111111, \"#46039f\"], [0.2222222222222222, \"#7201a8\"], [0.3333333333333333, \"#9c179e\"], [0.4444444444444444, \"#bd3786\"], [0.5555555555555556, \"#d8576b\"], [0.6666666666666666, \"#ed7953\"], [0.7777777777777778, \"#fb9f3a\"], [0.8888888888888888, \"#fdca26\"], [1.0, \"#f0f921\"]], \"sequentialminus\": [[0.0, \"#0d0887\"], [0.1111111111111111, \"#46039f\"], [0.2222222222222222, \"#7201a8\"], [0.3333333333333333, \"#9c179e\"], [0.4444444444444444, \"#bd3786\"], [0.5555555555555556, \"#d8576b\"], [0.6666666666666666, \"#ed7953\"], [0.7777777777777778, \"#fb9f3a\"], [0.8888888888888888, \"#fdca26\"], [1.0, \"#f0f921\"]]}, \"colorway\": [\"#636efa\", \"#EF553B\", \"#00cc96\", \"#ab63fa\", \"#FFA15A\", \"#19d3f3\", \"#FF6692\", \"#B6E880\", \"#FF97FF\", \"#FECB52\"], \"font\": {\"color\": \"#2a3f5f\"}, \"geo\": {\"bgcolor\": \"white\", \"lakecolor\": \"white\", \"landcolor\": \"#E5ECF6\", \"showlakes\": true, \"showland\": true, \"subunitcolor\": \"white\"}, \"hoverlabel\": {\"align\": \"left\"}, \"hovermode\": \"closest\", \"mapbox\": {\"style\": \"light\"}, \"paper_bgcolor\": \"white\", \"plot_bgcolor\": \"#E5ECF6\", \"polar\": {\"angularaxis\": {\"gridcolor\": \"white\", \"linecolor\": \"white\", \"ticks\": \"\"}, \"bgcolor\": \"#E5ECF6\", \"radialaxis\": {\"gridcolor\": \"white\", \"linecolor\": \"white\", \"ticks\": \"\"}}, \"scene\": {\"xaxis\": {\"backgroundcolor\": \"#E5ECF6\", \"gridcolor\": \"white\", \"gridwidth\": 2, \"linecolor\": \"white\", \"showbackground\": true, \"ticks\": \"\", \"zerolinecolor\": \"white\"}, \"yaxis\": {\"backgroundcolor\": \"#E5ECF6\", \"gridcolor\": \"white\", \"gridwidth\": 2, \"linecolor\": \"white\", \"showbackground\": true, \"ticks\": \"\", \"zerolinecolor\": \"white\"}, \"zaxis\": {\"backgroundcolor\": \"#E5ECF6\", \"gridcolor\": \"white\", \"gridwidth\": 2, \"linecolor\": \"white\", \"showbackground\": true, \"ticks\": \"\", \"zerolinecolor\": \"white\"}}, \"shapedefaults\": {\"line\": {\"color\": \"#2a3f5f\"}}, \"ternary\": {\"aaxis\": {\"gridcolor\": \"white\", \"linecolor\": \"white\", \"ticks\": \"\"}, \"baxis\": {\"gridcolor\": \"white\", \"linecolor\": \"white\", \"ticks\": \"\"}, \"bgcolor\": \"#E5ECF6\", \"caxis\": {\"gridcolor\": \"white\", \"linecolor\": \"white\", \"ticks\": \"\"}}, \"title\": {\"x\": 0.05}, \"xaxis\": {\"automargin\": true, \"gridcolor\": \"white\", \"linecolor\": \"white\", \"ticks\": \"\", \"title\": {\"standoff\": 15}, \"zerolinecolor\": \"white\", \"zerolinewidth\": 2}, \"yaxis\": {\"automargin\": true, \"gridcolor\": \"white\", \"linecolor\": \"white\", \"ticks\": \"\", \"title\": {\"standoff\": 15}, \"zerolinecolor\": \"white\", \"zerolinewidth\": 2}}}, \"title\": {\"text\": \"\\u0413\\u043e\\u0440\\u043e\\u0434\\u0430 \\u0438 \\u043a\\u043e\\u043b\\u0438\\u0447\\u0435\\u0441\\u0442\\u0432\\u043e \\u0440\\u0435\\u0439\\u0441\\u043e\\u0432, \\u0441\\u0440\\u0435\\u0434\\u043d\\u0435\\u0435 \\u0432 \\u0434\\u0435\\u043d\\u044c\"}, \"uniformtext\": {\"minsize\": 8, \"mode\": \"hide\"}, \"xaxis\": {\"anchor\": \"y\", \"domain\": [0.0, 1.0], \"title\": {\"text\": \"average_flights\"}}, \"yaxis\": {\"anchor\": \"x\", \"domain\": [0.0, 1.0], \"title\": {\"text\": \"city\"}}},                        {\"responsive\": true}                    ).then(function(){\n",
              "                            \n",
              "var gd = document.getElementById('19aa3d3d-4c66-47ad-8395-8adb65fc21d9');\n",
              "var x = new MutationObserver(function (mutations, observer) {{\n",
              "        var display = window.getComputedStyle(gd).display;\n",
              "        if (!display || display === 'none') {{\n",
              "            console.log([gd, 'removed!']);\n",
              "            Plotly.purge(gd);\n",
              "            observer.disconnect();\n",
              "        }}\n",
              "}});\n",
              "\n",
              "// Listen for the removal of the full notebook cells\n",
              "var notebookContainer = gd.closest('#notebook-container');\n",
              "if (notebookContainer) {{\n",
              "    x.observe(notebookContainer, {childList: true});\n",
              "}}\n",
              "\n",
              "// Listen for the clearing of the current output cell\n",
              "var outputEl = gd.closest('.output');\n",
              "if (outputEl) {{\n",
              "    x.observe(outputEl, {childList: true});\n",
              "}}\n",
              "\n",
              "                        })                };                });            </script>        </div>"
            ]
          },
          "metadata": {},
          "output_type": "display_data"
        }
      ],
      "source": [
        "\n",
        "fig = px.bar(query_3.sort_values(by='average_flights',ascending=True), \n",
        "             x='average_flights', y='city', text='average_flights',\n",
        "             title='Города и количество рейсов, среднее в день',\n",
        "            color_discrete_sequence=px.colors.sequential.RdBu, height=2000)\n",
        "fig.update_traces(texttemplate='%{text:.2s}', textposition='outside')\n",
        "fig.update_layout(uniformtext_minsize=8, uniformtext_mode='hide')\n",
        "fig.show()"
      ]
    },
    {
      "cell_type": "markdown",
      "metadata": {
        "id": "kDQoZeYai-ii"
      },
      "source": [
        "#### Вывод\n",
        "\n",
        "Из графика видно, что рейсы распределяются на три группы:  \n",
        "крупные хабы, средние и небольшие аэропорты."
      ]
    },
    {
      "cell_type": "code",
      "execution_count": null,
      "metadata": {
        "id": "yv1udToBi-ii"
      },
      "outputs": [],
      "source": []
    },
    {
      "cell_type": "markdown",
      "metadata": {
        "id": "Cq201Vyti-ij"
      },
      "source": [
        "## Вывод\n",
        "\n",
        "В данном проекте не хватает возможности напрямую из проекта подключиться к pyspark и вытянуть дополнительные аналитики,\n",
        "т.к. срезы полученные в виде csv не обладают всей информацией.\n",
        "\n",
        "1. Срез данных за 1 месяц показал, что модели самолетов: *Cessna 208 Caravan*, *Bombardier CRJ-200*, *Sukhoi SuperJet-100*  чаще летали по сравнению с другими фирмами производителями, такими как Boeing и Airbus.  Стоит отметить, что *Cessna 208 Caravan* является лидером по перелетам, но это однотурбинный самолет расчитанный на небольшие расстояния, и используется  для сообщения с небольшими населенными пунктами, где не рентабельно использовать более крупные самолеты и отсутствуют большие аэродромы. \n",
        "\n",
        "2. Количество рейсов вероятнее всего соответствует количеству жителей в городе, что  заметно на  графике по соотношению городов и среднему количеству полетов в неделю. \n",
        "\n",
        "\n",
        "В дополнение к текущим заданиям, я бы дополнительно исследовал города и топ самолетов для каждого города, сезональные активности, корреляцию между численностью и количеством полетов, модели и вместительность самолетов - пасажиропоток. "
      ]
    },
    {
      "cell_type": "markdown",
      "metadata": {
        "id": "thoD-7IGi-ij"
      },
      "source": [
        "\n",
        "<div class=\"alert alert-success\">\n",
        "<h1>Комментарий ревьюера v2 <a class=\"tocSkip\"></a></h1>\n",
        "Классые графки, четкий и лаконичный анализ, лайк!\n",
        "</div>"
      ]
    },
    {
      "cell_type": "markdown",
      "metadata": {
        "id": "029EKVUWi-ik"
      },
      "source": [
        "<div class=\"alert alert-success\">\n",
        "<h2> Комментарий ревьюера <a class=\"tocSkip\"></a></h2>\n",
        "\n",
        "-Спасибо за качественно сделанный проект, было приятно проверять.\n",
        "\n",
        "- Код написан хорошо \n",
        "\n",
        "- Соблюдена структура проекта \n",
        "\n",
        "- Отдельное спасибо за графики\n",
        "\n",
        "\n",
        "\n",
        "</div>"
      ]
    },
    {
      "cell_type": "markdown",
      "metadata": {
        "id": "YZvXFpAvi-ik"
      },
      "source": [
        "# Чек-лист проверки"
      ]
    },
    {
      "cell_type": "markdown",
      "metadata": {
        "id": "4aX_76eEi-ik"
      },
      "source": [
        "- [x]  Jupyter Notebook открыт\n",
        "- [x]  Весь код выполняется без ошибок\n",
        "- [x]  Ячейки с кодом расположены в порядке исполнения\n",
        "- [x]  Файлы изучены\n",
        "- [x]  Типы данных проверены на корректность\n",
        "- [x]  Выбран топ-10 городов по количеству рейсов\n",
        "- [x]  Построен график «Модели самолётов и количество рейсов»\n",
        "- [x]  Построен график «Города и количество рейсов»\n",
        "- [x]  Построен график «Топ-10 городов и количество рейсов»\n",
        "- [x]  На каждом этапе написаны выводы\n",
        "- [x]  Написан общий вывод"
      ]
    },
    {
      "cell_type": "code",
      "execution_count": null,
      "metadata": {
        "id": "2U4YfG2Hi-il"
      },
      "outputs": [],
      "source": []
    }
  ],
  "metadata": {
    "kernelspec": {
      "display_name": "Python 3 (ipykernel)",
      "language": "python",
      "name": "python3"
    },
    "language_info": {
      "codemirror_mode": {
        "name": "ipython",
        "version": 3
      },
      "file_extension": ".py",
      "mimetype": "text/x-python",
      "name": "python",
      "nbconvert_exporter": "python",
      "pygments_lexer": "ipython3",
      "version": "3.9.7"
    },
    "toc": {
      "base_numbering": 1,
      "nav_menu": {},
      "number_sections": true,
      "sideBar": true,
      "skip_h1_title": true,
      "title_cell": "Table of Contents",
      "title_sidebar": "Contents",
      "toc_cell": false,
      "toc_position": {
        "height": "calc(100% - 180px)",
        "left": "10px",
        "top": "150px",
        "width": "165px"
      },
      "toc_section_display": true,
      "toc_window_display": false
    },
    "colab": {
      "provenance": [],
      "include_colab_link": true
    }
  },
  "nbformat": 4,
  "nbformat_minor": 0
}