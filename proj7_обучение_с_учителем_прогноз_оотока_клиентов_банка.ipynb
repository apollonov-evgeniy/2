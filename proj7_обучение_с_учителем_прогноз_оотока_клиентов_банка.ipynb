{
  "cells": [
    {
      "cell_type": "markdown",
      "metadata": {
        "id": "view-in-github",
        "colab_type": "text"
      },
      "source": [
        "<a href=\"https://colab.research.google.com/github/apollonov-evgeniy/2/blob/main/proj7_%D0%BE%D0%B1%D1%83%D1%87%D0%B5%D0%BD%D0%B8%D0%B5_%D1%81_%D1%83%D1%87%D0%B8%D1%82%D0%B5%D0%BB%D0%B5%D0%BC_%D0%BF%D1%80%D0%BE%D0%B3%D0%BD%D0%BE%D0%B7_%D0%BE%D0%BE%D1%82%D0%BE%D0%BA%D0%B0_%D0%BA%D0%BB%D0%B8%D0%B5%D0%BD%D1%82%D0%BE%D0%B2_%D0%B1%D0%B0%D0%BD%D0%BA%D0%B0.ipynb\" target=\"_parent\"><img src=\"https://colab.research.google.com/assets/colab-badge.svg\" alt=\"Open In Colab\"/></a>"
      ]
    },
    {
      "cell_type": "markdown",
      "metadata": {
        "id": "vj1avj05WK4x"
      },
      "source": [
        "Привет, меня зовут Артем Хуршудов. Сегодня я проверю твой проект.\n",
        "<br> Дальнейшее общение будет происходить на \"ты\" если это не вызывает никаких проблем.\n",
        "<br> Желательно реагировать на каждый мой комментарий ('исправил', 'не понятно как исправить ошибку', ...)\n",
        "<br> Пожалуйста, не удаляй комментарии ревьюера, так как они повышают качество повторного ревью.\n",
        "\n",
        "Комментарии будут в <font color='green'>зеленой</font>, <font color='blue'>синей</font> или <font color='red'>красной</font> рамках:\n",
        "\n",
        "<div class=\"alert alert-block alert-success\">\n",
        "<b>Успех:</b> Если все сделано отлично\n",
        "</div>\n",
        "\n",
        "<div class=\"alert alert-block alert-info\">\n",
        "<b>Совет: </b> Если можно немного улучшить\n",
        "</div>\n",
        "\n",
        "<div class=\"alert alert-block alert-danger\">\n",
        "<b>Ошибка:</b> Если требуются исправления. Работа не может быть принята с красными комментариями.\n",
        "</div>\n",
        "\n",
        "-------------------\n",
        "\n",
        "Будет очень хорошо, если ты будешь помечать свои действия следующим образом:\n",
        "<div class=\"alert alert-block alert-warning\">\n",
        "<b>Комментарий студента:</b> ...\n",
        "</div>\n",
        "\n",
        "<div class=\"alert alert-block alert-warning\">\n",
        "<b>Изменения:</b> Были внесены следующие изменения ...\n",
        "</div>\n",
        "\n",
        "### <font color='orange'>Общее впечатление</font>\n",
        "* Этот проект выполнен довольно хорошо.\n",
        "* Молодец, что структурируешь ноутбук, приятно проверять такие работы.\n",
        "* Отлично, что правильно использованы train/valid/test наборы.\n",
        "* Я оставил несколько советов, надеюсь, что они будут учтены в будущих проектах.\n",
        "* Тебе удалось добиться очень хорошего качества, поздравляю!\n",
        "* Редко, кто сдает эту работу с первого раза, молодец!\n",
        "* Данный проект зачтен. Удачи в дальнейшем обучении!"
      ]
    },
    {
      "cell_type": "markdown",
      "metadata": {
        "id": "RpiZlNt0WK5A"
      },
      "source": [
        "<h1 id=\"tocheading\">Table of Contents</h1>\n",
        "<div id=\"toc\"></div>"
      ]
    },
    {
      "cell_type": "code",
      "execution_count": null,
      "metadata": {
        "id": "jL4QBOQGWK5C",
        "outputId": "3ad66722-75fc-49fc-e986-c9c05ddf1d6d"
      },
      "outputs": [
        {
          "data": {
            "application/javascript": [
              "$.getScript('https://kmahelona.github.io/ipython_notebook_goodies/ipython_notebook_toc.js')\n"
            ],
            "text/plain": [
              "<IPython.core.display.Javascript object>"
            ]
          },
          "metadata": {},
          "output_type": "display_data"
        }
      ],
      "source": [
        "%%javascript\n",
        "$.getScript('https://kmahelona.github.io/ipython_notebook_goodies/ipython_notebook_toc.js')"
      ]
    },
    {
      "cell_type": "markdown",
      "metadata": {
        "id": "lCoaaEnCWK5G"
      },
      "source": [
        "# Отток клиентов"
      ]
    },
    {
      "cell_type": "markdown",
      "metadata": {
        "id": "s6Az3I7wWK5I"
      },
      "source": [
        "Из «Бета-Банка» стали уходить клиенты. Каждый месяц. Немного, но заметно. Банковские маркетологи посчитали: сохранять текущих клиентов дешевле, чем привлекать новых.\n",
        "\n",
        "Нужно спрогнозировать, уйдёт клиент из банка в ближайшее время или нет. Вам предоставлены исторические данные о поведении клиентов и расторжении договоров с банком. \n",
        "\n",
        "Постройте модель с предельно большим значением *F1*-меры. Чтобы сдать проект успешно, нужно довести метрику до 0.59. Проверьте *F1*-меру на тестовой выборке самостоятельно.\n",
        "\n",
        "Дополнительно измеряйте *AUC-ROC*, сравнивайте её значение с *F1*-мерой.\n",
        "\n",
        "Источник данных: [https://www.kaggle.com/barelydedicated/bank-customer-churn-modeling](https://www.kaggle.com/barelydedicated/bank-customer-churn-modeling)\n",
        "\n",
        "\n",
        "Инструкция по выполнению проекта  \n",
        "\n",
        "1. Загрузите и подготовьте данные. Поясните порядок действий.  \n",
        "2. Исследуйте баланс классов, обучите модель без учёта дисбаланса. Кратко опишите выводы.  \n",
        "3. Улучшите качество модели, учитывая дисбаланс классов. Обучите разные модели и найдите лучшую. Кратко опишите выводы.  \n",
        "4. Проведите финальное тестирование.   \n",
        "\n",
        "Описание данных  \n",
        "Данные находятся в файле /datasets/Churn.csv (англ. «отток клиентов»).   \n",
        "\n",
        "Признаки  \n",
        "RowNumber — индекс строки в данных  \n",
        "CustomerId — уникальный идентификатор клиента  \n",
        "Surname — фамилия  \n",
        "CreditScore — кредитный рейтинг  \n",
        "Geography — страна проживания  \n",
        "Gender — пол  \n",
        "Age — возраст  \n",
        "Tenure — количество недвижимости у клиента  \n",
        "Balance — баланс на счёте  \n",
        "NumOfProducts — количество продуктов банка, используемых клиентом  \n",
        "HasCrCard — наличие кредитной карты  \n",
        "IsActiveMember — активность клиента  \n",
        "EstimatedSalary — предполагаемая зарплата  \n",
        "Целевой признак  \n",
        "Exited — факт ухода клиента  "
      ]
    },
    {
      "cell_type": "markdown",
      "metadata": {
        "id": "OHioNdwpWK5J"
      },
      "source": [
        "# 1. Подготовка данных"
      ]
    },
    {
      "cell_type": "code",
      "execution_count": null,
      "metadata": {
        "id": "eVz-QOo8WK5L"
      },
      "outputs": [],
      "source": [
        "import pandas as pd\n",
        "from sklearn.metrics import confusion_matrix\n",
        "from sklearn.model_selection import train_test_split\n",
        "from sklearn.tree import DecisionTreeClassifier\n",
        "from sklearn.ensemble import RandomForestClassifier\n",
        "from sklearn.linear_model import LogisticRegression\n",
        "from sklearn.preprocessing import OrdinalEncoder\n",
        "from sklearn.preprocessing import StandardScaler\n",
        "from sklearn.metrics import accuracy_score\n",
        "from sklearn.metrics import recall_score\n",
        "from sklearn.metrics import precision_score\n",
        "from sklearn.metrics import f1_score\n",
        "from sklearn.utils import shuffle\n",
        "import numpy as np\n",
        "from sklearn.metrics import roc_auc_score\n",
        "from sklearn.metrics import roc_curve\n",
        "import matplotlib.pyplot as plt"
      ]
    },
    {
      "cell_type": "markdown",
      "metadata": {
        "id": "f_pfLNOmWK5N"
      },
      "source": [
        "<div class=\"alert alert-block alert-info\">\n",
        "<b>Совет: </b> Желательно чтобы все импорты были собраны в первой ячейке ноутбука! Если у того, кто будет запускать твой ноутбук будут отсутствовать некоторые библиотеки, то он это увидит сразу, а не в процессе!\n",
        "</div>"
      ]
    },
    {
      "cell_type": "code",
      "execution_count": null,
      "metadata": {
        "id": "2DD_8C3VWK5O"
      },
      "outputs": [],
      "source": [
        "# Задаем некоторые опции библиотеки pandas, которые\n",
        "# настраивают вывод\n",
        "pd.set_option('display.max_rows', 30)\n",
        "pd.set_option('display.width', 80)\n",
        "# увеличиваем количество выводимых столбцов\n",
        "pd.set_option('display.max_columns', 60)\n",
        "pd.set_option('display.float_format', lambda x: '%.3f' % x)#формат вывода для удобства"
      ]
    },
    {
      "cell_type": "code",
      "execution_count": null,
      "metadata": {
        "id": "YZtCDnyaWK5Q",
        "outputId": "15ab00d4-a503-46d9-d298-87004f4036c1"
      },
      "outputs": [
        {
          "data": {
            "text/html": [
              "<div>\n",
              "<style scoped>\n",
              "    .dataframe tbody tr th:only-of-type {\n",
              "        vertical-align: middle;\n",
              "    }\n",
              "\n",
              "    .dataframe tbody tr th {\n",
              "        vertical-align: top;\n",
              "    }\n",
              "\n",
              "    .dataframe thead th {\n",
              "        text-align: right;\n",
              "    }\n",
              "</style>\n",
              "<table border=\"1\" class=\"dataframe\">\n",
              "  <thead>\n",
              "    <tr style=\"text-align: right;\">\n",
              "      <th></th>\n",
              "      <th>RowNumber</th>\n",
              "      <th>CustomerId</th>\n",
              "      <th>Surname</th>\n",
              "      <th>CreditScore</th>\n",
              "      <th>Geography</th>\n",
              "      <th>Gender</th>\n",
              "      <th>Age</th>\n",
              "      <th>Tenure</th>\n",
              "      <th>Balance</th>\n",
              "      <th>NumOfProducts</th>\n",
              "      <th>HasCrCard</th>\n",
              "      <th>IsActiveMember</th>\n",
              "      <th>EstimatedSalary</th>\n",
              "      <th>Exited</th>\n",
              "    </tr>\n",
              "  </thead>\n",
              "  <tbody>\n",
              "    <tr>\n",
              "      <th>0</th>\n",
              "      <td>1</td>\n",
              "      <td>15634602</td>\n",
              "      <td>Hargrave</td>\n",
              "      <td>619</td>\n",
              "      <td>France</td>\n",
              "      <td>Female</td>\n",
              "      <td>42</td>\n",
              "      <td>2.000</td>\n",
              "      <td>0.000</td>\n",
              "      <td>1</td>\n",
              "      <td>1</td>\n",
              "      <td>1</td>\n",
              "      <td>101348.880</td>\n",
              "      <td>1</td>\n",
              "    </tr>\n",
              "    <tr>\n",
              "      <th>1</th>\n",
              "      <td>2</td>\n",
              "      <td>15647311</td>\n",
              "      <td>Hill</td>\n",
              "      <td>608</td>\n",
              "      <td>Spain</td>\n",
              "      <td>Female</td>\n",
              "      <td>41</td>\n",
              "      <td>1.000</td>\n",
              "      <td>83807.860</td>\n",
              "      <td>1</td>\n",
              "      <td>0</td>\n",
              "      <td>1</td>\n",
              "      <td>112542.580</td>\n",
              "      <td>0</td>\n",
              "    </tr>\n",
              "    <tr>\n",
              "      <th>2</th>\n",
              "      <td>3</td>\n",
              "      <td>15619304</td>\n",
              "      <td>Onio</td>\n",
              "      <td>502</td>\n",
              "      <td>France</td>\n",
              "      <td>Female</td>\n",
              "      <td>42</td>\n",
              "      <td>8.000</td>\n",
              "      <td>159660.800</td>\n",
              "      <td>3</td>\n",
              "      <td>1</td>\n",
              "      <td>0</td>\n",
              "      <td>113931.570</td>\n",
              "      <td>1</td>\n",
              "    </tr>\n",
              "    <tr>\n",
              "      <th>3</th>\n",
              "      <td>4</td>\n",
              "      <td>15701354</td>\n",
              "      <td>Boni</td>\n",
              "      <td>699</td>\n",
              "      <td>France</td>\n",
              "      <td>Female</td>\n",
              "      <td>39</td>\n",
              "      <td>1.000</td>\n",
              "      <td>0.000</td>\n",
              "      <td>2</td>\n",
              "      <td>0</td>\n",
              "      <td>0</td>\n",
              "      <td>93826.630</td>\n",
              "      <td>0</td>\n",
              "    </tr>\n",
              "    <tr>\n",
              "      <th>4</th>\n",
              "      <td>5</td>\n",
              "      <td>15737888</td>\n",
              "      <td>Mitchell</td>\n",
              "      <td>850</td>\n",
              "      <td>Spain</td>\n",
              "      <td>Female</td>\n",
              "      <td>43</td>\n",
              "      <td>2.000</td>\n",
              "      <td>125510.820</td>\n",
              "      <td>1</td>\n",
              "      <td>1</td>\n",
              "      <td>1</td>\n",
              "      <td>79084.100</td>\n",
              "      <td>0</td>\n",
              "    </tr>\n",
              "  </tbody>\n",
              "</table>\n",
              "</div>"
            ],
            "text/plain": [
              "   RowNumber  CustomerId   Surname  CreditScore Geography  Gender  Age  \\\n",
              "0          1    15634602  Hargrave          619    France  Female   42   \n",
              "1          2    15647311      Hill          608     Spain  Female   41   \n",
              "2          3    15619304      Onio          502    France  Female   42   \n",
              "3          4    15701354      Boni          699    France  Female   39   \n",
              "4          5    15737888  Mitchell          850     Spain  Female   43   \n",
              "\n",
              "   Tenure    Balance  NumOfProducts  HasCrCard  IsActiveMember  \\\n",
              "0   2.000      0.000              1          1               1   \n",
              "1   1.000  83807.860              1          0               1   \n",
              "2   8.000 159660.800              3          1               0   \n",
              "3   1.000      0.000              2          0               0   \n",
              "4   2.000 125510.820              1          1               1   \n",
              "\n",
              "   EstimatedSalary  Exited  \n",
              "0       101348.880       1  \n",
              "1       112542.580       0  \n",
              "2       113931.570       1  \n",
              "3        93826.630       0  \n",
              "4        79084.100       0  "
            ]
          },
          "metadata": {},
          "output_type": "display_data"
        }
      ],
      "source": [
        "data = pd.read_csv('Churn.csv')\n",
        "try:\n",
        "    df = pd.read_csv(\"Churn.csv\")\n",
        "except:\n",
        "    try:\n",
        "        df = pd.read_csv(\"/datasets/Churn.csv\")\n",
        "    except:\n",
        "        df = pd.read_csv(\"https://code.s3.yandex.net/datasets/Churn.csv\")\n",
        "finally:\n",
        "    display(df.head())"
      ]
    },
    {
      "cell_type": "code",
      "execution_count": null,
      "metadata": {
        "id": "a8Urjh9DWK5R",
        "outputId": "515dfb43-0c5a-476d-e474-016f35944356"
      },
      "outputs": [
        {
          "data": {
            "text/plain": [
              "(10000, 14)"
            ]
          },
          "execution_count": 5,
          "metadata": {},
          "output_type": "execute_result"
        }
      ],
      "source": [
        "data.shape"
      ]
    },
    {
      "cell_type": "code",
      "execution_count": null,
      "metadata": {
        "id": "vl5Fk-5hWK5S",
        "outputId": "30b61c56-d89c-4a1a-c89e-c7c9c5a67982"
      },
      "outputs": [
        {
          "name": "stdout",
          "output_type": "stream",
          "text": [
            "<class 'pandas.core.frame.DataFrame'>\n",
            "RangeIndex: 10000 entries, 0 to 9999\n",
            "Data columns (total 14 columns):\n",
            " #   Column           Non-Null Count  Dtype  \n",
            "---  ------           --------------  -----  \n",
            " 0   RowNumber        10000 non-null  int64  \n",
            " 1   CustomerId       10000 non-null  int64  \n",
            " 2   Surname          10000 non-null  object \n",
            " 3   CreditScore      10000 non-null  int64  \n",
            " 4   Geography        10000 non-null  object \n",
            " 5   Gender           10000 non-null  object \n",
            " 6   Age              10000 non-null  int64  \n",
            " 7   Tenure           9091 non-null   float64\n",
            " 8   Balance          10000 non-null  float64\n",
            " 9   NumOfProducts    10000 non-null  int64  \n",
            " 10  HasCrCard        10000 non-null  int64  \n",
            " 11  IsActiveMember   10000 non-null  int64  \n",
            " 12  EstimatedSalary  10000 non-null  float64\n",
            " 13  Exited           10000 non-null  int64  \n",
            "dtypes: float64(3), int64(8), object(3)\n",
            "memory usage: 1.1+ MB\n"
          ]
        }
      ],
      "source": [
        "data.info()"
      ]
    },
    {
      "cell_type": "markdown",
      "metadata": {
        "id": "ITWQoPnkWK5T"
      },
      "source": [
        "Пропуски есть только Tenure (количество недвижимости у клиента)"
      ]
    },
    {
      "cell_type": "code",
      "execution_count": null,
      "metadata": {
        "id": "xXdD2MzcWK5U",
        "outputId": "9906cf89-4bb6-44d2-bfb3-20ead9c6656d"
      },
      "outputs": [
        {
          "data": {
            "text/html": [
              "<div>\n",
              "<style scoped>\n",
              "    .dataframe tbody tr th:only-of-type {\n",
              "        vertical-align: middle;\n",
              "    }\n",
              "\n",
              "    .dataframe tbody tr th {\n",
              "        vertical-align: top;\n",
              "    }\n",
              "\n",
              "    .dataframe thead th {\n",
              "        text-align: right;\n",
              "    }\n",
              "</style>\n",
              "<table border=\"1\" class=\"dataframe\">\n",
              "  <thead>\n",
              "    <tr style=\"text-align: right;\">\n",
              "      <th></th>\n",
              "      <th>count</th>\n",
              "      <th>mean</th>\n",
              "      <th>std</th>\n",
              "      <th>min</th>\n",
              "      <th>25%</th>\n",
              "      <th>50%</th>\n",
              "      <th>75%</th>\n",
              "      <th>max</th>\n",
              "    </tr>\n",
              "  </thead>\n",
              "  <tbody>\n",
              "    <tr>\n",
              "      <th>RowNumber</th>\n",
              "      <td>10000.000</td>\n",
              "      <td>5000.500</td>\n",
              "      <td>2886.896</td>\n",
              "      <td>1.000</td>\n",
              "      <td>2500.750</td>\n",
              "      <td>5000.500</td>\n",
              "      <td>7500.250</td>\n",
              "      <td>10000.000</td>\n",
              "    </tr>\n",
              "    <tr>\n",
              "      <th>CustomerId</th>\n",
              "      <td>10000.000</td>\n",
              "      <td>15690940.569</td>\n",
              "      <td>71936.186</td>\n",
              "      <td>15565701.000</td>\n",
              "      <td>15628528.250</td>\n",
              "      <td>15690738.000</td>\n",
              "      <td>15753233.750</td>\n",
              "      <td>15815690.000</td>\n",
              "    </tr>\n",
              "    <tr>\n",
              "      <th>CreditScore</th>\n",
              "      <td>10000.000</td>\n",
              "      <td>650.529</td>\n",
              "      <td>96.653</td>\n",
              "      <td>350.000</td>\n",
              "      <td>584.000</td>\n",
              "      <td>652.000</td>\n",
              "      <td>718.000</td>\n",
              "      <td>850.000</td>\n",
              "    </tr>\n",
              "    <tr>\n",
              "      <th>Age</th>\n",
              "      <td>10000.000</td>\n",
              "      <td>38.922</td>\n",
              "      <td>10.488</td>\n",
              "      <td>18.000</td>\n",
              "      <td>32.000</td>\n",
              "      <td>37.000</td>\n",
              "      <td>44.000</td>\n",
              "      <td>92.000</td>\n",
              "    </tr>\n",
              "    <tr>\n",
              "      <th>Tenure</th>\n",
              "      <td>9091.000</td>\n",
              "      <td>4.998</td>\n",
              "      <td>2.895</td>\n",
              "      <td>0.000</td>\n",
              "      <td>2.000</td>\n",
              "      <td>5.000</td>\n",
              "      <td>7.000</td>\n",
              "      <td>10.000</td>\n",
              "    </tr>\n",
              "    <tr>\n",
              "      <th>Balance</th>\n",
              "      <td>10000.000</td>\n",
              "      <td>76485.889</td>\n",
              "      <td>62397.405</td>\n",
              "      <td>0.000</td>\n",
              "      <td>0.000</td>\n",
              "      <td>97198.540</td>\n",
              "      <td>127644.240</td>\n",
              "      <td>250898.090</td>\n",
              "    </tr>\n",
              "    <tr>\n",
              "      <th>NumOfProducts</th>\n",
              "      <td>10000.000</td>\n",
              "      <td>1.530</td>\n",
              "      <td>0.582</td>\n",
              "      <td>1.000</td>\n",
              "      <td>1.000</td>\n",
              "      <td>1.000</td>\n",
              "      <td>2.000</td>\n",
              "      <td>4.000</td>\n",
              "    </tr>\n",
              "    <tr>\n",
              "      <th>HasCrCard</th>\n",
              "      <td>10000.000</td>\n",
              "      <td>0.706</td>\n",
              "      <td>0.456</td>\n",
              "      <td>0.000</td>\n",
              "      <td>0.000</td>\n",
              "      <td>1.000</td>\n",
              "      <td>1.000</td>\n",
              "      <td>1.000</td>\n",
              "    </tr>\n",
              "    <tr>\n",
              "      <th>IsActiveMember</th>\n",
              "      <td>10000.000</td>\n",
              "      <td>0.515</td>\n",
              "      <td>0.500</td>\n",
              "      <td>0.000</td>\n",
              "      <td>0.000</td>\n",
              "      <td>1.000</td>\n",
              "      <td>1.000</td>\n",
              "      <td>1.000</td>\n",
              "    </tr>\n",
              "    <tr>\n",
              "      <th>EstimatedSalary</th>\n",
              "      <td>10000.000</td>\n",
              "      <td>100090.240</td>\n",
              "      <td>57510.493</td>\n",
              "      <td>11.580</td>\n",
              "      <td>51002.110</td>\n",
              "      <td>100193.915</td>\n",
              "      <td>149388.247</td>\n",
              "      <td>199992.480</td>\n",
              "    </tr>\n",
              "    <tr>\n",
              "      <th>Exited</th>\n",
              "      <td>10000.000</td>\n",
              "      <td>0.204</td>\n",
              "      <td>0.403</td>\n",
              "      <td>0.000</td>\n",
              "      <td>0.000</td>\n",
              "      <td>0.000</td>\n",
              "      <td>0.000</td>\n",
              "      <td>1.000</td>\n",
              "    </tr>\n",
              "  </tbody>\n",
              "</table>\n",
              "</div>"
            ],
            "text/plain": [
              "                    count         mean       std          min          25%  \\\n",
              "RowNumber       10000.000     5000.500  2886.896        1.000     2500.750   \n",
              "CustomerId      10000.000 15690940.569 71936.186 15565701.000 15628528.250   \n",
              "CreditScore     10000.000      650.529    96.653      350.000      584.000   \n",
              "Age             10000.000       38.922    10.488       18.000       32.000   \n",
              "Tenure           9091.000        4.998     2.895        0.000        2.000   \n",
              "Balance         10000.000    76485.889 62397.405        0.000        0.000   \n",
              "NumOfProducts   10000.000        1.530     0.582        1.000        1.000   \n",
              "HasCrCard       10000.000        0.706     0.456        0.000        0.000   \n",
              "IsActiveMember  10000.000        0.515     0.500        0.000        0.000   \n",
              "EstimatedSalary 10000.000   100090.240 57510.493       11.580    51002.110   \n",
              "Exited          10000.000        0.204     0.403        0.000        0.000   \n",
              "\n",
              "                         50%          75%          max  \n",
              "RowNumber           5000.500     7500.250    10000.000  \n",
              "CustomerId      15690738.000 15753233.750 15815690.000  \n",
              "CreditScore          652.000      718.000      850.000  \n",
              "Age                   37.000       44.000       92.000  \n",
              "Tenure                 5.000        7.000       10.000  \n",
              "Balance            97198.540   127644.240   250898.090  \n",
              "NumOfProducts          1.000        2.000        4.000  \n",
              "HasCrCard              1.000        1.000        1.000  \n",
              "IsActiveMember         1.000        1.000        1.000  \n",
              "EstimatedSalary   100193.915   149388.247   199992.480  \n",
              "Exited                 0.000        0.000        1.000  "
            ]
          },
          "execution_count": 7,
          "metadata": {},
          "output_type": "execute_result"
        }
      ],
      "source": [
        "data.describe().transpose()"
      ]
    },
    {
      "cell_type": "code",
      "execution_count": null,
      "metadata": {
        "id": "25y2_bMSWK5V",
        "outputId": "9dabaca8-c7df-4f5b-93fd-56b9914e2c4a"
      },
      "outputs": [
        {
          "data": {
            "text/html": [
              "<div>\n",
              "<style scoped>\n",
              "    .dataframe tbody tr th:only-of-type {\n",
              "        vertical-align: middle;\n",
              "    }\n",
              "\n",
              "    .dataframe tbody tr th {\n",
              "        vertical-align: top;\n",
              "    }\n",
              "\n",
              "    .dataframe thead th {\n",
              "        text-align: right;\n",
              "    }\n",
              "</style>\n",
              "<table border=\"1\" class=\"dataframe\">\n",
              "  <thead>\n",
              "    <tr style=\"text-align: right;\">\n",
              "      <th></th>\n",
              "      <th>Surname</th>\n",
              "      <th>Geography</th>\n",
              "      <th>Gender</th>\n",
              "    </tr>\n",
              "  </thead>\n",
              "  <tbody>\n",
              "    <tr>\n",
              "      <th>count</th>\n",
              "      <td>10000</td>\n",
              "      <td>10000</td>\n",
              "      <td>10000</td>\n",
              "    </tr>\n",
              "    <tr>\n",
              "      <th>unique</th>\n",
              "      <td>2932</td>\n",
              "      <td>3</td>\n",
              "      <td>2</td>\n",
              "    </tr>\n",
              "    <tr>\n",
              "      <th>top</th>\n",
              "      <td>Smith</td>\n",
              "      <td>France</td>\n",
              "      <td>Male</td>\n",
              "    </tr>\n",
              "    <tr>\n",
              "      <th>freq</th>\n",
              "      <td>32</td>\n",
              "      <td>5014</td>\n",
              "      <td>5457</td>\n",
              "    </tr>\n",
              "  </tbody>\n",
              "</table>\n",
              "</div>"
            ],
            "text/plain": [
              "       Surname Geography Gender\n",
              "count    10000     10000  10000\n",
              "unique    2932         3      2\n",
              "top      Smith    France   Male\n",
              "freq        32      5014   5457"
            ]
          },
          "execution_count": 8,
          "metadata": {},
          "output_type": "execute_result"
        }
      ],
      "source": [
        "data.describe(include=['object'])"
      ]
    },
    {
      "cell_type": "code",
      "execution_count": null,
      "metadata": {
        "id": "hoSLoJ77WK5W",
        "outputId": "6bbc299c-6dcd-47e5-ebba-0035ffe000a9"
      },
      "outputs": [
        {
          "data": {
            "text/plain": [
              "10000"
            ]
          },
          "execution_count": 9,
          "metadata": {},
          "output_type": "execute_result"
        }
      ],
      "source": [
        "data['CustomerId'].nunique()\n",
        "# все значения уникальны. Далее сделаем этот столбей индексами"
      ]
    },
    {
      "cell_type": "markdown",
      "metadata": {
        "id": "3O2mufdbWK5X"
      },
      "source": [
        "Провели обзор данных. Обработка пропусков нужна столбцу Tenure.\n",
        "\n",
        "Есть вариант замены пропусков значением медианы, либо, \n",
        "как вариант, в условии указано, что данные взяты из kaggle.   \n",
        "Воспользуемся оригинальными данными.  \n",
        "Оригинальный файл Churn_Modelling.csv скачаем  \n",
        "и положим на google drive (чтобы не использовать kaggle API)\n",
        "Далее сравним два датасета. При совпадении будем использовать данные для пропусков в столбце Tenure из оригинального датасета\n"
      ]
    },
    {
      "cell_type": "markdown",
      "metadata": {
        "id": "dEhcj0DIWK5Y"
      },
      "source": [
        "<div class=\"alert alert-block alert-success\">\n",
        "<b>Успех:</b> Загрузка и первичный анализ данных были проведены верно.\n",
        "</div>"
      ]
    },
    {
      "cell_type": "code",
      "execution_count": null,
      "metadata": {
        "id": "tXIr-INTWK5Z",
        "outputId": "a7901ade-cbcb-4f1b-c376-ad27cd54cc90"
      },
      "outputs": [
        {
          "name": "stdout",
          "output_type": "stream",
          "text": [
            "Ссылка на скачивание файла Churn_Modelling.csv https://drive.google.com/uc?export=download&id=1tjt_-XT1jJygO0_ubYX1l6l6RIow_vXe\n"
          ]
        },
        {
          "data": {
            "text/html": [
              "<div>\n",
              "<style scoped>\n",
              "    .dataframe tbody tr th:only-of-type {\n",
              "        vertical-align: middle;\n",
              "    }\n",
              "\n",
              "    .dataframe tbody tr th {\n",
              "        vertical-align: top;\n",
              "    }\n",
              "\n",
              "    .dataframe thead th {\n",
              "        text-align: right;\n",
              "    }\n",
              "</style>\n",
              "<table border=\"1\" class=\"dataframe\">\n",
              "  <thead>\n",
              "    <tr style=\"text-align: right;\">\n",
              "      <th></th>\n",
              "      <th>RowNumber</th>\n",
              "      <th>CustomerId</th>\n",
              "      <th>Surname</th>\n",
              "      <th>CreditScore</th>\n",
              "      <th>Geography</th>\n",
              "      <th>Gender</th>\n",
              "      <th>Age</th>\n",
              "      <th>Tenure</th>\n",
              "      <th>Balance</th>\n",
              "      <th>NumOfProducts</th>\n",
              "      <th>HasCrCard</th>\n",
              "      <th>IsActiveMember</th>\n",
              "      <th>EstimatedSalary</th>\n",
              "      <th>Exited</th>\n",
              "    </tr>\n",
              "  </thead>\n",
              "  <tbody>\n",
              "    <tr>\n",
              "      <th>0</th>\n",
              "      <td>1</td>\n",
              "      <td>15634602</td>\n",
              "      <td>Hargrave</td>\n",
              "      <td>619</td>\n",
              "      <td>France</td>\n",
              "      <td>Female</td>\n",
              "      <td>42</td>\n",
              "      <td>2</td>\n",
              "      <td>0.000</td>\n",
              "      <td>1</td>\n",
              "      <td>1</td>\n",
              "      <td>1</td>\n",
              "      <td>101348.880</td>\n",
              "      <td>1</td>\n",
              "    </tr>\n",
              "    <tr>\n",
              "      <th>1</th>\n",
              "      <td>2</td>\n",
              "      <td>15647311</td>\n",
              "      <td>Hill</td>\n",
              "      <td>608</td>\n",
              "      <td>Spain</td>\n",
              "      <td>Female</td>\n",
              "      <td>41</td>\n",
              "      <td>1</td>\n",
              "      <td>83807.860</td>\n",
              "      <td>1</td>\n",
              "      <td>0</td>\n",
              "      <td>1</td>\n",
              "      <td>112542.580</td>\n",
              "      <td>0</td>\n",
              "    </tr>\n",
              "    <tr>\n",
              "      <th>2</th>\n",
              "      <td>3</td>\n",
              "      <td>15619304</td>\n",
              "      <td>Onio</td>\n",
              "      <td>502</td>\n",
              "      <td>France</td>\n",
              "      <td>Female</td>\n",
              "      <td>42</td>\n",
              "      <td>8</td>\n",
              "      <td>159660.800</td>\n",
              "      <td>3</td>\n",
              "      <td>1</td>\n",
              "      <td>0</td>\n",
              "      <td>113931.570</td>\n",
              "      <td>1</td>\n",
              "    </tr>\n",
              "    <tr>\n",
              "      <th>3</th>\n",
              "      <td>4</td>\n",
              "      <td>15701354</td>\n",
              "      <td>Boni</td>\n",
              "      <td>699</td>\n",
              "      <td>France</td>\n",
              "      <td>Female</td>\n",
              "      <td>39</td>\n",
              "      <td>1</td>\n",
              "      <td>0.000</td>\n",
              "      <td>2</td>\n",
              "      <td>0</td>\n",
              "      <td>0</td>\n",
              "      <td>93826.630</td>\n",
              "      <td>0</td>\n",
              "    </tr>\n",
              "    <tr>\n",
              "      <th>4</th>\n",
              "      <td>5</td>\n",
              "      <td>15737888</td>\n",
              "      <td>Mitchell</td>\n",
              "      <td>850</td>\n",
              "      <td>Spain</td>\n",
              "      <td>Female</td>\n",
              "      <td>43</td>\n",
              "      <td>2</td>\n",
              "      <td>125510.820</td>\n",
              "      <td>1</td>\n",
              "      <td>1</td>\n",
              "      <td>1</td>\n",
              "      <td>79084.100</td>\n",
              "      <td>0</td>\n",
              "    </tr>\n",
              "  </tbody>\n",
              "</table>\n",
              "</div>"
            ],
            "text/plain": [
              "   RowNumber  CustomerId   Surname  CreditScore Geography  Gender  Age  \\\n",
              "0          1    15634602  Hargrave          619    France  Female   42   \n",
              "1          2    15647311      Hill          608     Spain  Female   41   \n",
              "2          3    15619304      Onio          502    France  Female   42   \n",
              "3          4    15701354      Boni          699    France  Female   39   \n",
              "4          5    15737888  Mitchell          850     Spain  Female   43   \n",
              "\n",
              "   Tenure    Balance  NumOfProducts  HasCrCard  IsActiveMember  \\\n",
              "0       2      0.000              1          1               1   \n",
              "1       1  83807.860              1          0               1   \n",
              "2       8 159660.800              3          1               0   \n",
              "3       1      0.000              2          0               0   \n",
              "4       2 125510.820              1          1               1   \n",
              "\n",
              "   EstimatedSalary  Exited  \n",
              "0       101348.880       1  \n",
              "1       112542.580       0  \n",
              "2       113931.570       1  \n",
              "3        93826.630       0  \n",
              "4        79084.100       0  "
            ]
          },
          "execution_count": 10,
          "metadata": {},
          "output_type": "execute_result"
        }
      ],
      "source": [
        "url = 'https://drive.google.com/file/d/1tjt_-XT1jJygO0_ubYX1l6l6RIow_vXe/view?usp=sharing'\n",
        "path = 'https://drive.google.com/uc?export=download&id='+url.split('/')[-2]\n",
        "data_origin = pd.read_csv(path)\n",
        "print('Ссылка на скачивание файла Churn_Modelling.csv', path)\n",
        "\n",
        "#ind =  data and data1\n",
        "data_origin.head()"
      ]
    },
    {
      "cell_type": "code",
      "execution_count": null,
      "metadata": {
        "id": "1X-J7X2aWK5Z",
        "outputId": "03ccb2b8-c9f3-40c0-eb18-bcc20896f333"
      },
      "outputs": [
        {
          "name": "stdout",
          "output_type": "stream",
          "text": [
            "<class 'pandas.core.frame.DataFrame'>\n",
            "RangeIndex: 10000 entries, 0 to 9999\n",
            "Data columns (total 14 columns):\n",
            " #   Column           Non-Null Count  Dtype  \n",
            "---  ------           --------------  -----  \n",
            " 0   RowNumber        10000 non-null  int64  \n",
            " 1   CustomerId       10000 non-null  int64  \n",
            " 2   Surname          10000 non-null  object \n",
            " 3   CreditScore      10000 non-null  int64  \n",
            " 4   Geography        10000 non-null  object \n",
            " 5   Gender           10000 non-null  object \n",
            " 6   Age              10000 non-null  int64  \n",
            " 7   Tenure           10000 non-null  int64  \n",
            " 8   Balance          10000 non-null  float64\n",
            " 9   NumOfProducts    10000 non-null  int64  \n",
            " 10  HasCrCard        10000 non-null  int64  \n",
            " 11  IsActiveMember   10000 non-null  int64  \n",
            " 12  EstimatedSalary  10000 non-null  float64\n",
            " 13  Exited           10000 non-null  int64  \n",
            "dtypes: float64(2), int64(9), object(3)\n",
            "memory usage: 1.1+ MB\n"
          ]
        }
      ],
      "source": [
        "data_origin.info()"
      ]
    },
    {
      "cell_type": "code",
      "execution_count": null,
      "metadata": {
        "id": "rIPMgYCDWK5b",
        "outputId": "77980940-ac9e-4b03-d24d-3a7e559a126b"
      },
      "outputs": [
        {
          "data": {
            "text/plain": [
              "RowNumber          10000\n",
              "CustomerId         10000\n",
              "Surname            10000\n",
              "CreditScore        10000\n",
              "Geography          10000\n",
              "Gender             10000\n",
              "Age                10000\n",
              "Tenure              9091\n",
              "Balance            10000\n",
              "NumOfProducts      10000\n",
              "HasCrCard          10000\n",
              "IsActiveMember     10000\n",
              "EstimatedSalary    10000\n",
              "Exited             10000\n",
              "dtype: int64"
            ]
          },
          "execution_count": 12,
          "metadata": {},
          "output_type": "execute_result"
        }
      ],
      "source": [
        "# сравним файл данный для работы и файл из ссылки в kaggle.\n",
        "data[data == data_origin].count()\n",
        "# файлы идентичны"
      ]
    },
    {
      "cell_type": "code",
      "execution_count": null,
      "metadata": {
        "id": "PJmx1ODNWK5c"
      },
      "outputs": [],
      "source": [
        "# вариант замены пропусков на медиану\n",
        "# data = data.fillna(data['Tenure'].median())\n",
        "# data.isna().sum()"
      ]
    },
    {
      "cell_type": "code",
      "execution_count": null,
      "metadata": {
        "id": "K0pvva0pWK5e"
      },
      "outputs": [],
      "source": [
        "# вариант использования в качестве данных оригинального файла из kaggle\n",
        "data = data_origin.copy()\n"
      ]
    },
    {
      "cell_type": "markdown",
      "metadata": {
        "id": "BEQg12C6WK5f"
      },
      "source": [
        "<div class=\"alert alert-block alert-success\">\n",
        "<b>Успех:</b> Интересное решение.\n",
        "</div>"
      ]
    },
    {
      "cell_type": "markdown",
      "metadata": {
        "id": "9HyZZPbbWK5g"
      },
      "source": [
        "Сделаем замену наименований на нижний регистр с раздением нижний чертой."
      ]
    },
    {
      "cell_type": "code",
      "execution_count": null,
      "metadata": {
        "id": "_IzL-LriWK5g",
        "outputId": "12e91f1e-2617-458c-9fb2-7905aff32c2a"
      },
      "outputs": [
        {
          "data": {
            "text/html": [
              "<div>\n",
              "<style scoped>\n",
              "    .dataframe tbody tr th:only-of-type {\n",
              "        vertical-align: middle;\n",
              "    }\n",
              "\n",
              "    .dataframe tbody tr th {\n",
              "        vertical-align: top;\n",
              "    }\n",
              "\n",
              "    .dataframe thead th {\n",
              "        text-align: right;\n",
              "    }\n",
              "</style>\n",
              "<table border=\"1\" class=\"dataframe\">\n",
              "  <thead>\n",
              "    <tr style=\"text-align: right;\">\n",
              "      <th></th>\n",
              "      <th>row_number</th>\n",
              "      <th>customer_id</th>\n",
              "      <th>surname</th>\n",
              "      <th>credit_score</th>\n",
              "      <th>geography</th>\n",
              "      <th>gender</th>\n",
              "      <th>age</th>\n",
              "      <th>tenure</th>\n",
              "      <th>balance</th>\n",
              "      <th>num_of_products</th>\n",
              "      <th>has_cr_card</th>\n",
              "      <th>is_active_member</th>\n",
              "      <th>estimated_salary</th>\n",
              "      <th>exited</th>\n",
              "    </tr>\n",
              "  </thead>\n",
              "  <tbody>\n",
              "    <tr>\n",
              "      <th>0</th>\n",
              "      <td>1</td>\n",
              "      <td>15634602</td>\n",
              "      <td>Hargrave</td>\n",
              "      <td>619</td>\n",
              "      <td>France</td>\n",
              "      <td>Female</td>\n",
              "      <td>42</td>\n",
              "      <td>2</td>\n",
              "      <td>0.000</td>\n",
              "      <td>1</td>\n",
              "      <td>1</td>\n",
              "      <td>1</td>\n",
              "      <td>101348.880</td>\n",
              "      <td>1</td>\n",
              "    </tr>\n",
              "    <tr>\n",
              "      <th>1</th>\n",
              "      <td>2</td>\n",
              "      <td>15647311</td>\n",
              "      <td>Hill</td>\n",
              "      <td>608</td>\n",
              "      <td>Spain</td>\n",
              "      <td>Female</td>\n",
              "      <td>41</td>\n",
              "      <td>1</td>\n",
              "      <td>83807.860</td>\n",
              "      <td>1</td>\n",
              "      <td>0</td>\n",
              "      <td>1</td>\n",
              "      <td>112542.580</td>\n",
              "      <td>0</td>\n",
              "    </tr>\n",
              "    <tr>\n",
              "      <th>2</th>\n",
              "      <td>3</td>\n",
              "      <td>15619304</td>\n",
              "      <td>Onio</td>\n",
              "      <td>502</td>\n",
              "      <td>France</td>\n",
              "      <td>Female</td>\n",
              "      <td>42</td>\n",
              "      <td>8</td>\n",
              "      <td>159660.800</td>\n",
              "      <td>3</td>\n",
              "      <td>1</td>\n",
              "      <td>0</td>\n",
              "      <td>113931.570</td>\n",
              "      <td>1</td>\n",
              "    </tr>\n",
              "    <tr>\n",
              "      <th>3</th>\n",
              "      <td>4</td>\n",
              "      <td>15701354</td>\n",
              "      <td>Boni</td>\n",
              "      <td>699</td>\n",
              "      <td>France</td>\n",
              "      <td>Female</td>\n",
              "      <td>39</td>\n",
              "      <td>1</td>\n",
              "      <td>0.000</td>\n",
              "      <td>2</td>\n",
              "      <td>0</td>\n",
              "      <td>0</td>\n",
              "      <td>93826.630</td>\n",
              "      <td>0</td>\n",
              "    </tr>\n",
              "    <tr>\n",
              "      <th>4</th>\n",
              "      <td>5</td>\n",
              "      <td>15737888</td>\n",
              "      <td>Mitchell</td>\n",
              "      <td>850</td>\n",
              "      <td>Spain</td>\n",
              "      <td>Female</td>\n",
              "      <td>43</td>\n",
              "      <td>2</td>\n",
              "      <td>125510.820</td>\n",
              "      <td>1</td>\n",
              "      <td>1</td>\n",
              "      <td>1</td>\n",
              "      <td>79084.100</td>\n",
              "      <td>0</td>\n",
              "    </tr>\n",
              "  </tbody>\n",
              "</table>\n",
              "</div>"
            ],
            "text/plain": [
              "   row_number  customer_id   surname  credit_score geography  gender  age  \\\n",
              "0           1     15634602  Hargrave           619    France  Female   42   \n",
              "1           2     15647311      Hill           608     Spain  Female   41   \n",
              "2           3     15619304      Onio           502    France  Female   42   \n",
              "3           4     15701354      Boni           699    France  Female   39   \n",
              "4           5     15737888  Mitchell           850     Spain  Female   43   \n",
              "\n",
              "   tenure    balance  num_of_products  has_cr_card  is_active_member  \\\n",
              "0       2      0.000                1            1                 1   \n",
              "1       1  83807.860                1            0                 1   \n",
              "2       8 159660.800                3            1                 0   \n",
              "3       1      0.000                2            0                 0   \n",
              "4       2 125510.820                1            1                 1   \n",
              "\n",
              "   estimated_salary  exited  \n",
              "0        101348.880       1  \n",
              "1        112542.580       0  \n",
              "2        113931.570       1  \n",
              "3         93826.630       0  \n",
              "4         79084.100       0  "
            ]
          },
          "execution_count": 15,
          "metadata": {},
          "output_type": "execute_result"
        }
      ],
      "source": [
        "new_columns = ['row_number', 'customer_id', 'surname', 'credit_score', 'geography', 'gender', 'age', 'tenure', 'balance',\\\n",
        "               'num_of_products', 'has_cr_card', 'is_active_member', 'estimated_salary', 'exited']\n",
        "data.columns = new_columns\n",
        "data.head()"
      ]
    },
    {
      "cell_type": "markdown",
      "metadata": {
        "id": "G1RuRvrrWK5h"
      },
      "source": [
        "Удалим столбец: row_number, surname\n",
        "\n",
        "Выше мы посмотрели, что значения столбца customer_id уникальны, сделаем его индексом"
      ]
    },
    {
      "cell_type": "code",
      "execution_count": null,
      "metadata": {
        "id": "QwQqrFn3WK5h",
        "outputId": "55eb4b1f-fba0-45b3-921b-b08a3178e546"
      },
      "outputs": [
        {
          "data": {
            "text/html": [
              "<div>\n",
              "<style scoped>\n",
              "    .dataframe tbody tr th:only-of-type {\n",
              "        vertical-align: middle;\n",
              "    }\n",
              "\n",
              "    .dataframe tbody tr th {\n",
              "        vertical-align: top;\n",
              "    }\n",
              "\n",
              "    .dataframe thead th {\n",
              "        text-align: right;\n",
              "    }\n",
              "</style>\n",
              "<table border=\"1\" class=\"dataframe\">\n",
              "  <thead>\n",
              "    <tr style=\"text-align: right;\">\n",
              "      <th></th>\n",
              "      <th>credit_score</th>\n",
              "      <th>geography</th>\n",
              "      <th>gender</th>\n",
              "      <th>age</th>\n",
              "      <th>tenure</th>\n",
              "      <th>balance</th>\n",
              "      <th>num_of_products</th>\n",
              "      <th>has_cr_card</th>\n",
              "      <th>is_active_member</th>\n",
              "      <th>estimated_salary</th>\n",
              "      <th>exited</th>\n",
              "    </tr>\n",
              "    <tr>\n",
              "      <th>customer_id</th>\n",
              "      <th></th>\n",
              "      <th></th>\n",
              "      <th></th>\n",
              "      <th></th>\n",
              "      <th></th>\n",
              "      <th></th>\n",
              "      <th></th>\n",
              "      <th></th>\n",
              "      <th></th>\n",
              "      <th></th>\n",
              "      <th></th>\n",
              "    </tr>\n",
              "  </thead>\n",
              "  <tbody>\n",
              "    <tr>\n",
              "      <th>15634602</th>\n",
              "      <td>619</td>\n",
              "      <td>France</td>\n",
              "      <td>Female</td>\n",
              "      <td>42</td>\n",
              "      <td>2</td>\n",
              "      <td>0.000</td>\n",
              "      <td>1</td>\n",
              "      <td>1</td>\n",
              "      <td>1</td>\n",
              "      <td>101348.880</td>\n",
              "      <td>1</td>\n",
              "    </tr>\n",
              "    <tr>\n",
              "      <th>15647311</th>\n",
              "      <td>608</td>\n",
              "      <td>Spain</td>\n",
              "      <td>Female</td>\n",
              "      <td>41</td>\n",
              "      <td>1</td>\n",
              "      <td>83807.860</td>\n",
              "      <td>1</td>\n",
              "      <td>0</td>\n",
              "      <td>1</td>\n",
              "      <td>112542.580</td>\n",
              "      <td>0</td>\n",
              "    </tr>\n",
              "    <tr>\n",
              "      <th>15619304</th>\n",
              "      <td>502</td>\n",
              "      <td>France</td>\n",
              "      <td>Female</td>\n",
              "      <td>42</td>\n",
              "      <td>8</td>\n",
              "      <td>159660.800</td>\n",
              "      <td>3</td>\n",
              "      <td>1</td>\n",
              "      <td>0</td>\n",
              "      <td>113931.570</td>\n",
              "      <td>1</td>\n",
              "    </tr>\n",
              "    <tr>\n",
              "      <th>15701354</th>\n",
              "      <td>699</td>\n",
              "      <td>France</td>\n",
              "      <td>Female</td>\n",
              "      <td>39</td>\n",
              "      <td>1</td>\n",
              "      <td>0.000</td>\n",
              "      <td>2</td>\n",
              "      <td>0</td>\n",
              "      <td>0</td>\n",
              "      <td>93826.630</td>\n",
              "      <td>0</td>\n",
              "    </tr>\n",
              "    <tr>\n",
              "      <th>15737888</th>\n",
              "      <td>850</td>\n",
              "      <td>Spain</td>\n",
              "      <td>Female</td>\n",
              "      <td>43</td>\n",
              "      <td>2</td>\n",
              "      <td>125510.820</td>\n",
              "      <td>1</td>\n",
              "      <td>1</td>\n",
              "      <td>1</td>\n",
              "      <td>79084.100</td>\n",
              "      <td>0</td>\n",
              "    </tr>\n",
              "  </tbody>\n",
              "</table>\n",
              "</div>"
            ],
            "text/plain": [
              "             credit_score geography  gender  age  tenure    balance  \\\n",
              "customer_id                                                           \n",
              "15634602              619    France  Female   42       2      0.000   \n",
              "15647311              608     Spain  Female   41       1  83807.860   \n",
              "15619304              502    France  Female   42       8 159660.800   \n",
              "15701354              699    France  Female   39       1      0.000   \n",
              "15737888              850     Spain  Female   43       2 125510.820   \n",
              "\n",
              "             num_of_products  has_cr_card  is_active_member  estimated_salary  \\\n",
              "customer_id                                                                     \n",
              "15634602                   1            1                 1        101348.880   \n",
              "15647311                   1            0                 1        112542.580   \n",
              "15619304                   3            1                 0        113931.570   \n",
              "15701354                   2            0                 0         93826.630   \n",
              "15737888                   1            1                 1         79084.100   \n",
              "\n",
              "             exited  \n",
              "customer_id          \n",
              "15634602          1  \n",
              "15647311          0  \n",
              "15619304          1  \n",
              "15701354          0  \n",
              "15737888          0  "
            ]
          },
          "execution_count": 16,
          "metadata": {},
          "output_type": "execute_result"
        }
      ],
      "source": [
        "data =  data.drop(columns=['row_number', 'surname'], axis = 1)\n",
        "data = data.set_index('customer_id')\n",
        "data.head()"
      ]
    },
    {
      "cell_type": "markdown",
      "metadata": {
        "id": "lBc7l7CLWK5i"
      },
      "source": [
        "## Вывод:¶\n",
        "Сделана  замена значений признака \"tenure\" (количество недвижимости у клиента), на значения из оригинального датафрейма.\n",
        "\n",
        "Проблем в данных не обнаружено\n",
        "\n",
        "Имеется 3 категориальных признака: Surname, Gender, Geography и один бинарный: Exited. Для дальнешего обучения нужно удалить: признак Surname, т.к. он не несет никого влияния, идентификатор клиента - customer_id и row_number - индентификатор строки. Признаки: gender, geography - нужно преобразовать в бинарные методологией OHE (one-hot encoding). \n",
        "\n",
        "Следующим шагом будет разделение выборок и приведение количественных признаков к единому масштабу, чтобы исключить разновесовое влияние."
      ]
    },
    {
      "cell_type": "markdown",
      "metadata": {
        "id": "CG5JTgRgWK5i"
      },
      "source": [
        "<div class=\"alert alert-block alert-success\">\n",
        "<b>Успех:</b> В целом, этот шаг был сделан хорошо. Согласен, что эти колонки нам не нужны.\n",
        "</div>"
      ]
    },
    {
      "cell_type": "markdown",
      "metadata": {
        "id": "V0k4PfRuWK5i"
      },
      "source": [
        "# 2. Исследование задачи"
      ]
    },
    {
      "cell_type": "code",
      "execution_count": null,
      "metadata": {
        "id": "lDpciCHEWK5j"
      },
      "outputs": [],
      "source": [
        "# Разделим данные на признаки X и целевую переменную y\n",
        "\n",
        "X = data.drop(columns=['exited'])\n",
        "y = data['exited']"
      ]
    },
    {
      "cell_type": "code",
      "execution_count": null,
      "metadata": {
        "id": "WBEq9VtkWK5j",
        "outputId": "9fc8a8c0-3492-4a76-b80a-506c0faa1b43"
      },
      "outputs": [
        {
          "name": "stdout",
          "output_type": "stream",
          "text": [
            "\n",
            "0   79.630\n",
            "1   20.370\n",
            "Name: exited, dtype: float64\n"
          ]
        },
        {
          "data": {
            "text/plain": [
              "<matplotlib.axes._subplots.AxesSubplot at 0x1d8f900cc40>"
            ]
          },
          "execution_count": 18,
          "metadata": {},
          "output_type": "execute_result"
        },
        {
          "data": {
            "image/png": "[encoded data removed]",
            "text/plain": [
              "<Figure size 432x288 with 1 Axes>"
            ]
          },
          "metadata": {
            "needs_background": "light"
          },
          "output_type": "display_data"
        }
      ],
      "source": [
        "print('')\n",
        "print(y.value_counts()/len(y)*100)\n",
        "\n",
        "y.value_counts(normalize = True).plot(kind = 'bar')"
      ]
    },
    {
      "cell_type": "markdown",
      "metadata": {
        "id": "ILOwnlhNWK5k"
      },
      "source": [
        "* _Видим, что выборка не сбалансирована_"
      ]
    },
    {
      "cell_type": "markdown",
      "metadata": {
        "id": "9sJa8rdIWK5k"
      },
      "source": [
        "<div class=\"alert alert-block alert-success\">\n",
        "<b>Успех:</b> Отлично, что дисбаланс был визуализирован.\n",
        "</div>"
      ]
    },
    {
      "cell_type": "code",
      "execution_count": null,
      "metadata": {
        "id": "DnUBx12WWK5k",
        "outputId": "749d176a-67c1-469a-a673-39da477fa207"
      },
      "outputs": [
        {
          "data": {
            "text/html": [
              "<div>\n",
              "<style scoped>\n",
              "    .dataframe tbody tr th:only-of-type {\n",
              "        vertical-align: middle;\n",
              "    }\n",
              "\n",
              "    .dataframe tbody tr th {\n",
              "        vertical-align: top;\n",
              "    }\n",
              "\n",
              "    .dataframe thead th {\n",
              "        text-align: right;\n",
              "    }\n",
              "</style>\n",
              "<table border=\"1\" class=\"dataframe\">\n",
              "  <thead>\n",
              "    <tr style=\"text-align: right;\">\n",
              "      <th></th>\n",
              "      <th>credit_score</th>\n",
              "      <th>age</th>\n",
              "      <th>tenure</th>\n",
              "      <th>balance</th>\n",
              "      <th>num_of_products</th>\n",
              "      <th>has_cr_card</th>\n",
              "      <th>is_active_member</th>\n",
              "      <th>estimated_salary</th>\n",
              "      <th>geography_Germany</th>\n",
              "      <th>geography_Spain</th>\n",
              "      <th>gender_Male</th>\n",
              "    </tr>\n",
              "    <tr>\n",
              "      <th>customer_id</th>\n",
              "      <th></th>\n",
              "      <th></th>\n",
              "      <th></th>\n",
              "      <th></th>\n",
              "      <th></th>\n",
              "      <th></th>\n",
              "      <th></th>\n",
              "      <th></th>\n",
              "      <th></th>\n",
              "      <th></th>\n",
              "      <th></th>\n",
              "    </tr>\n",
              "  </thead>\n",
              "  <tbody>\n",
              "    <tr>\n",
              "      <th>15634602</th>\n",
              "      <td>619</td>\n",
              "      <td>42</td>\n",
              "      <td>2</td>\n",
              "      <td>0.000</td>\n",
              "      <td>1</td>\n",
              "      <td>1</td>\n",
              "      <td>1</td>\n",
              "      <td>101348.880</td>\n",
              "      <td>0</td>\n",
              "      <td>0</td>\n",
              "      <td>0</td>\n",
              "    </tr>\n",
              "    <tr>\n",
              "      <th>15647311</th>\n",
              "      <td>608</td>\n",
              "      <td>41</td>\n",
              "      <td>1</td>\n",
              "      <td>83807.860</td>\n",
              "      <td>1</td>\n",
              "      <td>0</td>\n",
              "      <td>1</td>\n",
              "      <td>112542.580</td>\n",
              "      <td>0</td>\n",
              "      <td>1</td>\n",
              "      <td>0</td>\n",
              "    </tr>\n",
              "    <tr>\n",
              "      <th>15619304</th>\n",
              "      <td>502</td>\n",
              "      <td>42</td>\n",
              "      <td>8</td>\n",
              "      <td>159660.800</td>\n",
              "      <td>3</td>\n",
              "      <td>1</td>\n",
              "      <td>0</td>\n",
              "      <td>113931.570</td>\n",
              "      <td>0</td>\n",
              "      <td>0</td>\n",
              "      <td>0</td>\n",
              "    </tr>\n",
              "    <tr>\n",
              "      <th>15701354</th>\n",
              "      <td>699</td>\n",
              "      <td>39</td>\n",
              "      <td>1</td>\n",
              "      <td>0.000</td>\n",
              "      <td>2</td>\n",
              "      <td>0</td>\n",
              "      <td>0</td>\n",
              "      <td>93826.630</td>\n",
              "      <td>0</td>\n",
              "      <td>0</td>\n",
              "      <td>0</td>\n",
              "    </tr>\n",
              "    <tr>\n",
              "      <th>15737888</th>\n",
              "      <td>850</td>\n",
              "      <td>43</td>\n",
              "      <td>2</td>\n",
              "      <td>125510.820</td>\n",
              "      <td>1</td>\n",
              "      <td>1</td>\n",
              "      <td>1</td>\n",
              "      <td>79084.100</td>\n",
              "      <td>0</td>\n",
              "      <td>1</td>\n",
              "      <td>0</td>\n",
              "    </tr>\n",
              "  </tbody>\n",
              "</table>\n",
              "</div>"
            ],
            "text/plain": [
              "             credit_score  age  tenure    balance  num_of_products  \\\n",
              "customer_id                                                          \n",
              "15634602              619   42       2      0.000                1   \n",
              "15647311              608   41       1  83807.860                1   \n",
              "15619304              502   42       8 159660.800                3   \n",
              "15701354              699   39       1      0.000                2   \n",
              "15737888              850   43       2 125510.820                1   \n",
              "\n",
              "             has_cr_card  is_active_member  estimated_salary  \\\n",
              "customer_id                                                    \n",
              "15634602               1                 1        101348.880   \n",
              "15647311               0                 1        112542.580   \n",
              "15619304               1                 0        113931.570   \n",
              "15701354               0                 0         93826.630   \n",
              "15737888               1                 1         79084.100   \n",
              "\n",
              "             geography_Germany  geography_Spain  gender_Male  \n",
              "customer_id                                                   \n",
              "15634602                     0                0            0  \n",
              "15647311                     0                1            0  \n",
              "15619304                     0                0            0  \n",
              "15701354                     0                0            0  \n",
              "15737888                     0                1            0  "
            ]
          },
          "execution_count": 19,
          "metadata": {},
          "output_type": "execute_result"
        }
      ],
      "source": [
        "# Применение демми-признаков (ohe)\n",
        "X = pd.get_dummies(X, drop_first = True)\n",
        "X.head()"
      ]
    },
    {
      "cell_type": "code",
      "execution_count": null,
      "metadata": {
        "id": "eFFv1G66WK5l"
      },
      "outputs": [],
      "source": [
        "X_train, X_valid, y_train, y_valid = train_test_split(\n",
        "    X, y, test_size=0.40, random_state=12345, stratify=y) #"
      ]
    },
    {
      "cell_type": "code",
      "execution_count": null,
      "metadata": {
        "id": "d6ffD8QnWK5m"
      },
      "outputs": [],
      "source": [
        "X_valid, X_test, y_valid, y_test = train_test_split(\n",
        "    X_valid, y_valid, test_size=0.50, random_state=12345, stratify=y_valid) #"
      ]
    },
    {
      "cell_type": "code",
      "execution_count": null,
      "metadata": {
        "id": "AijoHTXiWK5m",
        "outputId": "8482e9fa-b446-4a8b-ff8b-70c842a97e7e"
      },
      "outputs": [
        {
          "name": "stdout",
          "output_type": "stream",
          "text": [
            "train = 60.00%\n",
            "valid = 20.00%\n",
            "test = 20.00%\n"
          ]
        }
      ],
      "source": [
        "print(f\"train = {100*len(X_train)/len(X):.2f}%\")\n",
        "print(f\"valid = {100*len(X_valid)/len(X):.2f}%\")\n",
        "print(f\"test = {100*len(X_test)/len(X):.2f}%\")"
      ]
    },
    {
      "cell_type": "code",
      "execution_count": null,
      "metadata": {
        "id": "vopPDEToWK5n"
      },
      "outputs": [],
      "source": [
        "column_for_scaled = ['credit_score', 'age', 'tenure', 'balance', 'num_of_products', 'estimated_salary']"
      ]
    },
    {
      "cell_type": "code",
      "execution_count": null,
      "metadata": {
        "id": "xA4FDibZWK5n"
      },
      "outputs": [],
      "source": [
        "scaler = StandardScaler()"
      ]
    },
    {
      "cell_type": "code",
      "execution_count": null,
      "metadata": {
        "id": "xsAh6WGuWK5o"
      },
      "outputs": [],
      "source": [
        "numeric = ['credit_score', 'age', 'tenure', 'balance', 'num_of_products', 'estimated_salary']"
      ]
    },
    {
      "cell_type": "code",
      "execution_count": null,
      "metadata": {
        "id": "qnWz5jp-WK5o",
        "outputId": "b5b2c4d4-63f4-449b-cf77-b89a430fc438"
      },
      "outputs": [
        {
          "data": {
            "text/plain": [
              "StandardScaler()"
            ]
          },
          "execution_count": 26,
          "metadata": {},
          "output_type": "execute_result"
        }
      ],
      "source": [
        "scaler.fit(X_train[column_for_scaled])"
      ]
    },
    {
      "cell_type": "code",
      "execution_count": null,
      "metadata": {
        "id": "xJhW7BqaWK5p"
      },
      "outputs": [],
      "source": [
        "import warnings\n",
        "warnings.filterwarnings('ignore')\n",
        "\n",
        "X_train[column_for_scaled] = scaler.transform(X_train[column_for_scaled])\n",
        "X_valid[column_for_scaled] = scaler.transform(X_valid[column_for_scaled])\n",
        "X_test[column_for_scaled] = scaler.transform(X_test[column_for_scaled])"
      ]
    },
    {
      "cell_type": "markdown",
      "metadata": {
        "id": "tnDqolBjWK5p"
      },
      "source": [
        "Разбили на три выборки. Обучающая, валидационная, тестовая по схеме 60:20:20 с сохранением баланса класса\n",
        "Применили метод OHE c обходом дамми ловушек. Маштабирование некоторых числовых признаков."
      ]
    },
    {
      "cell_type": "markdown",
      "metadata": {
        "id": "enjppuRNWK5q"
      },
      "source": [
        "<div class=\"alert alert-block alert-success\">\n",
        "<b>Успех:</b> Разбиение проведено абсолютно верно. радует, что scaler был обучен только на тренировочной выборке. Это помогает уменьшить переобучение.\n",
        "</div>"
      ]
    },
    {
      "cell_type": "code",
      "execution_count": null,
      "metadata": {
        "id": "DGTCL-BGWK5q"
      },
      "outputs": [],
      "source": [
        "# Дерево решений\n",
        "def tree(tree_name, X_train, y_train, X_valid, y_valid, weight=None):\n",
        "    tree_result = pd.DataFrame(columns = \n",
        "            ['name','depth', 'accuracy_train', 'accuracy_valid', 'f1','c_matrix','auc_roc_tree_valid'])\n",
        "\n",
        "    for depth in range(1, 15, 1):\n",
        "        model_tree = DecisionTreeClassifier(max_depth=depth, random_state=12345, class_weight = weight)\n",
        "        model_tree.fit(X_train, y_train)\n",
        "        predictions_tree_train = model_tree.predict(X_train)\n",
        "        predictions_tree_valid = model_tree.predict(X_valid)\n",
        "        accuracy_tree_train = accuracy_score(y_train, predictions_tree_train)\n",
        "        accuracy_tree_valid = accuracy_score(y_valid, predictions_tree_valid)\n",
        "        f1_tree_valid = f1_score(y_valid, predictions_tree_valid)\n",
        "    \n",
        "        c_matrix_valid = confusion_matrix(y_valid, predictions_tree_valid)\n",
        "        probabilities_valid = model_tree.predict_proba(X_valid)\n",
        "        probabilities_one_valid = probabilities_valid[:, 1]\n",
        "        auc_roc_tree_valid = roc_auc_score(y_valid, probabilities_one_valid)\n",
        "        tree_result.loc[len(tree_result)] = (\n",
        "            [tree_name,depth,accuracy_tree_train,accuracy_tree_valid,f1_tree_valid,c_matrix_valid,auc_roc_tree_valid]\n",
        "        )\n",
        "    \n",
        "    tree_result\n",
        "    print('Максимальное значение f1_score модели \"Дерево решений\" на валидационной выборке:', tree_result.f1.max())\n",
        "    max_accuracy = tree_result.f1.max()\n",
        "    tree_result_max = tree_result.query('f1 == @max_accuracy')\n",
        "    print(tree_result_max.transpose())\n",
        "    return tree_result_max"
      ]
    },
    {
      "cell_type": "code",
      "execution_count": null,
      "metadata": {
        "id": "6uVUhllYWK5q"
      },
      "outputs": [],
      "source": [
        "#  Случайный лес\n",
        "def forest(forest_name, X_train, y_train, X_valid, y_valid, weight=None):\n",
        "    \n",
        "    forest_result = pd.DataFrame(columns = ['name', 'estim', 'depth', 'accuracy_train', 'accuracy_valid', 'f1', 'c_matrix_valid','auc_roc_forest_valid'])\n",
        "\n",
        "    for estim in range(1, 101, 5):\n",
        "        for depth in range(1, 11, 1):\n",
        "            model_forest =( \n",
        "                RandomForestClassifier(n_estimators=estim, \n",
        "                max_depth=depth, random_state=12345, class_weight = weight)\n",
        "            )    \n",
        "            model_forest.fit(X_train, y_train)\n",
        "            predictions_forest_train = model_forest.predict(X_train)\n",
        "            predictions_forest_valid = model_forest.predict(X_valid)\n",
        "            accuracy_forest_train = accuracy_score(y_train, predictions_forest_train)\n",
        "            accuracy_forest_valid = accuracy_score(y_valid, predictions_forest_valid)\n",
        "            accuracy_forest_f1 = f1_score(y_valid, predictions_forest_valid)\n",
        "        \n",
        "            c_matrix_valid = confusion_matrix(y_valid, predictions_forest_valid)\n",
        "            probabilities_valid = model_forest.predict_proba(X_valid)\n",
        "            probabilities_one_valid = probabilities_valid[:, 1]\n",
        "            auc_roc_forest_valid = roc_auc_score(y_valid, probabilities_one_valid)\n",
        "            forest_result.loc[len(forest_result)] =(\n",
        "            [forest_name, estim,depth,accuracy_forest_train,accuracy_forest_valid,accuracy_forest_f1,c_matrix_valid,auc_roc_forest_valid]\n",
        "            )\n",
        "    forest_result.sort_values(by='f1',ascending=False).head(10) \n",
        "    print('Максимальное значение f1_score модели \"Случайный лес\" на валидационной выборке:', forest_result.f1.max())\n",
        "    max_accuracy = forest_result.f1.max()\n",
        "    forest_result_max = forest_result.query('f1 == @max_accuracy')\n",
        "    print(forest_result_max.transpose())\n",
        "    return forest_result_max"
      ]
    },
    {
      "cell_type": "code",
      "execution_count": null,
      "metadata": {
        "id": "TpANYp4xWK5r"
      },
      "outputs": [],
      "source": [
        "# Логическая регрессия\n",
        "def logistic(log_name, X_train, y_train, X_valid, y_valid, weight=None):\n",
        "    log_result = pd.DataFrame(columns = ['name', 'f1', 'c_matrix_valid','auc_roc_log'])\n",
        "    model_LogisticRegression = LogisticRegression(random_state=12345, solver='liblinear',class_weight = weight)\n",
        "    model_LogisticRegression.fit(X_train, y_train)\n",
        "    predicted_valid = model_LogisticRegression.predict(X_valid)\n",
        "    c_matrix_valid = confusion_matrix(y_valid, predicted_valid)\n",
        "    log_f1= f1_score(y_valid, predicted_valid)\n",
        "    probabilities_valid = model_LogisticRegression.predict_proba(X_valid)\n",
        "    probabilities_one_valid = probabilities_valid[:, 1]\n",
        "    auc_roc_log_valid = roc_auc_score(y_valid, probabilities_one_valid)\n",
        "    log_result.loc[len(log_result)] =(\n",
        "            [log_name, log_f1,c_matrix_valid,auc_roc_log_valid]\n",
        "            )\n",
        "    print(log_result.transpose())\n",
        "    \n",
        "    return log_result"
      ]
    },
    {
      "cell_type": "markdown",
      "metadata": {
        "id": "WHlI7vDJWK5r"
      },
      "source": [
        "<div class=\"alert alert-block alert-success\">\n",
        "<b>Успех:</b> Приятно видеть, что ты сделал универсальный функции.\n",
        "</div>"
      ]
    },
    {
      "cell_type": "code",
      "execution_count": null,
      "metadata": {
        "id": "iBFA-V4oWK5s",
        "outputId": "463e3126-713b-4f3b-ccd1-a063f8d8cc9f"
      },
      "outputs": [
        {
          "name": "stdout",
          "output_type": "stream",
          "text": [
            "Максимальное значение f1_score модели \"Дерево решений\" на валидационной выборке: 0.5933429811866859\n",
            "                                           6\n",
            "name                    дерево с дисбалансом\n",
            "depth                                      7\n",
            "accuracy_train                         0.871\n",
            "accuracy_valid                         0.860\n",
            "f1                                     0.593\n",
            "c_matrix            [[1514, 78], [203, 205]]\n",
            "auc_roc_tree_valid                     0.824\n"
          ]
        }
      ],
      "source": [
        "tree_max = tree('дерево с дисбалансом',X_train, y_train, X_valid, y_valid)"
      ]
    },
    {
      "cell_type": "code",
      "execution_count": null,
      "metadata": {
        "id": "kpgcVKUnWK5s",
        "outputId": "1d4a457c-6830-4e66-db3f-83e486cf097f"
      },
      "outputs": [
        {
          "name": "stdout",
          "output_type": "stream",
          "text": [
            "Максимальное значение f1_score модели \"Случайный лес\" на валидационной выборке: 0.6036269430051813\n",
            "                                              3\n",
            "name                          лес с дисбалансом\n",
            "estim                                         1\n",
            "depth                                         4\n",
            "accuracy_train                            0.843\n",
            "accuracy_valid                            0.847\n",
            "f1                                        0.604\n",
            "c_matrix_valid        [[1461, 131], [175, 233]]\n",
            "auc_roc_forest_valid                      0.814\n"
          ]
        }
      ],
      "source": [
        "forest_max = forest('лес с дисбалансом',X_train, y_train, X_valid, y_valid)"
      ]
    },
    {
      "cell_type": "code",
      "execution_count": null,
      "metadata": {
        "id": "0DqYx90QWK5t",
        "outputId": "fdce94a6-fc81-4794-948c-8dec1513a29c"
      },
      "outputs": [
        {
          "name": "stdout",
          "output_type": "stream",
          "text": [
            "                                       0\n",
            "name            логическая с дисбалансом\n",
            "f1                                 0.308\n",
            "c_matrix_valid   [[1538, 54], [324, 84]]\n",
            "auc_roc_log                        0.787\n"
          ]
        }
      ],
      "source": [
        "log_max = logistic('логическая с дисбалансом',X_train, y_train, X_valid, y_valid)"
      ]
    },
    {
      "cell_type": "markdown",
      "metadata": {
        "id": "dCVd1oxrWK5t"
      },
      "source": [
        "### Вывод   \n",
        "\n",
        "Рассмотрены три модели. Лучший результат получился на модели \"Случайный лес\".\n",
        "При подборе гиперпараметров получилось довести значение F1 до 0.616, это видно и из результатов confusion_matrix и auc_roc.  \n",
        "(вначале был вариант замены пропусков \"Tenure\" на медиану. При этом значение F1 незначительно ниже на всех моделях, например 0,606(медиана) - 0,616 (оригинал) на Случайном лесе)  \n",
        "Далее будем пытаться улучшить этот результат борясь с дисбалансом\n"
      ]
    },
    {
      "cell_type": "markdown",
      "metadata": {
        "id": "P-P3wp11WK5u"
      },
      "source": [
        "# 3. Борьба с дисбалансом"
      ]
    },
    {
      "cell_type": "code",
      "execution_count": null,
      "metadata": {
        "id": "KVQ0BIpQWK5u",
        "outputId": "7703761a-3838-4600-c195-43274ecf3458"
      },
      "outputs": [
        {
          "name": "stdout",
          "output_type": "stream",
          "text": [
            "Максимальное значение f1_score модели \"Дерево решений\" на валидационной выборке: 0.5764596848934197\n",
            "                                           5\n",
            "name                 дерево сбалансированный\n",
            "depth                                      6\n",
            "accuracy_train                         0.783\n",
            "accuracy_valid                         0.771\n",
            "f1                                     0.576\n",
            "c_matrix            [[1232, 360], [97, 311]]\n",
            "auc_roc_tree_valid                     0.828\n",
            "Максимальное значение f1_score модели \"Случайный лес\" на валидационной выборке: 0.6492374727668845\n",
            "                                            197\n",
            "name                       лес сбалансированный\n",
            "estim                                        96\n",
            "depth                                         8\n",
            "accuracy_train                            0.868\n",
            "accuracy_valid                            0.839\n",
            "f1                                        0.649\n",
            "c_matrix_valid        [[1380, 212], [110, 298]]\n",
            "auc_roc_forest_valid                      0.871\n",
            "                                          0\n",
            "name            логическая сбалансированный\n",
            "f1                                    0.530\n",
            "c_matrix_valid    [[1165, 427], [107, 301]]\n",
            "auc_roc_log                           0.794\n"
          ]
        }
      ],
      "source": [
        "# Обучение модели решаюшего дерево при сбаланстрованном весе классов.\n",
        "tree_max = tree_max.append(tree('дерево сбалансированный',X_train, y_train, X_valid, y_valid, \"balanced\"))\n",
        "forest_max = forest_max.append(forest('лес сбалансированный',X_train, y_train, X_valid, y_valid, \"balanced\"))\n",
        "log_max = log_max.append(logistic('логическая сбалансированный',X_train, y_train, X_valid, y_valid, \"balanced\"))"
      ]
    },
    {
      "cell_type": "code",
      "execution_count": null,
      "metadata": {
        "id": "9uTSlfoyWK5v"
      },
      "outputs": [],
      "source": [
        "# Функция для увеличение выборки\n",
        "def upsample(features, target, repeat):\n",
        "    features_zeros = features[target == 0]\n",
        "    features_ones = features[target == 1]\n",
        "    target_zeros = target[target == 0]\n",
        "    target_ones = target[target == 1]\n",
        "\n",
        "    features_upsampled = pd.concat([features_zeros] + [features_ones] * repeat)\n",
        "    target_upsampled = pd.concat([target_zeros] + [target_ones] * repeat)\n",
        "    \n",
        "    features_upsampled, target_upsampled = shuffle(\n",
        "        features_upsampled, target_upsampled, random_state=12345)\n",
        "    \n",
        "    return features_upsampled, target_upsampled"
      ]
    },
    {
      "cell_type": "code",
      "execution_count": null,
      "metadata": {
        "id": "9bPPNqtVWK5w"
      },
      "outputs": [],
      "source": [
        "#Применение функции увеличения выборки к датафрейму \n",
        "X_upsampled, y_upsampled = upsample(X_train, y_train, 10)\n"
      ]
    },
    {
      "cell_type": "markdown",
      "metadata": {
        "id": "IUaSH2pTWK5w"
      },
      "source": [
        "<div class=\"alert alert-block alert-info\">\n",
        "<b>Совет: </b> Не очень понятно, почему repeat = 10, разве теперь классы сбалансированы?\n",
        "</div>"
      ]
    },
    {
      "cell_type": "code",
      "execution_count": null,
      "metadata": {
        "id": "tpk7ye_4WK5x",
        "outputId": "bed06c9e-cca3-47be-e426-816594a8c5c1"
      },
      "outputs": [
        {
          "name": "stdout",
          "output_type": "stream",
          "text": [
            "Максимальное значение f1_score модели \"Дерево решений\" на валидационной выборке: 0.537984496124031\n",
            "                                            5\n",
            "name                дерево увеличение выборки\n",
            "depth                                       6\n",
            "accuracy_train                          0.821\n",
            "accuracy_valid                          0.702\n",
            "f1                                      0.538\n",
            "c_matrix             [[1057, 535], [61, 347]]\n",
            "auc_roc_tree_valid                      0.836\n",
            "Максимальное значение f1_score модели \"Случайный лес\" на валидационной выборке: 0.5823429541595925\n",
            "                                           119\n",
            "name                    лес увеличение выборки\n",
            "estim                                       56\n",
            "depth                                       10\n",
            "accuracy_train                           0.933\n",
            "accuracy_valid                           0.754\n",
            "f1                                       0.582\n",
            "c_matrix_valid        [[1165, 427], [65, 343]]\n",
            "auc_roc_forest_valid                     0.860\n",
            "                                            0\n",
            "name            логическая увеличение выборки\n",
            "f1                                      0.419\n",
            "c_matrix_valid       [[553, 1039], [25, 383]]\n",
            "auc_roc_log                             0.796\n"
          ]
        }
      ],
      "source": [
        "# Обучение модели случайного леса с увеличеной выборкойю\n",
        "\n",
        "tree_max = tree_max.append(tree('дерево увеличение выборки',X_upsampled, y_upsampled, X_valid, y_valid))\n",
        "forest_max = forest_max.append(forest('лес увеличение выборки',X_upsampled, y_upsampled, X_valid, y_valid))\n",
        "log_max = log_max.append(logistic('логическая увеличение выборки',X_upsampled, y_upsampled, X_valid, y_valid))"
      ]
    },
    {
      "cell_type": "code",
      "execution_count": null,
      "metadata": {
        "id": "bcnVZmpQWK5y"
      },
      "outputs": [],
      "source": [
        "# Функция для уменьшения выборки \n",
        "def downsample(features, target, fraction):\n",
        "    features_zeros = features[target == 0]\n",
        "    features_ones = features[target == 1]\n",
        "    target_zeros = target[target == 0]\n",
        "    target_ones = target[target == 1]\n",
        "\n",
        "    features_downsampled = pd.concat(\n",
        "        [features_zeros.sample(frac=fraction, random_state=12345)] + [features_ones])\n",
        "    target_downsampled = pd.concat(\n",
        "        [target_zeros.sample(frac=fraction, random_state=12345)] + [target_ones])\n",
        "    \n",
        "    features_downsampled, target_downsampled = shuffle(\n",
        "        features_downsampled, target_downsampled, random_state=12345)\n",
        "    \n",
        "    return features_downsampled, target_downsampled\n",
        "\n"
      ]
    },
    {
      "cell_type": "code",
      "execution_count": null,
      "metadata": {
        "id": "0HKOH0shWK5y"
      },
      "outputs": [],
      "source": [
        "# Применение функций уменьшения вывборки к датафрэйму без категориальных прризнаков\n",
        "X_downsampled, y_downsampled = downsample(X_train, y_train, 0.5)"
      ]
    },
    {
      "cell_type": "code",
      "execution_count": null,
      "metadata": {
        "id": "I-JnMIEJWK5z",
        "outputId": "40ec29cf-ae7e-4117-a94e-b555d6976ded"
      },
      "outputs": [
        {
          "name": "stdout",
          "output_type": "stream",
          "text": [
            "Максимальное значение f1_score модели \"Дерево решений\" на валидационной выборке: 0.6103183315038418\n",
            "                                            6\n",
            "name                дерево уменьшение выборки\n",
            "depth                                       7\n",
            "accuracy_train                          0.832\n",
            "accuracy_valid                          0.823\n",
            "f1                                      0.610\n",
            "c_matrix            [[1367, 225], [130, 278]]\n",
            "auc_roc_tree_valid                      0.830\n",
            "Максимальное значение f1_score модели \"Случайный лес\" на валидационной выборке: 0.6550435865504359\n",
            "                                            169\n",
            "name                             лес уменьшение\n",
            "estim                                        81\n",
            "depth                                        10\n",
            "accuracy_train                            0.907\n",
            "accuracy_valid                            0.862\n",
            "f1                                        0.655\n",
            "c_matrix_valid        [[1460, 132], [145, 263]]\n",
            "auc_roc_forest_valid                      0.871\n",
            "                                        0\n",
            "name                логическая уменьшение\n",
            "f1                                  0.487\n",
            "c_matrix_valid  [[1409, 183], [218, 190]]\n",
            "auc_roc_log                         0.791\n"
          ]
        }
      ],
      "source": [
        "# Обучение модели случайного леса при уменьшеной выборке\n",
        "tree_max = tree_max.append(tree('дерево уменьшение выборки',X_downsampled, y_downsampled, X_valid, y_valid))\n",
        "forest_max = forest_max.append(forest('лес уменьшение',X_downsampled, y_downsampled, X_valid, y_valid))\n",
        "log_max = log_max.append(logistic('логическая уменьшение',X_downsampled, y_downsampled, X_valid, y_valid))"
      ]
    },
    {
      "cell_type": "code",
      "execution_count": null,
      "metadata": {
        "id": "bDGvjXf_WK5z",
        "outputId": "318be1c2-27e2-42cf-a4c8-e64695d0afd4"
      },
      "outputs": [
        {
          "data": {
            "text/html": [
              "<div>\n",
              "<style scoped>\n",
              "    .dataframe tbody tr th:only-of-type {\n",
              "        vertical-align: middle;\n",
              "    }\n",
              "\n",
              "    .dataframe tbody tr th {\n",
              "        vertical-align: top;\n",
              "    }\n",
              "\n",
              "    .dataframe thead th {\n",
              "        text-align: right;\n",
              "    }\n",
              "</style>\n",
              "<table border=\"1\" class=\"dataframe\">\n",
              "  <thead>\n",
              "    <tr style=\"text-align: right;\">\n",
              "      <th></th>\n",
              "      <th>name</th>\n",
              "      <th>depth</th>\n",
              "      <th>accuracy_train</th>\n",
              "      <th>accuracy_valid</th>\n",
              "      <th>f1</th>\n",
              "      <th>c_matrix</th>\n",
              "      <th>auc_roc_tree_valid</th>\n",
              "    </tr>\n",
              "  </thead>\n",
              "  <tbody>\n",
              "    <tr>\n",
              "      <th>6</th>\n",
              "      <td>дерево с дисбалансом</td>\n",
              "      <td>7</td>\n",
              "      <td>0.871</td>\n",
              "      <td>0.860</td>\n",
              "      <td>0.593</td>\n",
              "      <td>[[1514, 78], [203, 205]]</td>\n",
              "      <td>0.824</td>\n",
              "    </tr>\n",
              "    <tr>\n",
              "      <th>5</th>\n",
              "      <td>дерево сбалансированный</td>\n",
              "      <td>6</td>\n",
              "      <td>0.783</td>\n",
              "      <td>0.771</td>\n",
              "      <td>0.576</td>\n",
              "      <td>[[1232, 360], [97, 311]]</td>\n",
              "      <td>0.828</td>\n",
              "    </tr>\n",
              "    <tr>\n",
              "      <th>5</th>\n",
              "      <td>дерево увеличение выборки</td>\n",
              "      <td>6</td>\n",
              "      <td>0.821</td>\n",
              "      <td>0.702</td>\n",
              "      <td>0.538</td>\n",
              "      <td>[[1057, 535], [61, 347]]</td>\n",
              "      <td>0.836</td>\n",
              "    </tr>\n",
              "    <tr>\n",
              "      <th>6</th>\n",
              "      <td>дерево уменьшение выборки</td>\n",
              "      <td>7</td>\n",
              "      <td>0.832</td>\n",
              "      <td>0.823</td>\n",
              "      <td>0.610</td>\n",
              "      <td>[[1367, 225], [130, 278]]</td>\n",
              "      <td>0.830</td>\n",
              "    </tr>\n",
              "  </tbody>\n",
              "</table>\n",
              "</div>"
            ],
            "text/plain": [
              "                        name depth  accuracy_train  accuracy_valid    f1  \\\n",
              "6       дерево с дисбалансом     7           0.871           0.860 0.593   \n",
              "5    дерево сбалансированный     6           0.783           0.771 0.576   \n",
              "5  дерево увеличение выборки     6           0.821           0.702 0.538   \n",
              "6  дерево уменьшение выборки     7           0.832           0.823 0.610   \n",
              "\n",
              "                    c_matrix  auc_roc_tree_valid  \n",
              "6   [[1514, 78], [203, 205]]               0.824  \n",
              "5   [[1232, 360], [97, 311]]               0.828  \n",
              "5   [[1057, 535], [61, 347]]               0.836  \n",
              "6  [[1367, 225], [130, 278]]               0.830  "
            ]
          },
          "metadata": {},
          "output_type": "display_data"
        },
        {
          "data": {
            "text/html": [
              "<div>\n",
              "<style scoped>\n",
              "    .dataframe tbody tr th:only-of-type {\n",
              "        vertical-align: middle;\n",
              "    }\n",
              "\n",
              "    .dataframe tbody tr th {\n",
              "        vertical-align: top;\n",
              "    }\n",
              "\n",
              "    .dataframe thead th {\n",
              "        text-align: right;\n",
              "    }\n",
              "</style>\n",
              "<table border=\"1\" class=\"dataframe\">\n",
              "  <thead>\n",
              "    <tr style=\"text-align: right;\">\n",
              "      <th></th>\n",
              "      <th>name</th>\n",
              "      <th>estim</th>\n",
              "      <th>depth</th>\n",
              "      <th>accuracy_train</th>\n",
              "      <th>accuracy_valid</th>\n",
              "      <th>f1</th>\n",
              "      <th>c_matrix_valid</th>\n",
              "      <th>auc_roc_forest_valid</th>\n",
              "    </tr>\n",
              "  </thead>\n",
              "  <tbody>\n",
              "    <tr>\n",
              "      <th>3</th>\n",
              "      <td>лес с дисбалансом</td>\n",
              "      <td>1</td>\n",
              "      <td>4</td>\n",
              "      <td>0.843</td>\n",
              "      <td>0.847</td>\n",
              "      <td>0.604</td>\n",
              "      <td>[[1461, 131], [175, 233]]</td>\n",
              "      <td>0.814</td>\n",
              "    </tr>\n",
              "    <tr>\n",
              "      <th>197</th>\n",
              "      <td>лес сбалансированный</td>\n",
              "      <td>96</td>\n",
              "      <td>8</td>\n",
              "      <td>0.868</td>\n",
              "      <td>0.839</td>\n",
              "      <td>0.649</td>\n",
              "      <td>[[1380, 212], [110, 298]]</td>\n",
              "      <td>0.871</td>\n",
              "    </tr>\n",
              "    <tr>\n",
              "      <th>119</th>\n",
              "      <td>лес увеличение выборки</td>\n",
              "      <td>56</td>\n",
              "      <td>10</td>\n",
              "      <td>0.933</td>\n",
              "      <td>0.754</td>\n",
              "      <td>0.582</td>\n",
              "      <td>[[1165, 427], [65, 343]]</td>\n",
              "      <td>0.860</td>\n",
              "    </tr>\n",
              "    <tr>\n",
              "      <th>169</th>\n",
              "      <td>лес уменьшение</td>\n",
              "      <td>81</td>\n",
              "      <td>10</td>\n",
              "      <td>0.907</td>\n",
              "      <td>0.862</td>\n",
              "      <td>0.655</td>\n",
              "      <td>[[1460, 132], [145, 263]]</td>\n",
              "      <td>0.871</td>\n",
              "    </tr>\n",
              "  </tbody>\n",
              "</table>\n",
              "</div>"
            ],
            "text/plain": [
              "                       name estim depth  accuracy_train  accuracy_valid    f1  \\\n",
              "3         лес с дисбалансом     1     4           0.843           0.847 0.604   \n",
              "197    лес сбалансированный    96     8           0.868           0.839 0.649   \n",
              "119  лес увеличение выборки    56    10           0.933           0.754 0.582   \n",
              "169          лес уменьшение    81    10           0.907           0.862 0.655   \n",
              "\n",
              "                c_matrix_valid  auc_roc_forest_valid  \n",
              "3    [[1461, 131], [175, 233]]                 0.814  \n",
              "197  [[1380, 212], [110, 298]]                 0.871  \n",
              "119   [[1165, 427], [65, 343]]                 0.860  \n",
              "169  [[1460, 132], [145, 263]]                 0.871  "
            ]
          },
          "metadata": {},
          "output_type": "display_data"
        },
        {
          "data": {
            "text/html": [
              "<div>\n",
              "<style scoped>\n",
              "    .dataframe tbody tr th:only-of-type {\n",
              "        vertical-align: middle;\n",
              "    }\n",
              "\n",
              "    .dataframe tbody tr th {\n",
              "        vertical-align: top;\n",
              "    }\n",
              "\n",
              "    .dataframe thead th {\n",
              "        text-align: right;\n",
              "    }\n",
              "</style>\n",
              "<table border=\"1\" class=\"dataframe\">\n",
              "  <thead>\n",
              "    <tr style=\"text-align: right;\">\n",
              "      <th></th>\n",
              "      <th>name</th>\n",
              "      <th>f1</th>\n",
              "      <th>c_matrix_valid</th>\n",
              "      <th>auc_roc_log</th>\n",
              "    </tr>\n",
              "  </thead>\n",
              "  <tbody>\n",
              "    <tr>\n",
              "      <th>0</th>\n",
              "      <td>логическая с дисбалансом</td>\n",
              "      <td>0.308</td>\n",
              "      <td>[[1538, 54], [324, 84]]</td>\n",
              "      <td>0.787</td>\n",
              "    </tr>\n",
              "    <tr>\n",
              "      <th>0</th>\n",
              "      <td>логическая сбалансированный</td>\n",
              "      <td>0.530</td>\n",
              "      <td>[[1165, 427], [107, 301]]</td>\n",
              "      <td>0.794</td>\n",
              "    </tr>\n",
              "    <tr>\n",
              "      <th>0</th>\n",
              "      <td>логическая увеличение выборки</td>\n",
              "      <td>0.419</td>\n",
              "      <td>[[553, 1039], [25, 383]]</td>\n",
              "      <td>0.796</td>\n",
              "    </tr>\n",
              "    <tr>\n",
              "      <th>0</th>\n",
              "      <td>логическая уменьшение</td>\n",
              "      <td>0.487</td>\n",
              "      <td>[[1409, 183], [218, 190]]</td>\n",
              "      <td>0.791</td>\n",
              "    </tr>\n",
              "  </tbody>\n",
              "</table>\n",
              "</div>"
            ],
            "text/plain": [
              "                            name    f1             c_matrix_valid  auc_roc_log\n",
              "0       логическая с дисбалансом 0.308    [[1538, 54], [324, 84]]        0.787\n",
              "0    логическая сбалансированный 0.530  [[1165, 427], [107, 301]]        0.794\n",
              "0  логическая увеличение выборки 0.419   [[553, 1039], [25, 383]]        0.796\n",
              "0          логическая уменьшение 0.487  [[1409, 183], [218, 190]]        0.791"
            ]
          },
          "metadata": {},
          "output_type": "display_data"
        }
      ],
      "source": [
        "display(tree_max)\n",
        "display(forest_max)\n",
        "display(log_max)"
      ]
    },
    {
      "cell_type": "markdown",
      "metadata": {
        "id": "SoGhZd2_WK50"
      },
      "source": [
        "Лучшей модель для данного запроса RandomForestClassifier, обученную на уменьшенной выборке с параметрами n_estimators =81, max_depth =10\n",
        "\n",
        "Так же можно рассматривать модель RandomForestClassifier, с применением class_weight='balanced',с параметрами n_estimators =81, max_depth =10, auc_roc у обоих моделей одинаковое.  \n",
        "Рассмотрим оба варианта нав тестировании."
      ]
    },
    {
      "cell_type": "markdown",
      "metadata": {
        "id": "BQI1Z9PMWK50"
      },
      "source": [
        "<div class=\"alert alert-block alert-success\">\n",
        "<b>Успех:</b> Молодец, что попробовал несколько методов борьбы с дисбалансом классов и собрал все результаты вместе.\n",
        "</div>"
      ]
    },
    {
      "cell_type": "markdown",
      "metadata": {
        "id": "C7OyomVbWK50"
      },
      "source": [
        "# 4. Тестирование модели"
      ]
    },
    {
      "cell_type": "code",
      "execution_count": null,
      "metadata": {
        "id": "CtfY5lGfWK51",
        "outputId": "956a61a5-8905-47c5-fadd-e005a3ecb9d6"
      },
      "outputs": [
        {
          "name": "stdout",
          "output_type": "stream",
          "text": [
            "f1 0.5938303341902312\n",
            "c_matrix\n",
            "[[1453  140]\n",
            " [ 176  231]]\n",
            "auc_roc_valid 0.8531058022583446\n"
          ]
        }
      ],
      "source": [
        "# Тестируем модель случайого леса на уменьшенной выборке \n",
        "model_test =  RandomForestClassifier(random_state=12345, n_estimators= 81, max_depth = 10)\n",
        "model_test.fit(X_downsampled, y_downsampled)\n",
        "predicted_test = model_test.predict(X_test)\n",
        "\n",
        "\n",
        "f1 = f1_score(y_test, predicted_test)\n",
        "c_matrix = confusion_matrix(y_test, predicted_test)\n",
        "\n",
        "probabilities = model_test.predict_proba(X_test)\n",
        "probabilities_one = probabilities[:, 1]\n",
        "auc_roc_valid = roc_auc_score(y_test, probabilities_one)\n",
        "print('f1', f1)\n",
        "print('c_matrix')\n",
        "print( c_matrix)\n",
        "print('auc_roc_valid', auc_roc_valid)"
      ]
    },
    {
      "cell_type": "code",
      "execution_count": null,
      "metadata": {
        "id": "kKFnPZWmWK51",
        "outputId": "9b9385d3-5b60-41af-921c-3a3d9c817a2b"
      },
      "outputs": [
        {
          "name": "stdout",
          "output_type": "stream",
          "text": [
            "f1 0.6026490066225165\n",
            "c_matrix\n",
            "[[1367  226]\n",
            " [ 134  273]]\n",
            "auc_roc_valid 0.8535237857271756\n"
          ]
        }
      ],
      "source": [
        "# Тестируем модель случайого леса на Сбалансированной выборке\n",
        "model_test =  RandomForestClassifier(random_state=12345, n_estimators= 96, max_depth = 8, class_weight = \"balanced\")\n",
        "model_test.fit(X_train, y_train)\n",
        "predicted_test = model_test.predict(X_test)\n",
        "\n",
        "\n",
        "f1 = f1_score(y_test, predicted_test)\n",
        "c_matrix = confusion_matrix(y_test, predicted_test)\n",
        "\n",
        "probabilities = model_test.predict_proba(X_test)\n",
        "probabilities_one = probabilities[:, 1]\n",
        "auc_roc_valid = roc_auc_score(y_test, probabilities_one)\n",
        "print('f1', f1)\n",
        "print('c_matrix')\n",
        "print( c_matrix)\n",
        "print('auc_roc_valid', auc_roc_valid)"
      ]
    },
    {
      "cell_type": "markdown",
      "metadata": {
        "id": "Rnui8MylWK52"
      },
      "source": [
        "При тестовой выборке получили значения f1 = 0.603 , что высше чем по заданию"
      ]
    },
    {
      "cell_type": "code",
      "execution_count": null,
      "metadata": {
        "id": "7kQh2ERtWK52",
        "outputId": "1a888bf8-a783-4045-e1e3-3261f36d558c"
      },
      "outputs": [
        {
          "data": {
            "image/png": "[encoded data removed]",
            "text/plain": [
              "<Figure size 432x288 with 1 Axes>"
            ]
          },
          "metadata": {
            "needs_background": "light"
          },
          "output_type": "display_data"
        },
        {
          "name": "stdout",
          "output_type": "stream",
          "text": [
            "0.8535237857271756\n"
          ]
        }
      ],
      "source": [
        "fpr, tpr, thresholds = roc_curve(y_test, probabilities_one)\n",
        "\n",
        "plt.figure()\n",
        "plt.plot(fpr, tpr)\n",
        "plt.plot([0, 1], [0, 1], linestyle='--')\n",
        "plt.xlabel('False Positive Rate')\n",
        "plt.ylabel('True Positive Rate')\n",
        "plt.ylim([0.0, 1.0])\n",
        "plt.xlim([0.0, 1.0])\n",
        "plt.title('ROC-кривая')\n",
        "plt.show()\n",
        "\n",
        "print(auc_roc_valid)"
      ]
    },
    {
      "cell_type": "markdown",
      "metadata": {
        "id": "bemmWzqrWK53"
      },
      "source": [
        "### Вывод\n",
        "Площадь под крривой бельше чем 0,5 то есть положительная, и кривая достаточно различается от случайного резултата,  что свидительствует о качестве выбраной модели"
      ]
    },
    {
      "cell_type": "markdown",
      "metadata": {
        "id": "X-Xpy9PtWK53"
      },
      "source": [
        "<div class=\"alert alert-block alert-success\">\n",
        "<b>Успех:</b> Тестирование проведено корректно, радует, что ROC-кривая была визуализирована.\n",
        "</div>"
      ]
    },
    {
      "cell_type": "markdown",
      "metadata": {
        "id": "dfUrKk54WK53"
      },
      "source": [
        "<div class=\"alert alert-block alert-info\">\n",
        "<b>Совет: </b> Финальный выовд можно было бы сделать более подробным.\n",
        "</div>"
      ]
    },
    {
      "cell_type": "markdown",
      "metadata": {
        "id": "TKvUAS3aWK54"
      },
      "source": [
        "# Чек-лист готовности проекта"
      ]
    },
    {
      "cell_type": "markdown",
      "metadata": {
        "id": "oJbJGeRUWK54"
      },
      "source": [
        "Поставьте 'x' в выполненных пунктах. Далее нажмите Shift+Enter."
      ]
    },
    {
      "cell_type": "markdown",
      "metadata": {
        "id": "wT7-16mEWK54"
      },
      "source": [
        "- [х]  Jupyter Notebook открыт\n",
        "- [х]  Весь код выполняется без ошибок\n",
        "- [х]  Ячейки с кодом расположены в порядке исполнения\n",
        "- [х]  Выполнен шаг 1: данные подготовлены\n",
        "- [х]  Выполнен шаг 2: задача исследована\n",
        "    - [х]  Исследован баланс классов\n",
        "    - [х]  Изучены модели без учёта дисбаланса\n",
        "    - [х]  Написаны выводы по результатам исследования\n",
        "- [х]  Выполнен шаг 3: учтён дисбаланс\n",
        "    - [х]  Применено несколько способов борьбы с дисбалансом\n",
        "    - [х]  Написаны выводы по результатам исследования\n",
        "- [х]  Выполнен шаг 4: проведено тестирование\n",
        "- [х]  Удалось достичь *F1*-меры не менее 0.59\n",
        "- [х]  Исследована метрика *AUC-ROC*"
      ]
    },
    {
      "cell_type": "code",
      "execution_count": null,
      "metadata": {
        "id": "TetfdqH7WK55"
      },
      "outputs": [],
      "source": []
    },
    {
      "cell_type": "code",
      "execution_count": null,
      "metadata": {
        "id": "miBiTe4PWK55"
      },
      "outputs": [],
      "source": []
    }
  ],
  "metadata": {
    "kernelspec": {
      "display_name": "Python 3 (ipykernel)",
      "language": "python",
      "name": "python3"
    },
    "language_info": {
      "codemirror_mode": {
        "name": "ipython",
        "version": 3
      },
      "file_extension": ".py",
      "mimetype": "text/x-python",
      "name": "python",
      "nbconvert_exporter": "python",
      "pygments_lexer": "ipython3",
      "version": "3.9.7"
    },
    "toc": {
      "base_numbering": 1,
      "nav_menu": {},
      "number_sections": true,
      "sideBar": true,
      "skip_h1_title": true,
      "title_cell": "Table of Contents",
      "title_sidebar": "Contents",
      "toc_cell": false,
      "toc_position": {},
      "toc_section_display": true,
      "toc_window_display": false
    },
    "colab": {
      "provenance": [],
      "include_colab_link": true
    }
  },
  "nbformat": 4,
  "nbformat_minor": 0
}